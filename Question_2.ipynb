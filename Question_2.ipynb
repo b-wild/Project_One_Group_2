{
 "cells": [
  {
   "cell_type": "code",
   "execution_count": 2,
   "id": "a31dad7f",
   "metadata": {},
   "outputs": [],
   "source": [
    "# Dependencies and Setup\n",
    "import matplotlib.pyplot as plt\n",
    "import pandas as pd\n",
    "import numpy as np\n",
    "import scipy.stats as st"
   ]
  },
  {
   "cell_type": "code",
   "execution_count": 3,
   "id": "dd8456e0",
   "metadata": {},
   "outputs": [
    {
     "data": {
      "text/html": [
       "<div>\n",
       "<style scoped>\n",
       "    .dataframe tbody tr th:only-of-type {\n",
       "        vertical-align: middle;\n",
       "    }\n",
       "\n",
       "    .dataframe tbody tr th {\n",
       "        vertical-align: top;\n",
       "    }\n",
       "\n",
       "    .dataframe thead th {\n",
       "        text-align: right;\n",
       "    }\n",
       "</style>\n",
       "<table border=\"1\" class=\"dataframe\">\n",
       "  <thead>\n",
       "    <tr style=\"text-align: right;\">\n",
       "      <th></th>\n",
       "      <th>Date_ID</th>\n",
       "      <th>date</th>\n",
       "      <th>avgtemp_f</th>\n",
       "      <th>totalprecip_in</th>\n",
       "      <th>avghumidity</th>\n",
       "      <th>day_condition</th>\n",
       "    </tr>\n",
       "  </thead>\n",
       "  <tbody>\n",
       "    <tr>\n",
       "      <th>360</th>\n",
       "      <td>360</td>\n",
       "      <td>2023-02-01</td>\n",
       "      <td>36.5</td>\n",
       "      <td>0.00</td>\n",
       "      <td>63.0</td>\n",
       "      <td>Overcast</td>\n",
       "    </tr>\n",
       "    <tr>\n",
       "      <th>361</th>\n",
       "      <td>361</td>\n",
       "      <td>2023-02-02</td>\n",
       "      <td>35.1</td>\n",
       "      <td>0.08</td>\n",
       "      <td>66.0</td>\n",
       "      <td>Light drizzle</td>\n",
       "    </tr>\n",
       "    <tr>\n",
       "      <th>362</th>\n",
       "      <td>362</td>\n",
       "      <td>2023-02-03</td>\n",
       "      <td>33.3</td>\n",
       "      <td>0.00</td>\n",
       "      <td>49.0</td>\n",
       "      <td>Partly cloudy</td>\n",
       "    </tr>\n",
       "    <tr>\n",
       "      <th>363</th>\n",
       "      <td>363</td>\n",
       "      <td>2023-02-04</td>\n",
       "      <td>26.8</td>\n",
       "      <td>0.00</td>\n",
       "      <td>35.0</td>\n",
       "      <td>Cloudy</td>\n",
       "    </tr>\n",
       "    <tr>\n",
       "      <th>364</th>\n",
       "      <td>364</td>\n",
       "      <td>2023-02-05</td>\n",
       "      <td>41.1</td>\n",
       "      <td>0.00</td>\n",
       "      <td>61.0</td>\n",
       "      <td>Overcast</td>\n",
       "    </tr>\n",
       "  </tbody>\n",
       "</table>\n",
       "</div>"
      ],
      "text/plain": [
       "     Date_ID        date  avgtemp_f  totalprecip_in  avghumidity  \\\n",
       "360      360  2023-02-01       36.5            0.00         63.0   \n",
       "361      361  2023-02-02       35.1            0.08         66.0   \n",
       "362      362  2023-02-03       33.3            0.00         49.0   \n",
       "363      363  2023-02-04       26.8            0.00         35.0   \n",
       "364      364  2023-02-05       41.1            0.00         61.0   \n",
       "\n",
       "     day_condition  \n",
       "360       Overcast  \n",
       "361  Light drizzle  \n",
       "362  Partly cloudy  \n",
       "363         Cloudy  \n",
       "364       Overcast  "
      ]
     },
     "execution_count": 3,
     "metadata": {},
     "output_type": "execute_result"
    }
   ],
   "source": [
    "# Reference data files *** USE ONLY ONE FILE IF ONLY ADDRESSING ONE QUESTION ***\n",
    "crime_data_path = \"Resources/one_year_dc-crimes-search-results.csv\"\n",
    "weather_data_path = \"output_data/dc_weather.csv\"\n",
    "\n",
    "# Read the data files \n",
    "crime_data = pd.read_csv(crime_data_path)\n",
    "weather_data = pd.read_csv(weather_data_path)\n",
    "\n",
    "#Reduce to the columns we need - those by day and not hour\n",
    "weather_day = weather_data[[\"Date_ID\",\"date\", \"avgtemp_f\", \"totalprecip_in\",\"avghumidity\",\"day_condition\"]]\n",
    "weather_day.tail()"
   ]
  },
  {
   "cell_type": "code",
   "execution_count": 4,
   "id": "faf81471",
   "metadata": {},
   "outputs": [
    {
     "name": "stderr",
     "output_type": "stream",
     "text": [
      "/Users/djmac2022/opt/anaconda3/envs/PythonData/lib/python3.7/site-packages/ipykernel_launcher.py:8: SettingWithCopyWarning: \n",
      "A value is trying to be set on a copy of a slice from a DataFrame.\n",
      "Try using .loc[row_indexer,col_indexer] = value instead\n",
      "\n",
      "See the caveats in the documentation: https://pandas.pydata.org/pandas-docs/stable/user_guide/indexing.html#returning-a-view-versus-a-copy\n",
      "  \n",
      "/Users/djmac2022/opt/anaconda3/envs/PythonData/lib/python3.7/site-packages/ipykernel_launcher.py:11: SettingWithCopyWarning: \n",
      "A value is trying to be set on a copy of a slice from a DataFrame.\n",
      "Try using .loc[row_indexer,col_indexer] = value instead\n",
      "\n",
      "See the caveats in the documentation: https://pandas.pydata.org/pandas-docs/stable/user_guide/indexing.html#returning-a-view-versus-a-copy\n",
      "  # This is added back by InteractiveShellApp.init_path()\n",
      "/Users/djmac2022/opt/anaconda3/envs/PythonData/lib/python3.7/site-packages/ipykernel_launcher.py:12: SettingWithCopyWarning: \n",
      "A value is trying to be set on a copy of a slice from a DataFrame.\n",
      "Try using .loc[row_indexer,col_indexer] = value instead\n",
      "\n",
      "See the caveats in the documentation: https://pandas.pydata.org/pandas-docs/stable/user_guide/indexing.html#returning-a-view-versus-a-copy\n",
      "  if sys.path[0] == '':\n"
     ]
    },
    {
     "data": {
      "text/html": [
       "<div>\n",
       "<style scoped>\n",
       "    .dataframe tbody tr th:only-of-type {\n",
       "        vertical-align: middle;\n",
       "    }\n",
       "\n",
       "    .dataframe tbody tr th {\n",
       "        vertical-align: top;\n",
       "    }\n",
       "\n",
       "    .dataframe thead th {\n",
       "        text-align: right;\n",
       "    }\n",
       "</style>\n",
       "<table border=\"1\" class=\"dataframe\">\n",
       "  <thead>\n",
       "    <tr style=\"text-align: right;\">\n",
       "      <th></th>\n",
       "      <th>Date_ID</th>\n",
       "      <th>date</th>\n",
       "      <th>avgtemp_f</th>\n",
       "      <th>totalprecip_in</th>\n",
       "      <th>avghumidity</th>\n",
       "      <th>day_condition</th>\n",
       "      <th>Year-Month</th>\n",
       "      <th>date_formatted</th>\n",
       "      <th>month</th>\n",
       "    </tr>\n",
       "  </thead>\n",
       "  <tbody>\n",
       "    <tr>\n",
       "      <th>0</th>\n",
       "      <td>0</td>\n",
       "      <td>2022-02-06</td>\n",
       "      <td>32.8</td>\n",
       "      <td>0.00</td>\n",
       "      <td>52.0</td>\n",
       "      <td>Sunny</td>\n",
       "      <td>2022-02</td>\n",
       "      <td>2022-02-06</td>\n",
       "      <td>2</td>\n",
       "    </tr>\n",
       "    <tr>\n",
       "      <th>1</th>\n",
       "      <td>1</td>\n",
       "      <td>2022-02-07</td>\n",
       "      <td>38.0</td>\n",
       "      <td>0.00</td>\n",
       "      <td>61.0</td>\n",
       "      <td>Cloudy</td>\n",
       "      <td>2022-02</td>\n",
       "      <td>2022-02-07</td>\n",
       "      <td>2</td>\n",
       "    </tr>\n",
       "    <tr>\n",
       "      <th>2</th>\n",
       "      <td>2</td>\n",
       "      <td>2022-02-08</td>\n",
       "      <td>39.1</td>\n",
       "      <td>0.00</td>\n",
       "      <td>59.0</td>\n",
       "      <td>Cloudy</td>\n",
       "      <td>2022-02</td>\n",
       "      <td>2022-02-08</td>\n",
       "      <td>2</td>\n",
       "    </tr>\n",
       "    <tr>\n",
       "      <th>3</th>\n",
       "      <td>3</td>\n",
       "      <td>2022-02-09</td>\n",
       "      <td>43.2</td>\n",
       "      <td>0.00</td>\n",
       "      <td>63.0</td>\n",
       "      <td>Overcast</td>\n",
       "      <td>2022-02</td>\n",
       "      <td>2022-02-09</td>\n",
       "      <td>2</td>\n",
       "    </tr>\n",
       "    <tr>\n",
       "      <th>4</th>\n",
       "      <td>4</td>\n",
       "      <td>2022-02-10</td>\n",
       "      <td>45.3</td>\n",
       "      <td>0.00</td>\n",
       "      <td>68.0</td>\n",
       "      <td>Partly cloudy</td>\n",
       "      <td>2022-02</td>\n",
       "      <td>2022-02-10</td>\n",
       "      <td>2</td>\n",
       "    </tr>\n",
       "    <tr>\n",
       "      <th>...</th>\n",
       "      <td>...</td>\n",
       "      <td>...</td>\n",
       "      <td>...</td>\n",
       "      <td>...</td>\n",
       "      <td>...</td>\n",
       "      <td>...</td>\n",
       "      <td>...</td>\n",
       "      <td>...</td>\n",
       "      <td>...</td>\n",
       "    </tr>\n",
       "    <tr>\n",
       "      <th>360</th>\n",
       "      <td>360</td>\n",
       "      <td>2023-02-01</td>\n",
       "      <td>36.5</td>\n",
       "      <td>0.00</td>\n",
       "      <td>63.0</td>\n",
       "      <td>Overcast</td>\n",
       "      <td>2023-02</td>\n",
       "      <td>2023-02-01</td>\n",
       "      <td>2</td>\n",
       "    </tr>\n",
       "    <tr>\n",
       "      <th>361</th>\n",
       "      <td>361</td>\n",
       "      <td>2023-02-02</td>\n",
       "      <td>35.1</td>\n",
       "      <td>0.08</td>\n",
       "      <td>66.0</td>\n",
       "      <td>Light drizzle</td>\n",
       "      <td>2023-02</td>\n",
       "      <td>2023-02-02</td>\n",
       "      <td>2</td>\n",
       "    </tr>\n",
       "    <tr>\n",
       "      <th>362</th>\n",
       "      <td>362</td>\n",
       "      <td>2023-02-03</td>\n",
       "      <td>33.3</td>\n",
       "      <td>0.00</td>\n",
       "      <td>49.0</td>\n",
       "      <td>Partly cloudy</td>\n",
       "      <td>2023-02</td>\n",
       "      <td>2023-02-03</td>\n",
       "      <td>2</td>\n",
       "    </tr>\n",
       "    <tr>\n",
       "      <th>363</th>\n",
       "      <td>363</td>\n",
       "      <td>2023-02-04</td>\n",
       "      <td>26.8</td>\n",
       "      <td>0.00</td>\n",
       "      <td>35.0</td>\n",
       "      <td>Cloudy</td>\n",
       "      <td>2023-02</td>\n",
       "      <td>2023-02-04</td>\n",
       "      <td>2</td>\n",
       "    </tr>\n",
       "    <tr>\n",
       "      <th>364</th>\n",
       "      <td>364</td>\n",
       "      <td>2023-02-05</td>\n",
       "      <td>41.1</td>\n",
       "      <td>0.00</td>\n",
       "      <td>61.0</td>\n",
       "      <td>Overcast</td>\n",
       "      <td>2023-02</td>\n",
       "      <td>2023-02-05</td>\n",
       "      <td>2</td>\n",
       "    </tr>\n",
       "  </tbody>\n",
       "</table>\n",
       "<p>365 rows × 9 columns</p>\n",
       "</div>"
      ],
      "text/plain": [
       "     Date_ID        date  avgtemp_f  totalprecip_in  avghumidity  \\\n",
       "0          0  2022-02-06       32.8            0.00         52.0   \n",
       "1          1  2022-02-07       38.0            0.00         61.0   \n",
       "2          2  2022-02-08       39.1            0.00         59.0   \n",
       "3          3  2022-02-09       43.2            0.00         63.0   \n",
       "4          4  2022-02-10       45.3            0.00         68.0   \n",
       "..       ...         ...        ...             ...          ...   \n",
       "360      360  2023-02-01       36.5            0.00         63.0   \n",
       "361      361  2023-02-02       35.1            0.08         66.0   \n",
       "362      362  2023-02-03       33.3            0.00         49.0   \n",
       "363      363  2023-02-04       26.8            0.00         35.0   \n",
       "364      364  2023-02-05       41.1            0.00         61.0   \n",
       "\n",
       "     day_condition Year-Month date_formatted  month  \n",
       "0            Sunny    2022-02     2022-02-06      2  \n",
       "1           Cloudy    2022-02     2022-02-07      2  \n",
       "2           Cloudy    2022-02     2022-02-08      2  \n",
       "3         Overcast    2022-02     2022-02-09      2  \n",
       "4    Partly cloudy    2022-02     2022-02-10      2  \n",
       "..             ...        ...            ...    ...  \n",
       "360       Overcast    2023-02     2023-02-01      2  \n",
       "361  Light drizzle    2023-02     2023-02-02      2  \n",
       "362  Partly cloudy    2023-02     2023-02-03      2  \n",
       "363         Cloudy    2023-02     2023-02-04      2  \n",
       "364       Overcast    2023-02     2023-02-05      2  \n",
       "\n",
       "[365 rows x 9 columns]"
      ]
     },
     "execution_count": 4,
     "metadata": {},
     "output_type": "execute_result"
    }
   ],
   "source": [
    "# Review of data is under Question 1 file. Decide if to combine responses to multiple Questions into one file \n",
    "\n",
    "# Address question 2 - What are general weather data trends in Washington DC for the last year?\n",
    "\n",
    "# Adjust the \"date\" so that the data can be grouped by month \n",
    "\n",
    "# Option 1 - Create a \"Year-Month\" column based on the string of the initial date column \n",
    "weather_day[\"Year-Month\"] = weather_day[\"date\"].str.slice(0,7)\n",
    "\n",
    "# Option 2 - create a new column with the date formatted to datetime and insert month in a new column\n",
    "weather_day[\"date_formatted\"] = pd.to_datetime(weather_day['date'],format='%Y-%m-%d')\n",
    "weather_day['month'] = pd.DatetimeIndex(weather_day['date_formatted']).month\n",
    "\n",
    "#View new columns in dataframe\n",
    "weather_day\n"
   ]
  },
  {
   "cell_type": "code",
   "execution_count": 5,
   "id": "08d0c5c4",
   "metadata": {},
   "outputs": [],
   "source": [
    "# Group the data into months for the bar chart\n",
    "\n",
    "weather_monthlyT = weather_day.groupby(\"Year-Month\").mean()[\"avgtemp_f\"]\n",
    "#weather_month[\"\"] = crime_type[[\"offensegroup\"]].count()\n",
    "#count_crime_type\n"
   ]
  },
  {
   "cell_type": "code",
   "execution_count": 6,
   "id": "aa93e60c",
   "metadata": {
    "scrolled": true
   },
   "outputs": [
    {
     "data": {
      "text/plain": [
       "Index(['2022-02', '2022-03', '2022-04', '2022-05', '2022-06', '2022-07',\n",
       "       '2022-08', '2022-09', '2022-10', '2022-11', '2022-12', '2023-01',\n",
       "       '2023-02'],\n",
       "      dtype='object', name='Year-Month')"
      ]
     },
     "execution_count": 6,
     "metadata": {},
     "output_type": "execute_result"
    }
   ],
   "source": [
    "weather_monthlyH = weather_day.groupby(\"Year-Month\").mean()[[\"avghumidity\"]]\n",
    "weather_monthlyH.index"
   ]
  },
  {
   "cell_type": "code",
   "execution_count": 7,
   "id": "0c6fad53",
   "metadata": {
    "scrolled": true
   },
   "outputs": [
    {
     "data": {
      "text/html": [
       "<div>\n",
       "<style scoped>\n",
       "    .dataframe tbody tr th:only-of-type {\n",
       "        vertical-align: middle;\n",
       "    }\n",
       "\n",
       "    .dataframe tbody tr th {\n",
       "        vertical-align: top;\n",
       "    }\n",
       "\n",
       "    .dataframe thead th {\n",
       "        text-align: right;\n",
       "    }\n",
       "</style>\n",
       "<table border=\"1\" class=\"dataframe\">\n",
       "  <thead>\n",
       "    <tr style=\"text-align: right;\">\n",
       "      <th></th>\n",
       "      <th>totalprecip_in</th>\n",
       "    </tr>\n",
       "    <tr>\n",
       "      <th>Year-Month</th>\n",
       "      <th></th>\n",
       "    </tr>\n",
       "  </thead>\n",
       "  <tbody>\n",
       "    <tr>\n",
       "      <th>2022-02</th>\n",
       "      <td>0.23</td>\n",
       "    </tr>\n",
       "    <tr>\n",
       "      <th>2022-03</th>\n",
       "      <td>0.74</td>\n",
       "    </tr>\n",
       "    <tr>\n",
       "      <th>2022-04</th>\n",
       "      <td>0.61</td>\n",
       "    </tr>\n",
       "    <tr>\n",
       "      <th>2022-05</th>\n",
       "      <td>1.44</td>\n",
       "    </tr>\n",
       "    <tr>\n",
       "      <th>2022-06</th>\n",
       "      <td>1.11</td>\n",
       "    </tr>\n",
       "    <tr>\n",
       "      <th>2022-07</th>\n",
       "      <td>1.56</td>\n",
       "    </tr>\n",
       "    <tr>\n",
       "      <th>2022-08</th>\n",
       "      <td>1.33</td>\n",
       "    </tr>\n",
       "    <tr>\n",
       "      <th>2022-09</th>\n",
       "      <td>0.46</td>\n",
       "    </tr>\n",
       "    <tr>\n",
       "      <th>2022-10</th>\n",
       "      <td>0.51</td>\n",
       "    </tr>\n",
       "    <tr>\n",
       "      <th>2022-11</th>\n",
       "      <td>0.80</td>\n",
       "    </tr>\n",
       "    <tr>\n",
       "      <th>2022-12</th>\n",
       "      <td>1.18</td>\n",
       "    </tr>\n",
       "    <tr>\n",
       "      <th>2023-01</th>\n",
       "      <td>0.62</td>\n",
       "    </tr>\n",
       "    <tr>\n",
       "      <th>2023-02</th>\n",
       "      <td>0.08</td>\n",
       "    </tr>\n",
       "  </tbody>\n",
       "</table>\n",
       "</div>"
      ],
      "text/plain": [
       "            totalprecip_in\n",
       "Year-Month                \n",
       "2022-02               0.23\n",
       "2022-03               0.74\n",
       "2022-04               0.61\n",
       "2022-05               1.44\n",
       "2022-06               1.11\n",
       "2022-07               1.56\n",
       "2022-08               1.33\n",
       "2022-09               0.46\n",
       "2022-10               0.51\n",
       "2022-11               0.80\n",
       "2022-12               1.18\n",
       "2023-01               0.62\n",
       "2023-02               0.08"
      ]
     },
     "execution_count": 7,
     "metadata": {},
     "output_type": "execute_result"
    }
   ],
   "source": [
    "weather_monthlyP = weather_day.groupby(\"Year-Month\").sum()[[\"totalprecip_in\"]]\n",
    "weather_monthlyP"
   ]
  },
  {
   "cell_type": "code",
   "execution_count": 21,
   "id": "6141899c",
   "metadata": {},
   "outputs": [
    {
     "data": {
      "image/png": "[encoded data removed]",
      "text/plain": [
       "<Figure size 720x288 with 2 Axes>"
      ]
     },
     "metadata": {
      "needs_background": "light"
     },
     "output_type": "display_data"
    },
    {
     "data": {
      "text/plain": [
       "<Figure size 432x288 with 0 Axes>"
      ]
     },
     "metadata": {},
     "output_type": "display_data"
    }
   ],
   "source": [
    "#Address question 2 - What are general weather trends in Washington DC for the last year?\n",
    "#Plot 1 - Monthly averages\n",
    "\n",
    "# Create the x-axis\n",
    "year_month = weather_monthlyP.index\n",
    "\n",
    "#Set up subplots\n",
    "fig, ax1 = plt.subplots()\n",
    "ax1.set_xlabel(\"Months 2022 - 2023\")\n",
    "\n",
    "# Plot the monthly averages and monthly total vs year-month\n",
    "ax1.plot(year_month, weather_monthlyT, color=\"red\", label=\"Av. Monthly Temperature (F)\")\n",
    "ax1.plot(year_month, weather_monthlyH, color=\"green\", label=\"Av. Monthly Humidity (%)\")\n",
    "plt.ylim(0,90)\n",
    "\n",
    "# instantiate a second axes that shares the same x-axis\n",
    "ax2 = ax1.twinx()\n",
    "\n",
    "ax2.plot(year_month, weather_monthlyP, color=\"blue\", label=\"Monthly Precipitation (inches)\")\n",
    "plt.ylim(0,5)\n",
    "\n",
    "# Place legend and title and resize\n",
    "fig.legend(loc=\"center\")\n",
    "fig.suptitle(\"Snapshot of Washington DC Weather over 12 Months\")\n",
    "fig.set_figwidth(10)\n",
    "\n",
    "# Print chart to the screen\n",
    "plt.show()\n",
    "\n",
    "#Save figure\n",
    "plt.savefig(\"output_figures/Fig1-WeatherTrends\")"
   ]
  },
  {
   "cell_type": "code",
   "execution_count": 22,
   "id": "3bfdab6c",
   "metadata": {},
   "outputs": [
    {
     "data": {
      "image/png": "[encoded data removed]",
      "text/plain": [
       "<Figure size 432x288 with 1 Axes>"
      ]
     },
     "metadata": {
      "needs_background": "light"
     },
     "output_type": "display_data"
    },
    {
     "data": {
      "image/png": "[encoded data removed]",
      "text/plain": [
       "<Figure size 432x288 with 1 Axes>"
      ]
     },
     "metadata": {
      "needs_background": "light"
     },
     "output_type": "display_data"
    },
    {
     "data": {
      "image/png": "[encoded data removed]",
      "text/plain": [
       "<Figure size 432x288 with 1 Axes>"
      ]
     },
     "metadata": {
      "needs_background": "light"
     },
     "output_type": "display_data"
    },
    {
     "data": {
      "text/plain": [
       "<Figure size 432x288 with 0 Axes>"
      ]
     },
     "metadata": {},
     "output_type": "display_data"
    }
   ],
   "source": [
    "#Address question 2 - What are general weather trends in Washington DC for the last year?\n",
    "#Plot 2 - Look at spread of the data\n",
    "\n",
    "ax = weather_day[['avgtemp_f']].plot(kind='box', title='Boxplot Showing Spread of Temperature (F)', showmeans=True)\n",
    "ax1 = weather_day[['avghumidity']].plot(kind='box', title='Boxplot Showing Spread of Humidity (%)', showmeans=True)\n",
    "ax2 = weather_day[['totalprecip_in']].plot(kind='box', title='Boxplot Showing Spread of Precipitation (inches)', showmeans=True)\n",
    "\n",
    "plt.show() \n",
    "\n",
    "#Save figure\n",
    "plt.savefig(\"output_figures/Fig2-WeatherDataSpread\")"
   ]
  },
  {
   "cell_type": "code",
   "execution_count": 23,
   "id": "c78ae561",
   "metadata": {},
   "outputs": [],
   "source": [
    "#Address question 2 - What are general weather trends in Washington DC for the last year?\n",
    "#Plot 3 - We could look at normality of the data? Ran out of time..."
   ]
  },
  {
   "cell_type": "code",
   "execution_count": null,
   "id": "57ccf929",
   "metadata": {},
   "outputs": [],
   "source": []
  }
 ],
 "metadata": {
  "kernelspec": {
   "display_name": "PythonData",
   "language": "python",
   "name": "pythondata"
  },
  "language_info": {
   "codemirror_mode": {
    "name": "ipython",
    "version": 3
   },
   "file_extension": ".py",
   "mimetype": "text/x-python",
   "name": "python",
   "nbconvert_exporter": "python",
   "pygments_lexer": "ipython3",
   "version": "3.7.7"
  }
 },
 "nbformat": 4,
 "nbformat_minor": 5
}
