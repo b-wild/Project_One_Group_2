{
 "cells": [
  {
   "cell_type": "code",
   "execution_count": 2,
   "id": "b5504e3c",
   "metadata": {},
   "outputs": [],
   "source": [
    "# Dependencies and Setup\n",
    "import matplotlib.pyplot as plt\n",
    "import pandas as pd\n",
    "import numpy as np\n",
    "import scipy.stats as st\n",
    "import random"
   ]
  },
  {
   "cell_type": "code",
   "execution_count": 3,
   "id": "964f7c9a",
   "metadata": {},
   "outputs": [
    {
     "data": {
      "text/html": [
       "<div>\n",
       "<style scoped>\n",
       "    .dataframe tbody tr th:only-of-type {\n",
       "        vertical-align: middle;\n",
       "    }\n",
       "\n",
       "    .dataframe tbody tr th {\n",
       "        vertical-align: top;\n",
       "    }\n",
       "\n",
       "    .dataframe thead th {\n",
       "        text-align: right;\n",
       "    }\n",
       "</style>\n",
       "<table border=\"1\" class=\"dataframe\">\n",
       "  <thead>\n",
       "    <tr style=\"text-align: right;\">\n",
       "      <th></th>\n",
       "      <th>ID</th>\n",
       "      <th>Year</th>\n",
       "      <th>Start Date</th>\n",
       "      <th>Start Time</th>\n",
       "      <th>Hour</th>\n",
       "      <th>Offense Group</th>\n",
       "      <th>Offense</th>\n",
       "      <th>Offense Text</th>\n",
       "      <th>Max Temp (f)</th>\n",
       "      <th>Min Temp (f)</th>\n",
       "      <th>Avg Temp (f)</th>\n",
       "      <th>Total Precipitation (in)</th>\n",
       "      <th>Avg Humidity (%)</th>\n",
       "      <th>Day Condition</th>\n",
       "      <th>Hour Temp (f)</th>\n",
       "      <th>Hour Condition</th>\n",
       "      <th>Hour Precipitation (in)</th>\n",
       "      <th>Hour Humidity (%)</th>\n",
       "    </tr>\n",
       "  </thead>\n",
       "  <tbody>\n",
       "    <tr>\n",
       "      <th>0</th>\n",
       "      <td>0</td>\n",
       "      <td>2022</td>\n",
       "      <td>2022-02-06</td>\n",
       "      <td>00:12:00</td>\n",
       "      <td>12:00AM</td>\n",
       "      <td>violent</td>\n",
       "      <td>robbery</td>\n",
       "      <td>robbery</td>\n",
       "      <td>40.5</td>\n",
       "      <td>24.1</td>\n",
       "      <td>32.8</td>\n",
       "      <td>0.0</td>\n",
       "      <td>52.0</td>\n",
       "      <td>Sunny</td>\n",
       "      <td>26.4</td>\n",
       "      <td>Clear</td>\n",
       "      <td>0.0</td>\n",
       "      <td>52.0</td>\n",
       "    </tr>\n",
       "    <tr>\n",
       "      <th>1</th>\n",
       "      <td>1</td>\n",
       "      <td>2022</td>\n",
       "      <td>2022-02-06</td>\n",
       "      <td>00:19:00</td>\n",
       "      <td>12:00AM</td>\n",
       "      <td>property</td>\n",
       "      <td>theft/other</td>\n",
       "      <td>theft/other</td>\n",
       "      <td>40.5</td>\n",
       "      <td>24.1</td>\n",
       "      <td>32.8</td>\n",
       "      <td>0.0</td>\n",
       "      <td>52.0</td>\n",
       "      <td>Sunny</td>\n",
       "      <td>26.4</td>\n",
       "      <td>Clear</td>\n",
       "      <td>0.0</td>\n",
       "      <td>52.0</td>\n",
       "    </tr>\n",
       "    <tr>\n",
       "      <th>2</th>\n",
       "      <td>2</td>\n",
       "      <td>2022</td>\n",
       "      <td>2022-02-06</td>\n",
       "      <td>01:00:00</td>\n",
       "      <td>1:00AM</td>\n",
       "      <td>property</td>\n",
       "      <td>motor vehicle theft</td>\n",
       "      <td>motor vehicle theft</td>\n",
       "      <td>40.5</td>\n",
       "      <td>24.1</td>\n",
       "      <td>32.8</td>\n",
       "      <td>0.0</td>\n",
       "      <td>52.0</td>\n",
       "      <td>Sunny</td>\n",
       "      <td>26.1</td>\n",
       "      <td>Clear</td>\n",
       "      <td>0.0</td>\n",
       "      <td>52.0</td>\n",
       "    </tr>\n",
       "    <tr>\n",
       "      <th>3</th>\n",
       "      <td>3</td>\n",
       "      <td>2022</td>\n",
       "      <td>2022-02-06</td>\n",
       "      <td>01:30:00</td>\n",
       "      <td>1:00AM</td>\n",
       "      <td>property</td>\n",
       "      <td>theft/other</td>\n",
       "      <td>theft/other</td>\n",
       "      <td>40.5</td>\n",
       "      <td>24.1</td>\n",
       "      <td>32.8</td>\n",
       "      <td>0.0</td>\n",
       "      <td>52.0</td>\n",
       "      <td>Sunny</td>\n",
       "      <td>26.1</td>\n",
       "      <td>Clear</td>\n",
       "      <td>0.0</td>\n",
       "      <td>52.0</td>\n",
       "    </tr>\n",
       "    <tr>\n",
       "      <th>4</th>\n",
       "      <td>4</td>\n",
       "      <td>2022</td>\n",
       "      <td>2022-02-06</td>\n",
       "      <td>02:45:00</td>\n",
       "      <td>2:00AM</td>\n",
       "      <td>violent</td>\n",
       "      <td>robbery</td>\n",
       "      <td>robbery</td>\n",
       "      <td>40.5</td>\n",
       "      <td>24.1</td>\n",
       "      <td>32.8</td>\n",
       "      <td>0.0</td>\n",
       "      <td>52.0</td>\n",
       "      <td>Sunny</td>\n",
       "      <td>25.8</td>\n",
       "      <td>Clear</td>\n",
       "      <td>0.0</td>\n",
       "      <td>53.0</td>\n",
       "    </tr>\n",
       "  </tbody>\n",
       "</table>\n",
       "</div>"
      ],
      "text/plain": [
       "   ID  Year  Start Date Start Time     Hour Offense Group  \\\n",
       "0   0  2022  2022-02-06   00:12:00  12:00AM       violent   \n",
       "1   1  2022  2022-02-06   00:19:00  12:00AM      property   \n",
       "2   2  2022  2022-02-06   01:00:00   1:00AM      property   \n",
       "3   3  2022  2022-02-06   01:30:00   1:00AM      property   \n",
       "4   4  2022  2022-02-06   02:45:00   2:00AM       violent   \n",
       "\n",
       "               Offense         Offense Text  Max Temp (f)  Min Temp (f)  \\\n",
       "0              robbery              robbery          40.5          24.1   \n",
       "1          theft/other          theft/other          40.5          24.1   \n",
       "2  motor vehicle theft  motor vehicle theft          40.5          24.1   \n",
       "3          theft/other          theft/other          40.5          24.1   \n",
       "4              robbery              robbery          40.5          24.1   \n",
       "\n",
       "   Avg Temp (f)  Total Precipitation (in)  Avg Humidity (%) Day Condition  \\\n",
       "0          32.8                       0.0              52.0         Sunny   \n",
       "1          32.8                       0.0              52.0         Sunny   \n",
       "2          32.8                       0.0              52.0         Sunny   \n",
       "3          32.8                       0.0              52.0         Sunny   \n",
       "4          32.8                       0.0              52.0         Sunny   \n",
       "\n",
       "   Hour Temp (f) Hour Condition  Hour Precipitation (in)  Hour Humidity (%)  \n",
       "0           26.4          Clear                      0.0               52.0  \n",
       "1           26.4          Clear                      0.0               52.0  \n",
       "2           26.1          Clear                      0.0               52.0  \n",
       "3           26.1          Clear                      0.0               52.0  \n",
       "4           25.8          Clear                      0.0               53.0  "
      ]
     },
     "execution_count": 3,
     "metadata": {},
     "output_type": "execute_result"
    }
   ],
   "source": [
    "# Observe data before beginning analysis\n",
    "# Reference cleaned and merged crime-weather data file - data by hour\n",
    "data_path = \"output_data/crime_weather_merged.csv\"\n",
    "wdata_path = \"output_data/dc_weather.csv\"\n",
    "\n",
    "# Read the data files \n",
    "data = pd.read_csv(data_path)\n",
    "wdata = pd.read_csv(wdata_path)\n",
    "\n",
    "#View merged data\n",
    "data.head()"
   ]
  },
  {
   "cell_type": "code",
   "execution_count": 4,
   "id": "79a5a7fd",
   "metadata": {},
   "outputs": [
    {
     "data": {
      "text/html": [
       "<div>\n",
       "<style scoped>\n",
       "    .dataframe tbody tr th:only-of-type {\n",
       "        vertical-align: middle;\n",
       "    }\n",
       "\n",
       "    .dataframe tbody tr th {\n",
       "        vertical-align: top;\n",
       "    }\n",
       "\n",
       "    .dataframe thead th {\n",
       "        text-align: right;\n",
       "    }\n",
       "</style>\n",
       "<table border=\"1\" class=\"dataframe\">\n",
       "  <thead>\n",
       "    <tr style=\"text-align: right;\">\n",
       "      <th></th>\n",
       "      <th>Date_ID</th>\n",
       "      <th>date</th>\n",
       "      <th>maxtemp_f</th>\n",
       "      <th>mintemp_f</th>\n",
       "      <th>avgtemp_f</th>\n",
       "      <th>totalprecip_in</th>\n",
       "      <th>avghumidity</th>\n",
       "      <th>day_condition</th>\n",
       "      <th>0_temp_f</th>\n",
       "      <th>0_condition</th>\n",
       "      <th>...</th>\n",
       "      <th>21_precip_in</th>\n",
       "      <th>21_humidity</th>\n",
       "      <th>22_temp_f</th>\n",
       "      <th>22_condition</th>\n",
       "      <th>22_precip_in</th>\n",
       "      <th>22_humidity</th>\n",
       "      <th>23_temp_f</th>\n",
       "      <th>23_condition</th>\n",
       "      <th>23_precip_in</th>\n",
       "      <th>23_humidity</th>\n",
       "    </tr>\n",
       "  </thead>\n",
       "  <tbody>\n",
       "    <tr>\n",
       "      <th>0</th>\n",
       "      <td>0</td>\n",
       "      <td>2022-02-06</td>\n",
       "      <td>40.5</td>\n",
       "      <td>24.1</td>\n",
       "      <td>32.8</td>\n",
       "      <td>0.0</td>\n",
       "      <td>52.0</td>\n",
       "      <td>Sunny</td>\n",
       "      <td>26.4</td>\n",
       "      <td>Clear</td>\n",
       "      <td>...</td>\n",
       "      <td>0.0</td>\n",
       "      <td>63</td>\n",
       "      <td>28.6</td>\n",
       "      <td>Clear</td>\n",
       "      <td>0.0</td>\n",
       "      <td>65</td>\n",
       "      <td>28.2</td>\n",
       "      <td>Clear</td>\n",
       "      <td>0.0</td>\n",
       "      <td>67</td>\n",
       "    </tr>\n",
       "    <tr>\n",
       "      <th>1</th>\n",
       "      <td>1</td>\n",
       "      <td>2022-02-07</td>\n",
       "      <td>46.9</td>\n",
       "      <td>27.7</td>\n",
       "      <td>38.0</td>\n",
       "      <td>0.0</td>\n",
       "      <td>61.0</td>\n",
       "      <td>Cloudy</td>\n",
       "      <td>27.9</td>\n",
       "      <td>Clear</td>\n",
       "      <td>...</td>\n",
       "      <td>0.0</td>\n",
       "      <td>64</td>\n",
       "      <td>36.3</td>\n",
       "      <td>Partly cloudy</td>\n",
       "      <td>0.0</td>\n",
       "      <td>67</td>\n",
       "      <td>36.2</td>\n",
       "      <td>Partly cloudy</td>\n",
       "      <td>0.0</td>\n",
       "      <td>70</td>\n",
       "    </tr>\n",
       "    <tr>\n",
       "      <th>2</th>\n",
       "      <td>2</td>\n",
       "      <td>2022-02-08</td>\n",
       "      <td>45.0</td>\n",
       "      <td>32.9</td>\n",
       "      <td>39.1</td>\n",
       "      <td>0.0</td>\n",
       "      <td>59.0</td>\n",
       "      <td>Cloudy</td>\n",
       "      <td>36.1</td>\n",
       "      <td>Partly cloudy</td>\n",
       "      <td>...</td>\n",
       "      <td>0.0</td>\n",
       "      <td>54</td>\n",
       "      <td>33.8</td>\n",
       "      <td>Partly cloudy</td>\n",
       "      <td>0.0</td>\n",
       "      <td>58</td>\n",
       "      <td>33.6</td>\n",
       "      <td>Partly cloudy</td>\n",
       "      <td>0.0</td>\n",
       "      <td>61</td>\n",
       "    </tr>\n",
       "    <tr>\n",
       "      <th>3</th>\n",
       "      <td>3</td>\n",
       "      <td>2022-02-09</td>\n",
       "      <td>54.1</td>\n",
       "      <td>30.6</td>\n",
       "      <td>43.2</td>\n",
       "      <td>0.0</td>\n",
       "      <td>63.0</td>\n",
       "      <td>Overcast</td>\n",
       "      <td>33.4</td>\n",
       "      <td>Partly cloudy</td>\n",
       "      <td>...</td>\n",
       "      <td>0.0</td>\n",
       "      <td>72</td>\n",
       "      <td>42.4</td>\n",
       "      <td>Clear</td>\n",
       "      <td>0.0</td>\n",
       "      <td>77</td>\n",
       "      <td>40.7</td>\n",
       "      <td>Clear</td>\n",
       "      <td>0.0</td>\n",
       "      <td>82</td>\n",
       "    </tr>\n",
       "    <tr>\n",
       "      <th>4</th>\n",
       "      <td>4</td>\n",
       "      <td>2022-02-10</td>\n",
       "      <td>54.5</td>\n",
       "      <td>34.9</td>\n",
       "      <td>45.3</td>\n",
       "      <td>0.0</td>\n",
       "      <td>68.0</td>\n",
       "      <td>Partly cloudy</td>\n",
       "      <td>39.0</td>\n",
       "      <td>Clear</td>\n",
       "      <td>...</td>\n",
       "      <td>0.0</td>\n",
       "      <td>59</td>\n",
       "      <td>41.7</td>\n",
       "      <td>Clear</td>\n",
       "      <td>0.0</td>\n",
       "      <td>61</td>\n",
       "      <td>40.2</td>\n",
       "      <td>Clear</td>\n",
       "      <td>0.0</td>\n",
       "      <td>64</td>\n",
       "    </tr>\n",
       "  </tbody>\n",
       "</table>\n",
       "<p>5 rows × 104 columns</p>\n",
       "</div>"
      ],
      "text/plain": [
       "   Date_ID        date  maxtemp_f  mintemp_f  avgtemp_f  totalprecip_in  \\\n",
       "0        0  2022-02-06       40.5       24.1       32.8             0.0   \n",
       "1        1  2022-02-07       46.9       27.7       38.0             0.0   \n",
       "2        2  2022-02-08       45.0       32.9       39.1             0.0   \n",
       "3        3  2022-02-09       54.1       30.6       43.2             0.0   \n",
       "4        4  2022-02-10       54.5       34.9       45.3             0.0   \n",
       "\n",
       "   avghumidity  day_condition  0_temp_f    0_condition  ...  21_precip_in  \\\n",
       "0         52.0          Sunny      26.4          Clear  ...           0.0   \n",
       "1         61.0         Cloudy      27.9          Clear  ...           0.0   \n",
       "2         59.0         Cloudy      36.1  Partly cloudy  ...           0.0   \n",
       "3         63.0       Overcast      33.4  Partly cloudy  ...           0.0   \n",
       "4         68.0  Partly cloudy      39.0          Clear  ...           0.0   \n",
       "\n",
       "   21_humidity  22_temp_f   22_condition  22_precip_in  22_humidity  \\\n",
       "0           63       28.6          Clear           0.0           65   \n",
       "1           64       36.3  Partly cloudy           0.0           67   \n",
       "2           54       33.8  Partly cloudy           0.0           58   \n",
       "3           72       42.4          Clear           0.0           77   \n",
       "4           59       41.7          Clear           0.0           61   \n",
       "\n",
       "   23_temp_f   23_condition  23_precip_in  23_humidity  \n",
       "0       28.2          Clear           0.0           67  \n",
       "1       36.2  Partly cloudy           0.0           70  \n",
       "2       33.6  Partly cloudy           0.0           61  \n",
       "3       40.7          Clear           0.0           82  \n",
       "4       40.2          Clear           0.0           64  \n",
       "\n",
       "[5 rows x 104 columns]"
      ]
     },
     "execution_count": 4,
     "metadata": {},
     "output_type": "execute_result"
    }
   ],
   "source": [
    "#View weather data\n",
    "wdata.head()"
   ]
  },
  {
   "cell_type": "code",
   "execution_count": 5,
   "id": "a7ebba65",
   "metadata": {},
   "outputs": [
    {
     "data": {
      "text/html": [
       "<div>\n",
       "<style scoped>\n",
       "    .dataframe tbody tr th:only-of-type {\n",
       "        vertical-align: middle;\n",
       "    }\n",
       "\n",
       "    .dataframe tbody tr th {\n",
       "        vertical-align: top;\n",
       "    }\n",
       "\n",
       "    .dataframe thead th {\n",
       "        text-align: right;\n",
       "    }\n",
       "</style>\n",
       "<table border=\"1\" class=\"dataframe\">\n",
       "  <thead>\n",
       "    <tr style=\"text-align: right;\">\n",
       "      <th></th>\n",
       "      <th>ID</th>\n",
       "      <th>Year</th>\n",
       "      <th>Max Temp (f)</th>\n",
       "      <th>Min Temp (f)</th>\n",
       "      <th>Avg Temp (f)</th>\n",
       "      <th>Total Precipitation (in)</th>\n",
       "      <th>Avg Humidity (%)</th>\n",
       "      <th>Hour Temp (f)</th>\n",
       "      <th>Hour Precipitation (in)</th>\n",
       "      <th>Hour Humidity (%)</th>\n",
       "    </tr>\n",
       "  </thead>\n",
       "  <tbody>\n",
       "    <tr>\n",
       "      <th>count</th>\n",
       "      <td>27561.000000</td>\n",
       "      <td>27561.000000</td>\n",
       "      <td>27561.000000</td>\n",
       "      <td>27561.000000</td>\n",
       "      <td>27561.000000</td>\n",
       "      <td>27561.000000</td>\n",
       "      <td>27561.000000</td>\n",
       "      <td>27561.000000</td>\n",
       "      <td>27561.000000</td>\n",
       "      <td>27561.000000</td>\n",
       "    </tr>\n",
       "    <tr>\n",
       "      <th>mean</th>\n",
       "      <td>13780.000000</td>\n",
       "      <td>2022.116142</td>\n",
       "      <td>68.990265</td>\n",
       "      <td>50.664228</td>\n",
       "      <td>61.068448</td>\n",
       "      <td>0.028296</td>\n",
       "      <td>65.544683</td>\n",
       "      <td>60.386296</td>\n",
       "      <td>0.001131</td>\n",
       "      <td>62.613584</td>\n",
       "    </tr>\n",
       "    <tr>\n",
       "      <th>std</th>\n",
       "      <td>7956.319721</td>\n",
       "      <td>0.320401</td>\n",
       "      <td>18.257070</td>\n",
       "      <td>14.333361</td>\n",
       "      <td>16.678504</td>\n",
       "      <td>0.069103</td>\n",
       "      <td>13.854976</td>\n",
       "      <td>17.312382</td>\n",
       "      <td>0.006886</td>\n",
       "      <td>19.343226</td>\n",
       "    </tr>\n",
       "    <tr>\n",
       "      <th>min</th>\n",
       "      <td>0.000000</td>\n",
       "      <td>2022.000000</td>\n",
       "      <td>22.800000</td>\n",
       "      <td>13.600000</td>\n",
       "      <td>18.300000</td>\n",
       "      <td>0.000000</td>\n",
       "      <td>34.000000</td>\n",
       "      <td>13.600000</td>\n",
       "      <td>0.000000</td>\n",
       "      <td>20.000000</td>\n",
       "    </tr>\n",
       "    <tr>\n",
       "      <th>25%</th>\n",
       "      <td>6890.000000</td>\n",
       "      <td>2022.000000</td>\n",
       "      <td>53.800000</td>\n",
       "      <td>38.500000</td>\n",
       "      <td>46.700000</td>\n",
       "      <td>0.000000</td>\n",
       "      <td>56.000000</td>\n",
       "      <td>46.300000</td>\n",
       "      <td>0.000000</td>\n",
       "      <td>47.000000</td>\n",
       "    </tr>\n",
       "    <tr>\n",
       "      <th>50%</th>\n",
       "      <td>13780.000000</td>\n",
       "      <td>2022.000000</td>\n",
       "      <td>69.300000</td>\n",
       "      <td>51.300000</td>\n",
       "      <td>61.800000</td>\n",
       "      <td>0.000000</td>\n",
       "      <td>65.000000</td>\n",
       "      <td>60.200000</td>\n",
       "      <td>0.000000</td>\n",
       "      <td>61.000000</td>\n",
       "    </tr>\n",
       "    <tr>\n",
       "      <th>75%</th>\n",
       "      <td>20670.000000</td>\n",
       "      <td>2022.000000</td>\n",
       "      <td>85.500000</td>\n",
       "      <td>63.500000</td>\n",
       "      <td>76.300000</td>\n",
       "      <td>0.020000</td>\n",
       "      <td>76.000000</td>\n",
       "      <td>73.000000</td>\n",
       "      <td>0.000000</td>\n",
       "      <td>78.000000</td>\n",
       "    </tr>\n",
       "    <tr>\n",
       "      <th>max</th>\n",
       "      <td>27560.000000</td>\n",
       "      <td>2023.000000</td>\n",
       "      <td>104.900000</td>\n",
       "      <td>75.700000</td>\n",
       "      <td>92.000000</td>\n",
       "      <td>0.600000</td>\n",
       "      <td>97.000000</td>\n",
       "      <td>104.900000</td>\n",
       "      <td>0.210000</td>\n",
       "      <td>100.000000</td>\n",
       "    </tr>\n",
       "  </tbody>\n",
       "</table>\n",
       "</div>"
      ],
      "text/plain": [
       "                 ID          Year  Max Temp (f)  Min Temp (f)  Avg Temp (f)  \\\n",
       "count  27561.000000  27561.000000  27561.000000  27561.000000  27561.000000   \n",
       "mean   13780.000000   2022.116142     68.990265     50.664228     61.068448   \n",
       "std     7956.319721      0.320401     18.257070     14.333361     16.678504   \n",
       "min        0.000000   2022.000000     22.800000     13.600000     18.300000   \n",
       "25%     6890.000000   2022.000000     53.800000     38.500000     46.700000   \n",
       "50%    13780.000000   2022.000000     69.300000     51.300000     61.800000   \n",
       "75%    20670.000000   2022.000000     85.500000     63.500000     76.300000   \n",
       "max    27560.000000   2023.000000    104.900000     75.700000     92.000000   \n",
       "\n",
       "       Total Precipitation (in)  Avg Humidity (%)  Hour Temp (f)  \\\n",
       "count              27561.000000      27561.000000   27561.000000   \n",
       "mean                   0.028296         65.544683      60.386296   \n",
       "std                    0.069103         13.854976      17.312382   \n",
       "min                    0.000000         34.000000      13.600000   \n",
       "25%                    0.000000         56.000000      46.300000   \n",
       "50%                    0.000000         65.000000      60.200000   \n",
       "75%                    0.020000         76.000000      73.000000   \n",
       "max                    0.600000         97.000000     104.900000   \n",
       "\n",
       "       Hour Precipitation (in)  Hour Humidity (%)  \n",
       "count             27561.000000       27561.000000  \n",
       "mean                  0.001131          62.613584  \n",
       "std                   0.006886          19.343226  \n",
       "min                   0.000000          20.000000  \n",
       "25%                   0.000000          47.000000  \n",
       "50%                   0.000000          61.000000  \n",
       "75%                   0.000000          78.000000  \n",
       "max                   0.210000         100.000000  "
      ]
     },
     "execution_count": 5,
     "metadata": {},
     "output_type": "execute_result"
    }
   ],
   "source": [
    "#View data types to understand how they can be manipulated later\n",
    "data.describe()"
   ]
  },
  {
   "cell_type": "code",
   "execution_count": 6,
   "id": "cb81c955",
   "metadata": {},
   "outputs": [
    {
     "data": {
      "text/html": [
       "<div>\n",
       "<style scoped>\n",
       "    .dataframe tbody tr th:only-of-type {\n",
       "        vertical-align: middle;\n",
       "    }\n",
       "\n",
       "    .dataframe tbody tr th {\n",
       "        vertical-align: top;\n",
       "    }\n",
       "\n",
       "    .dataframe thead th {\n",
       "        text-align: right;\n",
       "    }\n",
       "</style>\n",
       "<table border=\"1\" class=\"dataframe\">\n",
       "  <thead>\n",
       "    <tr style=\"text-align: right;\">\n",
       "      <th></th>\n",
       "      <th>Date_ID</th>\n",
       "      <th>maxtemp_f</th>\n",
       "      <th>mintemp_f</th>\n",
       "      <th>avgtemp_f</th>\n",
       "      <th>totalprecip_in</th>\n",
       "      <th>avghumidity</th>\n",
       "      <th>0_temp_f</th>\n",
       "      <th>0_precip_in</th>\n",
       "      <th>0_humidity</th>\n",
       "      <th>1_temp_f</th>\n",
       "      <th>...</th>\n",
       "      <th>20_humidity</th>\n",
       "      <th>21_temp_f</th>\n",
       "      <th>21_precip_in</th>\n",
       "      <th>21_humidity</th>\n",
       "      <th>22_temp_f</th>\n",
       "      <th>22_precip_in</th>\n",
       "      <th>22_humidity</th>\n",
       "      <th>23_temp_f</th>\n",
       "      <th>23_precip_in</th>\n",
       "      <th>23_humidity</th>\n",
       "    </tr>\n",
       "  </thead>\n",
       "  <tbody>\n",
       "    <tr>\n",
       "      <th>count</th>\n",
       "      <td>365.000000</td>\n",
       "      <td>365.000000</td>\n",
       "      <td>365.000000</td>\n",
       "      <td>365.00000</td>\n",
       "      <td>365.000000</td>\n",
       "      <td>365.000000</td>\n",
       "      <td>365.000000</td>\n",
       "      <td>365.000000</td>\n",
       "      <td>365.000000</td>\n",
       "      <td>365.000000</td>\n",
       "      <td>...</td>\n",
       "      <td>365.000000</td>\n",
       "      <td>365.000000</td>\n",
       "      <td>365.000000</td>\n",
       "      <td>365.000000</td>\n",
       "      <td>365.000000</td>\n",
       "      <td>365.000000</td>\n",
       "      <td>365.000000</td>\n",
       "      <td>365.000000</td>\n",
       "      <td>365.000000</td>\n",
       "      <td>365.000000</td>\n",
       "    </tr>\n",
       "    <tr>\n",
       "      <th>mean</th>\n",
       "      <td>182.000000</td>\n",
       "      <td>68.567397</td>\n",
       "      <td>50.307123</td>\n",
       "      <td>60.68000</td>\n",
       "      <td>0.029233</td>\n",
       "      <td>65.534247</td>\n",
       "      <td>54.042466</td>\n",
       "      <td>0.002356</td>\n",
       "      <td>73.416438</td>\n",
       "      <td>53.498630</td>\n",
       "      <td>...</td>\n",
       "      <td>64.367123</td>\n",
       "      <td>56.853973</td>\n",
       "      <td>0.003452</td>\n",
       "      <td>68.441096</td>\n",
       "      <td>55.933425</td>\n",
       "      <td>0.001589</td>\n",
       "      <td>70.071233</td>\n",
       "      <td>55.008493</td>\n",
       "      <td>0.001699</td>\n",
       "      <td>71.753425</td>\n",
       "    </tr>\n",
       "    <tr>\n",
       "      <th>std</th>\n",
       "      <td>105.510663</td>\n",
       "      <td>18.195781</td>\n",
       "      <td>14.370236</td>\n",
       "      <td>16.65224</td>\n",
       "      <td>0.070543</td>\n",
       "      <td>13.959008</td>\n",
       "      <td>14.445887</td>\n",
       "      <td>0.011360</td>\n",
       "      <td>16.314450</td>\n",
       "      <td>14.371262</td>\n",
       "      <td>...</td>\n",
       "      <td>16.997318</td>\n",
       "      <td>14.947829</td>\n",
       "      <td>0.015123</td>\n",
       "      <td>17.029546</td>\n",
       "      <td>14.708164</td>\n",
       "      <td>0.007537</td>\n",
       "      <td>16.072308</td>\n",
       "      <td>14.522128</td>\n",
       "      <td>0.008508</td>\n",
       "      <td>15.862546</td>\n",
       "    </tr>\n",
       "    <tr>\n",
       "      <th>min</th>\n",
       "      <td>0.000000</td>\n",
       "      <td>22.800000</td>\n",
       "      <td>13.600000</td>\n",
       "      <td>18.30000</td>\n",
       "      <td>0.000000</td>\n",
       "      <td>34.000000</td>\n",
       "      <td>16.000000</td>\n",
       "      <td>0.000000</td>\n",
       "      <td>36.000000</td>\n",
       "      <td>15.700000</td>\n",
       "      <td>...</td>\n",
       "      <td>33.000000</td>\n",
       "      <td>15.800000</td>\n",
       "      <td>0.000000</td>\n",
       "      <td>33.000000</td>\n",
       "      <td>15.900000</td>\n",
       "      <td>0.000000</td>\n",
       "      <td>36.000000</td>\n",
       "      <td>15.900000</td>\n",
       "      <td>0.000000</td>\n",
       "      <td>36.000000</td>\n",
       "    </tr>\n",
       "    <tr>\n",
       "      <th>25%</th>\n",
       "      <td>91.000000</td>\n",
       "      <td>53.800000</td>\n",
       "      <td>38.500000</td>\n",
       "      <td>46.70000</td>\n",
       "      <td>0.000000</td>\n",
       "      <td>55.000000</td>\n",
       "      <td>42.100000</td>\n",
       "      <td>0.000000</td>\n",
       "      <td>61.000000</td>\n",
       "      <td>41.500000</td>\n",
       "      <td>...</td>\n",
       "      <td>52.000000</td>\n",
       "      <td>44.800000</td>\n",
       "      <td>0.000000</td>\n",
       "      <td>56.000000</td>\n",
       "      <td>43.700000</td>\n",
       "      <td>0.000000</td>\n",
       "      <td>59.000000</td>\n",
       "      <td>42.700000</td>\n",
       "      <td>0.000000</td>\n",
       "      <td>60.000000</td>\n",
       "    </tr>\n",
       "    <tr>\n",
       "      <th>50%</th>\n",
       "      <td>182.000000</td>\n",
       "      <td>68.500000</td>\n",
       "      <td>50.900000</td>\n",
       "      <td>61.40000</td>\n",
       "      <td>0.000000</td>\n",
       "      <td>65.000000</td>\n",
       "      <td>55.800000</td>\n",
       "      <td>0.000000</td>\n",
       "      <td>72.000000</td>\n",
       "      <td>55.400000</td>\n",
       "      <td>...</td>\n",
       "      <td>62.000000</td>\n",
       "      <td>57.400000</td>\n",
       "      <td>0.000000</td>\n",
       "      <td>65.000000</td>\n",
       "      <td>56.700000</td>\n",
       "      <td>0.000000</td>\n",
       "      <td>69.000000</td>\n",
       "      <td>56.400000</td>\n",
       "      <td>0.000000</td>\n",
       "      <td>71.000000</td>\n",
       "    </tr>\n",
       "    <tr>\n",
       "      <th>75%</th>\n",
       "      <td>273.000000</td>\n",
       "      <td>84.400000</td>\n",
       "      <td>63.100000</td>\n",
       "      <td>76.00000</td>\n",
       "      <td>0.020000</td>\n",
       "      <td>76.000000</td>\n",
       "      <td>66.600000</td>\n",
       "      <td>0.000000</td>\n",
       "      <td>88.000000</td>\n",
       "      <td>66.000000</td>\n",
       "      <td>...</td>\n",
       "      <td>76.000000</td>\n",
       "      <td>70.000000</td>\n",
       "      <td>0.000000</td>\n",
       "      <td>82.000000</td>\n",
       "      <td>68.700000</td>\n",
       "      <td>0.000000</td>\n",
       "      <td>83.000000</td>\n",
       "      <td>67.600000</td>\n",
       "      <td>0.000000</td>\n",
       "      <td>85.000000</td>\n",
       "    </tr>\n",
       "    <tr>\n",
       "      <th>max</th>\n",
       "      <td>364.000000</td>\n",
       "      <td>104.900000</td>\n",
       "      <td>75.700000</td>\n",
       "      <td>92.00000</td>\n",
       "      <td>0.600000</td>\n",
       "      <td>97.000000</td>\n",
       "      <td>81.100000</td>\n",
       "      <td>0.170000</td>\n",
       "      <td>100.000000</td>\n",
       "      <td>80.100000</td>\n",
       "      <td>...</td>\n",
       "      <td>99.000000</td>\n",
       "      <td>83.500000</td>\n",
       "      <td>0.210000</td>\n",
       "      <td>99.000000</td>\n",
       "      <td>81.900000</td>\n",
       "      <td>0.100000</td>\n",
       "      <td>99.000000</td>\n",
       "      <td>80.800000</td>\n",
       "      <td>0.130000</td>\n",
       "      <td>100.000000</td>\n",
       "    </tr>\n",
       "  </tbody>\n",
       "</table>\n",
       "<p>8 rows × 78 columns</p>\n",
       "</div>"
      ],
      "text/plain": [
       "          Date_ID   maxtemp_f   mintemp_f  avgtemp_f  totalprecip_in  \\\n",
       "count  365.000000  365.000000  365.000000  365.00000      365.000000   \n",
       "mean   182.000000   68.567397   50.307123   60.68000        0.029233   \n",
       "std    105.510663   18.195781   14.370236   16.65224        0.070543   \n",
       "min      0.000000   22.800000   13.600000   18.30000        0.000000   \n",
       "25%     91.000000   53.800000   38.500000   46.70000        0.000000   \n",
       "50%    182.000000   68.500000   50.900000   61.40000        0.000000   \n",
       "75%    273.000000   84.400000   63.100000   76.00000        0.020000   \n",
       "max    364.000000  104.900000   75.700000   92.00000        0.600000   \n",
       "\n",
       "       avghumidity    0_temp_f  0_precip_in  0_humidity    1_temp_f  ...  \\\n",
       "count   365.000000  365.000000   365.000000  365.000000  365.000000  ...   \n",
       "mean     65.534247   54.042466     0.002356   73.416438   53.498630  ...   \n",
       "std      13.959008   14.445887     0.011360   16.314450   14.371262  ...   \n",
       "min      34.000000   16.000000     0.000000   36.000000   15.700000  ...   \n",
       "25%      55.000000   42.100000     0.000000   61.000000   41.500000  ...   \n",
       "50%      65.000000   55.800000     0.000000   72.000000   55.400000  ...   \n",
       "75%      76.000000   66.600000     0.000000   88.000000   66.000000  ...   \n",
       "max      97.000000   81.100000     0.170000  100.000000   80.100000  ...   \n",
       "\n",
       "       20_humidity   21_temp_f  21_precip_in  21_humidity   22_temp_f  \\\n",
       "count   365.000000  365.000000    365.000000   365.000000  365.000000   \n",
       "mean     64.367123   56.853973      0.003452    68.441096   55.933425   \n",
       "std      16.997318   14.947829      0.015123    17.029546   14.708164   \n",
       "min      33.000000   15.800000      0.000000    33.000000   15.900000   \n",
       "25%      52.000000   44.800000      0.000000    56.000000   43.700000   \n",
       "50%      62.000000   57.400000      0.000000    65.000000   56.700000   \n",
       "75%      76.000000   70.000000      0.000000    82.000000   68.700000   \n",
       "max      99.000000   83.500000      0.210000    99.000000   81.900000   \n",
       "\n",
       "       22_precip_in  22_humidity   23_temp_f  23_precip_in  23_humidity  \n",
       "count    365.000000   365.000000  365.000000    365.000000   365.000000  \n",
       "mean       0.001589    70.071233   55.008493      0.001699    71.753425  \n",
       "std        0.007537    16.072308   14.522128      0.008508    15.862546  \n",
       "min        0.000000    36.000000   15.900000      0.000000    36.000000  \n",
       "25%        0.000000    59.000000   42.700000      0.000000    60.000000  \n",
       "50%        0.000000    69.000000   56.400000      0.000000    71.000000  \n",
       "75%        0.000000    83.000000   67.600000      0.000000    85.000000  \n",
       "max        0.100000    99.000000   80.800000      0.130000   100.000000  \n",
       "\n",
       "[8 rows x 78 columns]"
      ]
     },
     "execution_count": 6,
     "metadata": {},
     "output_type": "execute_result"
    }
   ],
   "source": [
    "wdata.describe()"
   ]
  },
  {
   "cell_type": "code",
   "execution_count": 10,
   "id": "67b5b3fc",
   "metadata": {},
   "outputs": [
    {
     "data": {
      "text/plain": [
       "Total Precipitation (in)\n",
       "0.00    17885\n",
       "0.01     1664\n",
       "0.02     1573\n",
       "0.03      725\n",
       "0.04      409\n",
       "Name: ID, dtype: int64"
      ]
     },
     "execution_count": 10,
     "metadata": {},
     "output_type": "execute_result"
    }
   ],
   "source": [
    "#Calculate the number of crimes occurring in each type of weather\n",
    "\n",
    "#Group merged data by Daily Average Temperature\n",
    "crime_by_temp = data.groupby(\"Avg Temp (f)\").count()[\"ID\"]\n",
    "\n",
    "#Group merged data by Daily Average Humidity\n",
    "crime_by_humid = data.groupby(\"Avg Humidity (%)\").count()[\"ID\"]\n",
    "\n",
    "#Group merged data by Daily Precipitation\n",
    "crime_by_precip = data.groupby(\"Total Precipitation (in)\").count()[\"ID\"]\n",
    "\n",
    "#Group merged data by Daily Condition\n",
    "crime_by_cond = data.groupby(\"Day Condition\").count()[\"ID\"]\n",
    "\n",
    "crime_by_precip.head()"
   ]
  },
  {
   "cell_type": "code",
   "execution_count": 8,
   "id": "629e11fb",
   "metadata": {},
   "outputs": [
    {
     "data": {
      "text/plain": [
       "totalprecip_in\n",
       "0.00    235\n",
       "0.01     22\n",
       "0.02     21\n",
       "0.03     10\n",
       "0.04      6\n",
       "Name: Date_ID, dtype: int64"
      ]
     },
     "execution_count": 8,
     "metadata": {},
     "output_type": "execute_result"
    }
   ],
   "source": [
    "#Calculate the number of days in the year that had each type of weather. \n",
    "#This would be used to standardize the data so they can be compared fairly.\n",
    "\n",
    "#Group weather data by Daily Average Temperature\n",
    "days_by_temp = wdata.groupby(\"avgtemp_f\").count()[\"Date_ID\"]\n",
    "\n",
    "#Group merged data by Daily Average Humidity\n",
    "days_by_humid = wdata.groupby(\"avghumidity\").count()[\"Date_ID\"]\n",
    "\n",
    "#Group merged data by Daily Precipitation\n",
    "days_by_precip = wdata.groupby(\"totalprecip_in\").count()[\"Date_ID\"]\n",
    "\n",
    "#Group merged data by Daily Condition\n",
    "days_by_cond = wdata.groupby(\"day_condition\").count()[\"Date_ID\"]\n",
    "\n",
    "days_by_precip.head()"
   ]
  },
  {
   "cell_type": "code",
   "execution_count": 9,
   "id": "9fa2c9db",
   "metadata": {},
   "outputs": [
    {
     "data": {
      "text/plain": [
       "Total Precipitation (in)\n",
       "0.00    76.106383\n",
       "0.01    75.636364\n",
       "0.02    74.904762\n",
       "0.03    72.500000\n",
       "0.04    68.166667\n",
       "0.05    80.076923\n",
       "0.06    75.166667\n",
       "0.07    79.833333\n",
       "0.08    69.000000\n",
       "0.09    71.571429\n",
       "0.10    61.000000\n",
       "0.11    76.000000\n",
       "0.12    81.571429\n",
       "0.13    76.000000\n",
       "0.15    75.000000\n",
       "0.16    73.750000\n",
       "0.17    75.500000\n",
       "0.19    54.000000\n",
       "0.20    72.000000\n",
       "0.21    66.500000\n",
       "0.22    64.000000\n",
       "0.24    58.000000\n",
       "0.30    68.000000\n",
       "0.43    70.000000\n",
       "0.45    84.000000\n",
       "0.50    82.000000\n",
       "0.60    66.000000\n",
       "dtype: float64"
      ]
     },
     "execution_count": 9,
     "metadata": {},
     "output_type": "execute_result"
    }
   ],
   "source": [
    "#Establish bins to group data into temp, humidity and precipitation ranges\n",
    "temp_bins = [0, 10, 20, 30, 40, 50, 60, 70, 80, 90, 100]\n",
    "temp_labels = [\"0-10\", \"10-20\", \"20-30\",\"30-40\",\"40-50\",\"50-60\",\"60-70\",\"70-80\",\"80-90\",\"90-100\"]\n",
    "\n",
    "# COME BACK TO THIS - bin data and then re-plot to improve ability to view trends below \n",
    "\n",
    "#Calculate the crime rate, using the number of days with \n",
    "#the specific type of weather in the year. \n",
    "\n",
    "crime_rate_temp = crime_by_temp/days_by_temp\n",
    "crime_rate_humid = crime_by_humid/days_by_humid\n",
    "crime_rate_precip = crime_by_precip/days_by_precip\n",
    "crime_rate_cond = crime_by_cond/days_by_cond\n",
    "crime_rate_precip"
   ]
  },
  {
   "cell_type": "code",
   "execution_count": 20,
   "id": "659187d8",
   "metadata": {},
   "outputs": [
    {
     "data": {
      "image/png": "[encoded data removed]",
      "text/plain": [
       "<Figure size 432x288 with 1 Axes>"
      ]
     },
     "metadata": {
      "needs_background": "light"
     },
     "output_type": "display_data"
    }
   ],
   "source": [
    "plt.scatter(crime_rate_temp.index,crime_rate_temp.values)\n",
    "plt.xlabel('Average Daily Temperature (F)')\n",
    "plt.title('No of Crimes Per Day Temperature Value Occurred')\n",
    "np.polyfit(crime_rate_temp.index,crime_rate_temp.values, deg=1)\n",
    "\n",
    "#obtain m (slope) and b(intercept) of linear regression line\n",
    "m, b = np.polyfit(crime_rate_temp.index,crime_rate_temp.values, 1)\n",
    "\n",
    "#add linear regression line to scatterplot \n",
    "plt.plot(crime_rate_temp.index, m*crime_rate_temp.index+b)\n",
    "\n",
    "plt.show()"
   ]
  },
  {
   "cell_type": "code",
   "execution_count": 35,
   "id": "32d63628",
   "metadata": {},
   "outputs": [
    {
     "name": "stdout",
     "output_type": "stream",
     "text": [
      "The Pearson correlation coefficient for temperature is 0.15892737734149284. There seems to be a very weak positive relationship. \n"
     ]
    }
   ],
   "source": [
    "#Calculate the Pearson correlation coefficient for x and y. Generates correlation coefficient as the first value. \n",
    "corr_temp = st.pearsonr(crime_rate_temp.index,crime_rate_temp.values)\n",
    "print(f\"The Pearson correlation coefficient for temperature is {corr_temp[0]}. \\\n",
    "There seems to be a very weak positive relationship. \")"
   ]
  },
  {
   "cell_type": "code",
   "execution_count": 18,
   "id": "fde42d46",
   "metadata": {
    "scrolled": true
   },
   "outputs": [
    {
     "data": {
      "image/png": "[encoded data removed]",
      "text/plain": [
       "<Figure size 432x288 with 1 Axes>"
      ]
     },
     "metadata": {
      "needs_background": "light"
     },
     "output_type": "display_data"
    }
   ],
   "source": [
    "plt.scatter(crime_rate_precip.index,crime_rate_precip.values)\n",
    "plt.xlabel('Daily Precipitation (in)')\n",
    "plt.title('No of Crimes Per Day Precipitation Value Occurred')\n",
    "\n",
    "#obtain m (slope) and b(intercept) of linear regression line\n",
    "m, b = np.polyfit(crime_rate_precip.index,crime_rate_precip.values, 1)\n",
    "\n",
    "#add linear regression line to scatterplot \n",
    "plt.plot(crime_rate_precip.index, m*crime_rate_precip.index+b)\n",
    "\n",
    "plt.show()"
   ]
  },
  {
   "cell_type": "code",
   "execution_count": 14,
   "id": "489cb856",
   "metadata": {},
   "outputs": [
    {
     "name": "stdout",
     "output_type": "stream",
     "text": [
      "The Pearson correlation coefficient for precipitation is -0.0738048285976213. There seems to be almost no relationship as it is close to zero. \n"
     ]
    }
   ],
   "source": [
    "#Calculate the Pearson correlation coefficient for x and y\n",
    "corr_precip = st.pearsonr(crime_rate_precip.index,crime_rate_precip.values)\n",
    "print(f\"The Pearson correlation coefficient for precipitation is {corr_precip[0]}. \\\n",
    "There seems to be almost no relationship as it is close to zero. \") "
   ]
  },
  {
   "cell_type": "code",
   "execution_count": 19,
   "id": "60d65807",
   "metadata": {},
   "outputs": [
    {
     "data": {
      "image/png": "[encoded data removed]",
      "text/plain": [
       "<Figure size 432x288 with 1 Axes>"
      ]
     },
     "metadata": {
      "needs_background": "light"
     },
     "output_type": "display_data"
    }
   ],
   "source": [
    "plt.scatter(crime_rate_humid.index,crime_rate_humid.values)\n",
    "plt.xlabel('Humidity (%)')\n",
    "plt.title('No of Crimes Per Day Humidity Value Occurred')\n",
    "#obtain m (slope) and b(intercept) of linear regression line\n",
    "m, b = np.polyfit(crime_rate_humid.index,crime_rate_humid.values, 1)\n",
    "\n",
    "#add linear regression line to scatterplot \n",
    "plt.plot(crime_rate_humid.index, m*crime_rate_humid.index+b)\n",
    "plt.show()"
   ]
  },
  {
   "cell_type": "code",
   "execution_count": 16,
   "id": "8b99fba3",
   "metadata": {},
   "outputs": [
    {
     "name": "stdout",
     "output_type": "stream",
     "text": [
      "The Pearson correlation coefficient for humidity is 0.038381213861707925. There seems to be almost no relationship as it is close to zero. \n"
     ]
    }
   ],
   "source": [
    "#Calculate the Pearson correlation coefficient for x and y\n",
    "corr_humid = st.pearsonr(crime_rate_humid.index,crime_rate_humid.values)\n",
    "print(f\"The Pearson correlation coefficient for humidity is {corr_humid[0]}. \\\n",
    "There seems to be almost no relationship as it is close to zero. \") "
   ]
  },
  {
   "cell_type": "code",
   "execution_count": 24,
   "id": "41227937",
   "metadata": {},
   "outputs": [
    {
     "data": {
      "text/html": [
       "<div>\n",
       "<style scoped>\n",
       "    .dataframe tbody tr th:only-of-type {\n",
       "        vertical-align: middle;\n",
       "    }\n",
       "\n",
       "    .dataframe tbody tr th {\n",
       "        vertical-align: top;\n",
       "    }\n",
       "\n",
       "    .dataframe thead th {\n",
       "        text-align: right;\n",
       "    }\n",
       "</style>\n",
       "<table border=\"1\" class=\"dataframe\">\n",
       "  <thead>\n",
       "    <tr style=\"text-align: right;\">\n",
       "      <th></th>\n",
       "      <th>ID</th>\n",
       "      <th>Year</th>\n",
       "      <th>Start Date</th>\n",
       "      <th>Start Time</th>\n",
       "      <th>Hour</th>\n",
       "      <th>Offense Group</th>\n",
       "      <th>Offense</th>\n",
       "      <th>Offense Text</th>\n",
       "      <th>Max Temp (f)</th>\n",
       "      <th>Min Temp (f)</th>\n",
       "      <th>Avg Temp (f)</th>\n",
       "      <th>Total Precipitation (in)</th>\n",
       "      <th>Avg Humidity (%)</th>\n",
       "      <th>Day Condition</th>\n",
       "      <th>Hour Temp (f)</th>\n",
       "      <th>Hour Condition</th>\n",
       "      <th>Hour Precipitation (in)</th>\n",
       "      <th>Hour Humidity (%)</th>\n",
       "      <th>Precipitation</th>\n",
       "    </tr>\n",
       "  </thead>\n",
       "  <tbody>\n",
       "    <tr>\n",
       "      <th>0</th>\n",
       "      <td>0</td>\n",
       "      <td>2022</td>\n",
       "      <td>2022-02-06</td>\n",
       "      <td>00:12:00</td>\n",
       "      <td>12:00AM</td>\n",
       "      <td>violent</td>\n",
       "      <td>robbery</td>\n",
       "      <td>robbery</td>\n",
       "      <td>40.5</td>\n",
       "      <td>24.1</td>\n",
       "      <td>32.8</td>\n",
       "      <td>0.0</td>\n",
       "      <td>52.0</td>\n",
       "      <td>Sunny</td>\n",
       "      <td>26.4</td>\n",
       "      <td>Clear</td>\n",
       "      <td>0.0</td>\n",
       "      <td>52.0</td>\n",
       "      <td>No Precipitation</td>\n",
       "    </tr>\n",
       "    <tr>\n",
       "      <th>1</th>\n",
       "      <td>1</td>\n",
       "      <td>2022</td>\n",
       "      <td>2022-02-06</td>\n",
       "      <td>00:19:00</td>\n",
       "      <td>12:00AM</td>\n",
       "      <td>property</td>\n",
       "      <td>theft/other</td>\n",
       "      <td>theft/other</td>\n",
       "      <td>40.5</td>\n",
       "      <td>24.1</td>\n",
       "      <td>32.8</td>\n",
       "      <td>0.0</td>\n",
       "      <td>52.0</td>\n",
       "      <td>Sunny</td>\n",
       "      <td>26.4</td>\n",
       "      <td>Clear</td>\n",
       "      <td>0.0</td>\n",
       "      <td>52.0</td>\n",
       "      <td>No Precipitation</td>\n",
       "    </tr>\n",
       "    <tr>\n",
       "      <th>2</th>\n",
       "      <td>2</td>\n",
       "      <td>2022</td>\n",
       "      <td>2022-02-06</td>\n",
       "      <td>01:00:00</td>\n",
       "      <td>1:00AM</td>\n",
       "      <td>property</td>\n",
       "      <td>motor vehicle theft</td>\n",
       "      <td>motor vehicle theft</td>\n",
       "      <td>40.5</td>\n",
       "      <td>24.1</td>\n",
       "      <td>32.8</td>\n",
       "      <td>0.0</td>\n",
       "      <td>52.0</td>\n",
       "      <td>Sunny</td>\n",
       "      <td>26.1</td>\n",
       "      <td>Clear</td>\n",
       "      <td>0.0</td>\n",
       "      <td>52.0</td>\n",
       "      <td>No Precipitation</td>\n",
       "    </tr>\n",
       "    <tr>\n",
       "      <th>3</th>\n",
       "      <td>3</td>\n",
       "      <td>2022</td>\n",
       "      <td>2022-02-06</td>\n",
       "      <td>01:30:00</td>\n",
       "      <td>1:00AM</td>\n",
       "      <td>property</td>\n",
       "      <td>theft/other</td>\n",
       "      <td>theft/other</td>\n",
       "      <td>40.5</td>\n",
       "      <td>24.1</td>\n",
       "      <td>32.8</td>\n",
       "      <td>0.0</td>\n",
       "      <td>52.0</td>\n",
       "      <td>Sunny</td>\n",
       "      <td>26.1</td>\n",
       "      <td>Clear</td>\n",
       "      <td>0.0</td>\n",
       "      <td>52.0</td>\n",
       "      <td>No Precipitation</td>\n",
       "    </tr>\n",
       "    <tr>\n",
       "      <th>4</th>\n",
       "      <td>4</td>\n",
       "      <td>2022</td>\n",
       "      <td>2022-02-06</td>\n",
       "      <td>02:45:00</td>\n",
       "      <td>2:00AM</td>\n",
       "      <td>violent</td>\n",
       "      <td>robbery</td>\n",
       "      <td>robbery</td>\n",
       "      <td>40.5</td>\n",
       "      <td>24.1</td>\n",
       "      <td>32.8</td>\n",
       "      <td>0.0</td>\n",
       "      <td>52.0</td>\n",
       "      <td>Sunny</td>\n",
       "      <td>25.8</td>\n",
       "      <td>Clear</td>\n",
       "      <td>0.0</td>\n",
       "      <td>53.0</td>\n",
       "      <td>No Precipitation</td>\n",
       "    </tr>\n",
       "  </tbody>\n",
       "</table>\n",
       "</div>"
      ],
      "text/plain": [
       "   ID  Year  Start Date Start Time     Hour Offense Group  \\\n",
       "0   0  2022  2022-02-06   00:12:00  12:00AM       violent   \n",
       "1   1  2022  2022-02-06   00:19:00  12:00AM      property   \n",
       "2   2  2022  2022-02-06   01:00:00   1:00AM      property   \n",
       "3   3  2022  2022-02-06   01:30:00   1:00AM      property   \n",
       "4   4  2022  2022-02-06   02:45:00   2:00AM       violent   \n",
       "\n",
       "               Offense         Offense Text  Max Temp (f)  Min Temp (f)  \\\n",
       "0              robbery              robbery          40.5          24.1   \n",
       "1          theft/other          theft/other          40.5          24.1   \n",
       "2  motor vehicle theft  motor vehicle theft          40.5          24.1   \n",
       "3          theft/other          theft/other          40.5          24.1   \n",
       "4              robbery              robbery          40.5          24.1   \n",
       "\n",
       "   Avg Temp (f)  Total Precipitation (in)  Avg Humidity (%) Day Condition  \\\n",
       "0          32.8                       0.0              52.0         Sunny   \n",
       "1          32.8                       0.0              52.0         Sunny   \n",
       "2          32.8                       0.0              52.0         Sunny   \n",
       "3          32.8                       0.0              52.0         Sunny   \n",
       "4          32.8                       0.0              52.0         Sunny   \n",
       "\n",
       "   Hour Temp (f) Hour Condition  Hour Precipitation (in)  Hour Humidity (%)  \\\n",
       "0           26.4          Clear                      0.0               52.0   \n",
       "1           26.4          Clear                      0.0               52.0   \n",
       "2           26.1          Clear                      0.0               52.0   \n",
       "3           26.1          Clear                      0.0               52.0   \n",
       "4           25.8          Clear                      0.0               53.0   \n",
       "\n",
       "      Precipitation  \n",
       "0  No Precipitation  \n",
       "1  No Precipitation  \n",
       "2  No Precipitation  \n",
       "3  No Precipitation  \n",
       "4  No Precipitation  "
      ]
     },
     "execution_count": 24,
     "metadata": {},
     "output_type": "execute_result"
    }
   ],
   "source": [
    "# Finding average crime per day precipitation vs. no precipitation\n",
    "precip_col = np.where((data['Total Precipitation (in)']) > 0, 'Precipitation', 'No Precipitation')\n",
    "data['Precipitation'] = precip_col\n",
    "data.head()"
   ]
  },
  {
   "cell_type": "code",
   "execution_count": 61,
   "id": "887c54c7",
   "metadata": {},
   "outputs": [
    {
     "data": {
      "text/plain": [
       "76.1063829787234"
      ]
     },
     "execution_count": 61,
     "metadata": {},
     "output_type": "execute_result"
    }
   ],
   "source": [
    "#Get the number of items in the population of no precipitation\n",
    "no_precip_crime = crime_by_precip[0.00]\n",
    "no_precip_days = days_by_precip[0.00]\n",
    "no_precip_crimerate = no_precip_crime/no_precip_days\n",
    "no_precip_crimerate"
   ]
  },
  {
   "cell_type": "code",
   "execution_count": 63,
   "id": "1323ae65",
   "metadata": {},
   "outputs": [
    {
     "data": {
      "text/plain": [
       "74.43076923076923"
      ]
     },
     "execution_count": 63,
     "metadata": {},
     "output_type": "execute_result"
    }
   ],
   "source": [
    "#Get the number of items in the population of precipitation\n",
    "precip_crime = sum(crime_by_precip) - no_precip_crime\n",
    "precip_days = sum(days_by_precip) - no_precip_days\n",
    "precip_crimerate = precip_crime/precip_days\n",
    "precip_crimerate"
   ]
  },
  {
   "cell_type": "code",
   "execution_count": 66,
   "id": "a5d256a8",
   "metadata": {},
   "outputs": [
    {
     "data": {
      "text/html": [
       "<div>\n",
       "<style scoped>\n",
       "    .dataframe tbody tr th:only-of-type {\n",
       "        vertical-align: middle;\n",
       "    }\n",
       "\n",
       "    .dataframe tbody tr th {\n",
       "        vertical-align: top;\n",
       "    }\n",
       "\n",
       "    .dataframe thead th {\n",
       "        text-align: right;\n",
       "    }\n",
       "</style>\n",
       "<table border=\"1\" class=\"dataframe\">\n",
       "  <thead>\n",
       "    <tr style=\"text-align: right;\">\n",
       "      <th></th>\n",
       "      <th>Observed</th>\n",
       "      <th>Expected</th>\n",
       "    </tr>\n",
       "  </thead>\n",
       "  <tbody>\n",
       "    <tr>\n",
       "      <th>Days with No Precip</th>\n",
       "      <td>76.106383</td>\n",
       "      <td>75.268576</td>\n",
       "    </tr>\n",
       "    <tr>\n",
       "      <th>Days with Precip</th>\n",
       "      <td>74.430769</td>\n",
       "      <td>75.268576</td>\n",
       "    </tr>\n",
       "  </tbody>\n",
       "</table>\n",
       "</div>"
      ],
      "text/plain": [
       "                      Observed   Expected\n",
       "Days with No Precip  76.106383  75.268576\n",
       "Days with Precip     74.430769  75.268576"
      ]
     },
     "execution_count": 66,
     "metadata": {},
     "output_type": "execute_result"
    }
   ],
   "source": [
    "# Chi-Squared Analysis\n",
    "#χ2 test of Independence - used to decide whether there is a relationship between two variables of a population. \n",
    "# H₀: The two categorical variables have no relationship\n",
    "# H₁: There is a relationship between two categorical variables\n",
    "# The number of degrees of freedom of the χ2 independence test statistics: d.f. = (# rows -1) *(#columns-1)\n",
    "\n",
    "#Observed data over the past year\n",
    "observed_precip = pd.Series([no_precip_crimerate,precip_crimerate], index=[\"Days with No Precip\",\"Days with Precip\"])\n",
    "\n",
    "#Create dataframe\n",
    "precip_df = pd.DataFrame([observed_precip]).T\n",
    "precip_df[1] = (no_precip_crimerate+precip_crimerate)/2\n",
    "precip_df.columns = [\"Observed\",\"Expected\"]\n",
    "precip_df"
   ]
  },
  {
   "cell_type": "code",
   "execution_count": 67,
   "id": "be4b417f",
   "metadata": {},
   "outputs": [
    {
     "name": "stdout",
     "output_type": "stream",
     "text": [
      "The Chi-Squared critical value for precipitation is 3.841458820694124. \n"
     ]
    }
   ],
   "source": [
    "# The degree of freedom is (2-1)*(2-1) = 1\n",
    "# With a p-value of 0.05, the confidence level is 1.00-0.05 = 0.95.\n",
    "precip_crit_value = st.chi2.ppf(q = 0.95, df = 1)\n",
    "print(f\"The Chi-Squared critical value for precipitation is {precip_crit_value}. \") "
   ]
  },
  {
   "cell_type": "code",
   "execution_count": 68,
   "id": "dc0ee7bc",
   "metadata": {},
   "outputs": [
    {
     "data": {
      "text/plain": [
       "Power_divergenceResult(statistic=0.018651086400424045, pvalue=0.8913714967950712)"
      ]
     },
     "execution_count": 68,
     "metadata": {},
     "output_type": "execute_result"
    }
   ],
   "source": [
    "# Run the chi square test with st.chisquare()\n",
    "st.chisquare(precip_df['Observed'], precip_df['Expected'])"
   ]
  },
  {
   "cell_type": "markdown",
   "id": "b1a42df8",
   "metadata": {},
   "source": [
    "The chi-squared value of 0.0186 exceeds the critical value of 3.84 and we conclude that there is NOT a significant difference between the groups."
   ]
  },
  {
   "cell_type": "markdown",
   "id": "a9f3bb71",
   "metadata": {},
   "source": [
    "### Testing Correlation Between Precipitation and Crime"
   ]
  },
  {
   "cell_type": "code",
   "execution_count": null,
   "id": "d86d1d3c",
   "metadata": {},
   "outputs": [],
   "source": []
  },
  {
   "cell_type": "code",
   "execution_count": null,
   "id": "38b35296",
   "metadata": {},
   "outputs": [],
   "source": []
  },
  {
   "cell_type": "code",
   "execution_count": null,
   "id": "2a8435d0",
   "metadata": {},
   "outputs": [],
   "source": []
  },
  {
   "cell_type": "code",
   "execution_count": 21,
   "id": "c1fa00f2",
   "metadata": {},
   "outputs": [
    {
     "ename": "NameError",
     "evalue": "name 'avg_crime_no_precip' is not defined",
     "output_type": "error",
     "traceback": [
      "\u001b[0;31m---------------------------------------------------------------------------\u001b[0m",
      "\u001b[0;31mNameError\u001b[0m                                 Traceback (most recent call last)",
      "\u001b[0;32m/var/folders/px/wpgm9x4s7kn74ncpg4pttzd00000gn/T/ipykernel_33632/2934890008.py\u001b[0m in \u001b[0;36m<module>\u001b[0;34m\u001b[0m\n\u001b[1;32m      1\u001b[0m \u001b[0;31m# Visualization\u001b[0m\u001b[0;34m\u001b[0m\u001b[0;34m\u001b[0m\u001b[0;34m\u001b[0m\u001b[0m\n\u001b[1;32m      2\u001b[0m \u001b[0mx_axis\u001b[0m \u001b[0;34m=\u001b[0m \u001b[0;34m[\u001b[0m\u001b[0;34m'No Precipitation'\u001b[0m\u001b[0;34m,\u001b[0m \u001b[0;34m\"Precipitation\"\u001b[0m\u001b[0;34m]\u001b[0m\u001b[0;34m\u001b[0m\u001b[0;34m\u001b[0m\u001b[0m\n\u001b[0;32m----> 3\u001b[0;31m \u001b[0my_axis\u001b[0m \u001b[0;34m=\u001b[0m \u001b[0;34m[\u001b[0m\u001b[0mavg_crime_no_precip\u001b[0m\u001b[0;34m,\u001b[0m \u001b[0mavg_crime_precip\u001b[0m\u001b[0;34m]\u001b[0m\u001b[0;34m\u001b[0m\u001b[0;34m\u001b[0m\u001b[0m\n\u001b[0m\u001b[1;32m      4\u001b[0m \u001b[0mplt\u001b[0m\u001b[0;34m.\u001b[0m\u001b[0mbar\u001b[0m\u001b[0;34m(\u001b[0m\u001b[0mx_axis\u001b[0m\u001b[0;34m,\u001b[0m \u001b[0my_axis\u001b[0m\u001b[0;34m)\u001b[0m\u001b[0;34m\u001b[0m\u001b[0;34m\u001b[0m\u001b[0m\n\u001b[1;32m      5\u001b[0m \u001b[0;31m# plt.title(\"\"\"Total Number of Crimes Reported\u001b[0m\u001b[0;34m\u001b[0m\u001b[0;34m\u001b[0m\u001b[0;34m\u001b[0m\u001b[0m\n",
      "\u001b[0;31mNameError\u001b[0m: name 'avg_crime_no_precip' is not defined"
     ]
    }
   ],
   "source": []
  },
  {
   "cell_type": "markdown",
   "id": "07baacee",
   "metadata": {},
   "source": [
    "### Testing Correlation Between Temperature and Crime"
   ]
  },
  {
   "cell_type": "code",
   "execution_count": 92,
   "id": "84dd7ce5",
   "metadata": {},
   "outputs": [
    {
     "name": "stdout",
     "output_type": "stream",
     "text": [
      "The lower quartile is 46.7\n",
      "The upper quartile is 76.0\n"
     ]
    },
    {
     "data": {
      "image/png": "[encoded data removed]",
      "text/plain": [
       "<Figure size 432x288 with 1 Axes>"
      ]
     },
     "metadata": {
      "needs_background": "light"
     },
     "output_type": "display_data"
    }
   ],
   "source": [
    "# Identify low, moderate, high temperatures\n",
    "weather_file = \"output_data/dc_weather.csv\"\n",
    "weather_day = pd.read_csv(weather_file)\n",
    "\n",
    "quartiles = weather_day['avgtemp_f'].quantile([.25,.5,.75])\n",
    "lowerq = quartiles[0.25]\n",
    "upperq = quartiles[0.75]\n",
    "print(f\"The lower quartile is {lowerq}\")\n",
    "print(f\"The upper quartile is {upperq}\")\n",
    "\n",
    "fig1, ax1 = plt.subplots()\n",
    "ax1.set_ylabel('Avg Temp (f)')\n",
    "ax1.boxplot(weather_day['avgtemp_f'])\n",
    "flierprops={'marker': 'o', 'markersize': 12, 'markerfacecolor': 'red'}\n",
    "plt.show()"
   ]
  },
  {
   "cell_type": "code",
   "execution_count": 103,
   "id": "998e0775",
   "metadata": {},
   "outputs": [
    {
     "name": "stdout",
     "output_type": "stream",
     "text": [
      "The average of crimes per day with low temperature: 75.08791208791209\n",
      "The median of crimes per day with low temperature: 75.0\n",
      "The mode of crimes per day with low temperature: 0    75\n",
      "dtype: int64\n",
      "The average of crimes per day with moderate temperature: 73.89247311827957\n",
      "The median of crimes per day with moderate temperature: 74.0\n",
      "The mode of crimes per day with moderate temperature: 0    75\n",
      "dtype: int64\n",
      "The average of crimes per day with high temperature: 79.36363636363636\n",
      "The median of crimes per day with high temperature: 79.5\n",
      "The mode of crimes per day with high temperature: 0    78\n",
      "dtype: int64\n"
     ]
    }
   ],
   "source": [
    "bins = [0, 46.6, 76.1, 100]\n",
    "bin_labels = ['low', 'moderate', 'high']\n",
    "\n",
    "# organize weather by bins\n",
    "data['Temperature Level'] = pd.cut(data['Avg Temp (f)'], bins, labels=bin_labels, include_lowest=True)\n",
    "\n",
    "# Avg crime per day low temperature\n",
    "low_weather = data.loc[data['Temperature Level'] == 'low', :]\n",
    "low_group = pd.DataFrame(low_weather.groupby('Start Date').count())\n",
    "avg_crime_low = (low_group['ID']).mean()\n",
    "median_crime_low = (low_group['ID']).median()\n",
    "mode_crime_low = (low_group['ID']).mode()\n",
    "print(f\"The average of crimes per day with low temperature: {avg_crime_low}\")\n",
    "print(f\"The median of crimes per day with low temperature: {median_crime_low}\")\n",
    "print(f\"The mode of crimes per day with low temperature: {mode_crime_low}\")\n",
    "\n",
    "# Avg crime per day moderate temperature\n",
    "mod_weather = data.loc[data['Temperature Level'] == 'moderate', :]\n",
    "mod_group = pd.DataFrame(mod_weather.groupby('Start Date').count())\n",
    "avg_crime_mod = (mod_group['ID']).mean()\n",
    "median_crime_mod = (mod_group['ID']).median()\n",
    "mode_crime_mod = (mod_group['ID']).mode()\n",
    "print(f\"The average of crimes per day with moderate temperature: {avg_crime_mod}\")\n",
    "print(f\"The median of crimes per day with moderate temperature: {median_crime_mod}\")\n",
    "print(f\"The mode of crimes per day with moderate temperature: {mode_crime_mod}\")\n",
    "\n",
    "# Avg crime per day high temperature\n",
    "high_weather = data.loc[data['Temperature Level'] == 'high', :]\n",
    "high_group = pd.DataFrame(high_weather.groupby('Start Date').count())\n",
    "avg_crime_high = (high_group['ID']).mean()\n",
    "median_crime_high = (high_group['ID']).median()\n",
    "mode_crime_high = (high_group['ID']).mode()\n",
    "print(f\"The average of crimes per day with high temperature: {avg_crime_high}\")\n",
    "print(f\"The median of crimes per day with high temperature: {median_crime_high}\")\n",
    "print(f\"The mode of crimes per day with high temperature: {mode_crime_high}\")"
   ]
  },
  {
   "cell_type": "code",
   "execution_count": 94,
   "id": "75621ec7",
   "metadata": {},
   "outputs": [
    {
     "data": {
      "text/plain": [
       "F_onewayResult(statistic=2.392428475274271, pvalue=0.0949583910975129)"
      ]
     },
     "execution_count": 94,
     "metadata": {},
     "output_type": "execute_result"
    }
   ],
   "source": [
    "# One-way ANOVA Test\n",
    "# Perform the ANOVA\n",
    "# Take samples of 50 from each group.\n",
    "low_sample = random.sample(list(low_group['ID']), k=50)\n",
    "mod_sample = random.sample(list(mod_group['ID']), k=50)\n",
    "high_sample = random.sample(list(high_group['ID']), k=50)\n",
    "st.f_oneway(low_sample, mod_sample, high_sample)\n"
   ]
  },
  {
   "cell_type": "markdown",
   "id": "44715013",
   "metadata": {},
   "source": [
    "The p value obtained from ANOVA analysis < 0.05 and, therefore, we conclude that there are NOT significant differences between the groups."
   ]
  },
  {
   "cell_type": "code",
   "execution_count": 95,
   "id": "c253f6e0",
   "metadata": {},
   "outputs": [
    {
     "data": {
      "image/png": "[encoded data removed]",
      "text/plain": [
       "<Figure size 432x288 with 1 Axes>"
      ]
     },
     "metadata": {
      "needs_background": "light"
     },
     "output_type": "display_data"
    }
   ],
   "source": [
    "# Box plot\n",
    "box_plot = []\n",
    "box_plot.append(low_sample)\n",
    "box_plot.append(mod_sample)\n",
    "box_plot.append(high_sample)\n",
    "\n",
    "temperature_label = ['low', 'moderate', 'high']\n",
    "\n",
    "fig1, ax1 = plt.subplots()\n",
    "ax1.set_ylabel('Crimes Reported Per Day')\n",
    "ax1.boxplot(box_plot, labels=temperature_label)\n",
    "flierprops={'marker': 'o', 'markersize': 12, 'markerfacecolor': 'red'}\n",
    "plt.show()"
   ]
  },
  {
   "cell_type": "markdown",
   "id": "5cc35c4c",
   "metadata": {},
   "source": [
    "### Testing Correlation Between Humidity and Crime"
   ]
  },
  {
   "cell_type": "code",
   "execution_count": 96,
   "id": "bf1b8b97",
   "metadata": {},
   "outputs": [
    {
     "name": "stdout",
     "output_type": "stream",
     "text": [
      "The lower quartile is 55.0\n",
      "The upper quartile is 76.0\n"
     ]
    },
    {
     "data": {
      "image/png": "[encoded data removed]",
      "text/plain": [
       "<Figure size 432x288 with 1 Axes>"
      ]
     },
     "metadata": {
      "needs_background": "light"
     },
     "output_type": "display_data"
    }
   ],
   "source": [
    "# Identify low, moderate, high humidity levels\n",
    "weather_file = \"output_data/dc_weather.csv\"\n",
    "weather_day = pd.read_csv(weather_file)\n",
    "\n",
    "quartiles = weather_day['avghumidity'].quantile([.25,.5,.75])\n",
    "lowerq = quartiles[0.25]\n",
    "upperq = quartiles[0.75]\n",
    "print(f\"The lower quartile is {lowerq}\")\n",
    "print(f\"The upper quartile is {upperq}\")\n",
    "\n",
    "fig1, ax1 = plt.subplots()\n",
    "ax1.set_ylabel('Avg Humidity (%)')\n",
    "ax1.boxplot(weather_day['avghumidity'])\n",
    "flierprops={'marker': 'o', 'markersize': 12, 'markerfacecolor': 'red'}\n",
    "plt.show()"
   ]
  },
  {
   "cell_type": "code",
   "execution_count": 105,
   "id": "a9b96434",
   "metadata": {},
   "outputs": [
    {
     "name": "stdout",
     "output_type": "stream",
     "text": [
      "The average crimes per day with low humidity: 75.04819277108433\n",
      "The median of crimes per day with low humidity: 75.0\n",
      "The mode of crimes per day with low humidity: 0    73\n",
      "dtype: int64\n",
      "The average crimes per day with moderate humidity: 76.01069518716578\n",
      "The median of crimes per day with moderate humidity: 76.0\n",
      "The mode of crimes per day with moderate humidity: 0    75\n",
      "dtype: int64\n",
      "The average crimes per day with high humidity: 74.92631578947369\n",
      "The median of crimes per day with high humidity: 75.0\n",
      "The mode of crimes per day with high humidity: 0    75\n",
      "dtype: int64\n"
     ]
    }
   ],
   "source": [
    "bins = [0, 54.9, 75.9, 100]\n",
    "bin_labels = ['low humidity', 'moderate humidity', 'high humidity']\n",
    "\n",
    "# organize weather by bins\n",
    "data['Humidity Level'] = pd.cut(data['Avg Humidity (%)'], bins, labels=bin_labels, include_lowest=True)\n",
    "\n",
    "# Avg crime per day low humidity\n",
    "low_humidity = data.loc[data['Humidity Level'] == 'low humidity', :]\n",
    "low_humidity_group = pd.DataFrame(low_humidity.groupby('Start Date').count())\n",
    "avg_crime_low_humidity = (low_humidity_group['ID']).mean()\n",
    "median_crime_low_humidity = (low_humidity_group['ID']).median()\n",
    "mode_crime_low_humidity = (low_humidity_group['ID']).mode()\n",
    "print(f\"The average crimes per day with low humidity: {avg_crime_low_humidity}\")\n",
    "print(f\"The median of crimes per day with low humidity: {median_crime_low_humidity}\")\n",
    "print(f\"The mode of crimes per day with low humidity: {mode_crime_low_humidity}\")\n",
    "\n",
    "# Avg crime per day moderate humidity\n",
    "mod_humidity = data.loc[data['Humidity Level'] == 'moderate humidity', :]\n",
    "mod_humidity_group = pd.DataFrame(mod_humidity.groupby('Start Date').count())\n",
    "avg_crime_mod_humidity = (mod_humidity_group['ID']).mean()\n",
    "median_crime_mod_humidity = (mod_humidity_group['ID']).median()\n",
    "mode_crime_mod_humidity = (mod_humidity_group['ID']).mode()\n",
    "print(f\"The average crimes per day with moderate humidity: {avg_crime_mod_humidity}\")\n",
    "print(f\"The median of crimes per day with moderate humidity: {median_crime_mod_humidity}\")\n",
    "print(f\"The mode of crimes per day with moderate humidity: {mode_crime_mod_humidity}\")\n",
    "\n",
    "# Avg crime per day high humidity\n",
    "high_humidity = data.loc[data['Humidity Level'] == 'high humidity', :]\n",
    "high_humidity_group = pd.DataFrame(high_humidity.groupby('Start Date').count())\n",
    "avg_crime_high_humidity = (high_humidity_group['ID']).mean()\n",
    "median_crime_high_humidity = (high_humidity_group['ID']).median()\n",
    "mode_crime_high_humidity = (high_humidity_group['ID']).mode()\n",
    "print(f\"The average crimes per day with high humidity: {avg_crime_high_humidity}\")\n",
    "print(f\"The median of crimes per day with high humidity: {median_crime_high_humidity}\")\n",
    "print(f\"The mode of crimes per day with high humidity: {mode_crime_high_humidity}\")"
   ]
  },
  {
   "cell_type": "code",
   "execution_count": 98,
   "id": "7c277b2a",
   "metadata": {},
   "outputs": [
    {
     "data": {
      "text/plain": [
       "F_onewayResult(statistic=1.0009307885695513, pvalue=0.37002798251637)"
      ]
     },
     "execution_count": 98,
     "metadata": {},
     "output_type": "execute_result"
    }
   ],
   "source": [
    "# One-way ANOVA Test\n",
    "# Perform the ANOVA\n",
    "# Take samples of 50 from each group.\n",
    "low_humidity_sample = random.sample(list(low_humidity_group['ID']), k=50)\n",
    "mod_humidity_sample = random.sample(list(mod_humidity_group['ID']), k=50)\n",
    "high_humidity_sample = random.sample(list(high_humidity_group['ID']), k=50)\n",
    "st.f_oneway(low_humidity_sample, mod_humidity_sample, high_humidity_sample)"
   ]
  },
  {
   "cell_type": "markdown",
   "id": "12af3ba6",
   "metadata": {},
   "source": [
    "The p value obtained from ANOVA analysis < 0.05 and, therefore, we conclude that there are NOT significant differences between the groups."
   ]
  },
  {
   "cell_type": "code",
   "execution_count": 99,
   "id": "d3436107",
   "metadata": {},
   "outputs": [
    {
     "data": {
      "image/png": "[encoded data removed]",
      "text/plain": [
       "<Figure size 432x288 with 1 Axes>"
      ]
     },
     "metadata": {
      "needs_background": "light"
     },
     "output_type": "display_data"
    }
   ],
   "source": [
    "# Box plot\n",
    "box_plot = []\n",
    "box_plot.append(low_humidity_sample)\n",
    "box_plot.append(mod_humidity_sample)\n",
    "box_plot.append(high_humidity_sample)\n",
    "\n",
    "humidity_label = ['low humidity', 'moderate humidity', 'high humidity']\n",
    "\n",
    "fig1, ax1 = plt.subplots()\n",
    "ax1.set_ylabel('Crimes Reported Per Day')\n",
    "ax1.boxplot(box_plot, labels=temperature_label)\n",
    "flierprops={'marker': 'o', 'markersize': 12, 'markerfacecolor': 'red'}\n",
    "plt.show()"
   ]
  },
  {
   "cell_type": "markdown",
   "id": "4ab709fc",
   "metadata": {},
   "source": []
  },
  {
   "cell_type": "markdown",
   "id": "16be11dc",
   "metadata": {},
   "source": [
    "### Testing Correlation Between Precipitation and Crime\n",
    "#### Motor Vehicle Theft and Theft F/Auto Only"
   ]
  },
  {
   "cell_type": "code",
   "execution_count": 102,
   "id": "5052e0f5",
   "metadata": {},
   "outputs": [
    {
     "name": "stdout",
     "output_type": "stream",
     "text": [
      "The average of crimes per day with no precipitation: 33.11914893617021\n",
      "The median of crimes per day with no precipitation: 33.0\n",
      "The mode of crimes per day with no precipitation: 0    27\n",
      "1    35\n",
      "dtype: int64\n",
      "The average crimes per day with precipitation: 31.976923076923075\n",
      "The median crimes per day with precipitation: 31.0\n",
      "The mode of crimes per day with precipitation: 0    28\n",
      "dtype: int64\n"
     ]
    }
   ],
   "source": [
    "# Finding average motor vehicle and theft f/auto crime per day precipitation vs. no precipitation\n",
    "data_limited = pd.DataFrame(data.loc[(data['Offense Text'] == 'motor vehicle theft') | (data['Offense Text'] == 'theft f/auto'), :])\n",
    "precip_col = np.where((data_limited['Total Precipitation (in)']) > 0, 'Precipitation', 'No Precipitation')\n",
    "data_limited['Precipitation'] = precip_col\n",
    "data_limited.groupby(['Precipitation', 'Start Date']).count()\n",
    "\n",
    "no_precip = data_limited.loc[data_limited['Precipitation'] == 'No Precipitation', :]\n",
    "no_precip_group = pd.DataFrame(no_precip.groupby('Start Date').count())\n",
    "avg_crime_no_precip = (no_precip_group['ID']).mean()\n",
    "median_crime_no_precip = (no_precip_group['ID']).median()\n",
    "mode_crimes_no_precip = (no_precip_group['ID']).mode()\n",
    "print(f\"The average of crimes per day with no precipitation: {avg_crime_no_precip}\")\n",
    "print(f\"The median of crimes per day with no precipitation: {median_crime_no_precip}\")\n",
    "print(f\"The mode of crimes per day with no precipitation: {mode_crimes_no_precip}\")\n",
    "\n",
    "precip = data_limited.loc[data_limited['Precipitation'] == 'Precipitation', :]\n",
    "precip_group = pd.DataFrame(precip.groupby('Start Date').count())\n",
    "avg_crime_precip = (precip_group['ID']).mean()\n",
    "median_crime_precip = (precip_group['ID']).median()\n",
    "mode_crimes_precip = (precip_group['ID']).mode()\n",
    "print(f\"The average crimes per day with precipitation: {avg_crime_precip}\")\n",
    "print(f\"The median crimes per day with precipitation: {median_crime_precip}\")\n",
    "print(f\"The mode of crimes per day with precipitation: {mode_crimes_precip}\")\n",
    "\n"
   ]
  },
  {
   "cell_type": "code",
   "execution_count": 86,
   "id": "8b75a155",
   "metadata": {},
   "outputs": [
    {
     "name": "stdout",
     "output_type": "stream",
     "text": [
      "Average crime over all 365 days: 32.71232876712329\n"
     ]
    },
    {
     "data": {
      "text/plain": [
       "3.841458820694124"
      ]
     },
     "execution_count": 86,
     "metadata": {},
     "output_type": "execute_result"
    }
   ],
   "source": [
    "# Chi-Squared Analysis\n",
    "observed = pd.Series([33.11914893617021, 31.976923076923075], index=['No Precipitation', 'Precipitation'])\n",
    "chi_df = pd.DataFrame([observed]).T\n",
    "\n",
    "# Expected avg crime per day\n",
    "grouped = pd.DataFrame(data_limited.groupby('Start Date').count())\n",
    "avg_crime_total = grouped['ID'].mean()\n",
    "print(f\"Average crime over all 365 days: {avg_crime_total}\")\n",
    "\n",
    "# Column of expected values\n",
    "chi_df[1] = avg_crime_total\n",
    "chi_df.columns = ['observed', 'expected']\n",
    "\n",
    "# Degrees of freedom 2 - 1 = 1\n",
    "# With a p-value of 0.05, the confidence level is 1.00-0.05 = 0.95.\n",
    "critical_value = st.chi2.ppf(q = 0.95, df = 1)\n",
    "critical_value\n"
   ]
  },
  {
   "cell_type": "code",
   "execution_count": 87,
   "id": "2b487bc7",
   "metadata": {},
   "outputs": [
    {
     "data": {
      "text/plain": [
       "Power_divergenceResult(statistic=0.021591987050218614, pvalue=0.8831777046620007)"
      ]
     },
     "execution_count": 87,
     "metadata": {},
     "output_type": "execute_result"
    }
   ],
   "source": [
    "# Chi Squared\n",
    "st.chisquare(chi_df['observed'], chi_df['expected'])"
   ]
  },
  {
   "cell_type": "code",
   "execution_count": 88,
   "id": "dab53e8d",
   "metadata": {},
   "outputs": [
    {
     "data": {
      "text/plain": [
       "<BarContainer object of 2 artists>"
      ]
     },
     "execution_count": 88,
     "metadata": {},
     "output_type": "execute_result"
    },
    {
     "data": {
      "image/png": "[encoded data removed]",
      "text/plain": [
       "<Figure size 432x288 with 1 Axes>"
      ]
     },
     "metadata": {
      "needs_background": "light"
     },
     "output_type": "display_data"
    }
   ],
   "source": [
    "# Visualization\n",
    "x_axis = ['No Precipitation', \"Precipitation\"]\n",
    "y_axis = [avg_crime_no_precip, avg_crime_precip]\n",
    "plt.bar(x_axis, y_axis)\n",
    "# plt.title(\"\"\"Total Number of Crimes Reported\n",
    "# Precipitation vs. No Precipitation\"\"\")\n",
    "# plt.xticks(tick_locations, precip)\n",
    "# plt.xlabel('Precipitation')\n",
    "# plt.ylabel('Crimes Reported')\n",
    "# plt.ylim(top=30000)\n",
    "# for index,data in enumerate((crime_weather.groupby(precip_col).count()['ID'])):\n",
    "#     plt.text(x=index , y=data+250 , s=f\"{data}\", ha='center')\n",
    "# plt.show()\n"
   ]
  },
  {
   "cell_type": "markdown",
   "id": "06fbe9cc",
   "metadata": {},
   "source": [
    "### Testing Correlation Between Temperature and Crime\n",
    "#### Motor Vehicle Theft and Theft F/Auto Only"
   ]
  },
  {
   "cell_type": "code",
   "execution_count": 43,
   "id": "422edfbb",
   "metadata": {},
   "outputs": [
    {
     "name": "stdout",
     "output_type": "stream",
     "text": [
      "The lower quartile is 46.7\n",
      "The upper quartile is 76.0\n"
     ]
    },
    {
     "data": {
      "image/png": "[encoded data removed]",
      "text/plain": [
       "<Figure size 432x288 with 1 Axes>"
      ]
     },
     "metadata": {
      "needs_background": "light"
     },
     "output_type": "display_data"
    }
   ],
   "source": [
    "# Identify low, moderate, high temperatures\n",
    "weather_file = \"output_data/dc_weather.csv\"\n",
    "weather_day = pd.read_csv(weather_file)\n",
    "\n",
    "quartiles = weather_day['avgtemp_f'].quantile([.25,.5,.75])\n",
    "lowerq = quartiles[0.25]\n",
    "upperq = quartiles[0.75]\n",
    "print(f\"The lower quartile is {lowerq}\")\n",
    "print(f\"The upper quartile is {upperq}\")\n",
    "\n",
    "fig1, ax1 = plt.subplots()\n",
    "ax1.set_ylabel('Avg Temp (f)')\n",
    "ax1.boxplot(weather_day['avgtemp_f'])\n",
    "flierprops={'marker': 'o', 'markersize': 12, 'markerfacecolor': 'red'}\n",
    "plt.show()"
   ]
  },
  {
   "cell_type": "code",
   "execution_count": 104,
   "id": "b59b39f2",
   "metadata": {},
   "outputs": [
    {
     "name": "stdout",
     "output_type": "stream",
     "text": [
      "The average of crimes per day with low temperature: 34.56043956043956\n",
      "The median of crimes per day with low temperature: 34.0\n",
      "The mode of crimes per day with low temperature: 0    28\n",
      "1    33\n",
      "2    44\n",
      "dtype: int64\n",
      "The average of crimes per day with moderate temperature: 31.817204301075268\n",
      "The median of crimes per day with moderate temperature: 31.5\n",
      "The mode of crimes per day with moderate temperature: 0    32\n",
      "dtype: int64\n",
      "The average of crimes per day with high temperature: 32.69318181818182\n",
      "The median of crimes per day with high temperature: 32.0\n",
      "The mode of crimes per day with high temperature: 0    29\n",
      "1    31\n",
      "dtype: int64\n"
     ]
    }
   ],
   "source": [
    "bins = [0, 46.6, 76.1, 100]\n",
    "bin_labels = ['low', 'moderate', 'high']\n",
    "\n",
    "# organize weather by bins\n",
    "data_limited['Temperature Level'] = pd.cut(data_limited['Avg Temp (f)'], bins, labels=bin_labels, include_lowest=True)\n",
    "\n",
    "# Avg crime per day low temperature\n",
    "low_weather = data_limited.loc[data_limited['Temperature Level'] == 'low', :]\n",
    "low_group = pd.DataFrame(low_weather.groupby('Start Date').count())\n",
    "avg_crime_low = (low_group['ID']).mean()\n",
    "median_crime_low = (low_group['ID']).median()\n",
    "mode_crime_low = (low_group['ID']).mode()\n",
    "print(f\"The average of crimes per day with low temperature: {avg_crime_low}\")\n",
    "print(f\"The median of crimes per day with low temperature: {median_crime_low}\")\n",
    "print(f\"The mode of crimes per day with low temperature: {mode_crime_low}\")\n",
    "\n",
    "# Avg crime per day moderate temperature\n",
    "mod_weather = data_limited.loc[data_limited['Temperature Level'] == 'moderate', :]\n",
    "mod_group = pd.DataFrame(mod_weather.groupby('Start Date').count())\n",
    "avg_crime_mod = (mod_group['ID']).mean()\n",
    "median_crime_mod = (mod_group['ID']).median()\n",
    "mode_crime_mod = (mod_group['ID']).mode()\n",
    "print(f\"The average of crimes per day with moderate temperature: {avg_crime_mod}\")\n",
    "print(f\"The median of crimes per day with moderate temperature: {median_crime_mod}\")\n",
    "print(f\"The mode of crimes per day with moderate temperature: {mode_crime_mod}\")\n",
    "\n",
    "# Avg crime per day high temperature\n",
    "high_weather = data_limited.loc[data_limited['Temperature Level'] == 'high', :]\n",
    "high_group = pd.DataFrame(high_weather.groupby('Start Date').count())\n",
    "avg_crime_high = (high_group['ID']).mean()\n",
    "median_crime_high = (high_group['ID']).median()\n",
    "mode_crime_high = (high_group['ID']).mode()\n",
    "print(f\"The average of crimes per day with high temperature: {avg_crime_high}\")\n",
    "print(f\"The median of crimes per day with high temperature: {median_crime_high}\")\n",
    "print(f\"The mode of crimes per day with high temperature: {mode_crime_high}\")"
   ]
  },
  {
   "cell_type": "code",
   "execution_count": 79,
   "id": "05b79ddd",
   "metadata": {},
   "outputs": [
    {
     "data": {
      "text/plain": [
       "F_onewayResult(statistic=1.1720511587925921, pvalue=0.31260827010033293)"
      ]
     },
     "execution_count": 79,
     "metadata": {},
     "output_type": "execute_result"
    }
   ],
   "source": [
    "# One-way ANOVA Test\n",
    "# Perform the ANOVA\n",
    "# Take samples of 50 from each group.\n",
    "low_sample = random.sample(list(low_group['ID']), k=50)\n",
    "mod_sample = random.sample(list(mod_group['ID']), k=50)\n",
    "high_sample = random.sample(list(high_group['ID']), k=50)\n",
    "st.f_oneway(low_sample, mod_sample, high_sample)\n",
    "\n",
    "\n"
   ]
  },
  {
   "cell_type": "code",
   "execution_count": 80,
   "id": "ceee4ed6",
   "metadata": {},
   "outputs": [
    {
     "data": {
      "image/png": "[encoded data removed]",
      "text/plain": [
       "<Figure size 432x288 with 1 Axes>"
      ]
     },
     "metadata": {
      "needs_background": "light"
     },
     "output_type": "display_data"
    }
   ],
   "source": [
    "# Box plot\n",
    "box_plot = []\n",
    "box_plot.append(low_sample)\n",
    "box_plot.append(mod_sample)\n",
    "box_plot.append(high_sample)\n",
    "\n",
    "temperature_label = ['low', 'moderate', 'high']\n",
    "\n",
    "fig1, ax1 = plt.subplots()\n",
    "ax1.set_ylabel('Crimes Reported Per Day')\n",
    "ax1.boxplot(box_plot, labels=temperature_label)\n",
    "flierprops={'marker': 'o', 'markersize': 12, 'markerfacecolor': 'red'}\n",
    "plt.show()"
   ]
  },
  {
   "cell_type": "markdown",
   "id": "e6c5ec15",
   "metadata": {},
   "source": [
    "### Testing Correlation Between Humidity and Crime\n",
    "#### Motor Vehicle Theft and Theft F/Auto Only"
   ]
  },
  {
   "cell_type": "code",
   "execution_count": 68,
   "id": "66013641",
   "metadata": {},
   "outputs": [
    {
     "name": "stdout",
     "output_type": "stream",
     "text": [
      "The lower quartile is 55.0\n",
      "The upper quartile is 76.0\n"
     ]
    },
    {
     "data": {
      "image/png": "[encoded data removed]",
      "text/plain": [
       "<Figure size 432x288 with 1 Axes>"
      ]
     },
     "metadata": {
      "needs_background": "light"
     },
     "output_type": "display_data"
    }
   ],
   "source": [
    "# Identify low, moderate, high humidity levels\n",
    "weather_file = \"output_data/dc_weather.csv\"\n",
    "weather_day = pd.read_csv(weather_file)\n",
    "\n",
    "quartiles = weather_day['avghumidity'].quantile([.25,.5,.75])\n",
    "lowerq = quartiles[0.25]\n",
    "upperq = quartiles[0.75]\n",
    "print(f\"The lower quartile is {lowerq}\")\n",
    "print(f\"The upper quartile is {upperq}\")\n",
    "\n",
    "fig1, ax1 = plt.subplots()\n",
    "ax1.set_ylabel('Avg Humidity (%)')\n",
    "ax1.boxplot(weather_day['avghumidity'])\n",
    "flierprops={'marker': 'o', 'markersize': 12, 'markerfacecolor': 'red'}\n",
    "plt.show()"
   ]
  },
  {
   "cell_type": "code",
   "execution_count": 106,
   "id": "22e765ef",
   "metadata": {},
   "outputs": [
    {
     "name": "stdout",
     "output_type": "stream",
     "text": [
      "The average crimes per day with low humidity: 32.9277108433735\n",
      "The median of crimes per day with low humidity: 32.0\n",
      "The mode of crimes per day with low humidity: 0    30\n",
      "dtype: int64\n",
      "The average crimes per day with moderate humidity: 32.481283422459896\n",
      "The median of crimes per day with moderate humidity: 32.0\n",
      "The mode of crimes per day with moderate humidity: 0    25\n",
      "dtype: int64\n",
      "The average crimes per day with high humidity: 32.97894736842105\n",
      "The median of crimes per day with high humidity: 32.0\n",
      "The mode of crimes per day with high humidity: 0    28\n",
      "dtype: int64\n"
     ]
    }
   ],
   "source": [
    "bins = [0, 54.9, 75.9, 100]\n",
    "bin_labels = ['low humidity', 'moderate humidity', 'high humidity']\n",
    "\n",
    "# organize weather by bins\n",
    "data_limited['Humidity Level'] = pd.cut(data_limited['Avg Humidity (%)'], bins, labels=bin_labels, include_lowest=True)\n",
    "\n",
    "# Avg crime per day low humidity\n",
    "low_humidity = data_limited.loc[data_limited['Humidity Level'] == 'low humidity', :]\n",
    "low_humidity_group = pd.DataFrame(low_humidity.groupby('Start Date').count())\n",
    "avg_crime_low_humidity = (low_humidity_group['ID']).mean()\n",
    "median_crime_low_humidity = (low_humidity_group['ID']).median()\n",
    "mode_crime_low_humidity = (low_humidity_group['ID']).mode()\n",
    "print(f\"The average crimes per day with low humidity: {avg_crime_low_humidity}\")\n",
    "print(f\"The median of crimes per day with low humidity: {median_crime_low_humidity}\")\n",
    "print(f\"The mode of crimes per day with low humidity: {mode_crime_low_humidity}\")\n",
    "\n",
    "\n",
    "# Avg crime per day moderate humidity\n",
    "mod_humidity = data_limited.loc[data_limited['Humidity Level'] == 'moderate humidity', :]\n",
    "mod_humidity_group = pd.DataFrame(mod_humidity.groupby('Start Date').count())\n",
    "avg_crime_mod_humidity = (mod_humidity_group['ID']).mean()\n",
    "median_crime_mod_humidity = (mod_humidity_group['ID']).median()\n",
    "mode_crime_mod_humidity = (mod_humidity_group['ID']).mode()\n",
    "print(f\"The average crimes per day with moderate humidity: {avg_crime_mod_humidity}\")\n",
    "print(f\"The median of crimes per day with moderate humidity: {median_crime_mod_humidity}\")\n",
    "print(f\"The mode of crimes per day with moderate humidity: {mode_crime_mod_humidity}\")\n",
    "\n",
    "# Avg crime per day high humidity\n",
    "high_humidity = data_limited.loc[data_limited['Humidity Level'] == 'high humidity', :]\n",
    "high_humidity_group = pd.DataFrame(high_humidity.groupby('Start Date').count())\n",
    "avg_crime_high_humidity = (high_humidity_group['ID']).mean()\n",
    "median_crime_high_humidity = (high_humidity_group['ID']).median()\n",
    "mode_crime_high_humidity = (high_humidity_group['ID']).mode()\n",
    "print(f\"The average crimes per day with high humidity: {avg_crime_high_humidity}\")\n",
    "print(f\"The median of crimes per day with high humidity: {median_crime_high_humidity}\")\n",
    "print(f\"The mode of crimes per day with high humidity: {mode_crime_high_humidity}\")"
   ]
  },
  {
   "cell_type": "code",
   "execution_count": 82,
   "id": "16c7cf03",
   "metadata": {},
   "outputs": [
    {
     "data": {
      "text/plain": [
       "F_onewayResult(statistic=0.9082689568857623, pvalue=0.40547224937220094)"
      ]
     },
     "execution_count": 82,
     "metadata": {},
     "output_type": "execute_result"
    }
   ],
   "source": [
    "# One-way ANOVA Test\n",
    "# Perform the ANOVA\n",
    "# Take samples of 50 from each group.\n",
    "low_humidity_sample = random.sample(list(low_humidity_group['ID']), k=50)\n",
    "mod_humidity_sample = random.sample(list(mod_humidity_group['ID']), k=50)\n",
    "high_humidity_sample = random.sample(list(high_humidity_group['ID']), k=50)\n",
    "st.f_oneway(low_humidity_sample, mod_humidity_sample, high_humidity_sample)\n"
   ]
  },
  {
   "cell_type": "code",
   "execution_count": 84,
   "id": "86389144",
   "metadata": {},
   "outputs": [
    {
     "data": {
      "image/png": "[encoded data removed]",
      "text/plain": [
       "<Figure size 432x288 with 1 Axes>"
      ]
     },
     "metadata": {
      "needs_background": "light"
     },
     "output_type": "display_data"
    }
   ],
   "source": [
    "# Box plot\n",
    "box_plot = []\n",
    "box_plot.append(low_humidity_sample)\n",
    "box_plot.append(mod_humidity_sample)\n",
    "box_plot.append(high_humidity_sample)\n",
    "\n",
    "humidity_label = ['low humidity', 'moderate humidity', 'high humidity']\n",
    "\n",
    "fig1, ax1 = plt.subplots()\n",
    "ax1.set_ylabel('Crimes Reported Per Day')\n",
    "ax1.boxplot(box_plot, labels=temperature_label)\n",
    "flierprops={'marker': 'o', 'markersize': 12, 'markerfacecolor': 'red'}\n",
    "plt.show()"
   ]
  }
 ],
 "metadata": {
  "kernelspec": {
   "display_name": "PythonData",
   "language": "python",
   "name": "pythondata"
  },
  "language_info": {
   "codemirror_mode": {
    "name": "ipython",
    "version": 3
   },
   "file_extension": ".py",
   "mimetype": "text/x-python",
   "name": "python",
   "nbconvert_exporter": "python",
   "pygments_lexer": "ipython3",
   "version": "3.7.7"
  }
 },
 "nbformat": 4,
 "nbformat_minor": 5
}
