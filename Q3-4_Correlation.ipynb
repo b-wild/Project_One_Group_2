{
 "cells": [
  {
   "cell_type": "code",
<<<<<<< HEAD
   "execution_count": 30,
=======
   "execution_count": 3,
>>>>>>> be6d7260786043b32f6b5e93c1c4bd70d812ee9f
   "id": "b5504e3c",
   "metadata": {},
   "outputs": [],
   "source": [
    "# Dependencies and Setup\n",
    "import matplotlib.pyplot as plt\n",
    "import pandas as pd\n",
    "import numpy as np\n",
    "import scipy.stats as st\n",
    "import random"
   ]
  },
  {
   "cell_type": "code",
<<<<<<< HEAD
   "execution_count": 31,
=======
   "execution_count": 4,
>>>>>>> be6d7260786043b32f6b5e93c1c4bd70d812ee9f
   "id": "964f7c9a",
   "metadata": {},
   "outputs": [
    {
     "data": {
      "text/html": [
       "<div>\n",
       "<style scoped>\n",
       "    .dataframe tbody tr th:only-of-type {\n",
       "        vertical-align: middle;\n",
       "    }\n",
       "\n",
       "    .dataframe tbody tr th {\n",
       "        vertical-align: top;\n",
       "    }\n",
       "\n",
       "    .dataframe thead th {\n",
       "        text-align: right;\n",
       "    }\n",
       "</style>\n",
       "<table border=\"1\" class=\"dataframe\">\n",
       "  <thead>\n",
       "    <tr style=\"text-align: right;\">\n",
       "      <th></th>\n",
       "      <th>ID</th>\n",
       "      <th>Year</th>\n",
       "      <th>Start Date</th>\n",
       "      <th>Start Time</th>\n",
       "      <th>Hour</th>\n",
       "      <th>Offense Group</th>\n",
       "      <th>Offense</th>\n",
       "      <th>Offense Text</th>\n",
       "      <th>Max Temp (f)</th>\n",
       "      <th>Min Temp (f)</th>\n",
       "      <th>Avg Temp (f)</th>\n",
       "      <th>Total Precipitation (in)</th>\n",
       "      <th>Avg Humidity (%)</th>\n",
       "      <th>Day Condition</th>\n",
       "      <th>Hour Temp (f)</th>\n",
       "      <th>Hour Condition</th>\n",
       "      <th>Hour Precipitation (in)</th>\n",
       "      <th>Hour Humidity (%)</th>\n",
       "    </tr>\n",
       "  </thead>\n",
       "  <tbody>\n",
       "    <tr>\n",
       "      <th>0</th>\n",
       "      <td>0</td>\n",
       "      <td>2022</td>\n",
       "      <td>2022-02-06</td>\n",
       "      <td>00:12:00</td>\n",
       "      <td>12:00AM</td>\n",
       "      <td>violent</td>\n",
       "      <td>robbery</td>\n",
       "      <td>robbery</td>\n",
       "      <td>40.5</td>\n",
       "      <td>24.1</td>\n",
       "      <td>32.8</td>\n",
       "      <td>0.0</td>\n",
       "      <td>52.0</td>\n",
       "      <td>Sunny</td>\n",
       "      <td>26.4</td>\n",
       "      <td>Clear</td>\n",
       "      <td>0.0</td>\n",
       "      <td>52.0</td>\n",
       "    </tr>\n",
       "    <tr>\n",
       "      <th>1</th>\n",
       "      <td>1</td>\n",
       "      <td>2022</td>\n",
       "      <td>2022-02-06</td>\n",
       "      <td>00:19:00</td>\n",
       "      <td>12:00AM</td>\n",
       "      <td>property</td>\n",
       "      <td>theft/other</td>\n",
       "      <td>theft/other</td>\n",
       "      <td>40.5</td>\n",
       "      <td>24.1</td>\n",
       "      <td>32.8</td>\n",
       "      <td>0.0</td>\n",
       "      <td>52.0</td>\n",
       "      <td>Sunny</td>\n",
       "      <td>26.4</td>\n",
       "      <td>Clear</td>\n",
       "      <td>0.0</td>\n",
       "      <td>52.0</td>\n",
       "    </tr>\n",
       "    <tr>\n",
       "      <th>2</th>\n",
       "      <td>2</td>\n",
       "      <td>2022</td>\n",
       "      <td>2022-02-06</td>\n",
       "      <td>01:00:00</td>\n",
       "      <td>1:00AM</td>\n",
       "      <td>property</td>\n",
       "      <td>motor vehicle theft</td>\n",
       "      <td>motor vehicle theft</td>\n",
       "      <td>40.5</td>\n",
       "      <td>24.1</td>\n",
       "      <td>32.8</td>\n",
       "      <td>0.0</td>\n",
       "      <td>52.0</td>\n",
       "      <td>Sunny</td>\n",
       "      <td>26.1</td>\n",
       "      <td>Clear</td>\n",
       "      <td>0.0</td>\n",
       "      <td>52.0</td>\n",
       "    </tr>\n",
       "    <tr>\n",
       "      <th>3</th>\n",
       "      <td>3</td>\n",
       "      <td>2022</td>\n",
       "      <td>2022-02-06</td>\n",
       "      <td>01:30:00</td>\n",
       "      <td>1:00AM</td>\n",
       "      <td>property</td>\n",
       "      <td>theft/other</td>\n",
       "      <td>theft/other</td>\n",
       "      <td>40.5</td>\n",
       "      <td>24.1</td>\n",
       "      <td>32.8</td>\n",
       "      <td>0.0</td>\n",
       "      <td>52.0</td>\n",
       "      <td>Sunny</td>\n",
       "      <td>26.1</td>\n",
       "      <td>Clear</td>\n",
       "      <td>0.0</td>\n",
       "      <td>52.0</td>\n",
       "    </tr>\n",
       "    <tr>\n",
       "      <th>4</th>\n",
       "      <td>4</td>\n",
       "      <td>2022</td>\n",
       "      <td>2022-02-06</td>\n",
       "      <td>02:45:00</td>\n",
       "      <td>2:00AM</td>\n",
       "      <td>violent</td>\n",
       "      <td>robbery</td>\n",
       "      <td>robbery</td>\n",
       "      <td>40.5</td>\n",
       "      <td>24.1</td>\n",
       "      <td>32.8</td>\n",
       "      <td>0.0</td>\n",
       "      <td>52.0</td>\n",
       "      <td>Sunny</td>\n",
       "      <td>25.8</td>\n",
       "      <td>Clear</td>\n",
       "      <td>0.0</td>\n",
       "      <td>53.0</td>\n",
       "    </tr>\n",
       "  </tbody>\n",
       "</table>\n",
       "</div>"
      ],
      "text/plain": [
       "   ID  Year  Start Date Start Time     Hour Offense Group  \\\n",
       "0   0  2022  2022-02-06   00:12:00  12:00AM       violent   \n",
       "1   1  2022  2022-02-06   00:19:00  12:00AM      property   \n",
       "2   2  2022  2022-02-06   01:00:00   1:00AM      property   \n",
       "3   3  2022  2022-02-06   01:30:00   1:00AM      property   \n",
       "4   4  2022  2022-02-06   02:45:00   2:00AM       violent   \n",
       "\n",
       "               Offense         Offense Text  Max Temp (f)  Min Temp (f)  \\\n",
       "0              robbery              robbery          40.5          24.1   \n",
       "1          theft/other          theft/other          40.5          24.1   \n",
       "2  motor vehicle theft  motor vehicle theft          40.5          24.1   \n",
       "3          theft/other          theft/other          40.5          24.1   \n",
       "4              robbery              robbery          40.5          24.1   \n",
       "\n",
       "   Avg Temp (f)  Total Precipitation (in)  Avg Humidity (%) Day Condition  \\\n",
       "0          32.8                       0.0              52.0         Sunny   \n",
       "1          32.8                       0.0              52.0         Sunny   \n",
       "2          32.8                       0.0              52.0         Sunny   \n",
       "3          32.8                       0.0              52.0         Sunny   \n",
       "4          32.8                       0.0              52.0         Sunny   \n",
       "\n",
<<<<<<< HEAD
       "      Day Condition  Hour Temp (f) Hour Condition  Hour Precipitation (in)  \\\n",
       "27556      Overcast           42.5           Mist                      0.0   \n",
       "27557      Overcast           42.5           Mist                      0.0   \n",
       "27558      Overcast           42.5           Mist                      0.0   \n",
       "27559      Overcast           42.5           Mist                      0.0   \n",
       "27560      Overcast           42.5           Mist                      0.0   \n",
       "\n",
       "       Hour Humidity (%)  \n",
       "27556               95.0  \n",
       "27557               95.0  \n",
       "27558               95.0  \n",
       "27559               95.0  \n",
       "27560               95.0  "
      ]
     },
     "execution_count": 31,
     "metadata": {},
     "output_type": "execute_result"
    }
   ],
   "source": [
    "# Reference data files *** USE ONLY ONE FILE IF ONLY ADDRESSING ONE QUESTION ***\n",
    "data_path = \"output_data/crime_weather_merged.csv\"\n",
    "\n",
    "# Read the data files \n",
    "data = pd.read_csv(data_path)\n",
    "\n",
    "#View data\n",
    "data.tail()"
   ]
  },
  {
   "cell_type": "code",
   "execution_count": 32,
   "id": "a7ebba65",
   "metadata": {},
   "outputs": [
    {
     "data": {
      "text/plain": [
       "ID                            int64\n",
       "Year                          int64\n",
       "Start Date                   object\n",
       "Start Time                   object\n",
       "Hour                         object\n",
       "Offense Group                object\n",
       "Offense                      object\n",
       "Offense Text                 object\n",
       "Max Temp (f)                float64\n",
       "Min Temp (f)                float64\n",
       "Avg Temp (f)                float64\n",
       "Total Precipitation (in)    float64\n",
       "Avg Humidity (%)            float64\n",
       "Day Condition                object\n",
       "Hour Temp (f)               float64\n",
       "Hour Condition               object\n",
       "Hour Precipitation (in)     float64\n",
       "Hour Humidity (%)           float64\n",
       "dtype: object"
      ]
     },
     "execution_count": 32,
     "metadata": {},
     "output_type": "execute_result"
    }
   ],
   "source": [
    "#View data types\n",
    "data.dtypes"
   ]
  },
  {
   "cell_type": "code",
   "execution_count": 33,
   "id": "67b5b3fc",
   "metadata": {},
   "outputs": [
    {
     "data": {
      "text/plain": [
       "Hour Humidity (%)\n",
       "20.0       5\n",
       "21.0      10\n",
       "22.0      20\n",
       "23.0      40\n",
       "24.0      48\n",
       "        ... \n",
       "96.0     379\n",
       "97.0     340\n",
       "98.0     368\n",
       "99.0     237\n",
       "100.0     56\n",
       "Name: ID, Length: 81, dtype: int64"
=======
       "   Hour Temp (f) Hour Condition  Hour Precipitation (in)  Hour Humidity (%)  \n",
       "0           26.4          Clear                      0.0               52.0  \n",
       "1           26.4          Clear                      0.0               52.0  \n",
       "2           26.1          Clear                      0.0               52.0  \n",
       "3           26.1          Clear                      0.0               52.0  \n",
       "4           25.8          Clear                      0.0               53.0  "
>>>>>>> be6d7260786043b32f6b5e93c1c4bd70d812ee9f
      ]
     },
     "execution_count": 33,
     "metadata": {},
     "output_type": "execute_result"
    }
   ],
   "source": [
    "# Observe data before beginning analysis\n",
    "# Reference cleaned and merged crime-weather data file - data by hour\n",
    "data_path = \"output_data/crime_weather_merged.csv\"\n",
    "wdata_path = \"output_data/dc_weather.csv\"\n",
    "\n",
    "# Read the data files \n",
    "data = pd.read_csv(data_path)\n",
    "wdata = pd.read_csv(wdata_path)\n",
    "\n",
    "#View merged data\n",
    "data.head()"
   ]
  },
  {
   "cell_type": "code",
<<<<<<< HEAD
   "execution_count": 34,
   "id": "659187d8",
=======
   "execution_count": 5,
   "id": "79a5a7fd",
>>>>>>> be6d7260786043b32f6b5e93c1c4bd70d812ee9f
   "metadata": {},
   "outputs": [
    {
     "data": {
<<<<<<< HEAD
      "image/png": "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\n",
      "text/plain": [
       "<Figure size 640x480 with 1 Axes>"
      ]
     },
     "metadata": {},
     "output_type": "display_data"
=======
      "text/html": [
       "<div>\n",
       "<style scoped>\n",
       "    .dataframe tbody tr th:only-of-type {\n",
       "        vertical-align: middle;\n",
       "    }\n",
       "\n",
       "    .dataframe tbody tr th {\n",
       "        vertical-align: top;\n",
       "    }\n",
       "\n",
       "    .dataframe thead th {\n",
       "        text-align: right;\n",
       "    }\n",
       "</style>\n",
       "<table border=\"1\" class=\"dataframe\">\n",
       "  <thead>\n",
       "    <tr style=\"text-align: right;\">\n",
       "      <th></th>\n",
       "      <th>Date_ID</th>\n",
       "      <th>date</th>\n",
       "      <th>maxtemp_f</th>\n",
       "      <th>mintemp_f</th>\n",
       "      <th>avgtemp_f</th>\n",
       "      <th>totalprecip_in</th>\n",
       "      <th>avghumidity</th>\n",
       "      <th>day_condition</th>\n",
       "      <th>0_temp_f</th>\n",
       "      <th>0_condition</th>\n",
       "      <th>...</th>\n",
       "      <th>21_precip_in</th>\n",
       "      <th>21_humidity</th>\n",
       "      <th>22_temp_f</th>\n",
       "      <th>22_condition</th>\n",
       "      <th>22_precip_in</th>\n",
       "      <th>22_humidity</th>\n",
       "      <th>23_temp_f</th>\n",
       "      <th>23_condition</th>\n",
       "      <th>23_precip_in</th>\n",
       "      <th>23_humidity</th>\n",
       "    </tr>\n",
       "  </thead>\n",
       "  <tbody>\n",
       "    <tr>\n",
       "      <th>0</th>\n",
       "      <td>0</td>\n",
       "      <td>2022-02-06</td>\n",
       "      <td>40.5</td>\n",
       "      <td>24.1</td>\n",
       "      <td>32.8</td>\n",
       "      <td>0.0</td>\n",
       "      <td>52.0</td>\n",
       "      <td>Sunny</td>\n",
       "      <td>26.4</td>\n",
       "      <td>Clear</td>\n",
       "      <td>...</td>\n",
       "      <td>0.0</td>\n",
       "      <td>63</td>\n",
       "      <td>28.6</td>\n",
       "      <td>Clear</td>\n",
       "      <td>0.0</td>\n",
       "      <td>65</td>\n",
       "      <td>28.2</td>\n",
       "      <td>Clear</td>\n",
       "      <td>0.0</td>\n",
       "      <td>67</td>\n",
       "    </tr>\n",
       "    <tr>\n",
       "      <th>1</th>\n",
       "      <td>1</td>\n",
       "      <td>2022-02-07</td>\n",
       "      <td>46.9</td>\n",
       "      <td>27.7</td>\n",
       "      <td>38.0</td>\n",
       "      <td>0.0</td>\n",
       "      <td>61.0</td>\n",
       "      <td>Cloudy</td>\n",
       "      <td>27.9</td>\n",
       "      <td>Clear</td>\n",
       "      <td>...</td>\n",
       "      <td>0.0</td>\n",
       "      <td>64</td>\n",
       "      <td>36.3</td>\n",
       "      <td>Partly cloudy</td>\n",
       "      <td>0.0</td>\n",
       "      <td>67</td>\n",
       "      <td>36.2</td>\n",
       "      <td>Partly cloudy</td>\n",
       "      <td>0.0</td>\n",
       "      <td>70</td>\n",
       "    </tr>\n",
       "    <tr>\n",
       "      <th>2</th>\n",
       "      <td>2</td>\n",
       "      <td>2022-02-08</td>\n",
       "      <td>45.0</td>\n",
       "      <td>32.9</td>\n",
       "      <td>39.1</td>\n",
       "      <td>0.0</td>\n",
       "      <td>59.0</td>\n",
       "      <td>Cloudy</td>\n",
       "      <td>36.1</td>\n",
       "      <td>Partly cloudy</td>\n",
       "      <td>...</td>\n",
       "      <td>0.0</td>\n",
       "      <td>54</td>\n",
       "      <td>33.8</td>\n",
       "      <td>Partly cloudy</td>\n",
       "      <td>0.0</td>\n",
       "      <td>58</td>\n",
       "      <td>33.6</td>\n",
       "      <td>Partly cloudy</td>\n",
       "      <td>0.0</td>\n",
       "      <td>61</td>\n",
       "    </tr>\n",
       "    <tr>\n",
       "      <th>3</th>\n",
       "      <td>3</td>\n",
       "      <td>2022-02-09</td>\n",
       "      <td>54.1</td>\n",
       "      <td>30.6</td>\n",
       "      <td>43.2</td>\n",
       "      <td>0.0</td>\n",
       "      <td>63.0</td>\n",
       "      <td>Overcast</td>\n",
       "      <td>33.4</td>\n",
       "      <td>Partly cloudy</td>\n",
       "      <td>...</td>\n",
       "      <td>0.0</td>\n",
       "      <td>72</td>\n",
       "      <td>42.4</td>\n",
       "      <td>Clear</td>\n",
       "      <td>0.0</td>\n",
       "      <td>77</td>\n",
       "      <td>40.7</td>\n",
       "      <td>Clear</td>\n",
       "      <td>0.0</td>\n",
       "      <td>82</td>\n",
       "    </tr>\n",
       "    <tr>\n",
       "      <th>4</th>\n",
       "      <td>4</td>\n",
       "      <td>2022-02-10</td>\n",
       "      <td>54.5</td>\n",
       "      <td>34.9</td>\n",
       "      <td>45.3</td>\n",
       "      <td>0.0</td>\n",
       "      <td>68.0</td>\n",
       "      <td>Partly cloudy</td>\n",
       "      <td>39.0</td>\n",
       "      <td>Clear</td>\n",
       "      <td>...</td>\n",
       "      <td>0.0</td>\n",
       "      <td>59</td>\n",
       "      <td>41.7</td>\n",
       "      <td>Clear</td>\n",
       "      <td>0.0</td>\n",
       "      <td>61</td>\n",
       "      <td>40.2</td>\n",
       "      <td>Clear</td>\n",
       "      <td>0.0</td>\n",
       "      <td>64</td>\n",
       "    </tr>\n",
       "  </tbody>\n",
       "</table>\n",
       "<p>5 rows × 104 columns</p>\n",
       "</div>"
      ],
      "text/plain": [
       "   Date_ID        date  maxtemp_f  mintemp_f  avgtemp_f  totalprecip_in  \\\n",
       "0        0  2022-02-06       40.5       24.1       32.8             0.0   \n",
       "1        1  2022-02-07       46.9       27.7       38.0             0.0   \n",
       "2        2  2022-02-08       45.0       32.9       39.1             0.0   \n",
       "3        3  2022-02-09       54.1       30.6       43.2             0.0   \n",
       "4        4  2022-02-10       54.5       34.9       45.3             0.0   \n",
       "\n",
       "   avghumidity  day_condition  0_temp_f    0_condition  ...  21_precip_in  \\\n",
       "0         52.0          Sunny      26.4          Clear  ...           0.0   \n",
       "1         61.0         Cloudy      27.9          Clear  ...           0.0   \n",
       "2         59.0         Cloudy      36.1  Partly cloudy  ...           0.0   \n",
       "3         63.0       Overcast      33.4  Partly cloudy  ...           0.0   \n",
       "4         68.0  Partly cloudy      39.0          Clear  ...           0.0   \n",
       "\n",
       "   21_humidity  22_temp_f   22_condition  22_precip_in  22_humidity  \\\n",
       "0           63       28.6          Clear           0.0           65   \n",
       "1           64       36.3  Partly cloudy           0.0           67   \n",
       "2           54       33.8  Partly cloudy           0.0           58   \n",
       "3           72       42.4          Clear           0.0           77   \n",
       "4           59       41.7          Clear           0.0           61   \n",
       "\n",
       "   23_temp_f   23_condition  23_precip_in  23_humidity  \n",
       "0       28.2          Clear           0.0           67  \n",
       "1       36.2  Partly cloudy           0.0           70  \n",
       "2       33.6  Partly cloudy           0.0           61  \n",
       "3       40.7          Clear           0.0           82  \n",
       "4       40.2          Clear           0.0           64  \n",
       "\n",
       "[5 rows x 104 columns]"
      ]
     },
     "execution_count": 5,
     "metadata": {},
     "output_type": "execute_result"
>>>>>>> be6d7260786043b32f6b5e93c1c4bd70d812ee9f
    }
   ],
   "source": [
    "#View weather data\n",
    "wdata.head()"
   ]
  },
  {
   "cell_type": "code",
<<<<<<< HEAD
   "execution_count": 35,
   "id": "489cb856",
=======
   "execution_count": 6,
   "id": "a7ebba65",
>>>>>>> be6d7260786043b32f6b5e93c1c4bd70d812ee9f
   "metadata": {},
   "outputs": [
    {
     "data": {
<<<<<<< HEAD
      "image/png": "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\n",
      "text/plain": [
       "<Figure size 640x480 with 1 Axes>"
      ]
     },
     "metadata": {},
     "output_type": "display_data"
=======
      "text/html": [
       "<div>\n",
       "<style scoped>\n",
       "    .dataframe tbody tr th:only-of-type {\n",
       "        vertical-align: middle;\n",
       "    }\n",
       "\n",
       "    .dataframe tbody tr th {\n",
       "        vertical-align: top;\n",
       "    }\n",
       "\n",
       "    .dataframe thead th {\n",
       "        text-align: right;\n",
       "    }\n",
       "</style>\n",
       "<table border=\"1\" class=\"dataframe\">\n",
       "  <thead>\n",
       "    <tr style=\"text-align: right;\">\n",
       "      <th></th>\n",
       "      <th>ID</th>\n",
       "      <th>Year</th>\n",
       "      <th>Max Temp (f)</th>\n",
       "      <th>Min Temp (f)</th>\n",
       "      <th>Avg Temp (f)</th>\n",
       "      <th>Total Precipitation (in)</th>\n",
       "      <th>Avg Humidity (%)</th>\n",
       "      <th>Hour Temp (f)</th>\n",
       "      <th>Hour Precipitation (in)</th>\n",
       "      <th>Hour Humidity (%)</th>\n",
       "    </tr>\n",
       "  </thead>\n",
       "  <tbody>\n",
       "    <tr>\n",
       "      <th>count</th>\n",
       "      <td>27561.000000</td>\n",
       "      <td>27561.000000</td>\n",
       "      <td>27561.000000</td>\n",
       "      <td>27561.000000</td>\n",
       "      <td>27561.000000</td>\n",
       "      <td>27561.000000</td>\n",
       "      <td>27561.000000</td>\n",
       "      <td>27561.000000</td>\n",
       "      <td>27561.000000</td>\n",
       "      <td>27561.000000</td>\n",
       "    </tr>\n",
       "    <tr>\n",
       "      <th>mean</th>\n",
       "      <td>13780.000000</td>\n",
       "      <td>2022.116142</td>\n",
       "      <td>68.990265</td>\n",
       "      <td>50.664228</td>\n",
       "      <td>61.068448</td>\n",
       "      <td>0.028296</td>\n",
       "      <td>65.544683</td>\n",
       "      <td>60.386296</td>\n",
       "      <td>0.001131</td>\n",
       "      <td>62.613584</td>\n",
       "    </tr>\n",
       "    <tr>\n",
       "      <th>std</th>\n",
       "      <td>7956.319721</td>\n",
       "      <td>0.320401</td>\n",
       "      <td>18.257070</td>\n",
       "      <td>14.333361</td>\n",
       "      <td>16.678504</td>\n",
       "      <td>0.069103</td>\n",
       "      <td>13.854976</td>\n",
       "      <td>17.312382</td>\n",
       "      <td>0.006886</td>\n",
       "      <td>19.343226</td>\n",
       "    </tr>\n",
       "    <tr>\n",
       "      <th>min</th>\n",
       "      <td>0.000000</td>\n",
       "      <td>2022.000000</td>\n",
       "      <td>22.800000</td>\n",
       "      <td>13.600000</td>\n",
       "      <td>18.300000</td>\n",
       "      <td>0.000000</td>\n",
       "      <td>34.000000</td>\n",
       "      <td>13.600000</td>\n",
       "      <td>0.000000</td>\n",
       "      <td>20.000000</td>\n",
       "    </tr>\n",
       "    <tr>\n",
       "      <th>25%</th>\n",
       "      <td>6890.000000</td>\n",
       "      <td>2022.000000</td>\n",
       "      <td>53.800000</td>\n",
       "      <td>38.500000</td>\n",
       "      <td>46.700000</td>\n",
       "      <td>0.000000</td>\n",
       "      <td>56.000000</td>\n",
       "      <td>46.300000</td>\n",
       "      <td>0.000000</td>\n",
       "      <td>47.000000</td>\n",
       "    </tr>\n",
       "    <tr>\n",
       "      <th>50%</th>\n",
       "      <td>13780.000000</td>\n",
       "      <td>2022.000000</td>\n",
       "      <td>69.300000</td>\n",
       "      <td>51.300000</td>\n",
       "      <td>61.800000</td>\n",
       "      <td>0.000000</td>\n",
       "      <td>65.000000</td>\n",
       "      <td>60.200000</td>\n",
       "      <td>0.000000</td>\n",
       "      <td>61.000000</td>\n",
       "    </tr>\n",
       "    <tr>\n",
       "      <th>75%</th>\n",
       "      <td>20670.000000</td>\n",
       "      <td>2022.000000</td>\n",
       "      <td>85.500000</td>\n",
       "      <td>63.500000</td>\n",
       "      <td>76.300000</td>\n",
       "      <td>0.020000</td>\n",
       "      <td>76.000000</td>\n",
       "      <td>73.000000</td>\n",
       "      <td>0.000000</td>\n",
       "      <td>78.000000</td>\n",
       "    </tr>\n",
       "    <tr>\n",
       "      <th>max</th>\n",
       "      <td>27560.000000</td>\n",
       "      <td>2023.000000</td>\n",
       "      <td>104.900000</td>\n",
       "      <td>75.700000</td>\n",
       "      <td>92.000000</td>\n",
       "      <td>0.600000</td>\n",
       "      <td>97.000000</td>\n",
       "      <td>104.900000</td>\n",
       "      <td>0.210000</td>\n",
       "      <td>100.000000</td>\n",
       "    </tr>\n",
       "  </tbody>\n",
       "</table>\n",
       "</div>"
      ],
      "text/plain": [
       "                 ID          Year  Max Temp (f)  Min Temp (f)  Avg Temp (f)  \\\n",
       "count  27561.000000  27561.000000  27561.000000  27561.000000  27561.000000   \n",
       "mean   13780.000000   2022.116142     68.990265     50.664228     61.068448   \n",
       "std     7956.319721      0.320401     18.257070     14.333361     16.678504   \n",
       "min        0.000000   2022.000000     22.800000     13.600000     18.300000   \n",
       "25%     6890.000000   2022.000000     53.800000     38.500000     46.700000   \n",
       "50%    13780.000000   2022.000000     69.300000     51.300000     61.800000   \n",
       "75%    20670.000000   2022.000000     85.500000     63.500000     76.300000   \n",
       "max    27560.000000   2023.000000    104.900000     75.700000     92.000000   \n",
       "\n",
       "       Total Precipitation (in)  Avg Humidity (%)  Hour Temp (f)  \\\n",
       "count              27561.000000      27561.000000   27561.000000   \n",
       "mean                   0.028296         65.544683      60.386296   \n",
       "std                    0.069103         13.854976      17.312382   \n",
       "min                    0.000000         34.000000      13.600000   \n",
       "25%                    0.000000         56.000000      46.300000   \n",
       "50%                    0.000000         65.000000      60.200000   \n",
       "75%                    0.020000         76.000000      73.000000   \n",
       "max                    0.600000         97.000000     104.900000   \n",
       "\n",
       "       Hour Precipitation (in)  Hour Humidity (%)  \n",
       "count             27561.000000       27561.000000  \n",
       "mean                  0.001131          62.613584  \n",
       "std                   0.006886          19.343226  \n",
       "min                   0.000000          20.000000  \n",
       "25%                   0.000000          47.000000  \n",
       "50%                   0.000000          61.000000  \n",
       "75%                   0.000000          78.000000  \n",
       "max                   0.210000         100.000000  "
      ]
     },
     "execution_count": 6,
     "metadata": {},
     "output_type": "execute_result"
>>>>>>> be6d7260786043b32f6b5e93c1c4bd70d812ee9f
    }
   ],
   "source": [
    "#View data types to understand how they can be manipulated later\n",
    "data.describe()"
   ]
  },
  {
   "cell_type": "code",
<<<<<<< HEAD
   "execution_count": 36,
   "id": "60d65807",
=======
   "execution_count": 7,
   "id": "cb81c955",
>>>>>>> be6d7260786043b32f6b5e93c1c4bd70d812ee9f
   "metadata": {},
   "outputs": [
    {
     "data": {
<<<<<<< HEAD
      "image/png": "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\n",
=======
      "text/html": [
       "<div>\n",
       "<style scoped>\n",
       "    .dataframe tbody tr th:only-of-type {\n",
       "        vertical-align: middle;\n",
       "    }\n",
       "\n",
       "    .dataframe tbody tr th {\n",
       "        vertical-align: top;\n",
       "    }\n",
       "\n",
       "    .dataframe thead th {\n",
       "        text-align: right;\n",
       "    }\n",
       "</style>\n",
       "<table border=\"1\" class=\"dataframe\">\n",
       "  <thead>\n",
       "    <tr style=\"text-align: right;\">\n",
       "      <th></th>\n",
       "      <th>Date_ID</th>\n",
       "      <th>maxtemp_f</th>\n",
       "      <th>mintemp_f</th>\n",
       "      <th>avgtemp_f</th>\n",
       "      <th>totalprecip_in</th>\n",
       "      <th>avghumidity</th>\n",
       "      <th>0_temp_f</th>\n",
       "      <th>0_precip_in</th>\n",
       "      <th>0_humidity</th>\n",
       "      <th>1_temp_f</th>\n",
       "      <th>...</th>\n",
       "      <th>20_humidity</th>\n",
       "      <th>21_temp_f</th>\n",
       "      <th>21_precip_in</th>\n",
       "      <th>21_humidity</th>\n",
       "      <th>22_temp_f</th>\n",
       "      <th>22_precip_in</th>\n",
       "      <th>22_humidity</th>\n",
       "      <th>23_temp_f</th>\n",
       "      <th>23_precip_in</th>\n",
       "      <th>23_humidity</th>\n",
       "    </tr>\n",
       "  </thead>\n",
       "  <tbody>\n",
       "    <tr>\n",
       "      <th>count</th>\n",
       "      <td>365.000000</td>\n",
       "      <td>365.000000</td>\n",
       "      <td>365.000000</td>\n",
       "      <td>365.00000</td>\n",
       "      <td>365.000000</td>\n",
       "      <td>365.000000</td>\n",
       "      <td>365.000000</td>\n",
       "      <td>365.000000</td>\n",
       "      <td>365.000000</td>\n",
       "      <td>365.000000</td>\n",
       "      <td>...</td>\n",
       "      <td>365.000000</td>\n",
       "      <td>365.000000</td>\n",
       "      <td>365.000000</td>\n",
       "      <td>365.000000</td>\n",
       "      <td>365.000000</td>\n",
       "      <td>365.000000</td>\n",
       "      <td>365.000000</td>\n",
       "      <td>365.000000</td>\n",
       "      <td>365.000000</td>\n",
       "      <td>365.000000</td>\n",
       "    </tr>\n",
       "    <tr>\n",
       "      <th>mean</th>\n",
       "      <td>182.000000</td>\n",
       "      <td>68.567397</td>\n",
       "      <td>50.307123</td>\n",
       "      <td>60.68000</td>\n",
       "      <td>0.029233</td>\n",
       "      <td>65.534247</td>\n",
       "      <td>54.042466</td>\n",
       "      <td>0.002356</td>\n",
       "      <td>73.416438</td>\n",
       "      <td>53.498630</td>\n",
       "      <td>...</td>\n",
       "      <td>64.367123</td>\n",
       "      <td>56.853973</td>\n",
       "      <td>0.003452</td>\n",
       "      <td>68.441096</td>\n",
       "      <td>55.933425</td>\n",
       "      <td>0.001589</td>\n",
       "      <td>70.071233</td>\n",
       "      <td>55.008493</td>\n",
       "      <td>0.001699</td>\n",
       "      <td>71.753425</td>\n",
       "    </tr>\n",
       "    <tr>\n",
       "      <th>std</th>\n",
       "      <td>105.510663</td>\n",
       "      <td>18.195781</td>\n",
       "      <td>14.370236</td>\n",
       "      <td>16.65224</td>\n",
       "      <td>0.070543</td>\n",
       "      <td>13.959008</td>\n",
       "      <td>14.445887</td>\n",
       "      <td>0.011360</td>\n",
       "      <td>16.314450</td>\n",
       "      <td>14.371262</td>\n",
       "      <td>...</td>\n",
       "      <td>16.997318</td>\n",
       "      <td>14.947829</td>\n",
       "      <td>0.015123</td>\n",
       "      <td>17.029546</td>\n",
       "      <td>14.708164</td>\n",
       "      <td>0.007537</td>\n",
       "      <td>16.072308</td>\n",
       "      <td>14.522128</td>\n",
       "      <td>0.008508</td>\n",
       "      <td>15.862546</td>\n",
       "    </tr>\n",
       "    <tr>\n",
       "      <th>min</th>\n",
       "      <td>0.000000</td>\n",
       "      <td>22.800000</td>\n",
       "      <td>13.600000</td>\n",
       "      <td>18.30000</td>\n",
       "      <td>0.000000</td>\n",
       "      <td>34.000000</td>\n",
       "      <td>16.000000</td>\n",
       "      <td>0.000000</td>\n",
       "      <td>36.000000</td>\n",
       "      <td>15.700000</td>\n",
       "      <td>...</td>\n",
       "      <td>33.000000</td>\n",
       "      <td>15.800000</td>\n",
       "      <td>0.000000</td>\n",
       "      <td>33.000000</td>\n",
       "      <td>15.900000</td>\n",
       "      <td>0.000000</td>\n",
       "      <td>36.000000</td>\n",
       "      <td>15.900000</td>\n",
       "      <td>0.000000</td>\n",
       "      <td>36.000000</td>\n",
       "    </tr>\n",
       "    <tr>\n",
       "      <th>25%</th>\n",
       "      <td>91.000000</td>\n",
       "      <td>53.800000</td>\n",
       "      <td>38.500000</td>\n",
       "      <td>46.70000</td>\n",
       "      <td>0.000000</td>\n",
       "      <td>55.000000</td>\n",
       "      <td>42.100000</td>\n",
       "      <td>0.000000</td>\n",
       "      <td>61.000000</td>\n",
       "      <td>41.500000</td>\n",
       "      <td>...</td>\n",
       "      <td>52.000000</td>\n",
       "      <td>44.800000</td>\n",
       "      <td>0.000000</td>\n",
       "      <td>56.000000</td>\n",
       "      <td>43.700000</td>\n",
       "      <td>0.000000</td>\n",
       "      <td>59.000000</td>\n",
       "      <td>42.700000</td>\n",
       "      <td>0.000000</td>\n",
       "      <td>60.000000</td>\n",
       "    </tr>\n",
       "    <tr>\n",
       "      <th>50%</th>\n",
       "      <td>182.000000</td>\n",
       "      <td>68.500000</td>\n",
       "      <td>50.900000</td>\n",
       "      <td>61.40000</td>\n",
       "      <td>0.000000</td>\n",
       "      <td>65.000000</td>\n",
       "      <td>55.800000</td>\n",
       "      <td>0.000000</td>\n",
       "      <td>72.000000</td>\n",
       "      <td>55.400000</td>\n",
       "      <td>...</td>\n",
       "      <td>62.000000</td>\n",
       "      <td>57.400000</td>\n",
       "      <td>0.000000</td>\n",
       "      <td>65.000000</td>\n",
       "      <td>56.700000</td>\n",
       "      <td>0.000000</td>\n",
       "      <td>69.000000</td>\n",
       "      <td>56.400000</td>\n",
       "      <td>0.000000</td>\n",
       "      <td>71.000000</td>\n",
       "    </tr>\n",
       "    <tr>\n",
       "      <th>75%</th>\n",
       "      <td>273.000000</td>\n",
       "      <td>84.400000</td>\n",
       "      <td>63.100000</td>\n",
       "      <td>76.00000</td>\n",
       "      <td>0.020000</td>\n",
       "      <td>76.000000</td>\n",
       "      <td>66.600000</td>\n",
       "      <td>0.000000</td>\n",
       "      <td>88.000000</td>\n",
       "      <td>66.000000</td>\n",
       "      <td>...</td>\n",
       "      <td>76.000000</td>\n",
       "      <td>70.000000</td>\n",
       "      <td>0.000000</td>\n",
       "      <td>82.000000</td>\n",
       "      <td>68.700000</td>\n",
       "      <td>0.000000</td>\n",
       "      <td>83.000000</td>\n",
       "      <td>67.600000</td>\n",
       "      <td>0.000000</td>\n",
       "      <td>85.000000</td>\n",
       "    </tr>\n",
       "    <tr>\n",
       "      <th>max</th>\n",
       "      <td>364.000000</td>\n",
       "      <td>104.900000</td>\n",
       "      <td>75.700000</td>\n",
       "      <td>92.00000</td>\n",
       "      <td>0.600000</td>\n",
       "      <td>97.000000</td>\n",
       "      <td>81.100000</td>\n",
       "      <td>0.170000</td>\n",
       "      <td>100.000000</td>\n",
       "      <td>80.100000</td>\n",
       "      <td>...</td>\n",
       "      <td>99.000000</td>\n",
       "      <td>83.500000</td>\n",
       "      <td>0.210000</td>\n",
       "      <td>99.000000</td>\n",
       "      <td>81.900000</td>\n",
       "      <td>0.100000</td>\n",
       "      <td>99.000000</td>\n",
       "      <td>80.800000</td>\n",
       "      <td>0.130000</td>\n",
       "      <td>100.000000</td>\n",
       "    </tr>\n",
       "  </tbody>\n",
       "</table>\n",
       "<p>8 rows × 78 columns</p>\n",
       "</div>"
      ],
      "text/plain": [
       "          Date_ID   maxtemp_f   mintemp_f  avgtemp_f  totalprecip_in  \\\n",
       "count  365.000000  365.000000  365.000000  365.00000      365.000000   \n",
       "mean   182.000000   68.567397   50.307123   60.68000        0.029233   \n",
       "std    105.510663   18.195781   14.370236   16.65224        0.070543   \n",
       "min      0.000000   22.800000   13.600000   18.30000        0.000000   \n",
       "25%     91.000000   53.800000   38.500000   46.70000        0.000000   \n",
       "50%    182.000000   68.500000   50.900000   61.40000        0.000000   \n",
       "75%    273.000000   84.400000   63.100000   76.00000        0.020000   \n",
       "max    364.000000  104.900000   75.700000   92.00000        0.600000   \n",
       "\n",
       "       avghumidity    0_temp_f  0_precip_in  0_humidity    1_temp_f  ...  \\\n",
       "count   365.000000  365.000000   365.000000  365.000000  365.000000  ...   \n",
       "mean     65.534247   54.042466     0.002356   73.416438   53.498630  ...   \n",
       "std      13.959008   14.445887     0.011360   16.314450   14.371262  ...   \n",
       "min      34.000000   16.000000     0.000000   36.000000   15.700000  ...   \n",
       "25%      55.000000   42.100000     0.000000   61.000000   41.500000  ...   \n",
       "50%      65.000000   55.800000     0.000000   72.000000   55.400000  ...   \n",
       "75%      76.000000   66.600000     0.000000   88.000000   66.000000  ...   \n",
       "max      97.000000   81.100000     0.170000  100.000000   80.100000  ...   \n",
       "\n",
       "       20_humidity   21_temp_f  21_precip_in  21_humidity   22_temp_f  \\\n",
       "count   365.000000  365.000000    365.000000   365.000000  365.000000   \n",
       "mean     64.367123   56.853973      0.003452    68.441096   55.933425   \n",
       "std      16.997318   14.947829      0.015123    17.029546   14.708164   \n",
       "min      33.000000   15.800000      0.000000    33.000000   15.900000   \n",
       "25%      52.000000   44.800000      0.000000    56.000000   43.700000   \n",
       "50%      62.000000   57.400000      0.000000    65.000000   56.700000   \n",
       "75%      76.000000   70.000000      0.000000    82.000000   68.700000   \n",
       "max      99.000000   83.500000      0.210000    99.000000   81.900000   \n",
       "\n",
       "       22_precip_in  22_humidity   23_temp_f  23_precip_in  23_humidity  \n",
       "count    365.000000   365.000000  365.000000    365.000000   365.000000  \n",
       "mean       0.001589    70.071233   55.008493      0.001699    71.753425  \n",
       "std        0.007537    16.072308   14.522128      0.008508    15.862546  \n",
       "min        0.000000    36.000000   15.900000      0.000000    36.000000  \n",
       "25%        0.000000    59.000000   42.700000      0.000000    60.000000  \n",
       "50%        0.000000    69.000000   56.400000      0.000000    71.000000  \n",
       "75%        0.000000    83.000000   67.600000      0.000000    85.000000  \n",
       "max        0.100000    99.000000   80.800000      0.130000   100.000000  \n",
       "\n",
       "[8 rows x 78 columns]"
      ]
     },
     "execution_count": 7,
     "metadata": {},
     "output_type": "execute_result"
    }
   ],
   "source": [
    "wdata.describe()"
   ]
  },
  {
   "cell_type": "code",
   "execution_count": 57,
   "id": "67b5b3fc",
   "metadata": {},
   "outputs": [
    {
     "data": {
      "text/plain": [
       "Total Precipitation (in)\n",
       "0.00    17885\n",
       "0.01     1664\n",
       "0.02     1573\n",
       "0.03      725\n",
       "0.04      409\n",
       "0.05     1041\n",
       "0.06      451\n",
       "0.07      479\n",
       "0.08      207\n",
       "0.09      501\n",
       "0.10       61\n",
       "0.11      380\n",
       "0.12      571\n",
       "0.13       76\n",
       "0.15       75\n",
       "0.16      295\n",
       "0.17      151\n",
       "0.19      108\n",
       "0.20      216\n",
       "0.21      133\n",
       "0.22       64\n",
       "0.24       58\n",
       "0.30      136\n",
       "0.43       70\n",
       "0.45       84\n",
       "0.50       82\n",
       "0.60       66\n",
       "Name: ID, dtype: int64"
      ]
     },
     "execution_count": 57,
     "metadata": {},
     "output_type": "execute_result"
    }
   ],
   "source": [
    "#Calculate the number of crimes occurring in each type of weather\n",
    "\n",
    "#Group merged data by Daily Average Temperature\n",
    "crime_by_temp = data.groupby(\"Avg Temp (f)\").count()[\"ID\"]\n",
    "\n",
    "#Group merged data by Daily Average Humidity\n",
    "crime_by_humid = data.groupby(\"Avg Humidity (%)\").count()[\"ID\"]\n",
    "\n",
    "#Group merged data by Daily Precipitation\n",
    "crime_by_precip = data.groupby(\"Total Precipitation (in)\").count()[\"ID\"]\n",
    "\n",
    "#Group merged data by Daily Condition\n",
    "crime_by_cond = data.groupby(\"Day Condition\").count()[\"ID\"]"
   ]
  },
  {
   "cell_type": "code",
   "execution_count": 49,
   "id": "629e11fb",
   "metadata": {},
   "outputs": [
    {
     "data": {
      "text/plain": [
       "totalprecip_in\n",
       "0.00    235\n",
       "0.01     22\n",
       "0.02     21\n",
       "0.03     10\n",
       "0.04      6\n",
       "0.05     13\n",
       "0.06      6\n",
       "0.07      6\n",
       "0.08      3\n",
       "0.09      7\n",
       "0.10      1\n",
       "0.11      5\n",
       "0.12      7\n",
       "0.13      1\n",
       "0.15      1\n",
       "0.16      4\n",
       "0.17      2\n",
       "0.19      2\n",
       "0.20      3\n",
       "0.21      2\n",
       "0.22      1\n",
       "0.24      1\n",
       "0.30      2\n",
       "0.43      1\n",
       "0.45      1\n",
       "0.50      1\n",
       "0.60      1\n",
       "Name: Date_ID, dtype: int64"
      ]
     },
     "execution_count": 49,
     "metadata": {},
     "output_type": "execute_result"
    }
   ],
   "source": [
    "#Calculate the number of days in the year that had each type of weather. \n",
    "#This would be used to standardize the data so they can be compared fairly.\n",
    "\n",
    "#Group weather data by Daily Average Temperature\n",
    "days_by_temp = wdata.groupby(\"avgtemp_f\").count()[\"Date_ID\"]\n",
    "\n",
    "#Group merged data by Daily Average Humidity\n",
    "days_by_humid = wdata.groupby(\"avghumidity\").count()[\"Date_ID\"]\n",
    "\n",
    "#Group merged data by Daily Precipitation\n",
    "days_by_precip = wdata.groupby(\"totalprecip_in\").count()[\"Date_ID\"]\n",
    "\n",
    "#Group merged data by Daily Condition\n",
    "days_by_cond = wdata.groupby(\"day_condition\").count()[\"Date_ID\"]\n",
    "\n",
    "days_by_precip.head()"
   ]
  },
  {
   "cell_type": "code",
   "execution_count": 10,
   "id": "9fa2c9db",
   "metadata": {},
   "outputs": [
    {
     "data": {
      "text/plain": [
       "Day Condition\n",
       "Cloudy                            78.478261\n",
       "Fog                               73.235294\n",
       "Heavy snow                        68.500000\n",
       "Light drizzle                     75.750000\n",
       "Light rain                        71.750000\n",
       "Light rain shower                 73.920000\n",
       "Light snow showers                84.000000\n",
       "Mist                              76.642857\n",
       "Moderate rain                     63.750000\n",
       "Moderate rain at times            58.000000\n",
       "Overcast                          76.283582\n",
       "Partly cloudy                     75.774648\n",
       "Patchy light drizzle              80.000000\n",
       "Patchy light rain                 79.000000\n",
       "Patchy light rain with thunder    76.000000\n",
       "Patchy rain possible              73.629630\n",
       "Sunny                             76.312500\n",
       "Thundery outbreaks possible       85.000000\n",
       "dtype: float64"
      ]
     },
     "execution_count": 10,
     "metadata": {},
     "output_type": "execute_result"
    }
   ],
   "source": [
    "#Establish bins to group data into temp, humidity and precipitation ranges\n",
    "temp_bins = [0, 10, 20, 30, 40, 50, 60, 70, 80, 90, 100]\n",
    "temp_labels = [\"0-10\", \"10-20\", \"20-30\",\"30-40\",\"40-50\",\"50-60\",\"60-70\",\"70-80\",\"80-90\",\"90-100\"]\n",
    "\n",
    "# COME BACK TO THIS - bin data and then re-plot to improve ability to view trends below \n",
    "\n",
    "#Calculate the crime rate, using the number of days with the specific type of weather in the year. \n",
    "\n",
    "crime_rate_temp = crime_by_temp/days_by_temp\n",
    "crime_rate_humid = crime_by_humid/days_by_humid\n",
    "crime_rate_precip = crime_by_precip/days_by_precip\n",
    "crime_rate_cond = crime_by_cond/days_by_cond\n",
    "crime_rate_cond"
   ]
  },
  {
   "cell_type": "code",
   "execution_count": 11,
   "id": "659187d8",
   "metadata": {},
   "outputs": [
    {
     "data": {
      "image/png": "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\n",
>>>>>>> be6d7260786043b32f6b5e93c1c4bd70d812ee9f
      "text/plain": [
       "<Figure size 640x480 with 1 Axes>"
      ]
     },
     "metadata": {},
     "output_type": "display_data"
    }
   ],
   "source": [
    "plt.scatter(crime_rate_temp.index,crime_rate_temp.values)\n",
    "plt.xlabel('Average Daily Temperature')\n",
    "plt.title('No of Crimes Per Day Temperature Value Occurred')\n",
    "plt.show()"
   ]
  },
  {
   "cell_type": "code",
<<<<<<< HEAD
   "execution_count": 37,
   "id": "8b99fba3",
   "metadata": {},
   "outputs": [
    {
     "ename": "IndexingError",
     "evalue": "Too many indexers",
     "output_type": "error",
     "traceback": [
      "\u001b[1;31m---------------------------------------------------------------------------\u001b[0m",
      "\u001b[1;31mIndexingError\u001b[0m                             Traceback (most recent call last)",
      "\u001b[1;32m~\\AppData\\Local\\Temp\\ipykernel_14136\\2751791236.py\u001b[0m in \u001b[0;36m<module>\u001b[1;34m\u001b[0m\n\u001b[1;32m----> 1\u001b[1;33m \u001b[0mplt\u001b[0m\u001b[1;33m.\u001b[0m\u001b[0mscatter\u001b[0m\u001b[1;33m(\u001b[0m\u001b[0mcrime_by_temp\u001b[0m\u001b[1;33m.\u001b[0m\u001b[0miloc\u001b[0m\u001b[1;33m[\u001b[0m\u001b[1;33m:\u001b[0m\u001b[1;33m,\u001b[0m\u001b[1;36m5\u001b[0m\u001b[1;33m]\u001b[0m\u001b[1;33m,\u001b[0m\u001b[0mdata\u001b[0m\u001b[1;33m.\u001b[0m\u001b[0miloc\u001b[0m\u001b[1;33m[\u001b[0m\u001b[1;33m:\u001b[0m\u001b[1;33m,\u001b[0m\u001b[1;36m14\u001b[0m\u001b[1;33m]\u001b[0m\u001b[1;33m)\u001b[0m\u001b[1;33m\u001b[0m\u001b[1;33m\u001b[0m\u001b[0m\n\u001b[0m\u001b[0;32m      2\u001b[0m \u001b[0mplt\u001b[0m\u001b[1;33m.\u001b[0m\u001b[0mxlabel\u001b[0m\u001b[1;33m(\u001b[0m\u001b[1;34m'Population Median Age'\u001b[0m\u001b[1;33m)\u001b[0m\u001b[1;33m\u001b[0m\u001b[1;33m\u001b[0m\u001b[0m\n\u001b[0;32m      3\u001b[0m \u001b[0mplt\u001b[0m\u001b[1;33m.\u001b[0m\u001b[0mylabel\u001b[0m\u001b[1;33m(\u001b[0m\u001b[1;34m'Cell Phones Per 100 People'\u001b[0m\u001b[1;33m)\u001b[0m\u001b[1;33m\u001b[0m\u001b[1;33m\u001b[0m\u001b[0m\n\u001b[0;32m      4\u001b[0m \u001b[0mplt\u001b[0m\u001b[1;33m.\u001b[0m\u001b[0mshow\u001b[0m\u001b[1;33m(\u001b[0m\u001b[1;33m)\u001b[0m\u001b[1;33m\u001b[0m\u001b[1;33m\u001b[0m\u001b[0m\n",
      "\u001b[1;32m~\\Anaconda3\\lib\\site-packages\\pandas\\core\\indexing.py\u001b[0m in \u001b[0;36m__getitem__\u001b[1;34m(self, key)\u001b[0m\n\u001b[0;32m    959\u001b[0m             \u001b[1;32mif\u001b[0m \u001b[0mself\u001b[0m\u001b[1;33m.\u001b[0m\u001b[0m_is_scalar_access\u001b[0m\u001b[1;33m(\u001b[0m\u001b[0mkey\u001b[0m\u001b[1;33m)\u001b[0m\u001b[1;33m:\u001b[0m\u001b[1;33m\u001b[0m\u001b[1;33m\u001b[0m\u001b[0m\n\u001b[0;32m    960\u001b[0m                 \u001b[1;32mreturn\u001b[0m \u001b[0mself\u001b[0m\u001b[1;33m.\u001b[0m\u001b[0mobj\u001b[0m\u001b[1;33m.\u001b[0m\u001b[0m_get_value\u001b[0m\u001b[1;33m(\u001b[0m\u001b[1;33m*\u001b[0m\u001b[0mkey\u001b[0m\u001b[1;33m,\u001b[0m \u001b[0mtakeable\u001b[0m\u001b[1;33m=\u001b[0m\u001b[0mself\u001b[0m\u001b[1;33m.\u001b[0m\u001b[0m_takeable\u001b[0m\u001b[1;33m)\u001b[0m\u001b[1;33m\u001b[0m\u001b[1;33m\u001b[0m\u001b[0m\n\u001b[1;32m--> 961\u001b[1;33m             \u001b[1;32mreturn\u001b[0m \u001b[0mself\u001b[0m\u001b[1;33m.\u001b[0m\u001b[0m_getitem_tuple\u001b[0m\u001b[1;33m(\u001b[0m\u001b[0mkey\u001b[0m\u001b[1;33m)\u001b[0m\u001b[1;33m\u001b[0m\u001b[1;33m\u001b[0m\u001b[0m\n\u001b[0m\u001b[0;32m    962\u001b[0m         \u001b[1;32melse\u001b[0m\u001b[1;33m:\u001b[0m\u001b[1;33m\u001b[0m\u001b[1;33m\u001b[0m\u001b[0m\n\u001b[0;32m    963\u001b[0m             \u001b[1;31m# we by definition only have the 0th axis\u001b[0m\u001b[1;33m\u001b[0m\u001b[1;33m\u001b[0m\u001b[0m\n",
      "\u001b[1;32m~\\Anaconda3\\lib\\site-packages\\pandas\\core\\indexing.py\u001b[0m in \u001b[0;36m_getitem_tuple\u001b[1;34m(self, tup)\u001b[0m\n\u001b[0;32m   1459\u001b[0m     \u001b[1;32mdef\u001b[0m \u001b[0m_getitem_tuple\u001b[0m\u001b[1;33m(\u001b[0m\u001b[0mself\u001b[0m\u001b[1;33m,\u001b[0m \u001b[0mtup\u001b[0m\u001b[1;33m:\u001b[0m \u001b[0mtuple\u001b[0m\u001b[1;33m)\u001b[0m\u001b[1;33m:\u001b[0m\u001b[1;33m\u001b[0m\u001b[1;33m\u001b[0m\u001b[0m\n\u001b[0;32m   1460\u001b[0m \u001b[1;33m\u001b[0m\u001b[0m\n\u001b[1;32m-> 1461\u001b[1;33m         \u001b[0mtup\u001b[0m \u001b[1;33m=\u001b[0m \u001b[0mself\u001b[0m\u001b[1;33m.\u001b[0m\u001b[0m_validate_tuple_indexer\u001b[0m\u001b[1;33m(\u001b[0m\u001b[0mtup\u001b[0m\u001b[1;33m)\u001b[0m\u001b[1;33m\u001b[0m\u001b[1;33m\u001b[0m\u001b[0m\n\u001b[0m\u001b[0;32m   1462\u001b[0m         \u001b[1;32mwith\u001b[0m \u001b[0msuppress\u001b[0m\u001b[1;33m(\u001b[0m\u001b[0mIndexingError\u001b[0m\u001b[1;33m)\u001b[0m\u001b[1;33m:\u001b[0m\u001b[1;33m\u001b[0m\u001b[1;33m\u001b[0m\u001b[0m\n\u001b[0;32m   1463\u001b[0m             \u001b[1;32mreturn\u001b[0m \u001b[0mself\u001b[0m\u001b[1;33m.\u001b[0m\u001b[0m_getitem_lowerdim\u001b[0m\u001b[1;33m(\u001b[0m\u001b[0mtup\u001b[0m\u001b[1;33m)\u001b[0m\u001b[1;33m\u001b[0m\u001b[1;33m\u001b[0m\u001b[0m\n",
      "\u001b[1;32m~\\Anaconda3\\lib\\site-packages\\pandas\\core\\indexing.py\u001b[0m in \u001b[0;36m_validate_tuple_indexer\u001b[1;34m(self, key)\u001b[0m\n\u001b[0;32m    763\u001b[0m         \u001b[0mCheck\u001b[0m \u001b[0mthe\u001b[0m \u001b[0mkey\u001b[0m \u001b[1;32mfor\u001b[0m \u001b[0mvalid\u001b[0m \u001b[0mkeys\u001b[0m \u001b[0macross\u001b[0m \u001b[0mmy\u001b[0m \u001b[0mindexer\u001b[0m\u001b[1;33m.\u001b[0m\u001b[1;33m\u001b[0m\u001b[1;33m\u001b[0m\u001b[0m\n\u001b[0;32m    764\u001b[0m         \"\"\"\n\u001b[1;32m--> 765\u001b[1;33m         \u001b[0mkey\u001b[0m \u001b[1;33m=\u001b[0m \u001b[0mself\u001b[0m\u001b[1;33m.\u001b[0m\u001b[0m_validate_key_length\u001b[0m\u001b[1;33m(\u001b[0m\u001b[0mkey\u001b[0m\u001b[1;33m)\u001b[0m\u001b[1;33m\u001b[0m\u001b[1;33m\u001b[0m\u001b[0m\n\u001b[0m\u001b[0;32m    766\u001b[0m         \u001b[0mkey\u001b[0m \u001b[1;33m=\u001b[0m \u001b[0mself\u001b[0m\u001b[1;33m.\u001b[0m\u001b[0m_expand_ellipsis\u001b[0m\u001b[1;33m(\u001b[0m\u001b[0mkey\u001b[0m\u001b[1;33m)\u001b[0m\u001b[1;33m\u001b[0m\u001b[1;33m\u001b[0m\u001b[0m\n\u001b[0;32m    767\u001b[0m         \u001b[1;32mfor\u001b[0m \u001b[0mi\u001b[0m\u001b[1;33m,\u001b[0m \u001b[0mk\u001b[0m \u001b[1;32min\u001b[0m \u001b[0menumerate\u001b[0m\u001b[1;33m(\u001b[0m\u001b[0mkey\u001b[0m\u001b[1;33m)\u001b[0m\u001b[1;33m:\u001b[0m\u001b[1;33m\u001b[0m\u001b[1;33m\u001b[0m\u001b[0m\n",
      "\u001b[1;32m~\\Anaconda3\\lib\\site-packages\\pandas\\core\\indexing.py\u001b[0m in \u001b[0;36m_validate_key_length\u001b[1;34m(self, key)\u001b[0m\n\u001b[0;32m    810\u001b[0m                     \u001b[1;32mraise\u001b[0m \u001b[0mIndexingError\u001b[0m\u001b[1;33m(\u001b[0m\u001b[0m_one_ellipsis_message\u001b[0m\u001b[1;33m)\u001b[0m\u001b[1;33m\u001b[0m\u001b[1;33m\u001b[0m\u001b[0m\n\u001b[0;32m    811\u001b[0m                 \u001b[1;32mreturn\u001b[0m \u001b[0mself\u001b[0m\u001b[1;33m.\u001b[0m\u001b[0m_validate_key_length\u001b[0m\u001b[1;33m(\u001b[0m\u001b[0mkey\u001b[0m\u001b[1;33m)\u001b[0m\u001b[1;33m\u001b[0m\u001b[1;33m\u001b[0m\u001b[0m\n\u001b[1;32m--> 812\u001b[1;33m             \u001b[1;32mraise\u001b[0m \u001b[0mIndexingError\u001b[0m\u001b[1;33m(\u001b[0m\u001b[1;34m\"Too many indexers\"\u001b[0m\u001b[1;33m)\u001b[0m\u001b[1;33m\u001b[0m\u001b[1;33m\u001b[0m\u001b[0m\n\u001b[0m\u001b[0;32m    813\u001b[0m         \u001b[1;32mreturn\u001b[0m \u001b[0mkey\u001b[0m\u001b[1;33m\u001b[0m\u001b[1;33m\u001b[0m\u001b[0m\n\u001b[0;32m    814\u001b[0m \u001b[1;33m\u001b[0m\u001b[0m\n",
      "\u001b[1;31mIndexingError\u001b[0m: Too many indexers"
=======
   "execution_count": 35,
   "id": "32d63628",
   "metadata": {},
   "outputs": [
    {
     "name": "stdout",
     "output_type": "stream",
     "text": [
      "The Pearson correlation coefficient for temperature is 0.15892737734149284. There seems to be a very weak positive relationship. \n"
>>>>>>> be6d7260786043b32f6b5e93c1c4bd70d812ee9f
     ]
    }
   ],
   "source": [
    "#Calculate the Pearson correlation coefficient for x and y. Generates correlation coefficient as the first value. \n",
    "corr_temp = st.pearsonr(crime_rate_temp.index,crime_rate_temp.values)\n",
    "print(f\"The Pearson correlation coefficient for temperature is {corr_temp[0]}. \\\n",
    "There seems to be a very weak positive relationship. \")"
   ]
  },
  {
   "cell_type": "code",
   "execution_count": 13,
   "id": "fde42d46",
   "metadata": {
    "scrolled": true
   },
   "outputs": [
    {
     "data": {
      "image/png": "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\n",
      "text/plain": [
       "<Figure size 432x288 with 1 Axes>"
      ]
     },
     "metadata": {
      "needs_background": "light"
     },
     "output_type": "display_data"
    }
   ],
   "source": [
    "plt.scatter(crime_rate_precip.index,crime_rate_precip.values)\n",
    "plt.xlabel('Daily Precipitation')\n",
    "plt.title('No of Crimes Per Day Precipitation Value Occurred')\n",
    "plt.show()"
   ]
  },
  {
   "cell_type": "code",
<<<<<<< HEAD
   "execution_count": 38,
=======
   "execution_count": 14,
   "id": "489cb856",
   "metadata": {},
   "outputs": [
    {
     "name": "stdout",
     "output_type": "stream",
     "text": [
      "The Pearson correlation coefficient for precipitation is -0.0738048285976213. There seems to be almost no relationship as it is close to zero. \n"
     ]
    }
   ],
   "source": [
    "#Calculate the Pearson correlation coefficient for x and y\n",
    "corr_precip = st.pearsonr(crime_rate_precip.index,crime_rate_precip.values)\n",
    "print(f\"The Pearson correlation coefficient for precipitation is {corr_precip[0]}. \\\n",
    "There seems to be almost no relationship as it is close to zero. \") "
   ]
  },
  {
   "cell_type": "code",
   "execution_count": 15,
   "id": "60d65807",
   "metadata": {},
   "outputs": [
    {
     "data": {
      "image/png": "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\n",
      "text/plain": [
       "<Figure size 432x288 with 1 Axes>"
      ]
     },
     "metadata": {
      "needs_background": "light"
     },
     "output_type": "display_data"
    }
   ],
   "source": [
    "plt.scatter(crime_rate_humid.index,crime_rate_humid.values)\n",
    "plt.xlabel('Humidity')\n",
    "plt.title('No of Crimes Per Day Humidity Value Occurred')\n",
    "plt.show()"
   ]
  },
  {
   "cell_type": "code",
   "execution_count": 16,
   "id": "8b99fba3",
   "metadata": {},
   "outputs": [
    {
     "name": "stdout",
     "output_type": "stream",
     "text": [
      "The Pearson correlation coefficient for humidity is 0.038381213861707925. There seems to be almost no relationship as it is close to zero. \n"
     ]
    }
   ],
   "source": [
    "#Calculate the Pearson correlation coefficient for x and y\n",
    "corr_humid = st.pearsonr(crime_rate_humid.index,crime_rate_humid.values)\n",
    "print(f\"The Pearson correlation coefficient for humidity is {corr_humid[0]}. \\\n",
    "There seems to be almost no relationship as it is close to zero. \") "
   ]
  },
  {
   "cell_type": "code",
   "execution_count": 24,
>>>>>>> be6d7260786043b32f6b5e93c1c4bd70d812ee9f
   "id": "41227937",
   "metadata": {},
   "outputs": [
    {
     "data": {
      "text/html": [
       "<div>\n",
       "<style scoped>\n",
       "    .dataframe tbody tr th:only-of-type {\n",
       "        vertical-align: middle;\n",
       "    }\n",
       "\n",
       "    .dataframe tbody tr th {\n",
       "        vertical-align: top;\n",
       "    }\n",
       "\n",
       "    .dataframe thead th {\n",
       "        text-align: right;\n",
       "    }\n",
       "</style>\n",
       "<table border=\"1\" class=\"dataframe\">\n",
       "  <thead>\n",
       "    <tr style=\"text-align: right;\">\n",
       "      <th></th>\n",
       "      <th>ID</th>\n",
       "      <th>Year</th>\n",
       "      <th>Start Date</th>\n",
       "      <th>Start Time</th>\n",
       "      <th>Hour</th>\n",
       "      <th>Offense Group</th>\n",
       "      <th>Offense</th>\n",
       "      <th>Offense Text</th>\n",
       "      <th>Max Temp (f)</th>\n",
       "      <th>Min Temp (f)</th>\n",
       "      <th>Avg Temp (f)</th>\n",
       "      <th>Total Precipitation (in)</th>\n",
       "      <th>Avg Humidity (%)</th>\n",
       "      <th>Day Condition</th>\n",
       "      <th>Hour Temp (f)</th>\n",
       "      <th>Hour Condition</th>\n",
       "      <th>Hour Precipitation (in)</th>\n",
       "      <th>Hour Humidity (%)</th>\n",
       "      <th>Precipitation</th>\n",
       "    </tr>\n",
       "  </thead>\n",
       "  <tbody>\n",
       "    <tr>\n",
       "      <th>0</th>\n",
       "      <td>0</td>\n",
       "      <td>2022</td>\n",
       "      <td>2022-02-06</td>\n",
       "      <td>00:12:00</td>\n",
       "      <td>12:00AM</td>\n",
       "      <td>violent</td>\n",
       "      <td>robbery</td>\n",
       "      <td>robbery</td>\n",
       "      <td>40.5</td>\n",
       "      <td>24.1</td>\n",
       "      <td>32.8</td>\n",
       "      <td>0.0</td>\n",
       "      <td>52.0</td>\n",
       "      <td>Sunny</td>\n",
       "      <td>26.4</td>\n",
       "      <td>Clear</td>\n",
       "      <td>0.0</td>\n",
       "      <td>52.0</td>\n",
       "      <td>No Precipitation</td>\n",
       "    </tr>\n",
       "    <tr>\n",
       "      <th>1</th>\n",
       "      <td>1</td>\n",
       "      <td>2022</td>\n",
       "      <td>2022-02-06</td>\n",
       "      <td>00:19:00</td>\n",
       "      <td>12:00AM</td>\n",
       "      <td>property</td>\n",
       "      <td>theft/other</td>\n",
       "      <td>theft/other</td>\n",
       "      <td>40.5</td>\n",
       "      <td>24.1</td>\n",
       "      <td>32.8</td>\n",
       "      <td>0.0</td>\n",
       "      <td>52.0</td>\n",
       "      <td>Sunny</td>\n",
       "      <td>26.4</td>\n",
       "      <td>Clear</td>\n",
       "      <td>0.0</td>\n",
       "      <td>52.0</td>\n",
       "      <td>No Precipitation</td>\n",
       "    </tr>\n",
       "    <tr>\n",
       "      <th>2</th>\n",
       "      <td>2</td>\n",
       "      <td>2022</td>\n",
       "      <td>2022-02-06</td>\n",
       "      <td>01:00:00</td>\n",
       "      <td>1:00AM</td>\n",
       "      <td>property</td>\n",
       "      <td>motor vehicle theft</td>\n",
       "      <td>motor vehicle theft</td>\n",
       "      <td>40.5</td>\n",
       "      <td>24.1</td>\n",
       "      <td>32.8</td>\n",
       "      <td>0.0</td>\n",
       "      <td>52.0</td>\n",
       "      <td>Sunny</td>\n",
       "      <td>26.1</td>\n",
       "      <td>Clear</td>\n",
       "      <td>0.0</td>\n",
       "      <td>52.0</td>\n",
       "      <td>No Precipitation</td>\n",
       "    </tr>\n",
       "    <tr>\n",
       "      <th>3</th>\n",
       "      <td>3</td>\n",
       "      <td>2022</td>\n",
       "      <td>2022-02-06</td>\n",
       "      <td>01:30:00</td>\n",
       "      <td>1:00AM</td>\n",
       "      <td>property</td>\n",
       "      <td>theft/other</td>\n",
       "      <td>theft/other</td>\n",
       "      <td>40.5</td>\n",
       "      <td>24.1</td>\n",
       "      <td>32.8</td>\n",
       "      <td>0.0</td>\n",
       "      <td>52.0</td>\n",
       "      <td>Sunny</td>\n",
       "      <td>26.1</td>\n",
       "      <td>Clear</td>\n",
       "      <td>0.0</td>\n",
       "      <td>52.0</td>\n",
       "      <td>No Precipitation</td>\n",
       "    </tr>\n",
       "    <tr>\n",
       "      <th>4</th>\n",
       "      <td>4</td>\n",
       "      <td>2022</td>\n",
       "      <td>2022-02-06</td>\n",
       "      <td>02:45:00</td>\n",
       "      <td>2:00AM</td>\n",
       "      <td>violent</td>\n",
       "      <td>robbery</td>\n",
       "      <td>robbery</td>\n",
       "      <td>40.5</td>\n",
       "      <td>24.1</td>\n",
       "      <td>32.8</td>\n",
       "      <td>0.0</td>\n",
       "      <td>52.0</td>\n",
       "      <td>Sunny</td>\n",
       "      <td>25.8</td>\n",
       "      <td>Clear</td>\n",
       "      <td>0.0</td>\n",
       "      <td>53.0</td>\n",
       "      <td>No Precipitation</td>\n",
       "    </tr>\n",
       "  </tbody>\n",
       "</table>\n",
       "</div>"
      ],
      "text/plain": [
       "   ID  Year  Start Date Start Time     Hour Offense Group  \\\n",
       "0   0  2022  2022-02-06   00:12:00  12:00AM       violent   \n",
       "1   1  2022  2022-02-06   00:19:00  12:00AM      property   \n",
       "2   2  2022  2022-02-06   01:00:00   1:00AM      property   \n",
       "3   3  2022  2022-02-06   01:30:00   1:00AM      property   \n",
       "4   4  2022  2022-02-06   02:45:00   2:00AM       violent   \n",
       "\n",
       "               Offense         Offense Text  Max Temp (f)  Min Temp (f)  \\\n",
       "0              robbery              robbery          40.5          24.1   \n",
       "1          theft/other          theft/other          40.5          24.1   \n",
       "2  motor vehicle theft  motor vehicle theft          40.5          24.1   \n",
       "3          theft/other          theft/other          40.5          24.1   \n",
       "4              robbery              robbery          40.5          24.1   \n",
       "\n",
       "   Avg Temp (f)  Total Precipitation (in)  Avg Humidity (%) Day Condition  \\\n",
       "0          32.8                       0.0              52.0         Sunny   \n",
       "1          32.8                       0.0              52.0         Sunny   \n",
       "2          32.8                       0.0              52.0         Sunny   \n",
       "3          32.8                       0.0              52.0         Sunny   \n",
       "4          32.8                       0.0              52.0         Sunny   \n",
       "\n",
       "   Hour Temp (f) Hour Condition  Hour Precipitation (in)  Hour Humidity (%)  \\\n",
       "0           26.4          Clear                      0.0               52.0   \n",
       "1           26.4          Clear                      0.0               52.0   \n",
       "2           26.1          Clear                      0.0               52.0   \n",
       "3           26.1          Clear                      0.0               52.0   \n",
       "4           25.8          Clear                      0.0               53.0   \n",
       "\n",
       "      Precipitation  \n",
       "0  No Precipitation  \n",
       "1  No Precipitation  \n",
       "2  No Precipitation  \n",
       "3  No Precipitation  \n",
       "4  No Precipitation  "
      ]
     },
<<<<<<< HEAD
     "execution_count": 38,
=======
     "execution_count": 24,
>>>>>>> be6d7260786043b32f6b5e93c1c4bd70d812ee9f
     "metadata": {},
     "output_type": "execute_result"
    }
   ],
   "source": [
    "# Finding average crime per day precipitation vs. no precipitation\n",
    "precip_col = np.where((data['Total Precipitation (in)']) > 0, 'Precipitation', 'No Precipitation')\n",
    "data['Precipitation'] = precip_col\n",
    "data.head()"
   ]
  },
  {
   "cell_type": "code",
<<<<<<< HEAD
   "execution_count": 39,
=======
   "execution_count": 61,
>>>>>>> be6d7260786043b32f6b5e93c1c4bd70d812ee9f
   "id": "887c54c7",
   "metadata": {},
   "outputs": [
    {
     "data": {
      "text/plain": [
       "76.1063829787234"
      ]
     },
<<<<<<< HEAD
     "execution_count": 39,
=======
     "execution_count": 61,
>>>>>>> be6d7260786043b32f6b5e93c1c4bd70d812ee9f
     "metadata": {},
     "output_type": "execute_result"
    }
   ],
   "source": [
    "#Get the number of items in the population of no precipitation\n",
    "no_precip_crime = crime_by_precip[0.00]\n",
    "no_precip_days = days_by_precip[0.00]\n",
    "no_precip_crimerate = no_precip_crime/no_precip_days\n",
    "no_precip_crimerate"
   ]
  },
  {
   "cell_type": "code",
<<<<<<< HEAD
   "execution_count": 40,
=======
   "execution_count": 63,
>>>>>>> be6d7260786043b32f6b5e93c1c4bd70d812ee9f
   "id": "1323ae65",
   "metadata": {},
   "outputs": [
    {
     "data": {
      "text/plain": [
       "74.43076923076923"
      ]
     },
<<<<<<< HEAD
     "execution_count": 40,
=======
     "execution_count": 63,
>>>>>>> be6d7260786043b32f6b5e93c1c4bd70d812ee9f
     "metadata": {},
     "output_type": "execute_result"
    }
   ],
   "source": [
    "#Get the number of items in the population of precipitation\n",
    "precip_crime = sum(crime_by_precip) - no_precip_crime\n",
    "precip_days = sum(days_by_precip) - no_precip_days\n",
    "precip_crimerate = precip_crime/precip_days\n",
    "precip_crimerate"
   ]
  },
  {
   "cell_type": "code",
<<<<<<< HEAD
   "execution_count": 41,
=======
   "execution_count": 66,
>>>>>>> be6d7260786043b32f6b5e93c1c4bd70d812ee9f
   "id": "a5d256a8",
   "metadata": {},
   "outputs": [
    {
     "data": {
<<<<<<< HEAD
      "image/png": "iVBORw0KGgoAAAANSUhEUgAAAjMAAAGwCAYAAABcnuQpAAAAOXRFWHRTb2Z0d2FyZQBNYXRwbG90bGliIHZlcnNpb24zLjUuMiwgaHR0cHM6Ly9tYXRwbG90bGliLm9yZy8qNh9FAAAACXBIWXMAAA9hAAAPYQGoP6dpAABvEUlEQVR4nO29f3xUxb3//9pACAmSACLZoAhRQkuIimBVQEUtUBR/tNzrvUKxUqvXH3gl2BakaA1FQbEirSCK9SpKQfv5KlalokEtasCCUCo/vPyQ8ONKVsqvBAkEzJ7vH+mum82e3Zlz5pwzZ/f1fDz2oeyenfOeec/MTnZe+5qAYRgGCCGEEEJ8SpbXARBCCCGE2IGLGUIIIYT4Gi5mCCGEEOJruJghhBBCiK/hYoYQQgghvoaLGUIIIYT4Gi5mCCGEEOJrWnsdgNOEw2Hs3bsX7du3RyAQ8DocQgghhAhgGAaOHDmCrl27Iisr+Xcvab+Y2bt3L7p16+Z1GIQQQgixwJ49e3DGGWckvSbtFzPt27cH0NQY+fn5HkdDCCGEEBHq6urQrVu36Od4MtJ+MRPZWsrPz+dihhBCCPEZIhIRCoAJIYQQ4mu4mCGEEEKIr+FihhBCCCG+hosZQgghhPgaLmYIIYQQ4mu4mCGEEEKIr+FihhBCCCG+hosZQgghhPgaLmYIIYQQ4mvS3gGYEEIIiacxbGB19UHsO3IcXdq3xYXFndAqi4cR+xUuZgghhGQUyzbWYOqbm1FTezz6XFFBWzx4bSmGlxV5GBmxCreZCCGEZAzLNtbgzoXrmi1kACBUexx3LlyHZRtrPIqM2IGLGUIIIRlBY9jA1Dc3w0jwWuS5qW9uRmM40RVEZ7iYIYQQEqUxbGDVFwfw5/VfYtUXB9Lqg3119cEW38jEYgCoqT2O1dUH3QuKKIGaGUIIIQDSX0uy74j5QsbKdUQf+M0MIYSQjNCSdGnfVul1RB+4mCGEkAwnU7QkFxZ3QlFBW5j9ADuApm+iLizu5GZYRAFczBBCSIaTKVqSVlkBPHhtKQC0WNBE/v3gtaX0m/EhXMwQQkiGk0lakuFlRZg3ph+CBc23koIFbTFvTL+00AZlIhQAE0JIhpNpWpLhZUUYWhqkA3AawcUMIYRkOBEtSaj2eELdTABN31ykk5akVVYAA84+1eswiCK4zUQIIRkOtSTE73AxQwghhFoS4mu4zUQIIQQAtSTEv3AxQwghJAq1JMSPcJuJEEIIIb6GixlCCCGE+BouZgghhBDia7iYIYQQQoiv4WKGEEIIIb6GixlCCCGE+BouZgghhBDia+gzQwghxHMawwbN+ohlPP1mpkePHggEAi0e48aNAwAYhoGKigp07doVubm5uPzyy7Fp0yYvQyaEEKKYZRtrcMmj72PUs59g/MvrMerZT3DJo+9j2cYar0MjPsHTxcyaNWtQU1MTfVRWVgIAbrjhBgDAzJkzMWvWLMyZMwdr1qxBMBjE0KFDceTIES/DJoQQoohlG2tw58J1qKk93uz5UO1x3LlwHRc0RAhPFzOnnXYagsFg9PHWW2/h7LPPxuDBg2EYBmbPno0pU6Zg5MiRKCsrw4IFC1BfX49FixZ5GTYhhBAFNIYNTH1zM4wEr0Wem/rmZjSGE11ByLdoIwA+ceIEFi5ciFtuuQWBQADV1dUIhUIYNmxY9JqcnBwMHjwYK1euNC2noaEBdXV1zR6EEEL0Y3X1wRbfyMRiAKipPY7V1QfdC4r4Em0WM6+//joOHz6MsWPHAgBCoRAAoLCwsNl1hYWF0dcSMWPGDBQUFEQf3bp1cyxmQggh1tl3xHwhY+U6krlos5h57rnncNVVV6Fr167Nng8EmqvZDcNo8VwskydPRm1tbfSxZ88eR+IlhBBijy7t2yq9jmQuWvw0e9euXVi+fDlee+216HPBYBBA0zc0RUVF0ef37dvX4tuaWHJycpCTk+NcsIQQQpRwYXEnFBW0Raj2eELdTABAsKDpZ9qEJEOLb2aef/55dOnSBSNGjIg+V1xcjGAwGP2FE9Ckq1mxYgUGDhzoRZiEEEIU0iorgAevLQXQtHCJJfLvB68tpd8MSYnni5lwOIznn38eN998M1q3/vaLokAggPLyckyfPh1LlizBxo0bMXbsWOTl5WH06NEeRkwIIUQVw8uKMG9MPwQLmm8lBQvaYt6YfhheVmTyTkK+xfNtpuXLl2P37t245ZZbWrw2ceJEHDt2DHfddRcOHTqEiy66CO+++y7at2/vQaSEEEKcYHhZEYaWBukATCwTMAwjrX/AX1dXh4KCAtTW1iI/P9/rcAghhBAigMznt+fbTIQQQgghduBihhBCCCG+hosZQgghhPgaLmYIIYQQ4mu4mCGEEEKIr+FihhBCCCG+hosZQgghhPgaLmYIIYQQ4mu4mCGEEEKIr+FihhBCCCG+hosZQgghhPgaLmYIIYQQ4mu4mCGEEEKIr+FihhBCCCG+hosZQgghhPia1l4HQAghxFkawwZWVx/EviPH0aV9W1xY3AmtsgJeh0WIMriYIYSQNGbZxhpMfXMzamqPR58rKmiLB68txfCyIg8jI0Qd3GYihJA0ZdnGGty5cF2zhQwAhGqP486F67BsY41HkRGiFi5mCCEkDWkMG5j65mYYCV6LPDf1zc1oDCe6ghB/wcUMIYSkIaurD7b4RiYWA0BN7XGsrj7oXlCEOAQXM4QQkobsO2K+kLFyHSE6w8UMIYSkIV3at1V6HSE6w8UMIYSkIRcWd0JRQVuY/QA7gKZfNV1Y3MnNsAhxBC5mCCEkDWmVFcCD15YCQIsFTeTfD15bSr8ZkhZwMZNBNIYNrPriAP68/kus+uIAf8VASJozvKwI88b0Q7Cg+VZSsKAt5o3pR58ZkjbQNC9DoHEWIZnJ8LIiDC0N0gGYpDUBwzDS+s/zuro6FBQUoLa2Fvn5+V6H4wkR46z4REemMv6FRgghRDdkPr+5zZTm0DiLEEJIusPFTJpD4yxCCCHpDhczaQ6NswghhKQ7XMykOTTOIoQQku5wMZPm0DiLEEJIusPFTJpD4yxCCCHpDhczGQCNswghRE9oZqoGz03zvvzyS0yaNAlvv/02jh07hl69euG5555D//79AQCGYWDq1KmYP38+Dh06hIsuughz585Fnz59PI7cX9A4ixBC9IJmpurw9JuZQ4cOYdCgQcjOzsbbb7+NzZs34/HHH0eHDh2i18ycOROzZs3CnDlzsGbNGgSDQQwdOhRHjhzxLnCf0iorgAFnn4rr+56OAWefyoUMIYR4RMTMNN46I1R7HHcuXIdlG2s8isyfeOoAfN9996GqqgofffRRwtcNw0DXrl1RXl6OSZMmAQAaGhpQWFiIRx99FLfffnvKe9ABmBBCiE40hg1c8uj7ph5gATTJAD6edGVG/9HpGwfgN954AxdccAFuuOEGdOnSBeeffz6effbZ6OvV1dUIhUIYNmxY9LmcnBwMHjwYK1euTFhmQ0MD6urqmj0IIYQQXaCZqXo8Xczs2LED8+bNQ0lJCd555x3ccccduOeee/Diiy8CAEKhEACgsLCw2fsKCwujr8UzY8YMFBQURB/dunVzthKEEEKIBDQzVY+ni5lwOIx+/fph+vTpOP/883H77bfjtttuw7x585pdFwg0/5rNMIwWz0WYPHkyamtro489e/Y4Fj8hhBAiC81M1ePpYqaoqAilpaXNnuvduzd2794NAAgGgwDQ4luYffv2tfi2JkJOTg7y8/ObPQghhBBdoJmpejxdzAwaNAhbtmxp9tzWrVvRvXt3AEBxcTGCwSAqKyujr584cQIrVqzAwIEDXY2VEEIIUQHNTNXj6WJmwoQJ+OSTTzB9+nRs374dixYtwvz58zFu3DgATdtL5eXlmD59OpYsWYKNGzdi7NixyMvLw+jRo70MnRBCCLEMzUzV4ulPswHgrbfewuTJk7Ft2zYUFxfj3nvvxW233RZ9PWKa98wzzzQzzSsrKxMqnz/NJoQQoiuNYYNmpibIfH57vphxGi5mCCGEEP/hG58ZQgghhBC7cDFDCCGEEF/DxQwhhBBCfA0XM4QQQgjxNVzMEEIIIcTXcDFDCCGEEF/T2usASOZAPwVC/APHK/ETXMwQV1i2sQZT39zc7Nj7ooK2ePDaUjpdEqIZHK/Eb3CbiTjOso01uHPhumYTIwCEao/jzoXrsGxjjUeREULi4XglfoSLGeIojWEDU9/cjEQ205Hnpr65GY3htDaiJsQXcLwSv8LFDHGU1dUHW/yFF4sBoKb2OFZXH3QvKEJIQjheiV/hYoY4yr4j5hOjlesIIc7B8Ur8ChczxFG6tG+b+iKJ6wghzsHxSvwKFzPEUS4s7oSigrYw+0FnAE2/kriwuJObYRFCEsDxSvwKFzPEUVplBfDgtaUA0GKCjPz7wWtL6V9BiAZwvBK/wsUMcZzhZUWYN6YfggXNv5oOFrTFvDH96FtBXKcxbGDVFwfw5/VfYtUXB1z5dY4X97QCxyvxIwHDMPQcUYqoq6tDQUEBamtrkZ+f73U4GQ0dRYkOeGEI50cTOo5X4jUyn99czBBCMoaIIVz8pBf5iHbimwcv7klIOiDz+c1tJkJIRuCFIRxN6AhxBy5mCCEZgReGcDShI8QdeNAkISQj8MIQjiZ0RBQVGqVM1jlxMUMIyQi8MISjCR0RQYVA3I8ic5Vwm4kQkhF4YQhHEzqSChWnlPOkcy5mCCEZgheGcDShI8lQIRCnyLwJLmYIIRmDF4ZwNKEjZqgQiFNk3gQ1M4SQjGJ4WRGGlgZdFUp6cU+iPyoE4hSZN8HFDCEk42iVFcCAs09N+3sSvVEhEKfIvAluMxFCCCEeoEIgTpF5E1zMEEIIIR6gQiBOkXkTXMwQbfHLKcOEEP1wev5QVb4KgThF5jxokmhKphtAEUKs4/T84UT5dABuCU/NjoGLGf/BU4YJIVZxev7g/OQePDWb+BYaQBFCrOL0/MH5SV+4mHEJ6j/EoAEUIemL0/Og0/NHJs5Pfvnsos+MC1D/IQ4NoAhJT9yYB52ePzJtfvLTZ5en38xUVFQgEAg0ewSDwejrhmGgoqICXbt2RW5uLi6//HJs2rTJw4jl4QFgctAAipD0w6150On5I5PmJ799dnm+zdSnTx/U1NREHxs2bIi+NnPmTMyaNQtz5szBmjVrEAwGMXToUBw5csTDiMXh/qo8NIAiJL1wcx50ev7IlPnJj59dni9mWrdujWAwGH2cdtppAJq+lZk9ezamTJmCkSNHoqysDAsWLEB9fT0WLVpkWl5DQwPq6uqaPbwiE/dX7UIDKELSCzfnQafnj0yZn/z42eX5Ymbbtm3o2rUriouLceONN2LHjh0AgOrqaoRCIQwbNix6bU5ODgYPHoyVK1ealjdjxgwUFBREH926dXO8DmbovL+qg6jLLAadDaC8aDcdckWIVdyeB52eP3Sen2RINq/o/NllhqcC4IsuuggvvvgievXqha+++goPPfQQBg4ciE2bNiEUCgEACgsLm72nsLAQu3btMi1z8uTJuPfee6P/rqur82xBo+v+qg6irlQx6HjKsBftpkOuCLGDF/Og0/OHjvOTDKnmFV0/u5KhlWne0aNHcfbZZ2PixIm4+OKLMWjQIOzduxdFRd9O2rfddhv27NmDZcuWCZXppWleY9jAJY++j1Dt8YR7jwE0reY/nnSla4NAB8MnHWKQxYuY/dhOhMSj4zyYyYjMK0NLg1rkzLemee3atcM555yDbdu2RX/VFPmGJsK+fftafFujK7rtr+og6tIhBlm8iNmP7URIInSbBzMZ0XkFgO9yptVipqGhAZ9//jmKiopQXFyMYDCIysrK6OsnTpzAihUrMHDgQA+jlEOn/VUdRF06xCCLFzH7sZ0IMUOneTCTkZlX/JYzTzUzv/jFL3DttdfizDPPxL59+/DQQw+hrq4ON998MwKBAMrLyzF9+nSUlJSgpKQE06dPR15eHkaPHu1l2NLosr+qg6hLhxhk8SJmP7YTIcnQZR7MZGTnFT/lzNPFzP/93/9h1KhR2L9/P0477TRcfPHF+OSTT9C9e3cAwMSJE3Hs2DHcddddOHToEC666CK8++67aN++vZdhW6JVVgADzj7V0xh0EHXpEIMsXsTsx3YiJBU6zIOZjJV5xS8583Qx8/LLLyd9PRAIoKKiAhUVFe4ElOZEDJ9SibqcNHzSIQZZvIjZj+1ECNGbdJ5XtNLMEGfRQYinQwyyeBGzH9uJEKI36TyvcDGTYegg6tIhBlm8iNmP7URIuuN3E8t0nVe08plxAi99ZnSmMWx4LurSIQZZvIjZj+1ESDqSTiaWfphXZD6/uZghhBBCUkATS/fxrWkeIYQQohs0sdQf6cXMggULsHTp0ui/J06ciA4dOmDgwIFJz0wihBBC/AhNLPVHejEzffp05ObmAgBWrVqFOXPmYObMmejcuTMmTJigPECSGicEaX4XuVkhE+tMCEkNTSz1R9pnZs+ePejZsycA4PXXX8e///u/47/+678waNAgXH755arjIylwQpCWTiI3UTKxzoQQMWhiqT/S38yccsopOHDgAADg3XffxZAhQwAAbdu2xbFjx9RGR5ISEaTFf/0Zqj2OOxeuw7KNNVqUqTuZWGdCiDgRszmz3/oE0PTHjx/N5tIF6cXM0KFDceutt+LWW2/F1q1bMWLECADApk2b0KNHD9XxEROcEKRlosgtE+tMCJEjnc3m0gXpxczcuXMxYMAA/POf/8Srr76KU09tOrNh7dq1GDVqlPIAybfEajpeqKpWLkjLRJFbJtaZECJPuprNpQvSmpkOHTpgzpw5LZ6fOnWqkoBIYhJpOkSQEaRlosgtE+tMCLGGn06RzjQsHTT50Ucf4ZlnnsGOHTvw//7f/8Ppp5+Ol156CcXFxbjkkktUx5jxmJk1iSAjSMtEkVsm1pkQYh2/nCKdaUhvM7366qv4wQ9+gNzcXKxbtw4NDQ0AgCNHjmD69OnKA8x0kmk6kmFFkJaJIrdMrDMhhKQb0ouZhx56CE8//TSeffZZZGdnR58fOHAg1q1bpzQ4klrTkQirgrRMFLllYp0JISTdkF7MbNmyBZdddlmL5/Pz83H48GEVMZEYrGg17AjSMlHkNrysCHNH90PHdm2aPZ/OdXYSv5sP+j1+QjIRac1MUVERtm/f3uJn2B9//DHOOussVXGRfyGq1XhgRG90bp+jRJCWaSK3ZRtrMG3pZhw8eiL6XKd22XhgRG8uZCTxu/mg3+MnJFOR/mbm9ttvx/jx4/G3v/0NgUAAe/fuxR//+Ef84he/wF133eVEjBmNqKZj7KBiXN/3dAw4+1Qli46IyE1lmTpiZph36OhJjFv0dxrmSeB380G/x09IJiO9mJk4cSJ++MMf4oorrsDXX3+Nyy67DLfeeituv/123H333U7EmNFQ0+EcNMxTh9/b0u/xE5LpWPpp9sMPP4wpU6Zg8+bNCIfDKC0txSmnnKI6Nl/RGDYc25aJ6Fjiv/4O8utvW8gY5sX/FNPJfOtKsjrbaUunYpLBq/jThVR50Hm8xMfWv3tHrN11SFmsduquc7vphqXFDADk5eXhggsuUBmLb3Fjnz3TdCxuYNUwLxN1Fanq7IX5oMo80DzROqnyoPN4SRRbVgCI/QLOTqx26q5zu+lIwDAMqe9Njx8/jieffBIffPAB9u3bh3A43Ox13X6eXVdXh4KCAtTW1iI/P195+WaGdpElBn8Noy+rvjiAUc9+kvK6xbddHP1rPBPzLVLngtw20m3pdEwyebDSF0jqPPzXZcWY/2G1luNF1IzUaqx2+mgmzjOJkPn8ltbM3HLLLZg5cya6d++Oa665Btdff32zRybBfXZ/I2uYl4n5Fq1z/+4dXTMfdCIPNE+UJ1UeDADPftRyIRN5HfBuvMiYkVqJ1U4fzcR5RgXS20xLly7FX/7yFwwaNMiJeHwF99n9TURcfefCdQgAzSaPROLqTMy3aJ3X7jok1ZZuxCSTB9m+QMQMPZN93no5XmTNSGVjtdNHM3GeUYH0NzOnn3462rdv70QsvsPJfXYad7mDjElgJuoqZOrshOFionHgVB4y0TDSDqr6uRfjxeo9Vfe9RNdl4jyjAulvZh5//HFMmjQJTz/9NLp37+5ETL7BqUMKKfxyF1FxdSYeSilbZ5VCdbNxcOP3uimNPRYK7cVR1c+9GC9W76l6Dkh0XSbOMyqQXsxccMEFOH78OM466yzk5eU1O58JAA4ePKgsON2J7LOHao8n3N8MoOmvOpl9djPhV8S4i38hOoPISbhO5Ft3rNRZxanCycbBE8u3oUNeNmrrTzqSB56KLEaqvgE0/TLIMKDdeBGJPRbZWO3MFZk4z6hAeptp1KhR+PLLLzF9+nQ8+eSTeOKJJ5o9MgnVhnYUfulNJhoYelHnVOMg9k6ZkgcdSdU3AgBuu7TY9HXAuzwliz0eK7HaGTeZOM+oQPqn2Xl5eVi1ahXOO+88p2JSitM/zQbUbQvx56HWcdNcKhO3Ad2ss+g4mDCkF15eszuj8qAj6e4zE8zPwagLz0SPzu2k5xb6zNhD5vNbejHTr18/PPXUU7j44ottBekWbixmADUfpn9e/yXGv7w+5XW/u7Evru97usVI0w8vBn0mOnO6VWeZcXDNuV0zLg86kq4OwDv312Px6t0I1VmfW+gAbB1HFzPvvvsupk6diocffhjnnHNOC82MkwsGK7i1mFEBv5mRh+ZS6QfHAdEBzi3eI/P5LS0AHj58OADg+9//frPnDcNAIBBAY2OjbJHkX1D4JYeItmLqm5sxtDSYUX/N+B2OA+I1nFv8h/Ri5oMPPnAiDgIad8lCc6n0hOOAeA3nFv8hvZgZPHiwE3GQf8ETssWhuZQ+qN7b5zggyXBaS8K5xX8ILWY+++wzlJWVISsrC5999lnSa88991xLgcyYMQO/+tWvMH78eMyePRtA09bV1KlTMX/+fBw6dAgXXXQR5s6diz59+li6h1+gcZcYNJfSA6cE2BwHJBFuCP5F54yd++uV3I/YR2gx07dvX4RCIXTp0gV9+/ZFIBBAIt2wVc3MmjVrMH/+/BYLoZkzZ2LWrFl44YUX0KtXLzz00EMYOnQotmzZkvZHKtC4KzWHjjakvIaHAzqL0yaPHAckFrdMRUVN9WYv34rvBE/hN4UaIGSaV11djdNOOy36/zt27EB1dXWLx44dO6QD+Prrr/HjH/8Yzz77LDp27Bh93jAMzJ49G1OmTMHIkSNRVlaGBQsWoL6+HosWLZK+D0kvGsMGpi39POV1D4ygtsIpaPJI3MTN/hbRbYmUxD6uB0KLme7duyMQCODkyZOoqKhAY2MjunfvnvAhy7hx4zBixAgMGTKk2fPV1dUIhUIYNmxY9LmcnBwMHjwYK1euNC2voaEBdXV1zR5u4bfDIePjPfFN2JH4nWgX0VNvO7ZrY/teJDEyIklC7OJ2fxteVoQJQ0qSXmN2T799FqQDUgLg7OxsLFmyBA888ICSm7/88stYt24d1qxZ0+K1UCgEACgsLGz2fGFhIXbt2mVa5owZMzB16lQl8cngN7dGEedLFfE71S4U6HkPc0DcxIv+1qNzO+l7+u2zIF2QPpvpRz/6EV5//XXbN96zZw/Gjx+PhQsXom1bc7FVINB8iyDiZ2PG5MmTUVtbG33s2bPHdqypiOzjxv/VENnHXbaxxvEYZDCLN/6PB7vxO9kuFP96D3NA3MSL/iZ7T799FqQT0j/N7tmzJ6ZNm4aVK1eif//+aNeu+cr1nnvuESpn7dq12LdvH/r37x99rrGxER9++CHmzJmDLVu2AGj6hqao6NvV7L59+1p8WxNLTk4OcnJyZKpkC7+ZKyWLNx478TvdLjRW8x7mgLiJF/1N5p5++yxIN6S/mfnDH/6ADh06YO3atZg/f36zE7MjP6kW4fvf/z42bNiA9evXRx8XXHABfvzjH2P9+vU466yzEAwGUVlZGX3PiRMnsGLFCgwcOFA2bMfwm25AVGsSwWr8TrcLT5b1HuaAuIkX/U3mnn77LEg3pL+Zqa6uVnLj9u3bo6ysrNlz7dq1w6mnnhp9vry8HNOnT0dJSQlKSkowffp05OXlYfTo0UpisEtj2EDV9v1C19rdx012GJqZ/0YiYymrcci+z439bRqreQ9zkJmoMq2TLceL/iZ6TyfnPKvtnUkHVUotZurq6nDKKacgK6v5FzrhcBhff/218oMcJ06ciGPHjuGuu+6Kmua9++67WnjMJBJ5JcPOPq4Vsa6ZCO3G73WzFINs/G7tb9NYzXuYg8xClcDVajle9DeRezo151ltp0wTIgufmr1kyRJMmjQJ69evR15eXrPX6uvrcf755+O3v/0trr32WkcCtYoTp2abGTclIrKn+vGkKy0NNtF7xZ7kCsD0tFcDQIe8bNTWn3Q0/sawgUsefT/lXrPVdiGEuI+qk6TT8URqJ+Y8q+2ULu0r8/ktrJmZN28eJk6c2GIhAwB5eXmYNGkS5syZIx+tz5AR0Nrdx5UV6wJAxRubUPFGchFafHxm2ImfegpC0gtVpnXparaoes6z2k7p2r6pEF7MbNy4EZdffrnp65dddhk2bNigIiatkRHQBgvaplwBJzNXsiLWDdU1IFSXXIR2uP4kyof0QrCg+ded8WNMJP5kRPaa4+9jt1wV6GZqpVs8pAk7eUm3nKoSuIqW80JVte/aTuWcZ7W9M1WILKyZOXToEL755hvT10+ePIlDhw4pCUpnRMVbd19xNiYM/U7SVXiqPU0nzcZ6dM7Dx5OulBYVy6KjnkK3vWTd4iFN2MlLOuZUlcBVtJzY40r81Haq5jyr7Z2pZpbC38z06NEDn376qenrn376qaXjDPyGqHhrUM/TUi5kUpkrOWk21qV92+ghftf3PR0Dzj4VbVpnNfu3qgVH/H28XsjoZGqlWzykCTt5SdecqhK4WpnX/NZ2KuY8q+2dqWaWwouZkSNHYsqUKfjqq69avBYKhXD//ffj3/7t35QGpyMREyWzrhlA6pOaRfc0+3fvmPReie4dzM9BMN9efOmKbnvJusVDmrCTl3TOqYq5T6ScRPi97axgtb1V5clvCC9m7rvvPrRv3x4lJSW466678Lvf/Q6///3vceedd6JXr1445ZRTcN999zkZqxaoEHmJ7mmu3XXI9F7xRF6vuK4PKq6j8DYRuu0l6xYPacJOXtI5p6oErsnKSYaf284KVts7U398IbyYad++PaqqqjBmzBi88sormDBhAsrLy/GnP/0JY8aMQVVVlRb+L25gV+Qls6dpdq9kYl2dhbde4sZesozo02mTLdE40k2oahc7edGtj6lGdm4xi9WsHBHSTeuRDNH2jm/noaVBy58Bfp0PpEzzCgoK8NRTT2Hu3LnYv38/DMPAaaedlvTgx3TFjshLdk8z0b1SiXV1FN56jdN7ybKiTx1MttJRqGoXO3nRrY85gejckirW+HI+2rof/9+6/0t5/3TTeqQiVXsna+f4H3mk+gzQoX9ZRdg0z684YZpnFxrKeYOT7W7FpMprk610MdZSjZ286NbHvEI21mUba3DHwnVJy+S82BKVfULH/uWIaR5RR6buaXqNU+1uVfTppclWOgtV7WInL7r1MS+QjTVyvQicF79FZZ/wU/8yg4sZj6CuxRucaHc7ok+vTLbSWaiqAjt50a2PuY1srKLmoOVDenFejEFln/BT/zJD+tRsoo5kWpg/r/9SS52L7qewisSnWk9kV/TptcmWqmtl0b0v2cmLbn3MTWRjFb2+R+eWR+k4hc59MxLb24KeOyLt66f+ZYbQYqZTp07YunUrOnfujFtuuQW/+93vMuaXS04TMVcCmvYsBz/2gbbiK93FYTLxxba7XVSIPlXE44T41Cmxpe59KYKdvOjWx9xCNlbd6qZz30wUWypE2k23HFhBaJvpxIkTqKurAwAsWLAAx4/ruzrzK7q7hjI+c3QxqZKJw8uYde9LOqJLHxNBNlad6qZz3zSLzQyZdtMpB1YRWswMGDAAP/zhD/HTn/4UhmHgnnvuwS233JLwQeTRXXzF+JKji6BbJg6vYvY6V35Flz4mgmysutRN576ZLLZEyLabLjmwg9BiZuHChbj66qvx9ddfIxAIoLa2FocOHUr4IE3IGA/pLr5ifKnRRdAtE4cXMeuQK7+iSx8TQTZWq3VTafDmZt+UjVtUJB3BSp/wU/9KhJBmprCwEI888ggAoLi4GC+99BJOPVXNXnA6Irvnqrv4ivGJoYtRoUwcbscsmoPKzSFlepN0Qpc+JoJsrLLXq9a2uDWPWIlb9J4/GdAdV5UVWe4Tfupf8Uj/mqm6utqJONIGM+OhyJ5rohWu7uIrxieOStGnW3G4GbNoDv6naicuLO6k/V+DXqBLHxNBNlbR663Ms6lwYx6xGrfoPa8qK7LdN/zUv2Kx5DOzYsUKXHvttejZsydKSkpw3XXX4aOPPlIdm++wuuequ/iK8RFVRHKVigConSGJcUrb4vQ8YiduznGpkV7MLFy4EEOGDEFeXh7uuece3H333cjNzcX3v/99LFq0yIkYfYPVPVfdxVeMj6giNlfJoHaGmOGUtsXpecRO3JzjUiO9mHn44Ycxc+ZMvPLKK7jnnnswfvx4vPLKK3jkkUcwbdo0J2L0DXb2XHUXXw0vK8Lc0f3QsV2bZs/rFF+i9ivMz0H5kBI0fBNG1bb9qNq+3/OTpP16Kq0qhpcV4WeDeghd64TOKdPbPxm6tU2ieEJ1zmlbnJyHVZhrWjlB2+scuoW0ZmbHjh249tprWzx/3XXX4Ve/+pWSoPyK3T1XncVXyzbWYNrSzTh49ET0uU7tsvHAiN6eL2QixLffzv31WLx6N55Yvi3h9V6cJK2zIZebDCkN4rmqnSmvU61zYvubo1vbJIqnQ142TjaGhd5vte84NQ+r0OTYOUE73fu39Dcz3bp1w3vvvdfi+ffeew/dunVTEpRfUbGvGRFfXd/3dAw4+1RtFjKJzJoOHT2JcYv+rpXJWaT9clpnYfbyrUn/iktkhOWkaZbOhlxu44UGgO1vjm5tYxbP4fqTONrQmPS9KvqOE/Owqj5vFptuOXQb6cXMz3/+c9xzzz2488478dJLL2HhwoW44447MH78ePziF79wIkbfkI77mjobSZkhajDl5knSfmxHJ3F7rLD9zdGtbWQN4mLReZ51ss/rlkMvkF7M3HnnnXj55ZexYcMGlJeXY/z48di4cSNeeeUV3H777U7E6Ct0177I4oTYzuk9XRmDKbdOkqZZXEvcHCtOt7+KPm21DLv31q1vyhrExdKpXRut51mRPm8ln7rl0AssnZr9ox/9CD/60Y9Ux5I26Kx9kUW1kZQbe7pWhH9OnySti7Gfbrg1VpxsfxV92moZKu6tW9+0c5/7NdLwmZGsz1vNp2459AJLPjMkNTpqX6yg0kjKrT1dK8K/Lu3bOmqapZOxn264MVacan8VfdpqGarGk2590859ggW5CiNxjkR93k4+dcuhF3AxQ5KiSrTm5p5uqphjceskaZpeeYsT7a+iT1stQ+V40q1vyozfCH4fP3bzqVsOvYCLGZIUVaI1N/d0k8Uci5snSaejONxPONH+Kvq01TJUjifd+qbo+I2QDuPHbj51y6EXcDGjOarFslbKUyHUdHtP1yzmWNw+SdprcXh87k98E84ocy3Z9k81VlT0aatlqB5PXvdN0Xg65GWjQ152s+f8+uOKWFTkU7ccuo0lAXAEw2ga3IFA+q72vES1WNZOeXaFml7s6Q4vK0I4DNz/543NzP465Gbjp4N64O4rS1w/SdorcXii3GcFgNjP50ww1xJtf5GxoqJPWy3DifGk2w8XzOIBoE2MqlCVT91y6CYBI7IikeDFF1/EY489hm3bmpxVe/XqhV/+8pe46aablAdol7q6OhQUFKC2thb5+flehyOM2emqkS4pu9JWXZ4sjWEDlzz6PkK1xxPuCwfQ9BfEx5OuVDbwvK6zLpi1QzyZ1i5miPYbFX3aahlejCfiHMxnYmQ+v6W3mWbNmoU777wTV199Nf70pz/hlVdewfDhw3HHHXfgiSeesBw0+RbVYlkdDJVokuYNMgZkmdQuZsj0GxV92moZ1EikF8ynfaQXM08++STmzZuHRx99FNdddx2uv/56zJw5E0899RR+//vfOxFjxqFaLKuiPBGtTaprVBhGiWp+MtFEKlHbyBqQxbaLLgfWuXno5yc7Dkj1GxU6BauHuGaaRkKX/ugUmZZP1UhrZmpqajBw4MAWzw8cOBA1Nel99oNbqBb32b1ORD8gqsexYxglo/nJNBMps7a5uixoqbzKzSHc+6f1nh9Y5/ahnx1ys5O841ti+41dnYKdQ1wzRSORKQcoZko+nUD6m5mePXviT3/6U4vnX3nlFZSUlEiVNW/ePJx77rnIz89Hfn4+BgwYgLfffjv6umEYqKioQNeuXZGbm4vLL78cmzZtkg3Zd6gW99m5TsTISdbsyYph1Iy/bJa6RyaZSCVrO5GTqRPxP1U7PT+wzotDPw8fOyn0/vh+Y9X4T8Uhruli0GlGph2gmO75dArpxczUqVPx61//GsOHD8e0adPw0EMPYfjw4Zg6dSp+85vfSJV1xhln4JFHHsGnn36KTz/9FFdeeSWuv/766IJl5syZmDVrFubMmYM1a9YgGAxi6NChOHLkiGzYvkK1AZLV8kT0AxVvbELFG84ahxkAnv2oWuoemWIiJZKjrICYX0cEs7nTTU2NV4d+pkJlv6GuKzVsIyKK9GLm3/7t3/C3v/0NnTt3xuuvv47XXnsNnTt3xurVq6XPa7r22mtx9dVXo1evXujVqxcefvhhnHLKKfjkk09gGAZmz56NKVOmYOTIkSgrK8OCBQtQX1+PRYsWmZbZ0NCAurq6Zg+/oVoMZrU8Ed1JqK4BoTpnjcOA5j8hFrlHpgjqRNvOQOoFTeR12bZ2Ai8P/TRDdb/JRF2XLGwjIool07z+/ftj4cKFWLt2LdatW4eFCxfi/PPPtxVIY2MjXn75ZRw9ehQDBgxAdXU1QqEQhg0bFr0mJycHgwcPxsqVK03LmTFjBgoKCqKPbt262YorZdySojTR61WLwayUp1JPkqysZIshO/cwq3Nhfg7Kh5Sg4V+mcX4Wtorm6JZBPVq0Q/zncbCgLX42qIfwfa3EL/oeWc2TjHC8avt+obLj9TOqhZiidQzVHlNyPz+Sado3t0hHA01bpnkq2LBhAwYMGIDjx4/jlFNOwZIlS1BaWhpdsBQWFja7vrCwELt27TItb/Lkybj33nuj/66rq3NsQSMrSpO9XrUYTLY8lXoSs7KWbazBtLfU6KB27q9v8Vx8nXfur8fi1bvxxPJt0Wv8LGwVzdHQ0iCmjChtlvv+3Tti7a5DzfrC6uqDQjqbnfvrccmj70vFL1NnGc2TFeG4CHNH90NWVsAxIaZoHact/Ry5bVqlldBVlEzSvrlFuhpoCpvmZWVlpXT6DQQC+Oabb6QCOHHiBHbv3o3Dhw/j1VdfxR/+8AesWLEChw8fxqBBg7B3714UFX3boLfddhv27NmDZcuWCZXvlGmerCGbHw3cRIycCvNzAATwVZ282ZOomRvQcrCZ8XSSdtQlByrj+Mtne3HXor8nvaZIwmxLJOcFedmorT8pFb9snUVNxB4YUYpxi8zL/a/LijH/w8R6KzPcMihLVcfYeAA95winoZmcWvxmoOmIad6SJUvw2muvJXz84he/QE5ODrKzxX7WGEubNm3Qs2dPXHDBBZgxYwbOO+88/O53v0Mw2PST0lAo1Oz6ffv2tfi2xm1kRWl+FbGJ6E4qruuDiuvktSmiIszAvx4/u6SHUMxm7ahLDlTG0Rg2MG3p5ymve2CEOn1VJCqZ+K3UWaTvPTCiN6YttSYcN8NNPVVsHZOh8xzhNJmifXODdDfQFF7MXH/99S0e3/nOd/DCCy/g8ccfxw033IAtW7bYDsgwDDQ0NKC4uBjBYBCVlZXR106cOIEVK1Yk9LlxE1lRmp9FbCJaGyvaFFERZqd2bTBvTD9c+V0xvxSzdtQlByrjEG3DeDM2O+aGE4aU4HC9+c+XE8Vvtc6p+l7Hdjm2hOOJsHroZDKSvTdSx07tkv8hqPMc4TQ0k1ODHQNNP2BJM7N37148+OCDWLBgAX7wgx9g/fr1KCsrky7nV7/6Fa666ip069YNR44cwcsvv4y//vWvWLZsGQKBAMrLyzF9+nSUlJSgpKQE06dPR15eHkaPHm0lbGXIitL8LmIT0drIalNE63r/v4zD/rz+S+F4E5WtSw5UxmGlLLvmhm99tlf6nqJxVm4OYcDZpzZ7Llnfk+kTybj7irNRUtje1qGTZoi8d3hZEY6dDGPCK+tTxqrrHOE0NJOzj9W+45c+J7WYqa2txfTp0/Hkk0+ib9++eO+993DppZdavvlXX32Fm266CTU1NSgoKMC5556LZcuWYejQoQCAiRMn4tixY7jrrrtw6NAhXHTRRXj33XfRvn17y/dUgawoLR1EbBEjJ5Frlm2swezlW1t8nRkxuZo3pp9wXYMFuQDk2ibRtbrkQGUcsmWZ7ZfH5iX2wzlRzq3EL/qe/6naiQuLO7VYIJj1PVW5GtTzNNO+LdtmVt8bzNejf+qMyBxEzLHad/zS54S3mWbOnImzzjoLb731FhYvXoyVK1faWsgAwHPPPYedO3eioaEB+/btw/Lly6MLGaBJUFxRUYGamhocP34cK1assPQNkGpkDdkyxcANENdH9O/eUboNg/k5Ke9v1o665EBlHDJlqdLqWIk/8p5UBARjEI0FSG4YmKqt7bSZ7Ht16Z8kfREZL7H4rc8JL2buu+8+HD9+HD179sSCBQswcuTIhI9MQFaUlkkiNlF9xNpdh6TbsOK6Pinvb9aOuuRAZRwyZanS6liJX0boKrNHnyqWAIDbLi2WijUWO20m+15d+idJX5L1sXj82OeEFzM/+clP8B//8R/o1KlTM1O6+EemICtKS3X90NKg702LAHEDvFDtMRTktsFPB/UQPi14eFkRnh7TDx3yWoolO+ZlJ/1ZduT9OggJReMQEZ2KnkQuahQnYoZnpR2HlxVJGfKJkiqWyVeXWs65HX2T6Hurtv8z2s5DS4O2+2dj2EDVtv347Tv/i9++swVV2/e7Opd4fbK1SjM4lXVRUZaKMszGS/x6pWO7bMwdfb6vxNXCPjN+xSmfmQiNYUNKlJbo+srNobQ4EXbZxhr8askGHDya+rC+Tu3atDgl+Ed9T8eQ0qBQG37yxQGs2rEfQNM++sVniR/IJpszp0gWh6zo1KwsWcO4CUN64eU1u4XuK9uOq744gFHPfpIyhsW3XSytjUgVi5Wc24lX9L2xRNrZqtB12cYa3Pfahha/NuuQl41HRp7j+Fzi9cnWKs3gVNZFRVmq2zZ+POz/ugEPvrGp2Zysw2eQzOc3FzMeo4uRm11kDPAS4bf6OomqPiGTE6tmeDL4zQDNTryihnjx5QHW2nnZxhrcsXBd0mtSfXNpB6/nMZVmcCrroqIsp9vW69wlwxHTPKIeXYzc7GLnFOIIfqqvk6jqEzI5sWqGJ4vfdCF24pXRJ0Sw2s6NYQMVb6Q+EsSpseX1PKbSDE61qaXdspxuW69zpxIuZjxEpYGal3vVomZM+W2TOwF4YdLk9R5/PKr6hIxBllUzPCu4rVuym1878Zq9NxlW2nl19UGE6hpSXqcif4na02tDSqtmcC9UVbfoF26aWoqU5XTbypav23wZi+cHTWYyqgzUvN6rFq3H9X274qVPdisrzy5et1siVPUJ0XLuvuJsTBj6HUtmeFZxywBNVX7txBv/3m1ffY05H2xP+T6Zdnbq2njM2vPqMjF3bqfGtdVyY48CifSLhm/Cyu6pYiw7bfa5fHMo9UX/Kl/H+TIWfjPjISoM1CL7nfGr64gx17KNNbZiFEG0Hj1Obae0PDvo0G6JUGWqJ1rOoJ6noVVWwHVTwYgB2vV9T8eAs8XF26Kozq+deGPfO6hnZ6H32DWJVHFtLMnaU+SUdTv3dqPcSL/Yuf+osnuqGFNOjstlG2uEc7dzf72W82UsXMx4iF2jLF32O0XrcdOAHloYg+nSbolQZZ6WycaOmZDf+DLtGEqmQqQ97ZgT2kXWDC4RkXosXr0bwXz3TS2dLCMRkZymIgAgmJ+Dxat3azmeYuFixkPsCiK93quOIFqPNq2ztBCA6tJuiVAlks1kY8dMyG98mXYMJVMhokkJG03t6kXfsSK2ToQBIFTXgFEXnpmwLCdNLZ0sIxGiOiMDwKgLz0zqH6bLgZRczHjM8LIizB3dT9g4LhYZYy6nV82iQkmz6wpys1E+pARDS1vuv5uJzpKJ0ZK95sQ+dCphnKhwrjFsSJsJmqHa2FGHfXERdDlU1Awn2tmuoWQyRI0wbxnUw7O+I2oGJ0KPznnK8qMi1070F9G+f8ugHujRWUwe4PWBlPSZ8ZhEoqpO7bLx0PVluPrcrknfK2PM5ZZQS9ScrDFsYM772/F8VTUOH/v2VzTxcZqJzq47rwhv/KMmoRgNQFKhmmrztlTCOFHhnFlfEDUTNEOFsaMfvpGJ4KQ5n0qcaGe7hpLxyBhhLr7tYlxY3MnTvhPfpv27d8TaXYew78hx7D/S0Ez0a0akX6jMj4qyVMYjM0YAeDaeaJoXg86LGbtmRbLGXAGBMt1CpO4ApIz4Yv1SEr0WKXdoaVCZeVuqevzXZcWY/2F1yhzrbFzlN/xmzqcrMkZ0fmjPv3y2F3ct+nvSa4p8UA8VyIwRAJ6NJ5rm+QAVIsXIfqrMalQHoZZI3Sve2ISKN+SM+JJdG9umAJTsQ6eqhwHg2Y9aLmTi4znxTVhbwaofSSf9j1eIGtH5pT0bw4bQtzIPjNC7HqqQGSN+GU9czHiEKpHi8LIiTBhSInRPXYRaInUP1TUI79WLElt/FYc9frLjgJAwMlU8C1buFOoLn3xxQAvDKhn9j1fxDi0NonxILxTkNteQ+PEAPTtYzYGoQLRTuzaWvzV0s3+IjFUALXRq6YyMFsfs2sL8HJQPKUHDvw709PIPLprmeYRKkaKoQEv23k6hy/1TmaEl07oAwH2vblASzxOVW4WuG7doXVJ9kRvY0f+4FW+ywzUPHj2JaUs/R1ZWIO0XNHZyIDpG7x/R21I7utk/lm2sER6rXs9NbiNjCBl/7c799Vi8ejeeWL4teo2XJnr8ZsYjVJohyRomuWFK55f7m5mhJTMJu2PhOtyxsPnCwg71JxuFrou/n9uGVaJGdF4aEprd2+04vMZuDkTHaLAg1/XYrNxLdKx6PTd5gYwhZOTanNZZmL18a4tvz70cW1zMeIRKMyRR0yxIlOkkInUP5uckNa+ygmibimh6RElmJmYXN/U0ohovL/U/ojqPdNchqdDjOW3W5kb/kD1sVYe50Q/oakrJxYxHqBRVtcoKRI2eUnHj9870XKglUveK6/qg4jo5I6yAyf/H/lukTWUPrksWz22XFieMRxVu6aBENV4vrRLT/zgRr0zedNGPOYEKPZ5XZm0q8yI7jnUQsfoBXU0puZjxEJVmSKK6mR6d8xI+77ZYU6TuZtcUFbTF7ZcVoyjBe58e0w9PC7apWZ1V7Jt3yMvGvDH9MPnq0oR16JDb0twsEXltWgldF6o9Fv1/J3Ip2ia7DtYLXZfMyNFq/FbyJvse3U4NThSPKj1eqjE6tDQo3RZuGhqKlhEZq+muoVKFrqaUFAB7jKoThO1ocLwSa4rUPdk1E4f3Nn1vqnKT1VnFvvncUf0wqKSzaR3ChoEf/+FvKcuZMKQXHv5L6p+UTlv6OXL/tfBxIpeibdK9U+LFcjxzPvgCr677Uqlw2EreZN6j26nBZvHc+L1uQu8XqbvZ+KvcHMIlj74v3RZuHmgqWkbsWCWpcftQWlFompcmWDUKy0SztlR1njv6fExb+rmlrSZRAynRfK345RUY/NgHKY0RRQ0DreZSdbyJ4nLTRFLW6Eu3cZIsHgNN3zbU1p90xOTMTlu4aWhI80RncLNdaZqXgVjZ49ZVyOUkInWetvRzTLmqt3TZMloCK4dzJkPUMNBqLlUcJposLhXCYdEDB2U1H7qNk1TxqNKOWbk3kLwt3DRg84vZm9/QtV25mEkjZDU4ugq5nES0zl9Z2O916iDIyHWd2onpbBKhIpd2DxNNFpcq4bDIvWXzpNs4EYnncP1JlA/ppfzgRxVt4eaBpulyeKpu6Niu1MykGTIaHLtCLtWH2rmBaiHr3VecjZLC9pa1TqL5Gl5WhGMnw5jwynqp8uOxK8qTiXdoaRBPVG7FnA+2pyxXtL1TxR85dXziD76Dg0dPoNMpOehySg4QAPZ/3WApT04LHmUOZ11dfRBvC3p49Oich48nXan04EeV4mIVWkER3LyXLG4f6qrqfonGWTDf23blYiYNiRgbpcKuaPi+1zbgcP23ZlRzPtiODnnZeGTkOdr+xaNayDqo52m2T4oVzVcw3z1RZDJE422VFcCgnp2FFjOi7Z0sfqcEuk4KHu04KovEI5ormTJVXac6Nl3uJYrbgnJV90tWjpcLRG4zZTBWjbGWbaxpcsCtb+mqebj+JO7Q2F1VtM43DejR4qffiTh09ITS+JKRKvZkeGUKJtveVk3anHSVdcpAzq6jshlO5tqptsg03HbJVnU/L929U8HFTAZjVTRc8camlGXrKhyWEbI+MCK1CHjaUvfqKRJ7ste8+MtJhXA4VfxOC3SdEDyqcFROhNO51lX86SfcFpSrup9uQvh4uJjJcKyIhkN1DSnLtSOIdNqYTLTOHdulPiLC7dOsk8UuYxjoJnaFw6nid0OgaxZbx3bZGDuwO748dAxL/i6ef1WOyvEkaytV48pt8aduRoWxWIlNdX9NFYOq++kmhI+HmhniiGhY9toIbu0ji9RZNH63T7NOFbuOYkdZ4bBM/G45ksbGVrk5hNfX78XBoyfw/Mpdza4Tyb9qIfpPBnTHVWVFpm2lely5JarVzagwFquxqeyvIjGoup+uzr8RuJghANSLhmWvBczNuCL7sar/6ktVZ9H4zU6zdvLbkGSx6yh2BOSEwzLxu+lI2iorgNpjJ/B81U7TrZ8agfyrFqJfVVZk2mZOjSun+5nb84Fbsanqr6IxqLqfrs6/EbjNRKQQPaFbVgSo436sVcGtDvvHmYSbolSZk5iT5d8tYbSO40oEneO2G5uK/ioTg6rxobv4m4sZIkWrrAAqruuT8jpZEaCO+7GijrKJ8Hr/OJNwU5QqehJzqvy7IYwWiVfXfqpz3HZjU9FfZWJQNT50F39zMeMwOovXEiES7/CyIjw9ph865LV0pO2Yl42nLXz9K7rPGns6tBuYiR1FT73ed+S4rT7gdv/xW3+N4JYoVVYPkOz6ZKLiWwb1QEFuGzSGDQwvK8Lc0f3QsV2bZtfF183JE7Tdxqm4VfRvmbnK7F52+6ts+4j2oQhm7aSj828ETzUzM2bMwGuvvYb//d//RW5uLgYOHIhHH30U3/nOd6LXGIaBqVOnYv78+Th06BAuuugizJ07F336pP52wGt0Fq8lQibeiABQlQOw6D5r5HRoN9vPzqnXO/fXWzpdGPCvqZZXuCFKldUDpLreTFT8XNVOPFe1E0UFbXHdeUV44x81OBjjadSpXTYeGNE7mhc3TtB2Eyf0Gar6t8xcFZuz+HvZ6a+y7bNsYw2mLd2ctA9FSNVOujoqe3pq9vDhw3HjjTfie9/7Hr755htMmTIFGzZswObNm9GuXTsAwKOPPoqHH34YL7zwAnr16oWHHnoIH374IbZs2YL27dunvIdXp2brdspuKryOV/TEY13aT+Tk2AKTk4tF6uB2PrzOv1/4y2d7cdeiv6e8LgA1p3InKx9oygsAz07QdgrVJzOr7N+R2GR+Mm/1XqliEGmfys0h4brrNg/45tTsZcuWYezYsejTpw/OO+88PP/889i9ezfWrl0LoOlbmdmzZ2PKlCkYOXIkysrKsGDBAtTX12PRokVehp4UncVridAh3tj92GTo0n6p9o8jkVlpU7+aaqU7jWED05Z+Lny9ilO5zYhcW/HGJlS84c0J2k6iUp+hun+3ygoIGWqquFeyGETaJ3I/kbr7fR7QSjNTW1sLAOjUqUkNXV1djVAohGHDhkWvycnJweDBg7Fy5cqEZTQ0NKCurq7Zw23sCsRU6xbcMlUSvZ8ZoqdD6yJaTLZ/PGFIScLjHiIkq4Pb4keV93NDc+PU+Fiy7v/w3Ec7TM3vRMW/p7Zro/RUbjMMAKG6BoTq7J2gPbQ0iKpt+/Hbd/4Xv31nC6q279fiA2toaRDlQ3qhIE6flkordOKbcLN/f7LjgPLxJGKoqepeZojoV2TGtuw8oJu+ThufGcMwcO+99+KSSy5BWVkZACAUCgEACgsLm11bWFiIXbt2tSgDaNLhTJ061dlgU2BHvKZat+CmqZLo/ZIhczq0DqJFs/3jtz7bK/T+RHVwW7Sp6n5uaG7cGB9m5Yq20/0JdAjJcKMfm52gXbk5hP4PVWp3YGyivHTIzcZPB/XA3VeWRL+RSXRdVgCI/VyVEeuLYjdnqnKeSr8iM7Y/23NY+Fod9XXafDNz991347PPPsPixYtbvBYINP8izTCMFs9FmDx5Mmpra6OPPXv2OBJvMkTFWTv3N3f3VH2Il2h5qk2c7MYvejq0LqLFiHnY9X1Px4CzmwTQdtrUbXMqFfdz4wA6t8ZHhBqL4yRYkCsVhxv9OPYE7Ug/rdwc0vLAWLO81B47idnLt6FycyjpdfFfEMSbWprhpCGo6vfHkmj+kb3Pzv31eK5qp/C1Oh42qcVi5r//+7/xxhtv4IMPPsAZZ5wRfT4YDAL49huaCPv27WvxbU2EnJwc5OfnN3u4jaix3Mtrdke/mlO9X+m2qZLK+HU3ZxLBTh3crr/d+7mx1+7m+IhHtflYPFbNGQMAgvk5CObLx6TrgbFOHcCZDCt5s5MzN+cukT4bzM/B4tW7U5YVe62OuhpPFzOGYeDuu+/Ga6+9hvfffx/FxcXNXi8uLkYwGERlZWX0uRMnTmDFihUYOHCg2+EK0yorgFEXnpnyutj9R9U6CbdNlVTGr7s5kwh26uB2/e3ezw2Nj9vjI1G5TuXFijlj5LqK6/qg4jr5mNw4MNYKTh3AaYbVvNnJmZtzl0ifHXXhmUl1VxEMgWu91DN6upgZN24cFi5ciEWLFqF9+/YIhUIIhUI4dqzJGC0QCKC8vBzTp0/HkiVLsHHjRowdOxZ5eXkYPXq0l6GnpEfndkLXVW3/pyPmVlZMlcwMvOaOPl+5iVMqzOIpyM1G+ZASDC0NCpXjJXYMptw2p5I11YpFNKdV2/9pWSzo1fiIv96pvJiVW1TQFrddWoxOSfJiJSY39SEyiN7rr1v/aan8eP2MnbyZtXundtn4/ndPS5ozN0nVP0Q/q24Z1EP4Wi/0jJ4KgOfNmwcAuPzyy5s9//zzz2Ps2LEAgIkTJ+LYsWO46667oqZ57777rpDHjJeI7lXO+eALvLruS+XmVlauG15WhHAYuP/PG6PmSgePnsS0pZ8jKyuQdBA6ofOIiNvmvL8dz1dV4/Cxkzh87CSeWL4NL6/Z4wszNzsGU26aU8mYasUj09cjyIoFnez3stc7lZdE5R46ekIoL7IxuakPkUH0Xh9t22+p/Lmj+yErK6Asb2amh+/9b9Niq1O7bPyo7+kYUhr01FguWf9Y9cUBoTKa3i92rRd6Rk9N89zAK9M8URM4wBlzKyumU3YMk1SbXEXQzcQpHbHbxjJ9XbZs0XtYHR8iWxVFHpnKOdn3G8MGBj3yXsqtJrfrbqUvieC0OaCf5ynRsfXAiFLctWhd0rJUt7NvTPPSGZk9VSfMrWT39+0KLJ3QE/jdxMkPqGjjSO6tmL6J5k91/5IxPntghPv6LKf7vlMHxtrFzuGuZjitVfH7PCUyth4Y0RvTlm4WKs8rPSMXMw5itleZCBFzK9mVvcxeuozA0s4hZKJGS41hAy9UVVsSfSa6h1MGT14bR9m9vyph7fCyIkwYUiJ1b1mxoGq9iqjxWbyOKBmq+oMboupkB8aektMKTwlo5ZxAZt5MRLxrh9NaFZ1P+BYl1djq2C5H6FvM8iG9PPsGShvTvHQlslf5ROVWzPlge8rrzcytrK50RffSRQVblZtDuPdP6y0dQiZqtJTMyCwRsbEnNNv612Qd66ehwuDJa+MoFfdXKZgVFQdajQFQq1dRLRZW2R/cMk6MtOeT723DHz7ega8bGgEAXzc0CmnlnCI2z29vrMGLqxKbpCbCMNzVqvj1ZPJ4ko2tP6//UqiMHp3zHI7SHH4z4wKtsgIY1LOz0LWJzK3sDkSR8kQFW/9T1fInkfFmSYnuJ2p4lsrILBGxJ8Mmeu/h+pMtjMHsGjy5YRLnxv1VCmativ5k36dqfKisu+r+4KZxYuXmEH733rboQiaC1yZokTxfZWExdejoSfxP1U7UHjvh+JaH2yaXTmI2tvxQRy5mXEJ3IzgREyizOUHVwYmyRlixbSZ7WJ+dvWyv98h1NSiUNRLTvc+LxudEf3BrvvC6L4tgxaDOzdh1n9tV4Ic6cjHjErobwYnEl2xOUHFwoowRVnybWTmsz+pettd75LoaFMqIN/3S50Xic6I/uDVfeN2XRbAqCnYrdt3ndhX4oY5czLiI20ZookREiw3fhFE+pBcK81vG97NBPYTKsnNw4q6D9akviokpts3s7EdbNVBLRbxJnApxaGPYQNV2MY+NRHEmisGOcDv++aGlwYRlxc9xXvf5CDJj0qwNnNJMqIhNVUyq9R6y8doRBbuhVdF1bleJ7nWkANhl3DRCEyGRaDGYn4MJQ0rQo3O7aHyrqw8KHURm5+DE7p3ExGMPjOiNsYOKLR2olgg7BmrJiDWJUyFClhVGx8eZSqAqK9y+7rwivPGPmoTlxYvY+3fviLW7DmnR5+MRGZPJ2s7qwbJuxKbK8FClFsJqvPFtsf9IA6Yt/Tzl/dzSceg2tzuBznWkaV4GI2P0ZMe0TPS9K355BQY/9oEj90iEVYMnVcZeMoZaZrkyK1eVIaLMfUXK8yOp2m7u6PMxbennKftDAOrbxWnDQ9UmaCrN5dyOnbgPTfNISmSFf24cnNimdZYj90iEnX1eVcZeoiJFGXGzSkNEWVF1qvL8iEjbTVv6OR4YIWYaqLJdVBoeAs5rIVSLjf2g4yDuwcWMg3htqJYMUeHfJ18ciNahILcN5o527uDExrCBgtw2+OmgHpYOPDS7R4e87BbGYFb2eWPzadYWsoiIFGXEzYX5OSgfUoKGb8LRPmdV5GlFVJ2sPD8i2nYd27VJaRoYufaFqmolc4Id8a5IX44fI3bNKJ0QG6vScdidq3We63WOTSXUzDiE14ZqqRAVxY1btA6HjzXXeTwwojc6tstRenBiovayYnxldg8AtvZ5zfIZ2xbbvvpayBgxEcnyIZqrq8oK8ffdtXhi+bZmMV5dFrQUg13hpO4mYSLICGRFTQNjdR525gSr4l2Rvhw/RlSYUToplLaj47A7V+s81+scm2r4zYwDeG2oJoKoKC52IQM01WHcor+j9tgJS6ZlMoZ6Vo2vEt3DjtFasnzGtoWoMWIikuVDNFdvb/wKobqWMYoItxPdZ+f+o0LvEy3Pj8gIZK3U186cYEW8K9qXY8eIKjNKJ8XGVse33bla57le59icgIsZxfjBhAqwZkQFqK+D7u0lE5+VNhUxm1JhaJgVMNf3JIqhMWxg8erdSe5ojg4GWqqQMQtz29xN1sjMylhTaUapm/Ga3blH57lL59icgosZxfjBhAqwJ2JVWQfd20smPqdEyHYNDSOvG0neHx/D6uqDCNU1JC80AekmvJQRmbpt7iYrgLUy1lSaUeom2LU79+g8d+kcm1NwMaMYO/vCbgu1TAWzuS1P0U1EsrpG6rJk3f/huY92YMnfE9dJ90PaZOJLJmC2K0JOJnQUNTS8ZVAPYaGkaL3j+4qIaNQOseVVbduPqu37HR8vydp+7ujzUZDbJqVpoAgibS5qUpgor1bGmmozSp2M1+zOPbrNXc3GhqCxZtX2f6bNtzMUACvG6r6wV0KtROK5sGHgx3/4W8r3mtU1mblbfJ10P8BMxhDtkkffTypgBuyJkM2EjqKGhkNLg5gyolQoBtF6zx3dD1lZAWHRqJ0+nco00MnxkqjtDx09gWlLE9cv1jRQlblbsvaMNylMlFcrY80JM0pdjNfszj06zV2yhpoR5nzwBV5d92VaCIK5mFFMZF84lZFT7L6wmZFURKjl9F8sEfFchMawIV2HCKlM1mri6mSlvdxEJL6CvGzMXr61xesRAfP3Yibq2Ha2QnyuRGOMtGGi9ydCtMyLTcSWqvu0iHmf0+Mltu2WbazBuEVi9WsMG/jDx9W2+riK9rQy1lK9JxEi9RHth05id+7RZe6SNbaMx63PGafhNpNiZPeFdRRqWd3blhELRuqk2z56PKnii9TVy/w50YZ2ylTdp0X7lVvt7abhpJX7mWElDjfNKN3Gbl50mLusGFvGky6CYC5mHEBmX1hWqOWWriZVHYaWBlvEISoWjK+TnX10N9ojWXwThpS0+HlqLLFGaU5OFKq1CHYMDFWLD2VEqG4IG63Uz05+7LanFYO8WJw2o/QS0byYzTNm7+/YLhtzR5+vvB3i4/hkxwFLxpbxpIMgmNtMDiG6LywjInNbV2NWh8rNoRb6EBlztgixdbeyj+5me5jF99Zne4XeP23p5/jDx9WO7k2r0iLYNTBULYy0IqB0UnRpNW6r+bHTTlYM8hLhlBmlDqTKS6p5ZnhZEcJh4P4/b8TBoycAAAePnsS0pZ8jKyugbLwnNC4U/LHGsNIueHfzvpTX+dnokosZBxHZF5YRmCbSZbipEwCS792LmrNFiK+7zD66FzqjRPHJiPvc2Ju2q0Uwa9dE+h8zVAsjrQgonRRd2onbSn7s/KjAbIyMW/R3zBvTD9f3PV04DrPYvda+qMCsbiLzDABh/ZRVzOKINzU146LiU4UWM342uuQ2k8eIGEkF83OwePVuz3U1Inv3In+U2TXH0klnJGOUpvvetKp2VW2OJtPGbhivuW3+ZuV+Oo0RvyLShhVvbELFG862sx1dTKRv3DSgh1aGhU7AxYzHiIjIRl14Zgub+ljc2u8U0S6Ijlk7wjidDKFkBZI6702ralfVwkjRNnZLdOm28NPK/XQaI35FpA1DdQ2Oz81WD3yN7RttWmd5LlZ2Gi5mNCCVCO3MU8UOsHN6v1O0/FsGNf0VkIgiBQJB3cyqzPKXDJWxqRJBq2xXu8JK0fKSle0ksoJeqzmKvK/hmzDKh/RCYb5a08NQ7TGh6zIRlWNUtflgIlIZWOpkWOgE1MxoQjKx7bS3NgmV4fR+p2j5seZsodpjOHj0BDqdkoNgvhqBoE5mVREi+XuhqlqJQZooKkXQqtvVrrAyVXmd2+UAAWD/1w2eiE9FBb1Wc5TofcH8HEwYUoIendspMT2ctvRz5LZp5fsPMidQOX84YT4YTzIDywi6GBY6QcAwjLTeNK2rq0NBQQFqa2uRn5/vdThSiJohRcyZPp50peOeBpc8+n5Kk6hMicPr2Mz6R6RU2b+2/By7rlitp932SZVL2fIyEdE2TIaKMaPzfOc0Mp/f3GbSFFHRl5v7nTqYROkURyLcis0JgaefY9cRq/VU0T6xuUxGOrW3auwcxhv7HrtjRuf5Tie4mNEUUdFXp3ZtXP2rSpd9V13iSIQbsTkl8PRz7LphtZ6q2ieSy07tknuRpEt7O4EVPVwElWNG5/lOF6iZsUjE8dapfUdR0df9I3q73pF12XfVJQ4vYnNSBK1L7B9v+6d2eZVBtJ5V25vXU7UQ+9jJMCa8sj7ltcnEwE7PdzoTGQ9PVG7FnA+2p7z+JwO646p/nTunso0Sjcv+3Tti7a5D+PP6L5vlRXW+/JB/LmYs4IbzrKjoK1iQq+R+suhwUJxOcSTCydicFkHrEPvcv34R/X83TpBXjWg953zQvJ43fq+b0vKD+fbEwG47j+tIq6wABvXsLLSYuaqsyLGxE3/Y6eDHPmiRl+vOK8Ib/6hx9LR6HfPPbSZJIsK8+K+BI26PyzbWKLmP28ZcxF/4uX/ImOBFUD2+3MBqPZ9Yvg0d8rJdNx08dPREizZ2a77zAzqNObO81NQexzMfVivLl5/yz8WMBG4KFyn6Isnwc/8QFafG4kehqhUBqRF3rWrTwVT3Br5t40wRaouiy5iz4gis+rR6HfPPxYwEbgsXKfqyh10zOSdO5FZZpkj/cOuUdUCubqLi1Fhkx1d8PCe+CbvWFhGsCEgNAIfrT6J8SC9lY9+KGNjOfOdmv3MTO3OySJuIXGPVEVh2/KQ6kVs34binmpkPP/wQjz32GNauXYuamhosWbIEP/zhD6OvG4aBqVOnYv78+Th06BAuuugizJ07F3369PEkXi+cZ3UWueqM3X1eJ/aJnSgzWf9wc6/byr1kxKmxiIyvRPFkBZoft+HWvn98jrZ99bWQ9qJH5zx8POlKZWN/eFkR/rbjIJ5fuTPltTJzWPy1ftFYWMXKnCzSJqLtZvfzRXT83PfqBmXluYGn38wcPXoU5513HubMmZPw9ZkzZ2LWrFmYM2cO1qxZg2AwiKFDh+LIkSMuR9qEV86zEdHX9X1Px4CzT+VCJgV293md2Cd2cu85Uf9wc6/bzr1ExamxpBpfZvHE/5Hr5r5/bI4G9ews9J4u7dsqHfvLNtYILWQi97Yy3/lJY2EHmbyItIlMu9n9fBEdP6Incu/cX28rHlV4upi56qqr8NBDD2HkyJEtXjMMA7Nnz8aUKVMwcuRIlJWVYcGCBaivr8eiRYs8iFYvARhJjN19Xif2id3ee3bzfnbvpfpEbBk9gVf7/l7MI5F2SUXsvWXj9JvGwg2cOHnbirAcUD9+Iry8ZrcWOdVWM1NdXY1QKIRhw4ZFn8vJycHgwYOxcuVK0/c1NDSgrq6u2UMVugjAiDl2dU1O6KLc1lq5eT+791J9IrasnsCLfX8v5hHRdjFi7i0bZ6aYIcrgxMnbVoTlTo0fQJ+caruYCYVCAIDCwsJmzxcWFkZfS8SMGTNQUFAQfXTrJubZIIpKUa4KkZxoGbHXVW3bj6rt+6Xe4xcRn11dk2pdVGPYQNX2/UrLVFWOivupuJfKE7Gt1smpfX+zMeS2uF/mxPvYe8vEKXNSt9/mFauo7FexpoZmeSkqaIvbLytGUdzzhfk5KB9SgoZ/ieDN2ly38SOD9qZ5gUDzVaRhGC2ei2Xy5Mm49957o/+uq6tzZEFjV5SrQiQnWkai62IRfY8fRHx2dU0qdVGp2t3qvVWVo+J+qu6l6kRsq3Vy4oT1VGPITXG/zIn38YjGKXNS98GjJ6L/9sO8YhWV/Sre1DBZXiYO7x19fuf+eixevRtPLN8WLcuszXUaP7Jo+81MMNg0qOK/hdm3b1+Lb2tiycnJQX5+frOHE9gR5qkQyYmWYXadlff4QcRnV4+gSs8g0u6yZYripiZD5b2aiWRLOmNQz87S40tWT+CUzk10DLkl7rebJ5E4Dx1tEIoldiED+GNesUqk3VORzCQxQiJTQ7O8RJ7PaZ2F2cu3ttjGMmtzXcaPFbRdzBQXFyMYDKKysjL63IkTJ7BixQoMHDjQw8jsoUIkJ1rGiW/CQmIu0ff4QcRnV4+gQs8gI6JzQiPhpiZDNx2ZjJ7Aqfh0FMI6nafGsIFpSz+39F4/zCtWaZUVwAMjeispS7adrPRDHcaPVTxdzHz99ddYv3491q9fD6BJ9Lt+/Xrs3r0bgUAA5eXlmD59OpYsWYKNGzdi7NixyMvLw+jRo70M2xYqRHKiZby0aqfwFofoe/wg4rOrR7D7fhkRnVMaCbM6FORmo3xIScLtBNX38src0Sye+PnWqfhUCWHtaNYSvdfJPFk1cougw7ySqM1U6AY7tstJeU3EJFHlCedW+6HX48cqnmpmPv30U1xxxRXRf0e0LjfffDNeeOEFTJw4EceOHcNdd90VNc1799130b59e69Cto0KwaRoGbsOyv/+X/Q9Ogi+kmFXj2Dn/aJtc/cVZ2PC0O849ldNpA5z3t+O56uqcfjYSRw+dhJPLN+Gl9fsUapT0M3cMdkJw07Hp2KM29GspXqvE3lyW7yumkRt1iGvaWFxuP5bvxUr+h7ROvXonIcHrukjZCIpUqadfujl+LGKp4uZyy+/HIZhvtINBAKoqKhARUWFe0E5jArBpGgZ3TvlCV1n5T06CL5SYffkZ6vvF22bQT1Pc3wyqNwcwuzlW1t81RzZM1f5l5VuJ5gniseN+OyO8YjexkrORN+ruh3cFq+rxKzNYhcxEayMGycE+SLX2r2vV+PHKtpqZtIVFYJJ0TJuGtBD2pAs1Xt0Enzpii7mijpqNzIBO/m3kzMv8y0qdDXDq3lF1iTOSjvK9AeVc4cu85BbcDHjMiqEeKJltGmdJW1Iluw9ugm+dEUXUSxNzLzBTv7t5MzLfFs5CT2Cl/OKFa2PbDvK9AeVc4cu85BbcDHjASqEeKJlWDEksxKfHw32zFBRFx1EsV4cjGoXXU75thtHsvzPHX0+CnLbJCzbjvGc1/keXlaEnw3qIf0+p8dEslzaaQuZ98rMByrnDh3mIbcIGMlEK2lAXV0dCgoKUFtb65jnjFUaw4ZtIZ5oGbHXiRqSiZbtV4O9RKiui4ocW2XVFwcw6tlPUl63+LaLtdgL1+WUbwDK4ojP/6GjJzBtqXnZojnr1K5NC+O5G7/XrZkxmhlO5ls0/gdG9Ebn9jmOj4lUfUo03kRYaUeZ+UDl3OHlPGQHmc9vLmaILczEc5Fh4qfVfzrVBWiawC559H2Eao8n1AQE0PQX2seTrvR8YnOz7ZPdy2wyVBGHSB2HlgaT5syMSOwd8rJRW3/Ss3zr1Oecam+dxk26I/P5zW0mYpl0EpimU10i+GXPXLdTvhNhNw7ROgKQPkQwUkbs9V7lW5c+51R76zRuSHO4mFGMG3v+uuhT0kVg2hg28EJVted1cSKvftgz1+mU72TYiUOmjmY5EzFUi5ivOZlvs34aeb7hmzDKh/RCYb53fU5Fe3fIy456zURwox2JNbQ/aNJPuLHnr5M+xWvBoQpkD4N0qi5O5lU3Q7t4dDzlW3UZsnVMlLNQ3XEhQ7UenfPw8aQrHcm3WT+97rwivPGPmmbPB/NzMGFICXp0bud6n1PR3pGfLLvZjn7UGeoCFzOKsGN0pdM9ZHDzdGYnMGvPZDh1urLTedXN0C4WHU/5Vl2GlTrG52zVFweEy3Ai32b9tKb2OJ75sLrF9V/VNWD28m2YN6af631PRXtHcKsdvZrH0wVuMynAjT1/HTUdfjZlkjXLcqouOubVbXQ65TsZduJw0yzTifEmO14Ab/uvrnMTx7tzcDGjADf2/HXUp+gi9rOCjHbCybromFe30e2UbyficNMs04nxZlVr5FX/1XVu4nh3Di5mFGDH6Er1PdzWp/hBYJoImXZysi5W+k7Vtv2o2r4/rYSDqfrR0NKgMrFksns9PaYfnnaoP7tplqkau/PKviPHlQteU5Wn49yk6zyeDlAzowDR/dlpSz9vYXQlKvjSWZ+iu8A0EaLt9MCI3hg7qNixuljtO7Gki3DQrB9Vbg7hkkffVyqWTNVnnerPKsaKF+PN7ryyc3+90hyKCmh1m5t0nsf9Dk3zFJDKKMoMGSMuncyo0gFd2tNq34nFr6Z+IqSbkaFfsTPHFZgY+VnNoZ/7hC7zjl+gaZ7LJNufTYaM4EvXPWC/okt7Wu07saSrcJBiSX2w0k9jHZVV5dDvfUKXeScd4WJGEXaMrkQFXzruAfsZXdrTLI52bVoJl+G2cNANwy9RseQnXxzQwnwsnUzQEtXFrJ8WFbTF7ZcVoyjBOJowpASH60+a3ieSwxeqqoXaLR0EtLrMO+kGNTMKsWN0JSr40m0P2O/o0p6ROOa8vx3PV1Xj8LGTOHqiUbocN4SDbhl+idZl3KJ1OHzs2w9MLzRE6WSClqouZuNl4vDeLZ5/67O9QvectvTzhPeKJ10EtLrMO+kEFzOKsWN0ZfUexB66tGfl5hBmL99qWTsDOC8cdNPwS7QusQsZp2JJRjqZoInWJdF4STSOrPTHZO2WTgJaXeaddIHbTA6jq3kT0QsrpmSxuNGP3NYrWDW4c1M74XcNRyxO1MVKDpPdi/MpMYOLGYeh4IuIYOcARLf6kdt6BTviaLe0E+mg4YjgRF3s/Dgi0b04nxIzuJhxAQq+SCrs7PG71Y9U6RVkhLJmY6cgV2yHXIV2Ilm86aLhAJyri1kORaja/k9LZnh+E2P7LV4doWbGJSj4IskQ3eO/+4qeGHDWqUAA2P91g6v9SIVewYpQNn7s7NxfjxdWtjzY0E7MVuNNJw2Hk3WJz+H+Iw3NRL9mzPngC7y67kspMzy/ibH9Fq+u0DSPEA3wg5mW3RhVmJ2JnnSuor1E4h1aGtQ+b6K42QdlTPhU9A9dDfX8Fq/b0DSPEJ/hBy2AnRhViEtFRdIq2ks03sh9Yu+rMg430eXAz3hU9A8dxdh+i1d3uJhJI7jv6j9ic1aQ2wZzR3ujrRLtO1b1X1bEpfExfbLjgJBIumNeNsqHlKDhm7DlcSATbzpp4tysi4yWRkR87Dcxtt9MIXWHmpk0gfuu/sMsZw+M6I2O7XJc01bJ9h0r+i9ZcWmimDrkJnfTjtBoAE8s3yZUF1XxppMmzs26RO71ROVWzPlge8rrk+XFb2JsP5lC+gF+M5MGRPZd41f5EfOpZRtrPIqMmJEsZ+MW/R21x07g+r6nY8DZpzq+kLHSdyKGX6IxyohLzWKKN8czo9bERE9mHFgRw8q2ic64WZdWWQEM6tlZ6NpkefGbGNuuKSTn9eZwMeNzuO/qP3TJmZtxiJqd9e/e0ZZ5YCKs1IXmbO6ior39ljM/mEL6CS5mfI7f9omJPjlzMw5RcenaXYcsmwcmQ7YufhBkpxMq2ttvOfODKaSf4GJGAV4Kb/22T0z0yFlj2EDV9v2uxiEiLhW9V7x+RlRPI1OXdBL2+gEV7S1bhtc/mjCL14n+nO5QAGwTr4W3ftsnJt7nLFGfdSuOVOJS0XvNHd0PWVmBaBlhw8CP//C3lO+TrUs6CXv9gIr2Fi3D67k7WbxO9ed0hosZG+hwWm5k3zWV0ZUu+8TE25yJms45GUey04JF2+biOFFqY9hwrE15urG7qGjvVGXoMHfHEh+vk/05XeE2k0V0EXH6bZ+YeJczmZO5veo7VtuG44CIosvcnQz2Z3m4mLGILiJOgHv7fsSLnMmczO1l37HaNhwHRASd5u5ksD/LwW0mi+gg4oyFe/v+w+2cifbFu684GxOGfsfTvmO1bTgOSCp0m7uTwf4sji8WM0899RQee+wx1NTUoE+fPpg9ezYuvfRST2PyWsSZCO7t+w83cybaFwf1PE2LydJq23AckGToOHcng/1ZDO23mV555RWUl5djypQp+Pvf/45LL70UV111FXbv3u1pXH4zaCKEfZYQjoN0RfvFzKxZs/Czn/0Mt956K3r37o3Zs2ejW7dumDdvXsLrGxoaUFdX1+zhBBRoEb/BPksIx0G6ovVi5sSJE1i7di2GDRvW7Plhw4Zh5cqVCd8zY8YMFBQURB/dunVzLD4KtIjfYJ8lhOMgHQkYhqHt4Q579+7F6aefjqqqKgwcODD6/PTp07FgwQJs2bKlxXsaGhrQ0NAQ/XddXR26deuG2tpa5OfnOxJnY9igQIv4CvZZQjgOdKeurg4FBQVCn9++EAAHAs07l2EYLZ6LkJOTg5ycHDfCikKBFvEb7LOEcBykE1pvM3Xu3BmtWrVCKBRq9vy+fftQWFjoUVSEEEII0QmtFzNt2rRB//79UVlZ2ez5ysrKZttOhBBCCMlctN9muvfee3HTTTfhggsuwIABAzB//nzs3r0bd9xxh9ehEUIIIUQDtF/M/Od//icOHDiA3/zmN6ipqUFZWRn+8pe/oHv37l6HRgghhBAN0PrXTCqQUUMTQgghRA9kPr+11swQQgghhKSCixlCCCGE+BouZgghhBDia7iYIYQQQoiv0f7XTHaJ6JudOnCSEEIIIeqJfG6L/E4p7RczR44cAQBHD5wkhBBCiDMcOXIEBQUFSa9J+59mh8Nh7N27F+3btzc9z0mWyOGVe/bsSdufe7OO/ifd6wewjulAutcPYB2tYhgGjhw5gq5duyIrK7kqJu2/mcnKysIZZ5zhSNn5+flp2zEjsI7+J93rB7CO6UC61w9gHa2Q6huZCBQAE0IIIcTXcDFDCCGEEF/DxYwFcnJy8OCDDyInJ8frUByDdfQ/6V4/gHVMB9K9fgDr6AZpLwAmhBBCSHrDb2YIIYQQ4mu4mCGEEEKIr+FihhBCCCG+hosZQgghhPgaLmYEmTFjBgKBAMrLy6PPGYaBiooKdO3aFbm5ubj88suxadMm74K0SaI6jh07FoFAoNnj4osv9i5ISSoqKlrEHwwGo6+nQw5T1dHvOQSAL7/8EmPGjMGpp56KvLw89O3bF2vXro2+ng55TFVHv+exR48eLeIPBAIYN24cAP/nMFX9/J4/APjmm29w//33o7i4GLm5uTjrrLPwm9/8BuFwOHqNV3nkYkaANWvWYP78+Tj33HObPT9z5kzMmjULc+bMwZo1axAMBjF06NDoeVB+wqyOADB8+HDU1NREH3/5y188iNA6ffr0aRb/hg0boq+lSw6T1RHwdw4PHTqEQYMGITs7G2+//TY2b96Mxx9/HB06dIhe4/c8itQR8Hce16xZ0yz2yspKAMANN9wAwP85TFU/wN/5A4BHH30UTz/9NObMmYPPP/8cM2fOxGOPPYYnn3wyeo1neTRIUo4cOWKUlJQYlZWVxuDBg43x48cbhmEY4XDYCAaDxiOPPBK99vjx40ZBQYHx9NNPexStNczqaBiGcfPNNxvXX3+9Z7HZ5cEHHzTOO++8hK+lSw6T1dEw/J/DSZMmGZdcconp6+mQx1R1NAz/5zGe8ePHG2effbYRDofTIofxxNbPMNIjfyNGjDBuueWWZs+NHDnSGDNmjGEY3o5FfjOTgnHjxmHEiBEYMmRIs+erq6sRCoUwbNiw6HM5OTkYPHgwVq5c6XaYtjCrY4S//vWv6NKlC3r16oXbbrsN+/btczlCe2zbtg1du3ZFcXExbrzxRuzYsQNAeuXQrI4R/JzDN954AxdccAFuuOEGdOnSBeeffz6effbZ6OvpkMdUdYzg5zzGcuLECSxcuBC33HILAoFAWuQwlvj6RfB7/i655BK899572Lp1KwDgH//4Bz7++GNcffXVALwdi1zMJOHll1/GunXrMGPGjBavhUIhAEBhYWGz5wsLC6Ov+YFkdQSAq666Cn/84x/x/vvv4/HHH8eaNWtw5ZVXoqGhweVIrXHRRRfhxRdfxDvvvINnn30WoVAIAwcOxIEDB9Imh8nqCPg/hzt27MC8efNQUlKCd955B3fccQfuuecevPjiiwDSYyymqiPg/zzG8vrrr+Pw4cMYO3YsgPTIYSzx9QPSI3+TJk3CqFGj8N3vfhfZ2dk4//zzUV5ejlGjRgHwOI+Ofu/jY3bv3m106dLFWL9+ffS52C2YqqoqA4Cxd+/eZu+79dZbjR/84AduhmqZVHVMxN69e43s7Gzj1VdfdSFC9Xz99ddGYWGh8fjjj6dFDhMRW8dE+C2H2dnZxoABA5o999///d/GxRdfbBhGeozFVHVMhN/yGMuwYcOMa665JvrvdMhhLPH1S4Qf87d48WLjjDPOMBYvXmx89tlnxosvvmh06tTJeOGFFwzD8DaP/GbGhLVr12Lfvn3o378/WrdujdatW2PFihX4/e9/j9atW0dXnvGrzX379rVYlepKqjo2Nja2eE9RURG6d++Obdu2eRCxfdq1a4dzzjkH27Zti/7ix885TERsHRPhtxwWFRWhtLS02XO9e/fG7t27ASAt8piqjmbv8VMeI+zatQvLly/HrbfeGn0uHXIYIVH9EuHH/P3yl7/EfffdhxtvvBHnnHMObrrpJkyYMCH6zb6XeeRixoTvf//72LBhA9avXx99XHDBBfjxj3+M9evX46yzzkIwGIwq1oGmfdIVK1Zg4MCBHkYuTqo6tmrVqsV7Dhw4gD179qCoqMiDiO3T0NCAzz//HEVFRSguLvZ9DhMRW8dE+C2HgwYNwpYtW5o9t3XrVnTv3h0A0iKPqeqYCL/lMcLzzz+PLl26YMSIEdHn0iGHERLVLxF+zF99fT2yspovG1q1ahX9abaneXT0e580I34L5pFHHjEKCgqM1157zdiwYYMxatQoo6ioyKirq/MuSJvE1vHIkSPGz3/+c2PlypVGdXW18cEHHxgDBgwwTj/9dN/U8ec//7nx17/+1dixY4fxySefGNdcc43Rvn17Y+fOnYZhpEcOk9UxHXK4evVqo3Xr1sbDDz9sbNu2zfjjH/9o5OXlGQsXLoxe4/c8pqpjOuTRMAyjsbHROPPMM41Jkya1eM3vOTQM8/qlS/5uvvlm4/TTTzfeeusto7q62njttdeMzp07GxMnToxe41UeuZiRIH4xEw6HjQcffNAIBoNGTk6OcdlllxkbNmzwLkAFxNaxvr7eGDZsmHHaaacZ2dnZxplnnmncfPPNxu7du70NUoL//M//NIqKiozs7Gyja9euxsiRI41NmzZFX0+HHCarYzrk0DAM48033zTKysqMnJwc47vf/a4xf/78Zq+nQx6T1TFd8vjOO+8YAIwtW7a0eC0dcmhWv3TJX11dnTF+/HjjzDPPNNq2bWucddZZxpQpU4yGhoboNV7lMWAYhuHsdz+EEEIIIc5BzQwhhBBCfA0XM4QQQgjxNVzMEEIIIcTXcDFDCCGEEF/DxQwhhBBCfA0XM4QQQgjxNVzMEEIIIcTXcDFDCCGEEF/DxQwhhBBCfA0XM4QQ1wkEAkkfY8eO9TpEQoiPaO11AISQzKOmpib6/6+88gp+/etfNzs1Ojc314uwCCE+hd/MEEJcJxgMRh8FBQUIBALNnvvwww/Rv39/tG3bFmeddRamTp2Kb775Jvr+QCCAZ555Btdccw3y8vLQu3dvrFq1Ctu3b8fll1+Odu3aYcCAAfjiiy+i76moqEDfvn3xzDPPoFu3bsjLy8MNN9yAw4cPe9AChBCVcDFDCNGKd955B2PGjME999yDzZs345lnnsELL7yAhx9+uNl106ZNw09+8hOsX78e3/3udzF69GjcfvvtmDx5Mj799FMAwN13393sPdu3b8ef/vQnvPnmm1i2bBnWr1+PcePGuVY3QohDOH4uNyGEJOH55583CgoKov++9NJLjenTpze75qWXXjKKioqi/wZg3H///dF/r1q1ygBgPPfcc9HnFi9ebLRt2zb67wcffNBo1aqVsWfPnuhzb7/9tpGVlWXU1NSorBIhxGWomSGEaMXatWuxZs2aZt/ENDY24vjx46ivr0deXh4A4Nxzz42+XlhYCAA455xzmj13/Phx1NXVIT8/HwBw5pln4owzzoheM2DAAITDYWzZsgXBYNDRehFCnIOLGUKIVoTDYUydOhUjR45s8Vrbtm2j/5+dnR39/0AgYPpcOBw2vVfkmsh/CSH+hIsZQohW9OvXD1u2bEHPnj2Vl717927s3bsXXbt2BQCsWrUKWVlZ6NWrl/J7EULcg4sZQohW/PrXv8Y111yDbt264YYbbkBWVhY+++wzbNiwAQ899JCtstu2bYubb74Zv/3tb1FXV4d77rkH//Ef/8EtJkJ8Dn/NRAjRih/84Ad46623UFlZie9973u4+OKLMWvWLHTv3t122T179sTIkSNx9dVXY9iwYSgrK8NTTz2lIGpCiJcEDMMwvA6CEEKcpqKiAq+//jrWr1/vdSiEEMXwmxlCCCGE+BouZgghhBDia7jNRAghhBBfw29mCCGEEOJruJghhBBCiK/hYoYQQgghvoaLGUIIIYT4Gi5mCCGEEOJruJghhBBCiK/hYoYQQgghvoaLGUIIIYT4mv8fDuc+MILRU2UAAAAASUVORK5CYII=\n",
      "text/plain": [
       "<Figure size 640x480 with 1 Axes>"
      ]
     },
     "metadata": {},
     "output_type": "display_data"
=======
      "text/html": [
       "<div>\n",
       "<style scoped>\n",
       "    .dataframe tbody tr th:only-of-type {\n",
       "        vertical-align: middle;\n",
       "    }\n",
       "\n",
       "    .dataframe tbody tr th {\n",
       "        vertical-align: top;\n",
       "    }\n",
       "\n",
       "    .dataframe thead th {\n",
       "        text-align: right;\n",
       "    }\n",
       "</style>\n",
       "<table border=\"1\" class=\"dataframe\">\n",
       "  <thead>\n",
       "    <tr style=\"text-align: right;\">\n",
       "      <th></th>\n",
       "      <th>Observed</th>\n",
       "      <th>Expected</th>\n",
       "    </tr>\n",
       "  </thead>\n",
       "  <tbody>\n",
       "    <tr>\n",
       "      <th>Days with No Precip</th>\n",
       "      <td>76.106383</td>\n",
       "      <td>75.268576</td>\n",
       "    </tr>\n",
       "    <tr>\n",
       "      <th>Days with Precip</th>\n",
       "      <td>74.430769</td>\n",
       "      <td>75.268576</td>\n",
       "    </tr>\n",
       "  </tbody>\n",
       "</table>\n",
       "</div>"
      ],
      "text/plain": [
       "                      Observed   Expected\n",
       "Days with No Precip  76.106383  75.268576\n",
       "Days with Precip     74.430769  75.268576"
      ]
     },
     "execution_count": 66,
     "metadata": {},
     "output_type": "execute_result"
>>>>>>> be6d7260786043b32f6b5e93c1c4bd70d812ee9f
    }
   ],
   "source": [
    "# Chi-Squared Analysis\n",
    "#χ2 test of Independence - used to decide whether there is a relationship between two variables of a population. \n",
    "# H₀: The two categorical variables have no relationship\n",
    "# H₁: There is a relationship between two categorical variables\n",
    "# The number of degrees of freedom of the χ2 independence test statistics: d.f. = (# rows -1) *(#columns-1)\n",
    "\n",
    "#Observed data over the past year\n",
    "observed_precip = pd.Series([no_precip_crimerate,precip_crimerate], index=[\"Days with No Precip\",\"Days with Precip\"])\n",
    "\n",
    "#Create dataframe\n",
    "precip_df = pd.DataFrame([observed_precip]).T\n",
    "precip_df[1] = (no_precip_crimerate+precip_crimerate)/2\n",
    "precip_df.columns = [\"Observed\",\"Expected\"]\n",
    "precip_df"
   ]
  },
  {
   "cell_type": "code",
<<<<<<< HEAD
   "execution_count": 42,
=======
   "execution_count": 67,
>>>>>>> be6d7260786043b32f6b5e93c1c4bd70d812ee9f
   "id": "be4b417f",
   "metadata": {},
   "outputs": [
    {
<<<<<<< HEAD
     "data": {
      "image/png": "iVBORw0KGgoAAAANSUhEUgAAAj4AAAGwCAYAAACpYG+ZAAAAOXRFWHRTb2Z0d2FyZQBNYXRwbG90bGliIHZlcnNpb24zLjUuMiwgaHR0cHM6Ly9tYXRwbG90bGliLm9yZy8qNh9FAAAACXBIWXMAAA9hAAAPYQGoP6dpAAA+bklEQVR4nO3de3gU9b3H8c8m5AYkq0lIdiMRglxsCCAXqQEPghIEFVBULhWVgrRSRGmhUrSeEHsELw9eanvSliqgAcPpg6iopCK3ikCBpCgBD1KMgpKYirAJSgIkc/7IyZYlm8smu9nNzvv1PPs87MxvJ7+ZZ5L9MPOb789iGIYhAAAAEwjxdwcAAABaC8EHAACYBsEHAACYBsEHAACYBsEHAACYBsEHAACYBsEHAACYRjt/dyAQVFdX6/jx44qOjpbFYvF3dwAAQBMYhqHy8nIlJSUpJKRp13IIPpKOHz+u5ORkf3cDAAA0w7Fjx9S5c+cmtSX4SIqOjpZUc+BiYmL83BsAANAUZWVlSk5Odn6PNwXBR3Le3oqJiSH4AADQxngyTIXBzQAAwDQIPgAAwDQIPgAAwDQIPgAAwDQIPgAAwDQIPgAAwDQIPgAAwDQIPgAAwDQIPgAAwDSo3AwA8JmqakO7i75VaXmFEqIjNTglVqEhTAYN/yH4AAB8Iq+wWFnrD6rYUeFcZrdGKnNsqkan2f3YM5gZt7oAAF6XV1isWTkFLqFHkkocFZqVU6C8wmI/9QxmR/ABAHhVVbWhrPUHZbhZV7ssa/1BVVW7awH4FsEHAOBVu4u+rXOl50KGpGJHhXYXfdt6nQL+H8EHAOBVpeX1h57mtAO8ieADAPCqhOhIr7YDvIngAwDwqsEpsbJbI1XfQ+sW1TzdNTgltjW7BUgi+AAAvCw0xKLMsamSVCf81L7PHJtKPR/4BcEHAOB1o9Psyp46QDar6+0smzVS2VMHUMcHfkMBQwCAT4xOsysj1UblZgQUgg8AwGdCQyxKvyLO390AnLjVBQAATIPgAwAATIPgAwAATIPgAwAATIPgAwAATIPgAwAATIPgAwAATIPgAwAATIPgAwAATIPgAwAATCNggs+SJUtksVg0d+5c5zLDMLRo0SIlJSUpKipKw4cP14EDB1w+V1lZqTlz5ig+Pl4dOnTQuHHj9OWXX7Zy7wEAQFsQEMFnz549+tOf/qS+ffu6LH/66af17LPP6ne/+5327Nkjm82mjIwMlZeXO9vMnTtX69atU25urrZv367Tp0/rlltuUVVVVWvvBgAACHB+Dz6nT5/WXXfdpWXLlunSSy91LjcMQ88//7weffRRTZgwQWlpaVq5cqW+//57rV69WpLkcDj00ksvaenSpRo5cqT69++vnJwc7d+/X++//76/dgkAAAQovwef2bNn6+abb9bIkSNdlhcVFamkpESjRo1yLouIiNB1112nHTt2SJLy8/N17tw5lzZJSUlKS0tztnGnsrJSZWVlLi8AABD82vnzh+fm5qqgoEB79uyps66kpESSlJiY6LI8MTFRX3zxhbNNeHi4y5Wi2ja1n3dnyZIlysrKamn3AQBAG+O3Kz7Hjh3TQw89pJycHEVGRtbbzmKxuLw3DKPOsos11mbhwoVyOBzO17FjxzzrPAAAaJP8Fnzy8/NVWlqqgQMHql27dmrXrp22bdum3/72t2rXrp3zSs/FV25KS0ud62w2m86ePauTJ0/W28adiIgIxcTEuLwAAEDw81vwueGGG7R//37t27fP+Ro0aJDuuusu7du3T926dZPNZtPGjRudnzl79qy2bdumIUOGSJIGDhyosLAwlzbFxcUqLCx0tgEAAKjltzE+0dHRSktLc1nWoUMHxcXFOZfPnTtXixcvVo8ePdSjRw8tXrxY7du3149+9CNJktVq1YwZMzRv3jzFxcUpNjZW8+fPV58+feoMlgYAAPDr4ObGPPzwwzpz5ox+9rOf6eTJk/rhD3+o9957T9HR0c42zz33nNq1a6eJEyfqzJkzuuGGG7RixQqFhob6secAACAQWQzDMPzdCX8rKyuT1WqVw+FgvA8AAG1Ec76//V7HBwAAoLUQfAAAgGkQfAAAgGkQfAAAgGkQfAAAgGkQfAAAgGkQfAAAgGkQfAAAgGkQfAAAgGkQfAAAgGkE9FxdANCWVVUb2l30rUrLK5QQHanBKbEKDbH4u1uAqRF8AMAH8gqLlbX+oIodFc5ldmukMsemanSa3Y89A8yNW10A4GV5hcWalVPgEnokqcRRoVk5BcorLPZTzwAQfADAi6qqDWWtPyjDzbraZVnrD6qq2l0LAL5G8AEAL9pd9G2dKz0XMiQVOyq0u+jb1usUACeCDwB4UWl5/aGnOe0AeBfBBwC8KCE60qvtAHgXwQcAvGhwSqzs1kjV99C6RTVPdw1OiW3NbgH4fwQfAPCi0BCLMsemSlKd8FP7PnNsKvV8AD8h+ACAl41Osyt76gDZrK63s2zWSGVPHUAdH8CPKGAIAD4wOs2ujFQblZuBAEPwAVAvplxomdAQi9KviPN3NwBcgOADwC2mXAAQjBjjA6AOplwAEKwIPgBcMOUCgGBG8AHggikXAAQzxvgAcOHNKRcYHA0g0BB8ALjw1pQLDI4GEIi41QXAhTemXGBwNIBARfAB4KKlUy4wOBpAICP4AKijJVMuMDgaQCBjjA8At5o75YI3B0cDgLf59YpPdna2+vbtq5iYGMXExCg9PV0bNmxwrrdYLG5fzzzzjLPN8OHD66yfPHmyP3YHCDq1Uy6Mv+oypV8R16Qnsrw1OBoAfMGvV3w6d+6sJ598Ut27d5ckrVy5UuPHj9c//vEP9e7dW8XFrgMgN2zYoBkzZuj22293WT5z5kw9/vjjzvdRUVG+7zwAt2oHR5c4KtyO87Go5pZZQ4OjAcBX/Bp8xo4d6/L+iSeeUHZ2tnbt2qXevXvLZrO5rH/zzTc1YsQIdevWzWV5+/bt67QF4B+1g6Nn5RTIIrmEn6YMjgYAXwqYwc1VVVXKzc3Vd999p/T09Drrv/76a73zzjuaMWNGnXWrVq1SfHy8evfurfnz56u8vLzBn1VZWamysjKXFwDvacngaADwJb8Pbt6/f7/S09NVUVGhjh07at26dUpNTa3TbuXKlYqOjtaECRNclt91111KSUmRzWZTYWGhFi5cqI8++kgbN26s92cuWbJEWVlZXt8XAP/W3MHRAOBLFsMw/FpM4+zZszp69KhOnTqltWvX6s9//rO2bdtWJ/xceeWVysjI0Isvvtjg9vLz8zVo0CDl5+drwIABbttUVlaqsrLS+b6srEzJyclyOByKiYlp+U4BAACfKysrk9Vq9ej72+9XfMLDw52DmwcNGqQ9e/bohRde0B//+Ednmw8++ECHDh3SmjVrGt3egAEDFBYWpsOHD9cbfCIiIhQREeGdHQAAAG1GwIzxqWUYhsvVGEl66aWXNHDgQPXr16/Rzx84cEDnzp2T3c4YAgAA4MqvV3weeeQRjRkzRsnJySovL1dubq62bt2qvLw8Z5uysjL95S9/0dKlS+t8/siRI1q1apVuuukmxcfH6+DBg5o3b5769++voUOHtuauBCVm1gYABBu/Bp+vv/5ad999t4qLi2W1WtW3b1/l5eUpIyPD2SY3N1eGYWjKlCl1Ph8eHq5NmzbphRde0OnTp5WcnKybb75ZmZmZCg0Nbc1dCTrMrA0ACEZ+H9wcCJozOCqY1c6sffGJUXuth8eRAQCBoDnf3wE3xgf+xczaAIBgRvCBC2bWBgAEM4IPXDCzNgAgmBF84IKZtQEAwczvBQwRWIJpZm0exwcAXIzgAxfBMrM2j+MDANzhVhfqaOsza9c+jn/xIO0SR4Vm5RQor7DYTz0DAPgbV3zgVludWbuxx/EtqnkcPyPVFvD7AgDwPoIP6hUaYlH6FXH+7oZHPHkcv63tGwCg5bjVhaDC4/gAgIYQfBBUeBwfANAQgg+CSu3j+PWN3rGo5umutvA4PgDA+wg+CCq1j+NLqhN+2tLj+AAg1TywsfPICb257yvtPHKCeRK9gMHNCDq1j+NfXMfHRh0fAG0I9ch8w2IYhunjY3OmtUfgo3IzgLaqth7ZxV/QtX/B2kJNtdbQnO9vrvggaLXFx/EBgHpkvsUYHwAAAogn9cjgOYIPAAABhHpkvkXwAQAggFCPzLcIPgAABBDqkfkWwQcAgABCPTLfIvgA9aBwGAB/qa1HZrO63s6yWSN5lL2FeJwdcIPCYQD8bXSaXRmpNuqReRkFDEUBQ7iicBgAtA3N+f7mVhcClj9uNTVWOEyqKRzGbS8AaJu41YWA5K9bTZ4UDqMqNAC0PVzxQcCpvdV0cQApcVRoVk6B8gqLffazKRwGAMGN4IOA4u9bTRQOA4DgRvBBQPH3HDUUDgOA4EbwQUDx960mCocBQHAj+CCgBMKtJgqHAUDw4qkuBJTaW00ljgq343wsqgkgvr7VROEwAAhOBB8ElNpbTbNyCmSRXMJPa99qCg2x8Mg6AAQZv97qys7OVt++fRUTE6OYmBilp6drw4YNzvXTpk2TxWJxeV1zzTUu26isrNScOXMUHx+vDh06aNy4cfryyy9be1fgRdxqAgD4il+v+HTu3FlPPvmkunfvLklauXKlxo8fr3/84x/q3bu3JGn06NFavny58zPh4eEu25g7d67Wr1+v3NxcxcXFad68ebrllluUn5+v0NDQ1tsZeBW3mgAAvhBwc3XFxsbqmWee0YwZMzRt2jSdOnVKb7zxhtu2DodDnTp10quvvqpJkyZJko4fP67k5GS9++67uvHGG91+rrKyUpWVlc73ZWVlSk5OZq4uBJWqaoPgCCCoNWeuroAZ41NVVaW//OUv+u6775Senu5cvnXrViUkJOiSSy7RddddpyeeeEIJCQmSpPz8fJ07d06jRo1ytk9KSlJaWpp27NhRb/BZsmSJsrKyfLtDgB8xuzwAuOf3x9n379+vjh07KiIiQvfff7/WrVun1NSaOipjxozRqlWrtHnzZi1dulR79uzR9ddf77xaU1JSovDwcF166aUu20xMTFRJSUm9P3PhwoVyOBzO17Fjx3y3g0Ar8+eUHwAQ6Px+xadXr17at2+fTp06pbVr1+ree+/Vtm3blJqa6rx9JUlpaWkaNGiQunTponfeeUcTJkyod5uGYchiqf+SfkREhCIiIry6H0AgaGzKD4tqpvzISLVx2wuAKfn9ik94eLi6d++uQYMGacmSJerXr59eeOEFt23tdru6dOmiw4cPS5JsNpvOnj2rkydPurQrLS1VYmKiz/sOBBp/T/kBAIHO78HnYoZhuAw8vtCJEyd07Ngx2e01YxQGDhyosLAwbdy40dmmuLhYhYWFGjJkSKv0Fwgk/p7yAwACnV9vdT3yyCMaM2aMkpOTVV5ertzcXG3dulV5eXk6ffq0Fi1apNtvv112u12ff/65HnnkEcXHx+u2226TJFmtVs2YMUPz5s1TXFycYmNjNX/+fPXp00cjR470564BfhEIU34AQCDza/D5+uuvdffdd6u4uFhWq1V9+/ZVXl6eMjIydObMGe3fv1+vvPKKTp06JbvdrhEjRmjNmjWKjo52buO5555Tu3btNHHiRJ05c0Y33HCDVqxYQQ0fmFKgTPkBAIEq4Or4+ENz6gAAgar2qS7J/ZQfVL8GECya8/0dcGN8ALQMU34AQP38/jg7gpfZKwf7c/+Z8gMA3CP4wCfMXjk4EPaf2eUBoC5udcHrzF452Oz7DwCBjOADr2qscrBUUzm4qjo4x9Sbff8BINARfOBVZq8cbPb9B4BAR/CBV5m9crDZ9x8AAh3BB15l9srBZt9/AAh0BB94VW3l4Poemrao5ummYK0cbPb9B4BAR/CBV4WGWJQ5NlWS6nz5177PHJsatPVkzL7/ABDoCD7wOrNXDjb7/gOBpKra0M4jJ/Tmvq+088gJnqiE53N1rVy5UvHx8br55pslSQ8//LD+9Kc/KTU1Va+99pq6dOnik476EnN1+QaVm829/4C/BUIhUfhWc76/PQ4+vXr1UnZ2tq6//nrt3LlTN9xwg55//nm9/fbbateunV5//fVmdd6fCD4AEFxqC4le/AXHZL3BpTnf3x5PWXHs2DF1795dkvTGG2/ojjvu0E9+8hMNHTpUw4cP93RzAAB4VWOFRC2qKSSakWrjKqwJeTzGp2PHjjpx4oQk6b333tPIkSMlSZGRkTpz5ox3ewcAgIcoJIqGeHzFJyMjQ/fdd5/69++vTz/91DnW58CBA+ratau3+wcAgEcoJIqGeHzF5/e//73S09P1r3/9S2vXrlVcXM3sz/n5+ZoyZYrXOwgAgCcoJIqGeDy4ORgxuBkAgkdVtaFrn9qsEkeF23E+FtWUl9i+4HrG+LRxzfn+blYdnw8++EBTp07VkCFD9NVXX0mSXn31VW3fvr05mwMA+IBZa9hQSBQN8Tj4rF27VjfeeKOioqJUUFCgyspKSVJ5ebkWL17s9Q4CADyXV1isa5/arCnLdumh3H2asmyXrn1qs/IKi/3dtVZBIVHUx+NbXf3799fPf/5z3XPPPYqOjtZHH32kbt26ad++fRo9erRKSkp81Vef4VYXgGBCDZt/o5BocGuVOj6HDh3SsGHD6iyPiYnRqVOnPN0cAMCLqGHjKjTEovQr4vzdDQQQj2912e12/fOf/6yzfPv27erWrZtXOoUaZr0/D6D5qGEDNMzjKz4//elP9dBDD+nll1+WxWLR8ePHtXPnTs2fP1//+Z//6Ys+mhJzzABoDmrYAA3zOPg8/PDDcjgcGjFihCoqKjRs2DBFRERo/vz5euCBB3zRR9Op7/58iaNCs3IKTHV/HoBnqGEDNKzZdXy+//57HTx4UNXV1UpNTVXHjh293bdWE0iDm2vrT9R3qZr6EwAaQg0bmEmr1fGRpPbt22vQoEEaPHhwmw49gYb78wBagho2QMM8vtVVUVGhF198UVu2bFFpaamqq6td1hcUFHitc21Zcx+h5P48gJaqrWFz8ThBG+MEAc+Dz/Tp07Vx40bdcccdGjx4sCwW/tdwsZYMTOb+PABvGJ1mV0aqjRo2wEU8Dj7vvPOO3n33XQ0dOtQX/WnzWjoweXBKrOzWyEbvzw9OifVmtwEEIWrYAHV5PMbnsssuU3R0tC/60uY1VjhMqikc1lA9Hu7PAwDgOx4Hn6VLl2rBggX64osvfNGfNs1bA5OZYwYAAN/wOPgMGjRIFRUV6tatm6KjoxUbG+vy8kR2drb69u2rmJgYxcTEKD09XRs2bJAknTt3TgsWLFCfPn3UoUMHJSUl6Z577tHx48ddtjF8+HBZLBaX1+TJkz3dLa/w5sDk0Wl2bV9wvV6beY1emHyVXpt5jbYvuJ7QAwBAC3g8xmfKlCn66quvtHjxYiUmJrZocHPnzp315JNPqnv37pKklStXavz48frHP/6hzp07q6CgQI899pj69eunkydPau7cuRo3bpz27t3rsp2ZM2fq8ccfd76Piopqdp9awtsDk7k/DwCAd3lcwLB9+/bauXOn+vXr55MOxcbG6plnntGMGTPqrNuzZ48GDx6sL774Qpdffrmkmis+V111lZ5//vlm/0xvFTCkcBgAAK2nVQoYXnnllTpz5ozHnWtMVVWVcnNz9d133yk9Pd1tG4fDIYvFoksuucRl+apVqxQfH6/evXtr/vz5Ki8vb/BnVVZWqqyszOXlDQxMBgAgsHl8xee9995TVlaWnnjiCfXp00dhYWEu6z29YrJ//36lp6eroqJCHTt21OrVq3XTTTfVaVdRUaFrr71WV155pXJycpzLly1bppSUFNlsNhUWFmrhwoXq3r27Nm7cWO/PXLRokbKysuos99aUFUwwCsAbmlsIFTCL5lzx8Tj4hITUXCS6eGyPYRiyWCyqqqryZHM6e/asjh49qlOnTmnt2rX685//rG3btik1NdXZ5ty5c7rzzjt19OhRbd26tcGdy8/P16BBg5Sfn68BAwa4bVNZWanKykrn+7KyMiUnJ3t1ri7+YAFoCf4DBTSuVYLPtm3bGlx/3XXXebK5OkaOHKkrrrhCf/zjHyXVhJ6JEyfqs88+0+bNmxUX1/BgX8MwFBERoVdffVWTJk1q0s8MpElKAaC+Qqi1/3WirAVQoznf3x4/1dXSYNMYwzCcV2NqQ8/hw4e1ZcuWRkOPJB04cEDnzp2T3c4fBQBtT2OFUC2qKYSakWrjKjLQDE0KPh9//LHS0tIUEhKijz/+uMG2ffv2bfIPf+SRRzRmzBglJyervLxcubm52rp1q/Ly8nT+/HndcccdKigo0Ntvv62qqiqVlJRIqnnyKzw8XEeOHNGqVat00003KT4+XgcPHtS8efPUv39/ptQA0CZ5UgiVcheA55oUfK666iqVlJQoISFBV111lSwWi9zdIfN0jM/XX3+tu+++W8XFxbJarerbt6/y8vKUkZGhzz//XG+99Zbz519oy5YtGj58uMLDw7Vp0ya98MILOn36tJKTk3XzzTcrMzNToaGhTe4HAAQKbxZCBVBXk4JPUVGROnXq5Py3t7z00kv1ruvatavbcHWh5OTkRsccAUBb4u1CqABcNSn4dOnSRVLNmJtFixbpscceU7du3XzaMQAwo8EpsbJbIxsthDo4xbMpggDU8KiAYVhYmNatW+ervgCA6VEIFfAtjys333bbbXrjjTd80BUAgFQzSXH21AGyWV1vZ9mskTzKDrSQx4+zd+/eXb/5zW+0Y8cODRw4UB06dHBZ/+CDD3qtcwDgT/4sRDo6za6MVBuFUAEv87iAYUpKSv0bs1j02WeftbhTrY0ChgAuRuVkIPC1SuXmYETwAXAhKicDbYPPZ2cvKytTdXV1neXV1dVem+EcAPypscrJUk3l5Kpq0/+fEWiTmhx81q1bp0GDBqmiom7RrIqKCl199dVav369VzsHAK3Nk8rJANqeJgef7OxsPfzww2rfvn2dde3bt9eCBQv0u9/9zqudA4DWRuVkILg1OfgUFhZq+PDh9a4fNmyY9u/f740+AYDfUDkZCG5NDj4nT57U+fPn611/7tw5nTx50iudAgB/qa2cXN9D4xbVPN1F5WSgbWpy8Onatav27t1b7/q9e/c6p7YAgLaKyslAcGty8JkwYYIeffRRff3113XWlZSU6Ne//rVuv/12r3YOAPyByslA8GpyHZ/y8nKlp6fr6NGjmjp1qnr16iWLxaJPPvlEq1atUnJysnbt2qXo6Ghf99nrqOMDwB1/Vm4G0LjmfH83ecqK6Ohoffjhh1q4cKHWrFnjHM9z6aWXaurUqVq8eHGbDD0AUJ/QEIvSr4jzdzcAeFGzKjcbhqFvvvlGhmGoU6dOslja9v+AuOIDAEDb49MrPheyWCzq1KlTcz4KAADgNx5NWQEAANCWEXwAAIBpEHwAAIBpNCn4xMbG6ptvvpEkTZ8+XeXl5T7tFAAAgC80KficPXtWZWVlkqSVK1e6naEdAAAg0DXpqa709HTdeuutGjhwoAzD0IMPPqioqCi3bV9++WWvdhAAAMBbmhR8cnJy9Nxzz+nIkSOyWCxyOBxc9QEAAG2OxwUMU1JStHfvXsXFBU81UwoYAgBQV6BP29IqBQyLioo87hgAAGhb8gqLlbX+oIod/77DY7dGKnNsapueqLdZj7Nv27ZNY8eOVffu3dWjRw+NGzdOH3zwgbf7BgAA/CCvsFizcgpcQo8klTgqNCunQHmFxX7qWct5HHxycnI0cuRItW/fXg8++KAeeOABRUVF6YYbbtDq1at90UcAANBKqqoNZa0/KHfjYGqXZa0/qKpqj6f6DAgej/H5wQ9+oJ/85Cf6+c9/7rL82Wef1bJly/TJJ594tYOtgTE+AADU2HnkhKYs29Vou9dmXqP0K/w73rc5398eX/H57LPPNHbs2DrLx40bx/gfAADauNLypj213ZR2VdWGdh45oTf3faWdR04ExFUijwc3Jycna9OmTerevbvL8k2bNik5OdlrHQMAAK0vITrSK+0CdXC0x8Fn3rx5evDBB7Vv3z4NGTJEFotF27dv14oVK/TCCy/4oo8AAKCVDE6Jld0aqRJHhdtxPhZJNmvNo+31qR0cffHnawdHZ08d4Lfw4/GtrlmzZik3N1f79+/X3Llz9dBDD6mwsFBr1qzRT3/6U4+2lZ2drb59+yomJkYxMTFKT0/Xhg0bnOsNw9CiRYuUlJSkqKgoDR8+XAcOHHDZRmVlpebMmaP4+Hh16NBB48aN05dffunpbgEAAEmhIRZljk2VVBNyLlT7PnNsar31fAJ9cHSzHme/7bbbtH37dp04cUInTpzQ9u3bNX78eI+307lzZz355JPau3ev9u7dq+uvv17jx493hpunn35azz77rH73u99pz549stlsysjIcJkkde7cuVq3bp1yc3O1fft2nT59Wrfccouqqqqas2sAAJje6DS7sqcOkM3qejvLZo1s9GrN7qJv6zwGfyFDUrGjQruLvvVWdz3i8VNdvhYbG6tnnnlG06dPV1JSkubOnasFCxZIqrm6k5iYqKeeeko//elP5XA41KlTJ7366quaNGmSJOn48eNKTk7Wu+++qxtvvLFJP5OnugAAqKs5lZvf3PeVHsrd1+i2X5h8lcZfdVmL+tcqT3X5SlVVlXJzc/Xdd98pPT1dRUVFKikp0ahRo5xtIiIidN1112nHjh2SpPz8fJ07d86lTVJSktLS0pxt3KmsrFRZWZnLCwAAuAoNsSj9ijiNv+oypV8R16TpKrw1ONpX/B589u/fr44dOyoiIkL333+/1q1bp9TUVJWUlEiSEhMTXdonJiY615WUlCg8PFyXXnppvW3cWbJkiaxWq/PF02gAAHhH7eDo+iKSRTVPdzU0ONqX/B58evXqpX379mnXrl2aNWuW7r33Xh08eNC53mJxPXSGYdRZdrHG2ixcuFAOh8P5OnbsWMt2AgAASGr54Ghfa1HwMQxDLR0iFB4eru7du2vQoEFasmSJ+vXrpxdeeEE2m02S6ly5KS0tdV4FstlsOnv2rE6ePFlvG3ciIiKcT5LVvoBAE4iFvwCgKVoyONrXPK7jI0mvvPKKnnnmGR0+fFiS1LNnT/3yl7/U3Xff3eIOGYahyspKpaSkyGazaePGjerfv78k6ezZs9q2bZueeuopSdLAgQMVFhamjRs3auLEiZKk4uJiFRYW6umnn25xXwB/CdTCXwDQVKPT7MpItXk8ONrXPA4+zz77rB577DE98MADGjp0qAzD0Icffqj7779f33zzTZ05vBryyCOPaMyYMUpOTlZ5eblyc3O1detW5eXlyWKxaO7cuVq8eLF69OihHj16aPHixWrfvr1+9KMfSZKsVqtmzJihefPmKS4uTrGxsZo/f7769OmjkSNHerprQEAI5MJfAOCJ2sHRgcTj4PPiiy8qOztb99xzj3PZ+PHj1bt3by1atMij4PP111/r7rvvVnFxsaxWq/r27au8vDxlZGRIkh5++GGdOXNGP/vZz3Ty5En98Ic/1Hvvvafo6GjnNp577jm1a9dOEydO1JkzZ3TDDTdoxYoVCg0N9XTXAL9rrPCXRTWFvzJSbX7/XxMAtEUe1/GJjIxUYWFhnbm6Dh8+rD59+qiiommTmwUS6vggULSlWZEBwN9apY5P9+7d9T//8z91lq9Zs0Y9evTwdHMALuDNWZEBAHV5fKsrKytLkyZN0t/+9jcNHTrUOUnppk2b3AYiAE0X6IW/AKCt8/iKz+23366///3vio+P1xtvvKHXX39d8fHx2r17t2677TZf9BEwjUAv/AUAbV3AzdXlD4zxQSCpfapLkssg59owxFNdAFCjTc/VBaBGIBf+AoC2rsljfEJCQhqdKsJisej8+fMt7hRgdoFa+AsA2romB59169bVu27Hjh168cUXWzx9BYB/C8TCXwDQ1jU5+IwfP77Osv/93//VwoULtX79et111136zW9+49XOAQAAeFOzxvgcP35cM2fOVN++fXX+/Hnt27dPK1eu1OWXX+7t/gEAAHiNR8HH4XBowYIF6t69uw4cOKBNmzZp/fr1SktL81X/AAAAvKbJt7qefvppPfXUU7LZbHrttdfc3voCgEBSVW0wQBymxu9AXU2u4xMSEqKoqCiNHDmywQlAX3/9da91rrVQxwcIPnmFxcpaf1DFjn9P72G3RipzbColAWAKZvgdaM73d5Ov+Nxzzz2NPs4OAIGgtgjkxf+rK3FUaFZOAfWQEPT4HagflZvFFR8gmFRVG7r2qc0u/8u9kEU1xSC3L7je9Jf8EZzM9DtA5WYApre76Nt6/+BLNdOAFDsqtLvo29brFNCK+B1oGMEHQFApLa//D35z2gFtDb8DDWvyGB+0PYzmhxklREc23siDdkBbw+9Awwg+QcoMo/kBdwanxMpujVSJo6LOwE7p3+MbBqfEtnbXgFbB70DDuNUVhGpH8198j7d2NH9eYbGfegb4XmiIRZljUyXV/IG/UO37zLGpXP1E0OJ3oGEEnyBTVW0oa/1Btym/dlnW+oOqqjb9w3wIYqPT7MqeOkA2q+ulfJs10tSP8cI8+B2oH7e6gowno/mZ+RvBbHSaXRmpNsa5wbT4HXCP4BNkGM0P/FtoiIWAD1Pjd6AubnUFGUbzAwBQP4JPkKkdzV/fhUyLap7uMutofgCAuRF8ggyj+QF4S1W1oZ1HTujNfV9p55ETPBSBoMAYnyBUO5r/4jo+Nur4AGgiaoEhWDFJqYJ3klIqNwNojvpm9q7962H2x6EROJrz/c0VnyDGaH4AnmqsFphFNbXAMlJt/EcKbRJjfAAATszsjWBH8AEAOFELDMGO4AMAcKIWGIIdwQcA4EQtMAQ7gg8AwIlaYAh2fg0+S5Ys0dVXX63o6GglJCTo1ltv1aFDh1zaWCwWt69nnnnG2Wb48OF11k+ePLm1dwcAggIzeyOY+bWOz+jRozV58mRdffXVOn/+vB599FHt379fBw8eVIcOHSRJJSUlLp/ZsGGDZsyYoX/+85/q1q2bpJrg07NnTz3++OPOdlFRUbJarU3qR7DW8QGAlqAWGAJdm6vjk5eX5/J++fLlSkhIUH5+voYNGyZJstlsLm3efPNNjRgxwhl6arVv375O2/pUVlaqsrLS+b6srKw53QfgY3zx+he1wBCMAqqAocPhkCTFxrofNPf111/rnXfe0cqVK+usW7VqlXJycpSYmKgxY8YoMzNT0dHRbrezZMkSZWVlea/jALyOKRMA+ELATFlhGIbGjx+vkydP6oMPPnDb5umnn9aTTz6p48ePKzLy3/eely1bppSUFNlsNhUWFmrhwoXq3r27Nm7c6HY77q74JCcnc6sLCBBMmQCgKdrcra4LPfDAA/r444+1ffv2etu8/PLLuuuuu1xCjyTNnDnT+e+0tDT16NFDgwYNUkFBgQYMGFBnOxEREYqIiPBe5wF4DVMmAPClgHicfc6cOXrrrbe0ZcsWde7c2W2bDz74QIcOHdJ9993X6PYGDBigsLAwHT582NtdBeBjTJkAwJf8esXHMAzNmTNH69at09atW5WSklJv25deekkDBw5Uv379Gt3ugQMHdO7cOdntXAoH2hqmTADgS34NPrNnz9bq1av15ptvKjo62vnoutVqVVRUlLNdWVmZ/vKXv2jp0qV1tnHkyBGtWrVKN910k+Lj43Xw4EHNmzdP/fv319ChQ1ttXwB4B1MmAPAlv97qys7OlsPh0PDhw2W3252vNWvWuLTLzc2VYRiaMmVKnW2Eh4dr06ZNuvHGG9WrVy89+OCDGjVqlN5//32Fhoa21q4A8BKmTADgSwHzVJc/UcAQCCy1T3VJchnkzFNdAC7UnO/vgBjcDAAXYsoEAL4SMI+zA8CFRqfZlZFqo3IzAK8i+AAIWEyZAMDbuNUFAABMg+ADAABMg+ADAABMg+ADAABMg+ADAABMg+ADAABMg+ADAABMg+ADAABMg+ADAABMg+ADAABMg+ADAABMg+ADAABMg+ADAABMg+ADAABMg+ADAABMg+ADAABMg+ADAABMg+ADAABMg+ADAABMg+ADAABMg+ADAABMg+ADAABMg+ADAABMg+ADAABMg+ADAABMg+ADAABMg+ADAABMo52/OwAAQLCqqja0u+hblZZXKCE6UoNTYhUaYvF3t0yN4AMAgA/kFRYra/1BFTsqnMvs1khljk3V6DS7H3tmbn691bVkyRJdffXVio6OVkJCgm699VYdOnTIpc20adNksVhcXtdcc41Lm8rKSs2ZM0fx8fHq0KGDxo0bpy+//LI1dwUAAKe8wmLNyilwCT2SVOKo0KycAuUVFvupZ/Br8Nm2bZtmz56tXbt2aePGjTp//rxGjRql7777zqXd6NGjVVxc7Hy9++67Luvnzp2rdevWKTc3V9u3b9fp06d1yy23qKqqqjV3BwAAVVUbylp/UIabdbXLstYfVFW1uxbwNb/e6srLy3N5v3z5ciUkJCg/P1/Dhg1zLo+IiJDNZnO7DYfDoZdeekmvvvqqRo4cKUnKyclRcnKy3n//fd144411PlNZWanKykrn+7KyMm/sDgAA2l30bZ0rPRcyJBU7KrS76FulXxHXeh2DpAB7qsvhcEiSYmNjXZZv3bpVCQkJ6tmzp2bOnKnS0lLnuvz8fJ07d06jRo1yLktKSlJaWpp27Njh9ucsWbJEVqvV+UpOTvbB3gAAzKi0vP7Q05x28K6ACT6GYegXv/iFrr32WqWlpTmXjxkzRqtWrdLmzZu1dOlS7dmzR9dff73zik1JSYnCw8N16aWXumwvMTFRJSUlbn/WwoUL5XA4nK9jx475bscAAKaSEB3p1XbwroB5quuBBx7Qxx9/rO3bt7ssnzRpkvPfaWlpGjRokLp06aJ33nlHEyZMqHd7hmHIYnH/yGBERIQiIiK803EAAC4wOCVWdmukShwVbsf5WCTZrDWPtqP1BcQVnzlz5uitt97Sli1b1Llz5wbb2u12denSRYcPH5Yk2Ww2nT17VidPnnRpV1paqsTERJ/1GQAAd0JDLMocmyqpJuRcqPZ95thU6vn4iV+Dj2EYeuCBB/T6669r8+bNSklJafQzJ06c0LFjx2S319RAGDhwoMLCwrRx40Znm+LiYhUWFmrIkCE+6zsAAPUZnWZX9tQBslldb2fZrJHKnjqAOj5+5NdbXbNnz9bq1av15ptvKjo62jkmx2q1KioqSqdPn9aiRYt0++23y2636/PPP9cjjzyi+Ph43Xbbbc62M2bM0Lx58xQXF6fY2FjNnz9fffr0cT7lBQBAaxudZldGqo3KzQHGr8EnOztbkjR8+HCX5cuXL9e0adMUGhqq/fv365VXXtGpU6dkt9s1YsQIrVmzRtHR0c72zz33nNq1a6eJEyfqzJkzuuGGG7RixQqFhoa25u4AAOAiNMTCI+sBxmIYhukrKJWVlclqtcrhcCgmJsbf3QEAAE3QnO/vgBjcDAAA0BoIPgAAwDQIPgAAwDQIPgAAwDQIPgAAwDQIPgAAwDQIPgAAwDQIPgAAwDQIPgAAwDQIPgAAwDQIPgAAwDQIPgAAwDQIPgAAwDQIPgAAwDQIPgAAwDTa+bsDAADUp6ra0O6ib1VaXqGE6EgNTolVaIjF391CG0bwAQAEpLzCYmWtP6hiR4Vzmd0aqcyxqRqdZvdjz9CWcasLABBw8gqLNSunwCX0SFKJo0KzcgqUV1jsp56hrSP4AAACSlW1oaz1B2W4WVe7LGv9QVVVu2sBNIzgAwAIKLuLvq1zpedChqRiR4V2F33bep1C0CD4AAACSml5/aGnOe2ACxF8AAABJSE60qvtgAsRfAAAAWVwSqzs1kjV99C6RTVPdw1OiW3NbiFIEHwAAAElNMSizLGpklQn/NS+zxybSj0fNAvBBwAQcEan2ZU9dYBsVtfbWTZrpLKnDqCOD5qNAoYAgIA0Os2ujFQblZvhVQQfAEDACg2xKP2KOH93A0GEW10AAMA0CD4AAMA0CD4AAMA0CD4AAMA0CD4AAMA0/Bp8lixZoquvvlrR0dFKSEjQrbfeqkOHDjnXnzt3TgsWLFCfPn3UoUMHJSUl6Z577tHx48ddtjN8+HBZLBaX1+TJk1t7dwAAQIDza/DZtm2bZs+erV27dmnjxo06f/68Ro0ape+++06S9P3336ugoECPPfaYCgoK9Prrr+vTTz/VuHHj6mxr5syZKi4udr7++Mc/tvbuAACAAOfXOj55eXku75cvX66EhATl5+dr2LBhslqt2rhxo0ubF198UYMHD9bRo0d1+eWXO5e3b99eNputVfoNAADapoAa4+NwOCRJsbH1TzzncDhksVh0ySWXuCxftWqV4uPj1bt3b82fP1/l5eX1bqOyslJlZWUuLwAAEPwCpnKzYRj6xS9+oWuvvVZpaWlu21RUVOhXv/qVfvSjHykmJsa5/K677lJKSopsNpsKCwu1cOFCffTRR3WuFtVasmSJsrKyfLIfAAAgcFkMwzD83QlJmj17tt555x1t375dnTt3rrP+3LlzuvPOO3X06FFt3brVJfhcLD8/X4MGDVJ+fr4GDBhQZ31lZaUqKyud78vKypScnCyHw9HgdgEAQOAoKyuT1Wr16Ps7IK74zJkzR2+99Zb+9re/1Rt6Jk6cqKKiIm3evLnRnRswYIDCwsJ0+PBht8EnIiJCERERXus/AABoG/wafAzD0Jw5c7Ru3Tpt3bpVKSkpddrUhp7Dhw9ry5YtiotrfLK6AwcO6Ny5c7Lb7b7oNgAAaKP8Gnxmz56t1atX680331R0dLRKSkokSVarVVFRUTp//rzuuOMOFRQU6O2331ZVVZWzTWxsrMLDw3XkyBGtWrVKN910k+Lj43Xw4EHNmzdP/fv319ChQ/25ewAAIMD4dYyPxWJxu3z58uWaNm2aPv/8c7dXgSRpy5YtGj58uI4dO6apU6eqsLBQp0+fVnJysm6++WZlZmY2+HTYhZpzjxAAAPhXc76/A2Zwsz8RfAAAaHva7OBmAAACUVW1od1F36q0vEIJ0ZEanBKr0BD3dyvQNhB8AABwI6+wWFnrD6rYUeFcZrdGKnNsqkan8fBMWxVQlZsBAAgEeYXFmpVT4BJ6JKnEUaFZOQXKKyz2U8/QUgQfAAAuUFVtKGv9QbkbAFu7LGv9QVVVm36IbJtE8AEA4AK7i76tc6XnQoakYkeFdhd923qdgtcQfAAAuEBpef2hpzntEFgIPgAAXCAhOtKr7RBYCD4AAFxgcEqs7NZI1ffQukU1T3cNTmlakVwEFoIPAAAXCA2xKHNsqiTVCT+17zPHplLPp40i+AAAcJHRaXZlTx0gm9X1dpbNGqnsqQOo49OGUcAQAAA3RqfZlZFqo3JzkCH4AABQj9AQi9KviPN3N+BF3OoCAACmQfABAACmQfABAACmQfABAACmQfABAACmQfABAACmQfABAACmQfABAACmQfABAACmQeVmSYZhSJLKysr83BMAANBUtd/btd/jTUHwkVReXi5JSk5O9nNPAACAp8rLy2W1WpvU1mJ4EpOCVHV1tY4fP67o6GhZLP+efK6srEzJyck6duyYYmJi/NjDtotj2DIcv5bjGLYMx6/lOIYt09DxMwxD5eXlSkpKUkhI00bvcMVHUkhIiDp37lzv+piYGE7WFuIYtgzHr+U4hi3D8Ws5jmHL1Hf8mnqlpxaDmwEAgGkQfAAAgGkQfBoQERGhzMxMRURE+LsrbRbHsGU4fi3HMWwZjl/LcQxbxtvHj8HNAADANLjiAwAATIPgAwAATIPgAwAATIPgAwAATIPgI2nRokWyWCwuL5vN5lxvGIYWLVqkpKQkRUVFafjw4Tpw4IAfexxYGjt+06ZNq7P+mmuu8WOPA9NXX32lqVOnKi4uTu3bt9dVV12l/Px853rOw4Y1dvw4DxvWtWvXOsfHYrFo9uzZkjj/GtPY8eP8a9z58+f161//WikpKYqKilK3bt30+OOPq7q62tnGG+chlZv/X+/evfX+++8734eGhjr//fTTT+vZZ5/VihUr1LNnT/3Xf/2XMjIydOjQIUVHR/ujuwGnoeMnSaNHj9by5cud78PDw1utb23ByZMnNXToUI0YMUIbNmxQQkKCjhw5oksuucTZhvOwfk05fhLnYUP27Nmjqqoq5/vCwkJlZGTozjvvlMT515jGjp/E+deYp556Sn/4wx+0cuVK9e7dW3v37tWPf/xjWa1WPfTQQ5K8dB4aMDIzM41+/fq5XVddXW3YbDbjySefdC6rqKgwrFar8Yc//KGVehjYGjp+hmEY9957rzF+/PhW609btGDBAuPaa6+tdz3nYcMaO36GwXnoqYceesi44oorjOrqas6/Zrjw+BkG519T3Hzzzcb06dNdlk2YMMGYOnWqYRje+zvIra7/d/jwYSUlJSklJUWTJ0/WZ599JkkqKipSSUmJRo0a5WwbERGh6667Tjt27PBXdwNOfcev1tatW5WQkKCePXtq5syZKi0t9VNPA9Nbb72lQYMG6c4771RCQoL69++vZcuWOddzHjasseNXi/Owac6ePaucnBxNnz5dFouF889DFx+/Wpx/Dbv22mu1adMmffrpp5Kkjz76SNu3b9dNN90kyXt/Bwk+kn74wx/qlVde0V//+lctW7ZMJSUlGjJkiE6cOKGSkhJJUmJiostnEhMTnevMrqHjJ0ljxozRqlWrtHnzZi1dulR79uzR9ddfr8rKSj/3PHB89tlnys7OVo8ePfTXv/5V999/vx588EG98sorksR52IjGjp/EeeiJN954Q6dOndK0adMkcf556uLjJ3H+NcWCBQs0ZcoUXXnllQoLC1P//v01d+5cTZkyRZIXz0PvXKAKLqdPnzYSExONpUuXGh9++KEhyTh+/LhLm/vuu8+48cYb/dTDwHbh8XPn+PHjRlhYmLF27dpW7lngCgsLM9LT012WzZkzx7jmmmsMwzA4DxvR2PFzh/OwfqNGjTJuueUW53vOP89cfPzc4fyr67XXXjM6d+5svPbaa8bHH39svPLKK0ZsbKyxYsUKwzC8dx5yxceNDh06qE+fPjp8+LDz6aSL02RpaWmd1IkaFx4/d+x2u7p06VLvejOy2+1KTU11WfaDH/xAR48elSTOw0Y0dvzq+wznYV1ffPGF3n//fd13333OZZx/Tefu+LnD+VfXL3/5S/3qV7/S5MmT1adPH9199936+c9/riVLlkjy3nlI8HGjsrJSn3zyiex2u1JSUmSz2bRx40bn+rNnz2rbtm0aMmSIH3sZuC48fu6cOHFCx44dq3e9GQ0dOlSHDh1yWfbpp5+qS5cuksR52IjGjp87nIfuLV++XAkJCbr55pudyzj/ms7d8XOH86+u77//XiEhrrEkNDTU+Ti7185Dr16naqPmzZtnbN261fjss8+MXbt2GbfccosRHR1tfP7554ZhGMaTTz5pWK1W4/XXXzf2799vTJkyxbDb7UZZWZmfex4YGjp+5eXlxrx584wdO3YYRUVFxpYtW4z09HTjsssu4/hdYPfu3Ua7du2MJ554wjh8+LCxatUqo3379kZOTo6zDedh/Ro7fpyHTVNVVWVcfvnlxoIFC+qs4/xrXH3Hj/Ovae69917jsssuM95++22jqKjIeP311434+Hjj4YcfdrbxxnlI8DEMY9KkSYbdbjfCwsKMpKQkY8KECcaBAwec66urq43MzEzDZrMZERERxrBhw4z9+/f7sceBpaHj9/333xujRo0yOnXqZISFhRmXX365ce+99xpHjx71c68Dz/r16420tDQjIiLCuPLKK40//elPLus5DxvW0PHjPGyav/71r4Yk49ChQ3XWcf41rr7jx/nXNGVlZcZDDz1kXH755UZkZKTRrVs349FHHzUqKyudbbxxHloMwzC8cIUKAAAg4DHGBwAAmAbBBwAAmAbBBwAAmAbBBwAAmAbBBwAAmAbBBwAAmAbBBwAAmAbBBwAAmAbBB4ApfP7557JYLNq3b1+9bbZu3SqLxaJTp05JklasWKFLLrmkVfoHoHUQfAC0mmnTpunWW2+ts/ziwOELycnJKi4uVlpaWpM/M2nSJH366afO94sWLdJVV13lg94BaC3t/N0BAGgNoaGhstlsHn0mKipKUVFRPuoRAH/gig+AgOLuqsrzzz+vrl27Ot/XXjlavHixEhMTdckllygrK0vnz5/XL3/5S8XGxqpz5856+eWXnZ9xd6vr3XffVc+ePRUVFaURI0bo888/d/m5F97qWrFihbKysvTRRx/JYrHIYrFoxYoVmj59um655RaXz50/f142m83l5wMIDFzxAdAmbd68WZ07d9bf/vY3ffjhh5oxY4Z27typYcOG6e9//7vWrFmj+++/XxkZGUpOTq7z+WPHjmnChAm6//77NWvWLO3du1fz5s2r9+dNmjRJhYWFysvL0/vvvy9Jslqt6tmzp4YNG6bi4mLZ7XZJNYHq9OnTmjhxom92HkCzccUHQKt6++231bFjR5fXmDFjPN5ObGysfvvb36pXr16aPn26evXqpe+//16PPPKIevTooYULFyo8PFwffvih289nZ2erW7dueu6559SrVy/dddddmjZtWr0/LyoqSh07dlS7du1ks9lks9kUFRWlIUOGqFevXnr11VedbZcvX64777xTHTt29Hi/APgWwQdAqxoxYoT27dvn8vrzn//s8XZ69+6tkJB//wlLTExUnz59nO9DQ0MVFxen0tJSt5//5JNPdM0118hisTiXpaene9wPSbrvvvu0fPlySVJpaaneeecdTZ8+vVnbAuBb3OoC0Ko6dOig7t27uyz78ssvnf8OCQmRYRgu68+dO1dnO2FhYS7vLRaL22XV1dVu+3Hxz2iJe+65R7/61a+0c+dO7dy5U127dtV//Md/eG37ALyH4AMgoHTq1EklJSUyDMN5Naah2jvNlZqaqjfeeMNl2a5duxr8THh4uKqqquosj4uL06233qrly5dr586d+vGPf+zNrgLwIm51AQgow4cP17/+9S89/fTTOnLkiH7/+99rw4YNXv85999/v44cOaJf/OIXOnTokFavXq0VK1Y0+JmuXbuqqKhI+/bt0zfffKPKykrnuvvuu08rV67UJ598onvvvdfr/QXgHQQfAAHlBz/4gf77v/9bv//979WvXz/t3r1b8+fP9/rPufzyy7V27VqtX79e/fr10x/+8ActXry4wc/cfvvtGj16tEaMGKFOnTrptddec64bOXKk7Ha7brzxRiUlJXm9vwC8w2J480Y3AJjU999/r6SkJL388suaMGGCv7sDoB6M8QGAFqiurlZJSYmWLl0qq9WqcePG+btLABpA8AGAFjh69KhSUlLUuXNnrVixQu3a8WcVCGTc6gIAAKbB4GYAAGAaBB8AAGAaBB8AAGAaBB8AAGAaBB8AAGAaBB8AAGAaBB8AAGAaBB8AAGAa/wcgRvshMFL6/AAAAABJRU5ErkJggg==\n",
      "text/plain": [
       "<Figure size 640x480 with 1 Axes>"
      ]
     },
     "metadata": {},
     "output_type": "display_data"
=======
     "name": "stdout",
     "output_type": "stream",
     "text": [
      "The Chi-Squared critical value for precipitation is 3.841458820694124. \n"
     ]
>>>>>>> be6d7260786043b32f6b5e93c1c4bd70d812ee9f
    }
   ],
   "source": [
    "# The degree of freedom is (2-1)*(2-1) = 1\n",
    "# With a p-value of 0.05, the confidence level is 1.00-0.05 = 0.95.\n",
    "precip_crit_value = st.chi2.ppf(q = 0.95, df = 1)\n",
    "print(f\"The Chi-Squared critical value for precipitation is {precip_crit_value}. \") "
   ]
  },
  {
   "cell_type": "code",
<<<<<<< HEAD
   "execution_count": 43,
=======
   "execution_count": 68,
>>>>>>> be6d7260786043b32f6b5e93c1c4bd70d812ee9f
   "id": "dc0ee7bc",
   "metadata": {},
   "outputs": [
    {
     "data": {
<<<<<<< HEAD
      "image/png": "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\n",
=======
      "text/plain": [
       "Power_divergenceResult(statistic=0.018651086400424045, pvalue=0.8913714967950712)"
      ]
     },
     "execution_count": 68,
     "metadata": {},
     "output_type": "execute_result"
    }
   ],
   "source": [
    "# Run the chi square test with st.chisquare()\n",
    "st.chisquare(precip_df['Observed'], precip_df['Expected'])"
   ]
  },
  {
   "cell_type": "markdown",
   "id": "b1a42df8",
   "metadata": {},
   "source": [
    "CONCLUSION FOR IMPACT OF PRECIPITATION ON CRIME RATE: The chi-squared value of 0.0186 exceeds the critical value of 3.84 and we conclude that the results are NOT statistically significant."
   ]
  },
  {
   "cell_type": "markdown",
   "id": "a9f3bb71",
   "metadata": {},
   "source": [
    "### Testing Correlation Between Precipitation and Crime"
   ]
  },
  {
   "cell_type": "code",
   "execution_count": 101,
   "id": "d86d1d3c",
   "metadata": {},
   "outputs": [
    {
     "name": "stdout",
     "output_type": "stream",
     "text": [
      "The average of crimes per day with no precipitation: 76.1063829787234\n",
      "The median of crimes per day with no precipitation: 75.0\n",
      "The mode of crimes per day with no precipitation: 0    64\n",
      "1    75\n",
      "dtype: int64\n",
      "The average crimes per day with precipitation: 74.43076923076923\n",
      "The median crimes per day with precipitation: 75.0\n",
      "The mode of crimes per day with precipitation: 0    75\n",
      "dtype: int64\n"
     ]
    }
   ],
   "source": [
    "#This could maybe be deleted, to be confirmed\n",
    "data.groupby(['Precipitation', 'Start Date']).count()\n",
    "\n",
    "no_precip = data.loc[data['Precipitation'] == 'No Precipitation', :]\n",
    "no_precip_group = pd.DataFrame(no_precip.groupby('Start Date').count())\n",
    "avg_crime_no_precip = (no_precip_group['ID']).mean()\n",
    "median_crime_no_precip = (no_precip_group['ID']).median()\n",
    "mode_crimes_no_precip = (no_precip_group['ID']).mode()\n",
    "print(f\"The average of crimes per day with no precipitation: {avg_crime_no_precip}\")\n",
    "print(f\"The median of crimes per day with no precipitation: {median_crime_no_precip}\")\n",
    "print(f\"The mode of crimes per day with no precipitation: {mode_crimes_no_precip}\")\n",
    "\n",
    "precip = data.loc[data['Precipitation'] == 'Precipitation', :]\n",
    "precip_group = pd.DataFrame(precip.groupby('Start Date').count())\n",
    "avg_crime_precip = (precip_group['ID']).mean()\n",
    "median_crime_precip = (precip_group['ID']).median()\n",
    "mode_crimes_precip = (precip_group['ID']).mode()\n",
    "print(f\"The average crimes per day with precipitation: {avg_crime_precip}\")\n",
    "print(f\"The median crimes per day with precipitation: {median_crime_precip}\")\n",
    "print(f\"The mode of crimes per day with precipitation: {mode_crimes_precip}\")"
   ]
  },
  {
   "cell_type": "code",
   "execution_count": 89,
   "id": "38b35296",
   "metadata": {},
   "outputs": [
    {
     "name": "stdout",
     "output_type": "stream",
     "text": [
      "Average crime over all 365 days: 75.5095890410959\n"
     ]
    },
    {
     "data": {
      "text/plain": [
       "3.841458820694124"
      ]
     },
     "execution_count": 89,
     "metadata": {},
     "output_type": "execute_result"
    }
   ],
   "source": [
    "# Chi-Squared Analysis\n",
    "#χ2 test of Independence - used to decide whether there is a relationship between two variables of a population. \n",
    "# Useful when analyzing survey results of 2 categorical variables.\n",
    "# H₀: The two categorical variables have no relationship\n",
    "# H₁: There is a relationship between two categorical variables\n",
    "# The number of degrees of freedom of the χ2 independence test statistics: d.f. = (# rows -1) *(#columns-1)\n",
    "\n",
    "observed = pd.Series([76.1063829787234, 74.43076923076923], index=['No Precipitation', 'Precipitation'])\n",
    "chi_df = pd.DataFrame([observed]).T\n",
    "\n",
    "# Expected avg crime per day\n",
    "grouped = pd.DataFrame(data.groupby('Start Date').count())\n",
    "avg_crime_total = grouped['ID'].mean()\n",
    "print(f\"Average crime over all 365 days: {avg_crime_total}\")\n",
    "\n",
    "# Column of expected values\n",
    "chi_df[1] = avg_crime_total\n",
    "chi_df.columns = ['observed', 'expected']\n",
    "\n",
    "# Degrees of freedom 2 - 1 = 1\n",
    "# With a p-value of 0.05, the confidence level is 1.00-0.05 = 0.95.\n",
    "critical_value = st.chi2.ppf(q = 0.95, df = 1)\n",
    "critical_value"
   ]
  },
  {
   "cell_type": "code",
   "execution_count": 90,
   "id": "2a8435d0",
   "metadata": {},
   "outputs": [
    {
     "data": {
      "text/plain": [
       "Power_divergenceResult(statistic=0.020130094819016196, pvalue=0.8871743456255738)"
      ]
     },
     "execution_count": 90,
     "metadata": {},
     "output_type": "execute_result"
    }
   ],
   "source": [
    "# Chi Squared\n",
    "st.chisquare(chi_df['observed'], chi_df['expected'])"
   ]
  },
  {
   "cell_type": "code",
   "execution_count": 91,
   "id": "c1fa00f2",
   "metadata": {},
   "outputs": [
    {
     "data": {
      "text/plain": [
       "<BarContainer object of 2 artists>"
      ]
     },
     "execution_count": 91,
     "metadata": {},
     "output_type": "execute_result"
    },
    {
     "data": {
      "image/png": "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",
>>>>>>> be6d7260786043b32f6b5e93c1c4bd70d812ee9f
      "text/plain": [
       "<Figure size 640x480 with 1 Axes>"
      ]
     },
     "metadata": {},
     "output_type": "display_data"
    }
   ],
   "source": [
    "# Visualization\n",
    "x_axis = ['No Precipitation', \"Precipitation\"]\n",
    "y_axis = [avg_crime_no_precip, avg_crime_precip]\n",
    "plt.bar(x_axis, y_axis)\n",
    "# plt.title(\"\"\"Total Number of Crimes Reported\n",
    "# Precipitation vs. No Precipitation\"\"\")\n",
    "# plt.xticks(tick_locations, precip)\n",
    "# plt.xlabel('Precipitation')\n",
    "# plt.ylabel('Crimes Reported')\n",
    "# plt.ylim(top=30000)\n",
    "# for index,data in enumerate((crime_weather.groupby(precip_col).count()['ID'])):\n",
    "#     plt.text(x=index , y=data+250 , s=f\"{data}\", ha='center')\n",
    "# plt.show()"
   ]
  },
  {
   "cell_type": "markdown",
   "id": "07baacee",
   "metadata": {},
   "source": [
    "### Testing Correlation Between Temperature and Crime"
   ]
  },
  {
   "cell_type": "code",
<<<<<<< HEAD
   "execution_count": 44,
=======
   "execution_count": 92,
   "id": "84dd7ce5",
   "metadata": {},
   "outputs": [
    {
     "name": "stdout",
     "output_type": "stream",
     "text": [
      "The lower quartile is 46.7\n",
      "The upper quartile is 76.0\n"
     ]
    },
    {
     "data": {
      "image/png": "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",
      "text/plain": [
       "<Figure size 432x288 with 1 Axes>"
      ]
     },
     "metadata": {
      "needs_background": "light"
     },
     "output_type": "display_data"
    }
   ],
   "source": [
    "# Identify low, moderate, high temperatures\n",
    "weather_file = \"output_data/dc_weather.csv\"\n",
    "weather_day = pd.read_csv(weather_file)\n",
    "\n",
    "quartiles = weather_day['avgtemp_f'].quantile([.25,.5,.75])\n",
    "lowerq = quartiles[0.25]\n",
    "upperq = quartiles[0.75]\n",
    "print(f\"The lower quartile is {lowerq}\")\n",
    "print(f\"The upper quartile is {upperq}\")\n",
    "\n",
    "fig1, ax1 = plt.subplots()\n",
    "ax1.set_ylabel('Avg Temp (f)')\n",
    "ax1.boxplot(weather_day['avgtemp_f'])\n",
    "flierprops={'marker': 'o', 'markersize': 12, 'markerfacecolor': 'red'}\n",
    "plt.show()"
   ]
  },
  {
   "cell_type": "code",
   "execution_count": 103,
   "id": "998e0775",
   "metadata": {},
   "outputs": [
    {
     "name": "stdout",
     "output_type": "stream",
     "text": [
      "The average of crimes per day with low temperature: 75.08791208791209\n",
      "The median of crimes per day with low temperature: 75.0\n",
      "The mode of crimes per day with low temperature: 0    75\n",
      "dtype: int64\n",
      "The average of crimes per day with moderate temperature: 73.89247311827957\n",
      "The median of crimes per day with moderate temperature: 74.0\n",
      "The mode of crimes per day with moderate temperature: 0    75\n",
      "dtype: int64\n",
      "The average of crimes per day with high temperature: 79.36363636363636\n",
      "The median of crimes per day with high temperature: 79.5\n",
      "The mode of crimes per day with high temperature: 0    78\n",
      "dtype: int64\n"
     ]
    }
   ],
   "source": [
    "bins = [0, 46.6, 76.1, 100]\n",
    "bin_labels = ['low', 'moderate', 'high']\n",
    "\n",
    "# organize weather by bins\n",
    "data['Temperature Level'] = pd.cut(data['Avg Temp (f)'], bins, labels=bin_labels, include_lowest=True)\n",
    "\n",
    "# Avg crime per day low temperature\n",
    "low_weather = data.loc[data['Temperature Level'] == 'low', :]\n",
    "low_group = pd.DataFrame(low_weather.groupby('Start Date').count())\n",
    "avg_crime_low = (low_group['ID']).mean()\n",
    "median_crime_low = (low_group['ID']).median()\n",
    "mode_crime_low = (low_group['ID']).mode()\n",
    "print(f\"The average of crimes per day with low temperature: {avg_crime_low}\")\n",
    "print(f\"The median of crimes per day with low temperature: {median_crime_low}\")\n",
    "print(f\"The mode of crimes per day with low temperature: {mode_crime_low}\")\n",
    "\n",
    "# Avg crime per day moderate temperature\n",
    "mod_weather = data.loc[data['Temperature Level'] == 'moderate', :]\n",
    "mod_group = pd.DataFrame(mod_weather.groupby('Start Date').count())\n",
    "avg_crime_mod = (mod_group['ID']).mean()\n",
    "median_crime_mod = (mod_group['ID']).median()\n",
    "mode_crime_mod = (mod_group['ID']).mode()\n",
    "print(f\"The average of crimes per day with moderate temperature: {avg_crime_mod}\")\n",
    "print(f\"The median of crimes per day with moderate temperature: {median_crime_mod}\")\n",
    "print(f\"The mode of crimes per day with moderate temperature: {mode_crime_mod}\")\n",
    "\n",
    "# Avg crime per day high temperature\n",
    "high_weather = data.loc[data['Temperature Level'] == 'high', :]\n",
    "high_group = pd.DataFrame(high_weather.groupby('Start Date').count())\n",
    "avg_crime_high = (high_group['ID']).mean()\n",
    "median_crime_high = (high_group['ID']).median()\n",
    "mode_crime_high = (high_group['ID']).mode()\n",
    "print(f\"The average of crimes per day with high temperature: {avg_crime_high}\")\n",
    "print(f\"The median of crimes per day with high temperature: {median_crime_high}\")\n",
    "print(f\"The mode of crimes per day with high temperature: {mode_crime_high}\")"
   ]
  },
  {
   "cell_type": "code",
   "execution_count": 94,
   "id": "75621ec7",
   "metadata": {},
   "outputs": [
    {
     "data": {
      "text/plain": [
       "F_onewayResult(statistic=2.392428475274271, pvalue=0.0949583910975129)"
      ]
     },
     "execution_count": 94,
     "metadata": {},
     "output_type": "execute_result"
    }
   ],
   "source": [
    "# One-way ANOVA Test\n",
    "# Perform the ANOVA\n",
    "# Take samples of 50 from each group.\n",
    "low_sample = random.sample(list(low_group['ID']), k=50)\n",
    "mod_sample = random.sample(list(mod_group['ID']), k=50)\n",
    "high_sample = random.sample(list(high_group['ID']), k=50)\n",
    "st.f_oneway(low_sample, mod_sample, high_sample)\n"
   ]
  },
  {
   "cell_type": "code",
   "execution_count": 95,
   "id": "c253f6e0",
   "metadata": {},
   "outputs": [
    {
     "data": {
      "image/png": "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",
      "text/plain": [
       "<Figure size 432x288 with 1 Axes>"
      ]
     },
     "metadata": {
      "needs_background": "light"
     },
     "output_type": "display_data"
    }
   ],
   "source": [
    "# Box plot\n",
    "box_plot = []\n",
    "box_plot.append(low_sample)\n",
    "box_plot.append(mod_sample)\n",
    "box_plot.append(high_sample)\n",
    "\n",
    "temperature_label = ['low', 'moderate', 'high']\n",
    "\n",
    "fig1, ax1 = plt.subplots()\n",
    "ax1.set_ylabel('Crimes Reported Per Day')\n",
    "ax1.boxplot(box_plot, labels=temperature_label)\n",
    "flierprops={'marker': 'o', 'markersize': 12, 'markerfacecolor': 'red'}\n",
    "plt.show()"
   ]
  },
  {
   "cell_type": "markdown",
   "id": "5cc35c4c",
   "metadata": {},
   "source": [
    "### Testing Correlation Between Humidity and Crime"
   ]
  },
  {
   "cell_type": "code",
   "execution_count": 96,
   "id": "bf1b8b97",
   "metadata": {},
   "outputs": [
    {
     "name": "stdout",
     "output_type": "stream",
     "text": [
      "The lower quartile is 55.0\n",
      "The upper quartile is 76.0\n"
     ]
    },
    {
     "data": {
      "image/png": "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",
      "text/plain": [
       "<Figure size 432x288 with 1 Axes>"
      ]
     },
     "metadata": {
      "needs_background": "light"
     },
     "output_type": "display_data"
    }
   ],
   "source": [
    "# Identify low, moderate, high humidity levels\n",
    "weather_file = \"output_data/dc_weather.csv\"\n",
    "weather_day = pd.read_csv(weather_file)\n",
    "\n",
    "quartiles = weather_day['avghumidity'].quantile([.25,.5,.75])\n",
    "lowerq = quartiles[0.25]\n",
    "upperq = quartiles[0.75]\n",
    "print(f\"The lower quartile is {lowerq}\")\n",
    "print(f\"The upper quartile is {upperq}\")\n",
    "\n",
    "fig1, ax1 = plt.subplots()\n",
    "ax1.set_ylabel('Avg Humidity (%)')\n",
    "ax1.boxplot(weather_day['avghumidity'])\n",
    "flierprops={'marker': 'o', 'markersize': 12, 'markerfacecolor': 'red'}\n",
    "plt.show()"
   ]
  },
  {
   "cell_type": "code",
   "execution_count": 105,
   "id": "a9b96434",
   "metadata": {},
   "outputs": [
    {
     "name": "stdout",
     "output_type": "stream",
     "text": [
      "The average crimes per day with low humidity: 75.04819277108433\n",
      "The median of crimes per day with low humidity: 75.0\n",
      "The mode of crimes per day with low humidity: 0    73\n",
      "dtype: int64\n",
      "The average crimes per day with moderate humidity: 76.01069518716578\n",
      "The median of crimes per day with moderate humidity: 76.0\n",
      "The mode of crimes per day with moderate humidity: 0    75\n",
      "dtype: int64\n",
      "The average crimes per day with high humidity: 74.92631578947369\n",
      "The median of crimes per day with high humidity: 75.0\n",
      "The mode of crimes per day with high humidity: 0    75\n",
      "dtype: int64\n"
     ]
    }
   ],
   "source": [
    "bins = [0, 54.9, 75.9, 100]\n",
    "bin_labels = ['low humidity', 'moderate humidity', 'high humidity']\n",
    "\n",
    "# organize weather by bins\n",
    "data['Humidity Level'] = pd.cut(data['Avg Humidity (%)'], bins, labels=bin_labels, include_lowest=True)\n",
    "\n",
    "# Avg crime per day low humidity\n",
    "low_humidity = data.loc[data['Humidity Level'] == 'low humidity', :]\n",
    "low_humidity_group = pd.DataFrame(low_humidity.groupby('Start Date').count())\n",
    "avg_crime_low_humidity = (low_humidity_group['ID']).mean()\n",
    "median_crime_low_humidity = (low_humidity_group['ID']).median()\n",
    "mode_crime_low_humidity = (low_humidity_group['ID']).mode()\n",
    "print(f\"The average crimes per day with low humidity: {avg_crime_low_humidity}\")\n",
    "print(f\"The median of crimes per day with low humidity: {median_crime_low_humidity}\")\n",
    "print(f\"The mode of crimes per day with low humidity: {mode_crime_low_humidity}\")\n",
    "\n",
    "# Avg crime per day moderate humidity\n",
    "mod_humidity = data.loc[data['Humidity Level'] == 'moderate humidity', :]\n",
    "mod_humidity_group = pd.DataFrame(mod_humidity.groupby('Start Date').count())\n",
    "avg_crime_mod_humidity = (mod_humidity_group['ID']).mean()\n",
    "median_crime_mod_humidity = (mod_humidity_group['ID']).median()\n",
    "mode_crime_mod_humidity = (mod_humidity_group['ID']).mode()\n",
    "print(f\"The average crimes per day with moderate humidity: {avg_crime_mod_humidity}\")\n",
    "print(f\"The median of crimes per day with moderate humidity: {median_crime_mod_humidity}\")\n",
    "print(f\"The mode of crimes per day with moderate humidity: {mode_crime_mod_humidity}\")\n",
    "\n",
    "# Avg crime per day high humidity\n",
    "high_humidity = data.loc[data['Humidity Level'] == 'high humidity', :]\n",
    "high_humidity_group = pd.DataFrame(high_humidity.groupby('Start Date').count())\n",
    "avg_crime_high_humidity = (high_humidity_group['ID']).mean()\n",
    "median_crime_high_humidity = (high_humidity_group['ID']).median()\n",
    "mode_crime_high_humidity = (high_humidity_group['ID']).mode()\n",
    "print(f\"The average crimes per day with high humidity: {avg_crime_high_humidity}\")\n",
    "print(f\"The median of crimes per day with high humidity: {median_crime_high_humidity}\")\n",
    "print(f\"The mode of crimes per day with high humidity: {mode_crime_high_humidity}\")"
   ]
  },
  {
   "cell_type": "code",
   "execution_count": 98,
   "id": "7c277b2a",
   "metadata": {},
   "outputs": [
    {
     "data": {
      "text/plain": [
       "F_onewayResult(statistic=1.0009307885695513, pvalue=0.37002798251637)"
      ]
     },
     "execution_count": 98,
     "metadata": {},
     "output_type": "execute_result"
    }
   ],
   "source": [
    "# One-way ANOVA Test\n",
    "# Perform the ANOVA\n",
    "# Take samples of 50 from each group.\n",
    "low_humidity_sample = random.sample(list(low_humidity_group['ID']), k=50)\n",
    "mod_humidity_sample = random.sample(list(mod_humidity_group['ID']), k=50)\n",
    "high_humidity_sample = random.sample(list(high_humidity_group['ID']), k=50)\n",
    "st.f_oneway(low_humidity_sample, mod_humidity_sample, high_humidity_sample)"
   ]
  },
  {
   "cell_type": "code",
   "execution_count": 99,
   "id": "d3436107",
   "metadata": {},
   "outputs": [
    {
     "data": {
      "image/png": "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",
      "text/plain": [
       "<Figure size 432x288 with 1 Axes>"
      ]
     },
     "metadata": {
      "needs_background": "light"
     },
     "output_type": "display_data"
    }
   ],
   "source": [
    "# Box plot\n",
    "box_plot = []\n",
    "box_plot.append(low_humidity_sample)\n",
    "box_plot.append(mod_humidity_sample)\n",
    "box_plot.append(high_humidity_sample)\n",
    "\n",
    "humidity_label = ['low humidity', 'moderate humidity', 'high humidity']\n",
    "\n",
    "fig1, ax1 = plt.subplots()\n",
    "ax1.set_ylabel('Crimes Reported Per Day')\n",
    "ax1.boxplot(box_plot, labels=temperature_label)\n",
    "flierprops={'marker': 'o', 'markersize': 12, 'markerfacecolor': 'red'}\n",
    "plt.show()"
   ]
  },
  {
   "cell_type": "markdown",
   "id": "16be11dc",
   "metadata": {},
   "source": [
    "### Testing Correlation Between Precipitation and Crime\n",
    "#### Motor Vehicle Theft and Theft F/Auto Only"
   ]
  },
  {
   "cell_type": "code",
   "execution_count": 102,
>>>>>>> be6d7260786043b32f6b5e93c1c4bd70d812ee9f
   "id": "5052e0f5",
   "metadata": {},
   "outputs": [
    {
     "name": "stdout",
     "output_type": "stream",
     "text": [
      "The average of crimes per day with no precipitation: 33.11914893617021\n",
      "The median of crimes per day with no precipitation: 33.0\n",
      "The mode of crimes per day with no precipitation: 0    27\n",
      "1    35\n",
      "dtype: int64\n",
      "The average crimes per day with precipitation: 31.976923076923075\n",
      "The median crimes per day with precipitation: 31.0\n",
      "The mode of crimes per day with precipitation: 0    28\n",
      "dtype: int64\n"
     ]
    }
   ],
   "source": [
    "# Finding average motor vehicle and theft f/auto crime per day precipitation vs. no precipitation\n",
    "data_limited = pd.DataFrame(data.loc[(data['Offense Text'] == 'motor vehicle theft') | (data['Offense Text'] == 'theft f/auto'), :])\n",
    "precip_col = np.where((data_limited['Total Precipitation (in)']) > 0, 'Precipitation', 'No Precipitation')\n",
    "data_limited['Precipitation'] = precip_col\n",
    "data_limited.groupby(['Precipitation', 'Start Date']).count()\n",
    "\n",
    "no_precip = data_limited.loc[data_limited['Precipitation'] == 'No Precipitation', :]\n",
    "no_precip_group = pd.DataFrame(no_precip.groupby('Start Date').count())\n",
    "avg_crime_no_precip = (no_precip_group['ID']).mean()\n",
    "median_crime_no_precip = (no_precip_group['ID']).median()\n",
    "mode_crimes_no_precip = (no_precip_group['ID']).mode()\n",
    "print(f\"The average of crimes per day with no precipitation: {avg_crime_no_precip}\")\n",
    "print(f\"The median of crimes per day with no precipitation: {median_crime_no_precip}\")\n",
    "print(f\"The mode of crimes per day with no precipitation: {mode_crimes_no_precip}\")\n",
    "\n",
    "precip = data_limited.loc[data_limited['Precipitation'] == 'Precipitation', :]\n",
    "precip_group = pd.DataFrame(precip.groupby('Start Date').count())\n",
    "avg_crime_precip = (precip_group['ID']).mean()\n",
    "median_crime_precip = (precip_group['ID']).median()\n",
    "mode_crimes_precip = (precip_group['ID']).mode()\n",
    "print(f\"The average crimes per day with precipitation: {avg_crime_precip}\")\n",
    "print(f\"The median crimes per day with precipitation: {median_crime_precip}\")\n",
    "print(f\"The mode of crimes per day with precipitation: {mode_crimes_precip}\")\n",
    "\n"
   ]
  },
  {
   "cell_type": "code",
<<<<<<< HEAD
   "execution_count": 45,
=======
   "execution_count": 86,
>>>>>>> be6d7260786043b32f6b5e93c1c4bd70d812ee9f
   "id": "8b75a155",
   "metadata": {},
   "outputs": [
    {
     "name": "stdout",
     "output_type": "stream",
     "text": [
      "Average crime over all 365 days: 32.71232876712329\n"
     ]
    },
    {
     "data": {
      "text/plain": [
       "3.841458820694124"
      ]
     },
<<<<<<< HEAD
     "execution_count": 45,
=======
     "execution_count": 86,
>>>>>>> be6d7260786043b32f6b5e93c1c4bd70d812ee9f
     "metadata": {},
     "output_type": "execute_result"
    }
   ],
   "source": [
    "# Chi-Squared Analysis\n",
    "observed = pd.Series([33.11914893617021, 31.976923076923075], index=['No Precipitation', 'Precipitation'])\n",
    "chi_df = pd.DataFrame([observed]).T\n",
    "\n",
    "# Expected avg crime per day\n",
    "grouped = pd.DataFrame(data_limited.groupby('Start Date').count())\n",
    "avg_crime_total = grouped['ID'].mean()\n",
    "print(f\"Average crime over all 365 days: {avg_crime_total}\")\n",
    "\n",
    "# Column of expected values\n",
    "chi_df[1] = avg_crime_total\n",
    "chi_df.columns = ['observed', 'expected']\n",
    "\n",
    "# Degrees of freedom 2 - 1 = 1\n",
    "# With a p-value of 0.05, the confidence level is 1.00-0.05 = 0.95.\n",
    "critical_value = st.chi2.ppf(q = 0.95, df = 1)\n",
    "critical_value\n"
   ]
  },
  {
   "cell_type": "code",
<<<<<<< HEAD
   "execution_count": 46,
=======
   "execution_count": 87,
>>>>>>> be6d7260786043b32f6b5e93c1c4bd70d812ee9f
   "id": "2b487bc7",
   "metadata": {},
   "outputs": [
    {
<<<<<<< HEAD
     "ename": "ValueError",
     "evalue": "For each axis slice, the sum of the observed frequencies must agree with the sum of the expected frequencies to a relative tolerance of 1e-08, but the percent differences are:\n0.00504770120518478",
     "output_type": "error",
     "traceback": [
      "\u001b[1;31m---------------------------------------------------------------------------\u001b[0m",
      "\u001b[1;31mValueError\u001b[0m                                Traceback (most recent call last)",
      "\u001b[1;32m~\\AppData\\Local\\Temp\\ipykernel_14136\\569973217.py\u001b[0m in \u001b[0;36m<module>\u001b[1;34m\u001b[0m\n\u001b[0;32m      1\u001b[0m \u001b[1;31m# Chi Squared\u001b[0m\u001b[1;33m\u001b[0m\u001b[1;33m\u001b[0m\u001b[0m\n\u001b[1;32m----> 2\u001b[1;33m \u001b[0mst\u001b[0m\u001b[1;33m.\u001b[0m\u001b[0mchisquare\u001b[0m\u001b[1;33m(\u001b[0m\u001b[0mchi_df\u001b[0m\u001b[1;33m[\u001b[0m\u001b[1;34m'observed'\u001b[0m\u001b[1;33m]\u001b[0m\u001b[1;33m,\u001b[0m \u001b[0mchi_df\u001b[0m\u001b[1;33m[\u001b[0m\u001b[1;34m'expected'\u001b[0m\u001b[1;33m]\u001b[0m\u001b[1;33m)\u001b[0m\u001b[1;33m\u001b[0m\u001b[1;33m\u001b[0m\u001b[0m\n\u001b[0m",
      "\u001b[1;32m~\\Anaconda3\\lib\\site-packages\\scipy\\stats\\_stats_py.py\u001b[0m in \u001b[0;36mchisquare\u001b[1;34m(f_obs, f_exp, ddof, axis)\u001b[0m\n\u001b[0;32m   7303\u001b[0m \u001b[1;33m\u001b[0m\u001b[0m\n\u001b[0;32m   7304\u001b[0m     \"\"\"\n\u001b[1;32m-> 7305\u001b[1;33m     return power_divergence(f_obs, f_exp=f_exp, ddof=ddof, axis=axis,\n\u001b[0m\u001b[0;32m   7306\u001b[0m                             lambda_=\"pearson\")\n\u001b[0;32m   7307\u001b[0m \u001b[1;33m\u001b[0m\u001b[0m\n",
      "\u001b[1;32m~\\Anaconda3\\lib\\site-packages\\scipy\\stats\\_stats_py.py\u001b[0m in \u001b[0;36mpower_divergence\u001b[1;34m(f_obs, f_exp, ddof, axis, lambda_)\u001b[0m\n\u001b[0;32m   7145\u001b[0m                    \u001b[1;34mf\"of {rtol}, but the percent differences are:\\n\"\u001b[0m\u001b[1;33m\u001b[0m\u001b[1;33m\u001b[0m\u001b[0m\n\u001b[0;32m   7146\u001b[0m                    f\"{relative_diff}\")\n\u001b[1;32m-> 7147\u001b[1;33m             \u001b[1;32mraise\u001b[0m \u001b[0mValueError\u001b[0m\u001b[1;33m(\u001b[0m\u001b[0mmsg\u001b[0m\u001b[1;33m)\u001b[0m\u001b[1;33m\u001b[0m\u001b[1;33m\u001b[0m\u001b[0m\n\u001b[0m\u001b[0;32m   7148\u001b[0m \u001b[1;33m\u001b[0m\u001b[0m\n\u001b[0;32m   7149\u001b[0m     \u001b[1;32melse\u001b[0m\u001b[1;33m:\u001b[0m\u001b[1;33m\u001b[0m\u001b[1;33m\u001b[0m\u001b[0m\n",
      "\u001b[1;31mValueError\u001b[0m: For each axis slice, the sum of the observed frequencies must agree with the sum of the expected frequencies to a relative tolerance of 1e-08, but the percent differences are:\n0.00504770120518478"
     ]
=======
     "data": {
      "text/plain": [
       "Power_divergenceResult(statistic=0.021591987050218614, pvalue=0.8831777046620007)"
      ]
     },
     "execution_count": 87,
     "metadata": {},
     "output_type": "execute_result"
>>>>>>> be6d7260786043b32f6b5e93c1c4bd70d812ee9f
    }
   ],
   "source": [
    "# Chi Squared\n",
    "st.chisquare(chi_df['observed'], chi_df['expected'])"
   ]
  },
  {
   "cell_type": "code",
<<<<<<< HEAD
   "execution_count": 47,
=======
   "execution_count": 88,
>>>>>>> be6d7260786043b32f6b5e93c1c4bd70d812ee9f
   "id": "dab53e8d",
   "metadata": {},
   "outputs": [
    {
     "data": {
      "text/plain": [
       "<BarContainer object of 2 artists>"
      ]
     },
<<<<<<< HEAD
     "execution_count": 47,
=======
     "execution_count": 88,
>>>>>>> be6d7260786043b32f6b5e93c1c4bd70d812ee9f
     "metadata": {},
     "output_type": "execute_result"
    },
    {
     "data": {
<<<<<<< HEAD
      "image/png": "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\n",
=======
      "image/png": "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",
>>>>>>> be6d7260786043b32f6b5e93c1c4bd70d812ee9f
      "text/plain": [
       "<Figure size 640x480 with 1 Axes>"
      ]
     },
     "metadata": {},
     "output_type": "display_data"
    }
   ],
   "source": [
    "# Visualization\n",
    "x_axis = ['No Precipitation', \"Precipitation\"]\n",
    "y_axis = [avg_crime_no_precip, avg_crime_precip]\n",
    "plt.bar(x_axis, y_axis)\n",
    "# plt.title(\"\"\"Total Number of Crimes Reported\n",
    "# Precipitation vs. No Precipitation\"\"\")\n",
    "# plt.xticks(tick_locations, precip)\n",
    "# plt.xlabel('Precipitation')\n",
    "# plt.ylabel('Crimes Reported')\n",
    "# plt.ylim(top=30000)\n",
    "# for index,data in enumerate((crime_weather.groupby(precip_col).count()['ID'])):\n",
    "#     plt.text(x=index , y=data+250 , s=f\"{data}\", ha='center')\n",
    "# plt.show()\n"
   ]
  },
  {
   "cell_type": "markdown",
   "id": "06fbe9cc",
   "metadata": {},
   "source": [
    "### Testing Correlation Between Temperature and Crime\n",
    "#### Motor Vehicle Theft and Theft F/Auto Only"
   ]
  },
  {
   "cell_type": "code",
   "execution_count": 49,
   "id": "422edfbb",
   "metadata": {},
   "outputs": [
    {
     "name": "stdout",
     "output_type": "stream",
     "text": [
      "The lower quartile is 46.7\n",
      "The upper quartile is 76.0\n"
     ]
    },
    {
     "data": {
      "image/png": "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\n",
      "text/plain": [
       "<Figure size 640x480 with 1 Axes>"
      ]
     },
     "metadata": {},
     "output_type": "display_data"
    }
   ],
   "source": [
    "# Identify low, moderate, high temperatures\n",
    "# weather_file = \"output_data/dc_weather.csv\"\n",
    "# weather_day = pd.read_csv(weather_file)\n",
    "\n",
    "quartiles = weather_day['avgtemp_f'].quantile([.25, .50, .75])\n",
    "lowerq = quartiles[0.25]\n",
    "upperq = quartiles[0.75]\n",
    "print(f\"The lower quartile is {lowerq}\")\n",
    "print(f\"The upper quartile is {upperq}\")\n",
    "\n",
    "fig1, ax1 = plt.subplots()\n",
    "ax1.set_ylabel('Avg Temp (f)')\n",
    "ax1.boxplot(weather_day['avgtemp_f'])\n",
    "flierprops={'marker': 'o', 'markersize': 12, 'markerfacecolor': 'red'}\n",
    "plt.show()"
   ]
  },
  {
   "cell_type": "code",
<<<<<<< HEAD
   "execution_count": 50,
=======
   "execution_count": 104,
>>>>>>> be6d7260786043b32f6b5e93c1c4bd70d812ee9f
   "id": "b59b39f2",
   "metadata": {},
   "outputs": [
    {
     "name": "stdout",
     "output_type": "stream",
     "text": [
<<<<<<< HEAD
      "The average crimes per day with low temperature: 34.48913043478261\n",
      "The average crimes per day with moderate temperature: 31.715846994535518\n",
      "The average crimes per day with high temperature: 32.922222222222224\n"
=======
      "The average of crimes per day with low temperature: 34.56043956043956\n",
      "The median of crimes per day with low temperature: 34.0\n",
      "The mode of crimes per day with low temperature: 0    28\n",
      "1    33\n",
      "2    44\n",
      "dtype: int64\n",
      "The average of crimes per day with moderate temperature: 31.817204301075268\n",
      "The median of crimes per day with moderate temperature: 31.5\n",
      "The mode of crimes per day with moderate temperature: 0    32\n",
      "dtype: int64\n",
      "The average of crimes per day with high temperature: 32.69318181818182\n",
      "The median of crimes per day with high temperature: 32.0\n",
      "The mode of crimes per day with high temperature: 0    29\n",
      "1    31\n",
      "dtype: int64\n"
>>>>>>> be6d7260786043b32f6b5e93c1c4bd70d812ee9f
     ]
    }
   ],
   "source": [
    "bins = [0, 46.7, 76, 100]\n",
    "bin_labels = ['low', 'moderate', 'high']\n",
    "\n",
    "# organize weather by bins\n",
    "data_limited['Temperature Level'] = pd.cut(data_limited['Avg Temp (f)'], bins, labels=bin_labels, include_lowest=True)\n",
    "\n",
    "# Avg crime per day low temperature\n",
    "low_weather = data_limited.loc[data_limited['Temperature Level'] == 'low', :]\n",
    "low_group = pd.DataFrame(low_weather.groupby('Start Date').count())\n",
    "avg_crime_low = (low_group['ID']).mean()\n",
    "median_crime_low = (low_group['ID']).median()\n",
    "mode_crime_low = (low_group['ID']).mode()\n",
    "print(f\"The average of crimes per day with low temperature: {avg_crime_low}\")\n",
    "print(f\"The median of crimes per day with low temperature: {median_crime_low}\")\n",
    "print(f\"The mode of crimes per day with low temperature: {mode_crime_low}\")\n",
    "\n",
    "# Avg crime per day moderate temperature\n",
    "mod_weather = data_limited.loc[data_limited['Temperature Level'] == 'moderate', :]\n",
    "mod_group = pd.DataFrame(mod_weather.groupby('Start Date').count())\n",
    "avg_crime_mod = (mod_group['ID']).mean()\n",
    "median_crime_mod = (mod_group['ID']).median()\n",
    "mode_crime_mod = (mod_group['ID']).mode()\n",
    "print(f\"The average of crimes per day with moderate temperature: {avg_crime_mod}\")\n",
    "print(f\"The median of crimes per day with moderate temperature: {median_crime_mod}\")\n",
    "print(f\"The mode of crimes per day with moderate temperature: {mode_crime_mod}\")\n",
    "\n",
    "# Avg crime per day high temperature\n",
    "high_weather = data_limited.loc[data_limited['Temperature Level'] == 'high', :]\n",
    "high_group = pd.DataFrame(high_weather.groupby('Start Date').count())\n",
    "avg_crime_high = (high_group['ID']).mean()\n",
    "median_crime_high = (high_group['ID']).median()\n",
    "mode_crime_high = (high_group['ID']).mode()\n",
    "print(f\"The average of crimes per day with high temperature: {avg_crime_high}\")\n",
    "print(f\"The median of crimes per day with high temperature: {median_crime_high}\")\n",
    "print(f\"The mode of crimes per day with high temperature: {mode_crime_high}\")"
   ]
  },
  {
   "cell_type": "code",
   "execution_count": 51,
   "id": "05b79ddd",
   "metadata": {},
   "outputs": [
    {
     "data": {
      "text/plain": [
       "F_onewayResult(statistic=3.3328817075792263, pvalue=0.038406606834932404)"
      ]
     },
     "execution_count": 51,
     "metadata": {},
     "output_type": "execute_result"
    }
   ],
   "source": [
    "# One-way ANOVA Test\n",
    "# Perform the ANOVA\n",
    "# Take samples of 50 from each group.\n",
    "low_sample = random.sample(list(low_group['ID']), k=50)\n",
    "mod_sample = random.sample(list(mod_group['ID']), k=50)\n",
    "high_sample = random.sample(list(high_group['ID']), k=50)\n",
    "st.f_oneway(low_sample, mod_sample, high_sample)\n",
    "\n",
    "\n"
   ]
  },
  {
   "cell_type": "code",
   "execution_count": 22,
   "id": "ceee4ed6",
   "metadata": {},
   "outputs": [
    {
     "data": {
      "image/png": "iVBORw0KGgoAAAANSUhEUgAAAjMAAAGdCAYAAADnrPLBAAAAOXRFWHRTb2Z0d2FyZQBNYXRwbG90bGliIHZlcnNpb24zLjUuMiwgaHR0cHM6Ly9tYXRwbG90bGliLm9yZy8qNh9FAAAACXBIWXMAAA9hAAAPYQGoP6dpAAA4jElEQVR4nO3de1xVVf7/8fdR9ASKpClwVEJUUBEob6l4rzS1zMvkNGOm1oxTqZWjZqll2ChMfdPs6kxNY5maNkpWVqZTQpaXCDRR8VKBYUGMflVAEBL2749+nq9n8HI2cjhsfD0fj/3IvdY+e3/wsR3es/ba69gMwzAEAABgUXW8XQAAAMDlIMwAAABLI8wAAABLI8wAAABLI8wAAABLI8wAAABLI8wAAABLI8wAAABL8/F2AZ5WXl6un376Sf7+/rLZbN4uBwAAuMEwDBUUFKh58+aqU+fiYy+1Psz89NNPCgkJ8XYZAACgErKzs9WyZcuLHlPrw4y/v7+kX/8yGjVq5OVqAACAO/Lz8xUSEuL8PX4xtT7MnH201KhRI8IMAAAW484UEa9OAI6Li5PNZnPZgoODnf0TJkyo0N+jRw8vVgwAAGoar4/MdOzYUf/+97+d+3Xr1nXpHzx4sJYuXercr1+/frXVBgAAaj6vhxkfHx+X0Zj/ZrfbL9oPAACubF5fZ+bQoUNq3ry5wsLC9Lvf/U7ff/+9S39SUpICAwMVERGhiRMnKi8v76LnKykpUX5+vssGAABqL5thGIa3Lv7xxx+rqKhIERER+vnnnzV//nzt379fe/fu1TXXXKPVq1erYcOGCg0NVWZmpp544gmdOXNGqampstvt5z1nXFyc5s2bV6H95MmTTAAGAMAi8vPzFRAQ4Nbvb6+Gmf926tQptWnTRjNnztS0adMq9Ofk5Cg0NFSrVq3SqFGjznuOkpISlZSUOPfPvtpFmAEAwDrMhBmvz5k5V4MGDRQdHa1Dhw6dt9/hcCg0NPSC/dKvc2wuNGoDAABqH6/PmTlXSUmJMjIy5HA4ztt/7NgxZWdnX7AfAABcebwaZmbMmKHk5GRlZmZqx44duuOOO5Sfn6/x48ersLBQM2bM0LZt25SVlaWkpCQNGzZMTZs21ciRI71ZNgAAFZSVlSkpKUlvv/22kpKSVFZW5u2Srhhefcx05MgR/f73v9fRo0fVrFkz9ejRQ9u3b1doaKiKi4uVnp6uZcuW6cSJE3I4HBowYIBWr17t1tLGAABUl8TERE2fPl1ZWVnOtlatWmnhwoUXnOOJqlOjJgB7gpkJRAAAmJWYmKg77rhDt912m2bPnq2oqCjt2bNH8fHxWr9+vdasWUOgqQTLvs3kCYQZAICnlJWVqW3btoqOjta6detUp87/zd4oLy/XiBEjtGfPHh06dKjCCve4ODO/v2vUBGAAAKxky5YtysrK0uzZs12CjCTVqVNHs2bNUmZmprZs2eKlCq8MhBkAACopJydHkhQVFXXe/rPtZ4+DZxBmAACopLNLhezZs+e8/WfbWVLEswgzAABUUp8+fdSqVSvFx8ervLzcpa+8vFwJCQkKCwtTnz59vFThlYEwAwBAJdWtW1cLFy7U+vXrNWLECG3btk0FBQXatm2bRowYofXr1+vZZ59l8q+H1aivMwAAwGpGjRqlNWvWaPr06YqNjXW2h4WF8Vp2NeHVbAAAqkBZWZm2bNminJwcORwO9enThxGZy2DZL5oEAMCq6tatq/79+3u7jCsSc2YAAIClEWYAAIClEWYAAIClEWYAAIClEWYAAIClEWYAAIClEWYAAIClEWYAAIClEWYAAIClEWYAAIClEWYAAIClEWYAAIClEWYAAIClEWYAAIClEWYAAIClEWYAAIClEWYAAIClEWYAAIClEWYAAIClEWYAAIClEWYAAIClEWYAAIClEWYAAIClEWYAAIClEWYAAIClEWYAAICleTXMxMXFyWazuWzBwcHOfsMwFBcXp+bNm8vX11f9+/fX3r17vVgxAACoabw+MtOxY0fl5OQ4t/T0dGffM888o0WLFumll15SSkqKgoODNXDgQBUUFHixYgAAUJN4Pcz4+PgoODjYuTVr1kzSr6Myixcv1pw5czRq1ChFRUXpzTffVFFRkVauXOnlqgEAQE3h4+0CDh06pObNm8tut6t79+6Kj49X69atlZmZqdzcXA0aNMh5rN1uV79+/bR161bdd9995z1fSUmJSkpKnPv5+fke/xkAALVTUVGR9u/f7/bxxcXFysrKUqtWreTr62vqWu3bt5efn5/ZEiEvh5nu3btr2bJlioiI0M8//6z58+crNjZWe/fuVW5uriQpKCjI5TNBQUE6fPjwBc+ZkJCgefPmebRuAMCVYf/+/erSpUu1XCs1NVWdO3eulmvVNl4NM0OGDHH+OTo6Wj179lSbNm305ptvqkePHpIkm83m8hnDMCq0nWvWrFmaNm2acz8/P18hISFVXDkA4ErQvn17paamun18RkaGxo4dq+XLl6tDhw6mr4XK8fpjpnM1aNBA0dHROnTokEaMGCFJys3NlcPhcB6Tl5dXYbTmXHa7XXa73dOlAgCuAH5+fpUaLenQoQOjLNXI6xOAz1VSUqKMjAw5HA6FhYUpODhYmzZtcvaXlpYqOTlZsbGxXqwSAADUJF4dmZkxY4aGDRuma6+9Vnl5eZo/f77y8/M1fvx42Ww2TZ06VfHx8QoPD1d4eLji4+Pl5+enMWPGeLNsADVAWVmZtmzZopycHDkcDvXp00d169b1dlkAvMCrYebIkSP6/e9/r6NHj6pZs2bq0aOHtm/frtDQUEnSzJkzVVxcrEmTJun48ePq3r27Nm7cKH9/f2+WDcDLEhMTNX36dGVlZTnbWrVqpYULF2rUqFHeKwyAV3j1MdOqVav0008/qbS0VD/++KPWrl2ryMhIZ7/NZlNcXJxycnJ0+vRpJScnKyoqyosVA/C2xMRE3XHHHYqOjta2bdtUUFCgbdu2KTo6WnfccYcSExO9XSKAamYzDMPwdhGelJ+fr4CAAJ08eVKNGjXydjkALkNZWZnatm2r6OhorVu3TnXq/N//HysvL9eIESO0Z88eHTp0iEdO8Iq0tDR16dKF16yrgJnf3zVqAjAAXMyWLVuUlZWl2bNnuwQZSapTp45mzZqlzMxMbdmyxUsVAvAGwgwAy8jJyZGkCz5uPtt+9jgAVwbCDADLOLvm1J49e87bf7b93LWpANR+hBkAltGnTx+1atVK8fHxKi8vd+krLy9XQkKCwsLC1KdPHy9VCMAbCDMALKNu3bpauHCh1q9frxEjRri8zTRixAitX79ezz77LJN/gStMjfo6AwC4lFGjRmnNmjWaPn26y2rgYWFhWrNmDevMAFcgwgwAyxk1apSGDx/OCsAAJBFmAFhU3bp11b9/f2+XAaAGYM4MAACwNMIMAACwNMIMAACwNMIMAACwNMIMAACwNMIMAACwNMIMAACwNMIMAACwNMIMAACwNMIMAACwNL7O4ApVVFSk/fv3m/pMcXGxsrKy1KpVK/n6+rr9ufbt28vPz89siQAAuIUwc4Xav3+/unTpUi3XSk1NVefOnavlWgCAKw9h5grVvn17paammvpMRkaGxo4dq+XLl6tDhw6mrgUAgKcQZq5Qfn5+lR4t6dChAyMtAIAagwnAAADA0ggzAADA0ggzAADA0ggzAADA0ggzAADA0nibCUCNYXYxRxZyBCARZgDUINW1mCMLOQK1C2EGQI1hdjFHFnIEIBFmANQglV3MkYUcgSsbE4ABAIClEWYAAICl1Zgwk5CQIJvNpqlTpzrbJkyYIJvN5rL16NHDe0UCAIAap0bMmUlJSdGrr76qmJiYCn2DBw/W0qVLnfv169evztIAAEAN5/WRmcLCQt1111167bXX1Lhx4wr9drtdwcHBzq1JkyZeqBIAANRUXg8zkydP1q233qqbb775vP1JSUkKDAxURESEJk6cqLy8vIuer6SkRPn5+S4bAACovUyHmbi4OB0+fLhKLr5q1SqlpaUpISHhvP1DhgzRihUr9Nlnn2nhwoVKSUnRjTfeqJKSkgueMyEhQQEBAc4tJCSkSmoFAAA1k+kw88EHH6hNmza66aabtHLlSp0+fbpSF87OztbDDz+s5cuX66qrrjrvMXfeeaduvfVWRUVFadiwYfr444918OBBffjhhxc876xZs3Ty5Ennlp2dXan6AACANZgOM6mpqUpLS1NMTIz+/Oc/y+Fw6IEHHlBKSorp8+Tl5alLly7y8fGRj4+PkpOT9cILL8jHx0dlZWUVPuNwOBQaGqpDhw5d8Lx2u12NGjVy2QAAQO1VqTkzMTExeu655/Tjjz/qn//8p3788Uf16tVL0dHRev7553Xy5MlLnuOmm25Senq6du3a5dy6du2qu+66S7t27VLdunUrfObYsWPKzs6Ww+GoTNkAAKAWuqwJwOXl5SotLVVJSYkMw1CTJk20ZMkShYSEaPXq1Rf9rL+/v6Kioly2Bg0a6JprrlFUVJQKCws1Y8YMbdu2TVlZWUpKStKwYcPUtGlTjRw58nLKBgAAtUilwkxqaqqmTJkih8OhP//5z+rUqZMyMjKUnJys/fv368knn9RDDz10WYXVrVtX6enpGj58uCIiIjR+/HhFRERo27Zt8vf3v6xzAwCA2sP0onkxMTHKyMjQoEGD9Prrr2vYsGEVHgmNGzdOjzzyiOlikpKSnH/29fXVJ598YvocAADgymI6zIwePVr33nuvWrRoccFjmjVrpvLy8ssqDAAAwB2mw8wTTzzhiToAAAAqpVLfzXTkyBG9//77+uGHH1RaWurSt2jRoiopDAAAwB2mw8ynn36q22+/XWFhYTpw4ICioqKUlZUlwzDUuXNnT9QIAABwQabfZpo1a5amT5+uPXv26KqrrtLatWuVnZ2tfv36afTo0Z6oEQAA4IJMh5mMjAyNHz9ekuTj46Pi4mI1bNhQTz31lJ5++ukqLxAAAOBiTIeZBg0aOL/osXnz5vruu++cfUePHq26ygAAANxges5Mjx499OWXXyoyMlK33nqrpk+frvT0dCUmJqpHjx6eqBEAAOCCTIeZRYsWqbCwUJIUFxenwsJCrV69Wm3bttVzzz1X5QUCAABcjOkw07p1a+ef/fz89Morr1RpQQAAAGaYDjOGYSg1NVVZWVmy2WwKCwtTp06dZLPZPFEfAADARZkKM5s3b9Yf/vAHHT58WIZhSJIz0Pzzn/9U3759PVIkAADAhbj9NtO3336r2267Ta1atVJiYqIyMjK0b98+/etf/1LLli01dOhQff/9956sFQAAoAK3R2YWL16sHj166NNPP3Vpb9++vUaOHKmbb75Zzz33nF588cUqLxIAAOBC3B6ZSUpK0tSpU8/bZ7PZNHXqVG3evLmq6gIAAHCL22Hmhx9+UHR09AX7o6KidPjw4SopCgAAwF1uh5nCwkL5+fldsN/Pz09FRUVVUhQAAIC7TL3NtG/fPuXm5p63j68yAAAA3mAqzNx0003OV7LPZbPZZBgGa80AAIBq53aYyczM9GQdAAAAleJ2mAkNDfVkHQAAAJXi9gRgAACAmogwAwAALI0wAwAALM1UmDEMQ4cPH1ZxcbGn6gEAADDFdJgJDw/XkSNHPFUPAACAKabCTJ06dRQeHq5jx455qh4AAABTTM+ZeeaZZ/TII49oz549nqgHAADAFFMrAEvS2LFjVVRUpOuuu07169eXr6+vS////u//VllxAAAAl2I6zCxevNgDZQAAAFSO6TAzfvx4T9QBAABQKZVaZ+a7777T448/rt///vfKy8uTJG3YsEF79+6t0uIAAAAuxXSYSU5OVnR0tHbs2KHExEQVFhZKknbv3q0nn3yyygsEAAC4GNNh5rHHHtP8+fO1adMm1a9f39k+YMAAbdu2rUqLAwAAuBTTYSY9PV0jR46s0N6sWbPLWn8mISFBNptNU6dOdbYZhqG4uDg1b95cvr6+6t+/P4+yAACAC9Nh5uqrr1ZOTk6F9p07d6pFixaVKiIlJUWvvvqqYmJiXNqfeeYZLVq0SC+99JJSUlIUHBysgQMHqqCgoFLXAQAAtY/pMDNmzBg9+uijys3Nlc1mU3l5ub788kvNmDFD48aNM11AYWGh7rrrLr322mtq3Lixs90wDC1evFhz5szRqFGjFBUVpTfffFNFRUVauXKl6esAAIDayXSYWbBgga699lq1aNFChYWFioyMVN++fRUbG6vHH3/cdAGTJ0/WrbfeqptvvtmlPTMzU7m5uRo0aJCzzW63q1+/ftq6davp6wAAgNrJ9Doz9erV04oVK/SXv/xFaWlpKi8vV6dOnRQeHm764qtWrVJaWppSUlIq9OXm5kqSgoKCXNqDgoJ0+PDhC56zpKREJSUlzv38/HzTdQEAAOtwO8yUl5dr4cKFWrdunX755RfdfPPNmjt3rq666qpKXTg7O1sPP/ywNm7ceNFz2Gw2l33DMCq0nSshIUHz5s2rVE0AAMB63H7M9PTTT+uxxx5TgwYN5HA4tGjRIj300EOVvnBqaqry8vLUpUsX+fj4yMfHR8nJyXrhhRfk4+PjHJE5O0JzVl5eXoXRmnPNmjVLJ0+edG7Z2dmVrhEAANR8boeZN954Qy+++KI2btyo9957T+vWrdOyZctkGEalLnzTTTcpPT1du3btcm5du3bVXXfdpV27dql169YKDg7Wpk2bnJ8pLS1VcnKyYmNjL3heu92uRo0auWwAAKD2cvsx0+HDh3Xbbbc592+55RYZhqGffvqpUq9k+/v7KyoqyqWtQYMGuuaaa5ztU6dOVXx8vMLDwxUeHq74+Hj5+flpzJgxpq8HAABqJ7fDTGlpqXx9fZ37NptN9evXd5lsW9Vmzpyp4uJiTZo0ScePH1f37t21ceNG+fv7e+yaAADAWky9zfTEE0/Iz8/PuV9aWqoFCxYoICDA2bZo0aJKF5OUlOSyb7PZFBcXp7i4uEqfEwAA1G5uh5m+ffvqwIEDLm2xsbH6/vvvnfsXe8sIAADAE9wOM/89agIAAFATmF4BGAAAoCYhzAAAAEsjzAAAAEsjzAAAAEsjzAAAAEtz622m3bt3u33CmJiYShcDAABgllth5vrrr5fNZrvkN1ZLUllZWZUUBgAA4A63HjNlZmbq+++/V2ZmptauXauwsDC98sor2rlzp3bu3KlXXnlFbdq00dq1az1dLwAAgAu3RmZCQ0Odfx49erReeOEFDR061NkWExOjkJAQPfHEExoxYkSVFwkAAHAhpicAp6enKywsrEJ7WFiY9u3bVyVFAQAAuMt0mOnQoYPmz5+v06dPO9tKSko0f/58dejQoUqLAwAAuBRT35otSX/72980bNgwhYSE6LrrrpMkffPNN7LZbFq/fn2VFwgAAHAxpsPMDTfcoMzMTC1fvlz79++XYRi68847NWbMGDVo0MATNQIAAFyQ6TAjSX5+fvrTn/5U1bXgMh06dEgFBQUeO39GRobLfz3B399f4eHhHjs/AKD2qVSYeeutt/T3v/9d33//vbZt26bQ0FA999xzat26tYYPH17VNcINhw4dUkRERLVca+zYsR49/8GDBwk0AAC3mQ4zS5Ys0dy5czV16lTNnz/fuUhe48aNtXjxYsKMl5wdkVm+fLnHJmIXFxcrKytLrVq1kq+vb5WfPyMjQ2PHjvXo6BIAoPYxHWZefPFFvfbaaxoxYoT++te/Otu7du2qGTNmVGlxMK9Dhw7q3Lmzx87fq1cvj50bAIDKMP1qdmZmpjp16lSh3W6369SpU1VSFAAAgLtMj8yEhYVp165dLqsCS9LHH3+syMjIKisMAABP8OTLEtXxooTEyxL/zXSYeeSRRzR58mSdPn1ahmHoq6++0ttvv62EhAT94x//8ESNAABUiep6WcLTL0pIvCxxLtNh5p577tGZM2c0c+ZMFRUVacyYMWrRooWef/55/e53v/NEjQAAVAlPvyzh6RclJF6WOJ9KvZo9ceJETZw4UUePHlV5ebkCAwOrui4AADzGky9L8KJE9TM9AfjGG2/UiRMnJElNmzZ1Bpn8/HzdeOONVVocAADApZgOM0lJSSotLa3Qfvr0aW3ZsqVKigIAAHCX24+Zdu/e7fzzvn37lJub69wvKyvThg0b1KJFi6qtDgAA4BLcDjPXX3+9bDabbDbbeR8n+fr66sUXX6zS4gAAAC7F7TCTmZkpwzDUunVrffXVV2rWrJmzr379+goMDFTdunU9UiQAAMCFuB1mQkND9csvv2jcuHFq0qRJhUXzAAAAvMHUBOB69erpvffe81QtAAAAppl+m2nEiBFat26dB0oBAAAwz/SieW3bttVf/vIXbd26VV26dFGDBg1c+h966KEqKw4AAOBSTIeZf/zjH7r66quVmpqq1NRUlz6bzUaYAQAA1cp0mMnMzPREHQAAAJVies7MuQzDkGEYlf78kiVLFBMTo0aNGqlRo0bq2bOnPv74Y2f/hAkTnGvbnN169OhxOSUDAIBaplJhZtmyZYqOjpavr698fX0VExOjt956y/R5WrZsqb/+9a/6+uuv9fXXX+vGG2/U8OHDtXfvXucxgwcPVk5OjnP76KOPKlMyAACopUw/Zlq0aJGeeOIJTZkyRb169ZJhGPryyy91//336+jRo/rzn//s9rmGDRvmsr9gwQItWbJE27dvV8eOHSVJdrtdwcHBZssEAABXCNNh5sUXX9SSJUs0btw4Z9vw4cPVsWNHxcXFmQoz5yorK9O//vUvnTp1Sj179nS2JyUlKTAwUFdffbX69eunBQsWOL+p+3xKSkpUUlLi3M/Pz69UPQAu36FDh1RQUOCx82dkZLj811P8/f0VHh7u0WsAqDzTYSYnJ0exsbEV2mNjY5WTk2O6gPT0dPXs2VOnT59Ww4YN9e677yoyMlKSNGTIEI0ePVqhoaHKzMzUE088oRtvvFGpqamy2+3nPV9CQoLmzZtnug4AVevQoUOKiIiolmuNHTvW49c4ePAggQaooSq1zsw777yj2bNnu7SvXr26Uv/Q27Vrp127dunEiRNau3atxo8fr+TkZEVGRurOO+90HhcVFaWuXbsqNDRUH374oUaNGnXe882aNUvTpk1z7ufn5yskJMR0XQAuz9kRmeXLl6tDhw4euUZxcbGysrLUqlUr+fr6euQaGRkZGjt2rEdHmABcHtNhZt68ebrzzjv1+eefq1evXrLZbPriiy/06aef6p133jFdQP369dW2bVtJUteuXZWSkqLnn39ef//73ysc63A4FBoaqkOHDl3wfHa7/YKjNgCqX4cOHdS5c2ePnb9Xr14eOzcAazD9NtNvfvMb7dixQ02bNtW6deuUmJiopk2b6quvvtLIkSMvuyDDMFzmvJzr2LFjys7OlsPhuOzrAACA2sH0yIwkdenSRcuXL7/si8+ePVtDhgxRSEiICgoKtGrVKiUlJWnDhg0qLCxUXFycfvOb38jhcCgrK0uzZ89W06ZNqyQ0AQCA2qFSYaasrEzvvvuuMjIyZLPZ1KFDBw0fPlw+PuZO9/PPP+vuu+9WTk6OAgICFBMTow0bNmjgwIEqLi5Wenq6li1bphMnTsjhcGjAgAFavXq1/P39K1M2AACohUyHmT179mj48OHKzc1Vu3btJP06y79Zs2Z6//33FR0d7fa5Xn/99Qv2+fr66pNPPjFbHgAAuMKYnjPzxz/+UR07dtSRI0eUlpamtLQ0ZWdnKyYmRn/60588USMAAMAFmR6Z+eabb/T111+rcePGzrbGjRtrwYIF6tatW5UWBwAAcCmmR2batWunn3/+uUJ7Xl6e8xVrAACA6mI6zMTHx+uhhx7SmjVrdOTIER05ckRr1qzR1KlT9fTTTys/P9+5AQAAeJrpx0y33XabJOm3v/2tbDabpF/XhpH+74sjDcOQzWZTWVlZVdUJAABwXqbDzObNmz1RBwAAQKWYDjP9+vXzRB0AAACVYnrOjCRt2bJFY8eOVWxsrH788UdJ0ltvvaUvvviiSosDAAC4FNNhZu3atbrlllvk6+urtLQ05/coFRQUKD4+vsoLBAAAuBjTYWb+/Pn629/+ptdee0316tVztsfGxiotLa1KiwMAALgU02HmwIED6tu3b4X2Ro0a6cSJE1VREwAAgNtMhxmHw6Fvv/22QvsXX3yh1q1bV0lRAAAA7jIdZu677z49/PDD2rFjh2w2m3766SetWLFCM2bM0KRJkzxRIwAAwAWZfjV75syZOnnypAYMGKDTp0+rb9++stvtmjFjhqZMmeKJGgEAAC7IdJiRpAULFmjOnDnat2+fysvLFRkZqYYNG6qoqEh+fn5VXSMAAMAFVWqdGUny8/NT165ddcMNN8jHx0eLFi1izgwAAKh2boeZ0tJSzZkzR926dVNsbKzWrVsnSVq6dKlat26thQsX6uGHH/ZUnQAAAOfl9mOmuLg4vfzyyxo4cKC+/PJLjR49Wvfee6+SkpKUkJCgMWPGuKw7AwAAUB3cDjPvvPOO3njjDY0cOVLffPONOnXqpPz8fO3du1c+PpWaegMAAHDZ3E4h2dnZ6tatmyTpuuuuU/369fXoo48SZGoI25nT6hRcR74nDko/VXoqlFf5njioTsF1ZDtz2tulAAAsxO0k8ssvv6h+/frO/Xr16ikgIMAjRcG8qwp/UNp9DaXP75M+93Y1ldNBUtp9DZVR+IOkWG+XAwCwCFPDKnPnznW+el1aWqr58+dXCDSLFi2quurgttMNr1XnvxdqxYoV6tC+vbfLqZSM/ft111136fWh13q7FACAhbgdZvr27asDBw4492NjY/X999+7HGOz2aquMphi+FylnbnlKr46Qmp+vbfLqZTi3HLtzC2X4XOVt0sBAFiI22EmKSnJg2UAAABUjjVnigIAAPx/hBkAAGBphBkAAGBphBkAAGBprHgHALhisMBo7WQ6zGzYsEENGzZU7969JUkvv/yyXnvtNUVGRurll19W48aNq7xIAACqAguM1k6mw8wjjzyip59+WpKUnp6u6dOna9q0afrss880bdo0LV26tMqLBACgKrDAaO1kOsxkZmYqMjJSkrR27Vrddtttio+PV1pamoYOHVrlBQIAUFVYYLR2Mv3AsH79+ioqKpIk/fvf/9agQYMkSU2aNFF+fn7VVgcAAHAJpkdmevfurWnTpqlXr1766quvtHr1aknSwYMH1bJlyyovEIA11YaJlhKTLQErMB1mXnrpJU2aNElr1qzRkiVL1KJFC0nSxx9/rMGDB5s615IlS7RkyRJlZWVJkjp27Ki5c+dqyJAhkiTDMDRv3jy9+uqrOn78uLp3766XX35ZHTt2NFs2gGpWGyZaSky2BKzAdJi59tprtX79+grtzz33nOmLt2zZUn/961/Vtm1bSdKbb76p4cOHa+fOnerYsaOeeeYZLVq0SG+88YYiIiI0f/58DRw4UAcOHJC/v7/p6wGoPrVhoqXEZEvACiq1zsx3332npUuX6rvvvtPzzz+vwMBAbdiwQSEhIaZGTYYNG+ayv2DBAi1ZskTbt29XZGSkFi9erDlz5mjUqFGSfg07QUFBWrlype67777KlA6gmtSGiZYSky0BKzD9IDs5OVnR0dHasWOHEhMTVVhYKEnavXu3nnzyyUoXUlZWplWrVunUqVPq2bOnMjMzlZub65xgLEl2u139+vXT1q1bL3iekpIS5efnu2wAAKD2Mh1mHnvsMc2fP1+bNm1S/fr1ne0DBgzQtm3bTBeQnp6uhg0bym636/7779e7776ryMhI5ebmSpKCgoJcjg8KCnL2nU9CQoICAgKcW0hIiOmaAACAdZgOM+np6Ro5cmSF9mbNmunYsWOmC2jXrp127dql7du364EHHtD48eO1b98+Z7/NZnM53jCMCm3nmjVrlk6ePOncsrOzTdcEAACsw/Scmauvvlo5OTkKCwtzad+5c6fzzSYz6tev75wA3LVrV6WkpOj555/Xo48+KknKzc2Vw+FwHp+Xl1dhtOZcdrtddrvddB0AAMCaTI/MjBkzRo8++qhyc3Nls9lUXl6uL7/8UjNmzNC4ceMuuyDDMFRSUqKwsDAFBwdr06ZNzr7S0lIlJycrNpbXIwEAwK9Mj8wsWLBAEyZMUIsWLWQYhiIjI1VWVqYxY8bo8ccfN3Wu2bNna8iQIQoJCVFBQYFWrVqlpKQkbdiwQTabTVOnTlV8fLzCw8MVHh6u+Ph4+fn5acyYMWbLBgAAtZTpMFOvXj2tWLFCTz31lHbu3Kny8nJ16tRJ4eHhpi/+888/6+6771ZOTo4CAgIUExOjDRs2aODAgZKkmTNnqri4WJMmTXIumrdx40bWmAEAAE6VWmdGktq0aaM2bdpc1sVff/31i/bbbDbFxcUpLi7usq4DAABqL9NhxjAMrVmzRps3b1ZeXp7Ky8td+hMTE6usOAAAgEsxHWYefvhhvfrqqxowYICCgoIu+po0AACAp5kOM8uXL1diYqKGDh3qiXoAAABMMf1qdkBAgFq3bu2JWgAAAEwzHWbi4uI0b948FRcXe6IeAAAAU0w/Zho9erTefvttBQYGqlWrVqpXr55Lf1paWpUVBwAAcCmmw8yECROUmpqqsWPHMgEYAAB4nekw8+GHH+qTTz5R7969PVEPAACAKabnzISEhKhRo0aeqAUAAMA002Fm4cKFmjlzprKysjxQDgAAgDmmHzONHTtWRUVFatOmjfz8/CpMAP7f//3fKisOAADgUkyHmcWLF3ugDAAAgMoxHWbGjx/viToAAAAqxa0wk5+f75z0m5+ff9FjmRwMAACqk1thpnHjxsrJyVFgYKCuvvrq864tYxiGbDabysrKqrxIAACAC3ErzHz22Wdq0qSJJGnz5s0eLQgAAMAMt8JMv379JElnzpxRUlKS7r33XoWEhHi0MAAAAHeYWmfGx8dHzz77LI+SAABAjWF60bybbrpJSUlJHigFAADAPNOvZg8ZMkSzZs3Snj171KVLFzVo0MCl//bbb6+y4gAAAC7FdJh54IEHJEmLFi2q0MfbTADOKioqkiSlpaV57BrFxcXKyspSq1at5Ovr65FrZGRkeOS88A5P35fck95hOsyUl5d7og4Atcz+/fslSRMnTvRyJVXD39/f2yWgCtSm+5J78v+YDjMA4I4RI0ZIktq3by8/Pz+PXCMjI0Njx47V8uXL1aFDB49cQ/r1l0Z4eLjHzo/q4+n7knvSO9wOM5999pmmTJmi7du3V1jl9+TJk4qNjdWSJUvUt2/fKi8SgPU0bdpUf/zjH6vlWh06dFDnzp2r5Vqwtuq6L7knq5fbbzMtXrxYEydOPO/XFQQEBOi+++7Tc889V6XFAQAAXIrbYeabb77R4MGDL9g/aNAgpaamVklRAAAA7nI7zPz888+qV6/eBft9fHz0n//8p0qKAgAAcJfbYaZFixZKT0+/YP/u3bvlcDiqpCgAAAB3uR1mhg4dqrlz5+r06dMV+oqLi/Xkk0/qtttuq9LiAAAALsXtt5kef/xxJSYmKiIiQlOmTFG7du1ks9mUkZGhl19+WWVlZZozZ44na8VF1IYFylgICgBQGW6HmaCgIG3dulUPPPCAZs2aJcMwJP266u8tt9yiV155RUFBQR4rFBfHQlAAgCuVqUXzQkND9dFHH+n48eP69ttvZRiGwsPD1bhxY0/VBzfVlgXKWAgKAGBWpVYAbty4sbp161bVteAysEAZAOBK5fYEYAAAgJqIMAMAACzNq2EmISFB3bp1k7+/vwIDAzVixAgdOHDA5ZgJEybIZrO5bD169PBSxQAAoKbxaphJTk7W5MmTtX37dm3atElnzpzRoEGDdOrUKZfjBg8erJycHOf20UcfealiAABQ01RqAnBV2bBhg8v+0qVLFRgYqNTUVJdv37bb7QoODq7u8gAAgAXUqDkzJ0+elCQ1adLEpT0pKUmBgYGKiIjQxIkTlZeXd8FzlJSUKD8/32UDAAC1V40JM4ZhaNq0aerdu7eioqKc7UOGDNGKFSv02WefaeHChUpJSdGNN96okpKS854nISFBAQEBzi0kJKS6fgQAAOAFXn3MdK4pU6Zo9+7d+uKLL1za77zzTuefo6Ki1LVrV4WGhurDDz/UqFGjKpxn1qxZmjZtmnM/Pz+fQAMAQC1WI8LMgw8+qPfff1+ff/65WrZsedFjHQ6HQkNDdejQofP22+122e12T5QJAABqIK+GGcMw9OCDD+rdd99VUlKSwsLCLvmZY8eOKTs7Ww6HoxoqBAAANZ1X58xMnjxZy5cv18qVK+Xv76/c3Fzl5uaquLhYklRYWKgZM2Zo27ZtysrKUlJSkoYNG6amTZtq5MiR3iwdAADUEF4dmVmyZIkkqX///i7tS5cu1YQJE1S3bl2lp6dr2bJlOnHihBwOhwYMGKDVq1fzzcoAAEBSDXjMdDG+vr765JNPqqkaAABgRTXm1WwAAIDKIMwAAABLI8wAAABLI8wAAABLI8wAAABLI8wAAABLI8wAAABLI8wAAABLI8wAAABLI8wAAABLI8wAAABLI8wAAABLI8wAAABLI8wAAABLI8wAAABLI8wAAABLI8wAAABLI8wAAABLI8wAAABLI8wAAABLI8wAAABLI8wAAABLI8wAAABLI8wAAABLI8wAAABLI8wAAABLI8wAAABLI8wAAABLI8wAAABLI8wAAABLI8wAAABLI8wAAABLI8wAAABLI8wAAABL82qYSUhIULdu3eTv76/AwECNGDFCBw4ccDnGMAzFxcWpefPm8vX1Vf/+/bV3714vVQwAAGoar4aZ5ORkTZ48Wdu3b9emTZt05swZDRo0SKdOnXIe88wzz2jRokV66aWXlJKSouDgYA0cOFAFBQVerBwAANQUPt68+IYNG1z2ly5dqsDAQKWmpqpv374yDEOLFy/WnDlzNGrUKEnSm2++qaCgIK1cuVL33XefN8oGAAA1SI2aM3Py5ElJUpMmTSRJmZmZys3N1aBBg5zH2O129evXT1u3bj3vOUpKSpSfn++yAQCA2qvGhBnDMDRt2jT17t1bUVFRkqTc3FxJUlBQkMuxQUFBzr7/lpCQoICAAOcWEhLi2cIBAIBX1ZgwM2XKFO3evVtvv/12hT6bzeaybxhGhbazZs2apZMnTzq37Oxsj9QLAABqBq/OmTnrwQcf1Pvvv6/PP/9cLVu2dLYHBwdL+nWExuFwONvz8vIqjNacZbfbZbfbPVswAACoMbw6MmMYhqZMmaLExER99tlnCgsLc+kPCwtTcHCwNm3a5GwrLS1VcnKyYmNjq7tcAABQA3l1ZGby5MlauXKl3nvvPfn7+zvnwQQEBMjX11c2m01Tp05VfHy8wsPDFR4ervj4ePn5+WnMmDHeLB0AANQQXg0zS5YskST179/fpX3p0qWaMGGCJGnmzJkqLi7WpEmTdPz4cXXv3l0bN26Uv79/NVcLAABqIq+GGcMwLnmMzWZTXFyc4uLiPF8QAACwnBrzNhMAAEBlEGYAAIClEWYAAIClEWYAAIClEWYAAIClEWYAAIClEWYAAIClEWYAAIClEWYAAIClEWYAAIClefXrDOA9RUVF2r9/v6nPZGRkuPzXXe3bt5efn5+pzwAA4C7CzBVq//796tKlS6U+O3bsWFPHp6amqnPnzpW6FgAAl0KYuUK1b99eqamppj5TXFysrKwstWrVSr6+vqauBQCApxBmrlB+fn6VGi3p1auXB6oBAKDymAAMAAAsjTADAAAsjTADAAAsjTADAAAsjTADAAAsjbeZANQYZhdzZCFHeFp13ZMS9+XlsBmGYXi7CE/Kz89XQECATp48qUaNGnm7HAAXkZaWVunFHM1gIUe4q7ruSYn78r+Z+f3NyAyAGsPsYo4s5AhPq6578uy1UDmMzAAAgBrHzO9vJgADAABLI8wAAABLI8wAAABLI8wAAABLI8wAAABLI8wAAABLI8wAAABLI8wAAABLI8wAAABLI8wAAABLI8wAAABLI8wAAABLI8wAAABL8/F2AZ529kvB8/PzvVwJAABw19nf22d/j19MrQ8zBQUFkqSQkBAvVwIAAMwqKChQQEDARY+xGe5EHgsrLy/XTz/9JH9/f9lsNm+XY2n5+fkKCQlRdna2GjVq5O1yAO5J1Djck1XHMAwVFBSoefPmqlPn4rNiav3ITJ06ddSyZUtvl1GrNGrUiH+kqFG4J1HTcE9WjUuNyJzFBGAAAGBphBkAAGBphBm4zW6368knn5Tdbvd2KYAk7knUPNyT3lHrJwADAIDajZEZAABgaYQZAABgaYQZAABgaYQZqH///po6daq3ywAuiHsU3nCp+85ms2ndunVuny8pKUk2m00nTpy47NrgijADAOcw+wsKV66cnBwNGTLE22VAV8AKwABQVlYmm812ySXRATOCg4O9XQL+P/5lw8Xx48c1btw4NW7cWH5+fhoyZIgOHTok6dfvyWjWrJnWrl3rPP76669XYGCgc3/btm2qV6+eCgsLq712VL/+/fvrwQcf1NSpU9W4cWMFBQXp1Vdf1alTp3TPPffI399fbdq00ccff+z8THJysm644QbZ7XY5HA499thjOnPmjLP/1KlTGjdunBo2bCiHw6GFCxdWuG5paalmzpypFi1aqEGDBurevbuSkpKc/W+88YauvvpqrV+/XpGRkbLb7Tp8+LBSUlI0cOBANW3aVAEBAerXr5/S0tKcn2vVqpUkaeTIkbLZbM59Sfrggw/UpUsXXXXVVWrdurXmzZvnUjdqp/Lycs2cOVNNmjRRcHCw4uLinH3/PYq3detWXX/99brqqqvUtWtXrVu3TjabTbt27XI5Z2pqqrp27So/Pz/FxsbqwIED1fPD1GKEGbiYMGGCvv76a73//vvatm2bDMPQ0KFD9csvv8hms6lv377OXxrHjx/Xvn379Msvv2jfvn2Sfn0m3KVLFzVs2NCLPwWq05tvvqmmTZvqq6++0oMPPqgHHnhAo0ePVmxsrNLS0nTLLbfo7rvvVlFRkX788UcNHTpU3bp10zfffKMlS5bo9ddf1/z5853ne+SRR7R582a9++672rhxo5KSkpSamupyzXvuuUdffvmlVq1apd27d2v06NEaPHiwM3hLUlFRkRISEvSPf/xDe/fuVWBgoAoKCjR+/Hht2bJF27dvV3h4uIYOHaqCggJJUkpKiiRp6dKlysnJce5/8sknGjt2rB566CHt27dPf//73/XGG29owYIFnv7rhZe9+eabatCggXbs2KFnnnlGTz31lDZt2lThuIKCAg0bNkzR0dFKS0vTX/7yFz366KPnPeecOXO0cOFCff311/Lx8dG9997r6R+j9jNwxevXr5/x8MMPGwcPHjQkGV9++aWz7+jRo4avr6/xzjvvGIZhGC+88IIRFRVlGIZhrFu3zujatasxatQo4+WXXzYMwzAGDRpkPProo9X/Q8Ar+vXrZ/Tu3du5f+bMGaNBgwbG3Xff7WzLyckxJBnbtm0zZs+ebbRr184oLy939r/88stGw4YNjbKyMqOgoMCoX7++sWrVKmf/sWPHDF9fX+Phhx82DMMwvv32W8Nmsxk//vijSy033XSTMWvWLMMwDGPp0qWGJGPXrl0Xrf/MmTOGv7+/8cEHHzjbJBnvvvuuy3F9+vQx4uPjXdreeustw+FwXPT8sLb/vr8NwzC6devm/N+4c++VJUuWGNdcc41RXFzsPPa1114zJBk7d+40DMMwNm/ebEgy/v3vfzuP+fDDDw1JLp+DeYzMwCkjI0M+Pj7q3r27s+2aa65Ru3btlJGRIenXxwp79+7V0aNHlZycrP79+6t///5KTk7WmTNntHXrVvXr189bPwK8ICYmxvnnunXr6pprrlF0dLSzLSgoSJKUl5enjIwM9ezZUzabzdnfq1cvFRYW6siRI/ruu+9UWlqqnj17OvubNGmidu3aOffT0tJkGIYiIiLUsGFD55acnKzvvvvOeVz9+vVdajtbw/3336+IiAgFBAQoICBAhYWF+uGHHy76M6ampuqpp55yud7EiROVk5OjoqIik39jsJL/voccDofy8vIqHHfgwAHFxMToqquucrbdcMMNlzynw+GQpPOeE+5jAjCcjAt8s4VhGM5fPlFRUbrmmmuUnJys5ORkPfXUUwoJCdGCBQuUkpKi4uJi9e7duzrLhpfVq1fPZd9ms7m0nb13ysvLXe6ls87edzab7YL34LnKy8tVt25dpaamqm7dui595z7e9PX1rXCtCRMm6D//+Y8WL16s0NBQ2e129ezZU6WlpZe85rx58zRq1KgKfef+8kLtc777u7y8vMJxF7u3L3bOc/99oPIIM3CKjIzUmTNntGPHDsXGxkqSjh07poMHD6pDhw6S5Jw3895772nPnj3q06eP/P399csvv+hvf/ubOnfuLH9/f2/+GKjBIiMjtXbtWpf/4d+6dav8/f3VokULNW7cWPXq1dP27dt17bXXSvp1btbBgwedI36dOnVSWVmZ8vLy1KdPH1PX37Jli1555RUNHTpUkpSdna2jR4+6HFOvXj2VlZW5tHXu3FkHDhxQ27ZtK/Vzo/Zr3769VqxYoZKSEueXTH799dderurKwWMmOIWHh2v48OGaOHGivvjiC33zzTcaO3asWrRooeHDhzuP69+/v1auXKmYmBg1atTIGXBWrFih/v37e+8HQI03adIkZWdn68EHH9T+/fv13nvv6cknn9S0adNUp04dNWzYUH/4wx/0yCOP6NNPP9WePXs0YcIEl1eqIyIidNddd2ncuHFKTExUZmamUlJS9PTTT+ujjz666PXbtm2rt956SxkZGdqxY4fuuusu+fr6uhzTqlUrffrpp8rNzdXx48clSXPnztWyZcsUFxenvXv3KiMjQ6tXr9bjjz9e9X9JsKQxY8aovLxcf/rTn5SRkaFPPvlEzz77rCRVGLFB1SPMwMXSpUvVpUsX3XbbberZs6cMw9BHH33kMiw6YMAAlZWVuQSXfv36qaysjPkyuKgWLVroo48+0ldffaXrrrtO999/v/7whz+4hIL/+Z//Ud++fXX77bfr5ptvVu/evdWlSxeX8yxdulTjxo3T9OnT1a5dO91+++3asWOHQkJCLnr9f/7znzp+/Lg6deqku+++Ww899JDL0gKStHDhQm3atEkhISHq1KmTJOmWW27R+vXrtWnTJnXr1k09evTQokWLFBoaWkV/M7C6Ro0a6YMPPtCuXbt0/fXXa86cOZo7d64kHkVWB5vhzkNqAABgyooVK3TPPffo5MmTFUYAUbWYMwMAQBVYtmyZWrdurRYtWuibb77Ro48+qt/+9rcEmWpAmAEAoArk5uZq7ty5ys3NlcPh0OjRo1lYsZrwmAkAAFgaE4ABAIClEWYAAIClEWYAAIClEWYAAIClEWYAAIClEWYAAIClEWYAAIClEWYAAIClEWYAAICl/T/2w3E+MpdhngAAAABJRU5ErkJggg==\n",
      "text/plain": [
       "<Figure size 640x480 with 1 Axes>"
      ]
     },
     "metadata": {},
     "output_type": "display_data"
    }
   ],
   "source": [
    "# Box plot\n",
    "box_plot = []\n",
    "box_plot.append(low_sample)\n",
    "box_plot.append(mod_sample)\n",
    "box_plot.append(high_sample)\n",
    "\n",
    "temperature_label = ['low', 'moderate', 'high']\n",
    "\n",
    "fig1, ax1 = plt.subplots()\n",
    "ax1.set_ylabel('Crimes Reported Per Day')\n",
    "ax1.boxplot(box_plot, labels=temperature_label)\n",
    "flierprops={'marker': 'o', 'markersize': 12, 'markerfacecolor': 'red'}\n",
    "plt.show()"
   ]
  },
  {
   "cell_type": "markdown",
   "id": "e6c5ec15",
   "metadata": {},
   "source": [
    "### Testing Correlation Between Humidity and Crime\n",
    "#### Motor Vehicle Theft and Theft F/Auto Only"
   ]
  },
  {
   "cell_type": "code",
   "execution_count": 23,
   "id": "66013641",
   "metadata": {},
   "outputs": [
    {
     "name": "stdout",
     "output_type": "stream",
     "text": [
      "The lower quartile is 55.0\n",
      "The upper quartile is 76.0\n"
     ]
    },
    {
     "data": {
      "image/png": "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\n",
      "text/plain": [
       "<Figure size 640x480 with 1 Axes>"
      ]
     },
     "metadata": {},
     "output_type": "display_data"
    }
   ],
   "source": [
    "# Identify low, moderate, high humidity levels\n",
    "weather_file = \"output_data/dc_weather.csv\"\n",
    "weather_day = pd.read_csv(weather_file)\n",
    "\n",
    "quartiles = weather_day['avghumidity'].quantile([.25,.5,.75])\n",
    "lowerq = quartiles[0.25]\n",
    "upperq = quartiles[0.75]\n",
    "print(f\"The lower quartile is {lowerq}\")\n",
    "print(f\"The upper quartile is {upperq}\")\n",
    "\n",
    "fig1, ax1 = plt.subplots()\n",
    "ax1.set_ylabel('Avg Humidity (%)')\n",
    "ax1.boxplot(weather_day['avghumidity'])\n",
    "flierprops={'marker': 'o', 'markersize': 12, 'markerfacecolor': 'red'}\n",
    "plt.show()"
   ]
  },
  {
   "cell_type": "code",
<<<<<<< HEAD
   "execution_count": 52,
=======
   "execution_count": 106,
>>>>>>> be6d7260786043b32f6b5e93c1c4bd70d812ee9f
   "id": "22e765ef",
   "metadata": {},
   "outputs": [
    {
     "name": "stdout",
     "output_type": "stream",
     "text": [
      "The average crimes per day with low humidity: 32.9277108433735\n",
      "The median of crimes per day with low humidity: 32.0\n",
      "The mode of crimes per day with low humidity: 0    30\n",
      "dtype: int64\n",
      "The average crimes per day with moderate humidity: 32.481283422459896\n",
      "The median of crimes per day with moderate humidity: 32.0\n",
      "The mode of crimes per day with moderate humidity: 0    25\n",
      "dtype: int64\n",
      "The average crimes per day with high humidity: 32.97894736842105\n",
      "The median of crimes per day with high humidity: 32.0\n",
      "The mode of crimes per day with high humidity: 0    28\n",
      "dtype: int64\n"
     ]
    }
   ],
   "source": [
    "bins = [0, 54.9, 75.9, 100]\n",
    "bin_labels = ['low humidity', 'moderate humidity', 'high humidity']\n",
    "\n",
    "# organize weather by bins\n",
    "data_limited['Humidity Level'] = pd.cut(data_limited['Avg Humidity (%)'], bins, labels=bin_labels, include_lowest=True)\n",
    "\n",
    "# Avg crime per day low humidity\n",
    "low_humidity = data_limited.loc[data_limited['Humidity Level'] == 'low humidity', :]\n",
    "low_humidity_group = pd.DataFrame(low_humidity.groupby('Start Date').count())\n",
    "avg_crime_low_humidity = (low_humidity_group['ID']).mean()\n",
    "median_crime_low_humidity = (low_humidity_group['ID']).median()\n",
    "mode_crime_low_humidity = (low_humidity_group['ID']).mode()\n",
    "print(f\"The average crimes per day with low humidity: {avg_crime_low_humidity}\")\n",
    "print(f\"The median of crimes per day with low humidity: {median_crime_low_humidity}\")\n",
    "print(f\"The mode of crimes per day with low humidity: {mode_crime_low_humidity}\")\n",
    "\n",
    "\n",
    "# Avg crime per day moderate humidity\n",
    "mod_humidity = data_limited.loc[data_limited['Humidity Level'] == 'moderate humidity', :]\n",
    "mod_humidity_group = pd.DataFrame(mod_humidity.groupby('Start Date').count())\n",
    "avg_crime_mod_humidity = (mod_humidity_group['ID']).mean()\n",
    "median_crime_mod_humidity = (mod_humidity_group['ID']).median()\n",
    "mode_crime_mod_humidity = (mod_humidity_group['ID']).mode()\n",
    "print(f\"The average crimes per day with moderate humidity: {avg_crime_mod_humidity}\")\n",
    "print(f\"The median of crimes per day with moderate humidity: {median_crime_mod_humidity}\")\n",
    "print(f\"The mode of crimes per day with moderate humidity: {mode_crime_mod_humidity}\")\n",
    "\n",
    "# Avg crime per day high humidity\n",
    "high_humidity = data_limited.loc[data_limited['Humidity Level'] == 'high humidity', :]\n",
    "high_humidity_group = pd.DataFrame(high_humidity.groupby('Start Date').count())\n",
    "avg_crime_high_humidity = (high_humidity_group['ID']).mean()\n",
    "median_crime_high_humidity = (high_humidity_group['ID']).median()\n",
    "mode_crime_high_humidity = (high_humidity_group['ID']).mode()\n",
    "print(f\"The average crimes per day with high humidity: {avg_crime_high_humidity}\")\n",
    "print(f\"The median of crimes per day with high humidity: {median_crime_high_humidity}\")\n",
    "print(f\"The mode of crimes per day with high humidity: {mode_crime_high_humidity}\")"
   ]
  },
  {
   "cell_type": "code",
   "execution_count": 25,
   "id": "16c7cf03",
   "metadata": {},
   "outputs": [
    {
     "data": {
      "text/plain": [
       "F_onewayResult(statistic=0.24012519467427199, pvalue=0.7868372882856749)"
      ]
     },
     "execution_count": 25,
     "metadata": {},
     "output_type": "execute_result"
    }
   ],
   "source": [
    "# One-way ANOVA Test\n",
    "# Perform the ANOVA\n",
    "# Take samples of 50 from each group.\n",
    "low_humidity_sample = random.sample(list(low_humidity_group['ID']), k=50)\n",
    "mod_humidity_sample = random.sample(list(mod_humidity_group['ID']), k=50)\n",
    "high_humidity_sample = random.sample(list(high_humidity_group['ID']), k=50)\n",
    "st.f_oneway(low_humidity_sample, mod_humidity_sample, high_humidity_sample)\n"
   ]
  },
  {
   "cell_type": "code",
   "execution_count": 26,
   "id": "86389144",
   "metadata": {},
   "outputs": [
    {
     "data": {
      "image/png": "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\n",
      "text/plain": [
       "<Figure size 640x480 with 1 Axes>"
      ]
     },
     "metadata": {},
     "output_type": "display_data"
    }
   ],
   "source": [
    "# Box plot\n",
    "box_plot = []\n",
    "box_plot.append(low_humidity_sample)\n",
    "box_plot.append(mod_humidity_sample)\n",
    "box_plot.append(high_humidity_sample)\n",
    "\n",
    "humidity_label = ['low humidity', 'moderate humidity', 'high humidity']\n",
    "\n",
    "fig1, ax1 = plt.subplots()\n",
    "ax1.set_ylabel('Crimes Reported Per Day')\n",
    "ax1.boxplot(box_plot, labels=temperature_label)\n",
    "flierprops={'marker': 'o', 'markersize': 12, 'markerfacecolor': 'red'}\n",
    "plt.show()"
   ]
  },
  {
   "cell_type": "code",
   "execution_count": null,
   "id": "91ff92c0",
   "metadata": {},
   "outputs": [],
   "source": []
  },
  {
   "cell_type": "code",
   "execution_count": null,
   "id": "e2b7fd7d",
   "metadata": {},
   "outputs": [],
   "source": []
  }
 ],
 "metadata": {
  "kernelspec": {
   "display_name": "PythonData",
   "language": "python",
   "name": "pythondata"
  },
  "language_info": {
   "codemirror_mode": {
    "name": "ipython",
    "version": 3
   },
   "file_extension": ".py",
   "mimetype": "text/x-python",
   "name": "python",
   "nbconvert_exporter": "python",
   "pygments_lexer": "ipython3",
   "version": "3.9.13"
  }
 },
 "nbformat": 4,
 "nbformat_minor": 5
}
