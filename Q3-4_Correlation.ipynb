{
 "cells": [
  {
   "cell_type": "code",
   "execution_count": 70,
   "id": "b5504e3c",
   "metadata": {},
   "outputs": [],
   "source": [
    "# Dependencies and Setup\n",
    "import matplotlib.pyplot as plt\n",
    "import pandas as pd\n",
    "import numpy as np\n",
    "import scipy.stats as st\n",
    "import random"
   ]
  },
  {
   "cell_type": "code",
   "execution_count": 2,
   "id": "964f7c9a",
   "metadata": {},
   "outputs": [
    {
     "data": {
      "text/html": [
       "<div>\n",
       "<style scoped>\n",
       "    .dataframe tbody tr th:only-of-type {\n",
       "        vertical-align: middle;\n",
       "    }\n",
       "\n",
       "    .dataframe tbody tr th {\n",
       "        vertical-align: top;\n",
       "    }\n",
       "\n",
       "    .dataframe thead th {\n",
       "        text-align: right;\n",
       "    }\n",
       "</style>\n",
       "<table border=\"1\" class=\"dataframe\">\n",
       "  <thead>\n",
       "    <tr style=\"text-align: right;\">\n",
       "      <th></th>\n",
       "      <th>ID</th>\n",
       "      <th>Year</th>\n",
       "      <th>Start Date</th>\n",
       "      <th>Start Time</th>\n",
       "      <th>Hour</th>\n",
       "      <th>Offense Group</th>\n",
       "      <th>Offense</th>\n",
       "      <th>Offense Text</th>\n",
       "      <th>Max Temp (f)</th>\n",
       "      <th>Min Temp (f)</th>\n",
       "      <th>Avg Temp (f)</th>\n",
       "      <th>Total Precipitation (in)</th>\n",
       "      <th>Avg Humidity (%)</th>\n",
       "      <th>Day Condition</th>\n",
       "      <th>Hour Temp (f)</th>\n",
       "      <th>Hour Condition</th>\n",
       "      <th>Hour Precipitation (in)</th>\n",
       "      <th>Hour Humidity (%)</th>\n",
       "    </tr>\n",
       "  </thead>\n",
       "  <tbody>\n",
       "    <tr>\n",
       "      <th>27556</th>\n",
       "      <td>27556</td>\n",
       "      <td>2023</td>\n",
       "      <td>2023-02-05</td>\n",
       "      <td>23:00:00</td>\n",
       "      <td>11:00PM</td>\n",
       "      <td>violent</td>\n",
       "      <td>assault w/dangerous weapon</td>\n",
       "      <td>assault w/dangerous weapon</td>\n",
       "      <td>50.9</td>\n",
       "      <td>30.0</td>\n",
       "      <td>41.1</td>\n",
       "      <td>0.0</td>\n",
       "      <td>61.0</td>\n",
       "      <td>Overcast</td>\n",
       "      <td>42.5</td>\n",
       "      <td>Mist</td>\n",
       "      <td>0.0</td>\n",
       "      <td>95.0</td>\n",
       "    </tr>\n",
       "    <tr>\n",
       "      <th>27557</th>\n",
       "      <td>27557</td>\n",
       "      <td>2023</td>\n",
       "      <td>2023-02-05</td>\n",
       "      <td>23:00:00</td>\n",
       "      <td>11:00PM</td>\n",
       "      <td>property</td>\n",
       "      <td>theft f/auto</td>\n",
       "      <td>theft f/auto</td>\n",
       "      <td>50.9</td>\n",
       "      <td>30.0</td>\n",
       "      <td>41.1</td>\n",
       "      <td>0.0</td>\n",
       "      <td>61.0</td>\n",
       "      <td>Overcast</td>\n",
       "      <td>42.5</td>\n",
       "      <td>Mist</td>\n",
       "      <td>0.0</td>\n",
       "      <td>95.0</td>\n",
       "    </tr>\n",
       "    <tr>\n",
       "      <th>27558</th>\n",
       "      <td>27558</td>\n",
       "      <td>2023</td>\n",
       "      <td>2023-02-05</td>\n",
       "      <td>23:21:00</td>\n",
       "      <td>11:00PM</td>\n",
       "      <td>property</td>\n",
       "      <td>theft f/auto</td>\n",
       "      <td>theft f/auto</td>\n",
       "      <td>50.9</td>\n",
       "      <td>30.0</td>\n",
       "      <td>41.1</td>\n",
       "      <td>0.0</td>\n",
       "      <td>61.0</td>\n",
       "      <td>Overcast</td>\n",
       "      <td>42.5</td>\n",
       "      <td>Mist</td>\n",
       "      <td>0.0</td>\n",
       "      <td>95.0</td>\n",
       "    </tr>\n",
       "    <tr>\n",
       "      <th>27559</th>\n",
       "      <td>27559</td>\n",
       "      <td>2023</td>\n",
       "      <td>2023-02-05</td>\n",
       "      <td>23:40:00</td>\n",
       "      <td>11:00PM</td>\n",
       "      <td>property</td>\n",
       "      <td>motor vehicle theft</td>\n",
       "      <td>motor vehicle theft</td>\n",
       "      <td>50.9</td>\n",
       "      <td>30.0</td>\n",
       "      <td>41.1</td>\n",
       "      <td>0.0</td>\n",
       "      <td>61.0</td>\n",
       "      <td>Overcast</td>\n",
       "      <td>42.5</td>\n",
       "      <td>Mist</td>\n",
       "      <td>0.0</td>\n",
       "      <td>95.0</td>\n",
       "    </tr>\n",
       "    <tr>\n",
       "      <th>27560</th>\n",
       "      <td>27560</td>\n",
       "      <td>2023</td>\n",
       "      <td>2023-02-05</td>\n",
       "      <td>23:55:00</td>\n",
       "      <td>11:00PM</td>\n",
       "      <td>property</td>\n",
       "      <td>theft f/auto</td>\n",
       "      <td>theft f/auto</td>\n",
       "      <td>50.9</td>\n",
       "      <td>30.0</td>\n",
       "      <td>41.1</td>\n",
       "      <td>0.0</td>\n",
       "      <td>61.0</td>\n",
       "      <td>Overcast</td>\n",
       "      <td>42.5</td>\n",
       "      <td>Mist</td>\n",
       "      <td>0.0</td>\n",
       "      <td>95.0</td>\n",
       "    </tr>\n",
       "  </tbody>\n",
       "</table>\n",
       "</div>"
      ],
      "text/plain": [
       "          ID  Year  Start Date Start Time     Hour Offense Group  \\\n",
       "27556  27556  2023  2023-02-05   23:00:00  11:00PM       violent   \n",
       "27557  27557  2023  2023-02-05   23:00:00  11:00PM      property   \n",
       "27558  27558  2023  2023-02-05   23:21:00  11:00PM      property   \n",
       "27559  27559  2023  2023-02-05   23:40:00  11:00PM      property   \n",
       "27560  27560  2023  2023-02-05   23:55:00  11:00PM      property   \n",
       "\n",
       "                          Offense                Offense Text  Max Temp (f)  \\\n",
       "27556  assault w/dangerous weapon  assault w/dangerous weapon          50.9   \n",
       "27557                theft f/auto                theft f/auto          50.9   \n",
       "27558                theft f/auto                theft f/auto          50.9   \n",
       "27559         motor vehicle theft         motor vehicle theft          50.9   \n",
       "27560                theft f/auto                theft f/auto          50.9   \n",
       "\n",
       "       Min Temp (f)  Avg Temp (f)  Total Precipitation (in)  Avg Humidity (%)  \\\n",
       "27556          30.0          41.1                       0.0              61.0   \n",
       "27557          30.0          41.1                       0.0              61.0   \n",
       "27558          30.0          41.1                       0.0              61.0   \n",
       "27559          30.0          41.1                       0.0              61.0   \n",
       "27560          30.0          41.1                       0.0              61.0   \n",
       "\n",
       "      Day Condition  Hour Temp (f) Hour Condition  Hour Precipitation (in)  \\\n",
       "27556      Overcast           42.5           Mist                      0.0   \n",
       "27557      Overcast           42.5           Mist                      0.0   \n",
       "27558      Overcast           42.5           Mist                      0.0   \n",
       "27559      Overcast           42.5           Mist                      0.0   \n",
       "27560      Overcast           42.5           Mist                      0.0   \n",
       "\n",
       "       Hour Humidity (%)  \n",
       "27556               95.0  \n",
       "27557               95.0  \n",
       "27558               95.0  \n",
       "27559               95.0  \n",
       "27560               95.0  "
      ]
     },
     "execution_count": 2,
     "metadata": {},
     "output_type": "execute_result"
    }
   ],
   "source": [
    "# Reference data files *** USE ONLY ONE FILE IF ONLY ADDRESSING ONE QUESTION ***\n",
    "data_path = \"output_data/crime_weather_merged.csv\"\n",
    "\n",
    "# Read the data files \n",
    "data = pd.read_csv(data_path)\n",
    "\n",
    "#View data\n",
    "data.tail()"
   ]
  },
  {
   "cell_type": "code",
   "execution_count": 3,
   "id": "a7ebba65",
   "metadata": {},
   "outputs": [
    {
     "data": {
      "text/plain": [
       "ID                            int64\n",
       "Year                          int64\n",
       "Start Date                   object\n",
       "Start Time                   object\n",
       "Hour                         object\n",
       "Offense Group                object\n",
       "Offense                      object\n",
       "Offense Text                 object\n",
       "Max Temp (f)                float64\n",
       "Min Temp (f)                float64\n",
       "Avg Temp (f)                float64\n",
       "Total Precipitation (in)    float64\n",
       "Avg Humidity (%)            float64\n",
       "Day Condition                object\n",
       "Hour Temp (f)               float64\n",
       "Hour Condition               object\n",
       "Hour Precipitation (in)     float64\n",
       "Hour Humidity (%)           float64\n",
       "dtype: object"
      ]
     },
     "execution_count": 3,
     "metadata": {},
     "output_type": "execute_result"
    }
   ],
   "source": [
    "#View data types\n",
    "data.dtypes"
   ]
  },
  {
   "cell_type": "code",
   "execution_count": 4,
   "id": "67b5b3fc",
   "metadata": {},
   "outputs": [
    {
     "data": {
      "text/plain": [
       "Hour Humidity (%)\n",
       "20.0       5\n",
       "21.0      10\n",
       "22.0      20\n",
       "23.0      40\n",
       "24.0      48\n",
       "        ... \n",
       "96.0     379\n",
       "97.0     340\n",
       "98.0     368\n",
       "99.0     237\n",
       "100.0     56\n",
       "Name: ID, Length: 81, dtype: int64"
      ]
     },
     "execution_count": 4,
     "metadata": {},
     "output_type": "execute_result"
    }
   ],
   "source": [
    "#Group data by Hour Temp\n",
    "crime_by_temp = data.groupby(\"Hour Temp (f)\").count()[\"ID\"]\n",
    "\n",
    "#Group data by Hour Humidity\n",
    "crime_by_humid = data.groupby(\"Hour Humidity (%)\").count()[\"ID\"]\n",
    "\n",
    "#Group data by Hour Precip\n",
    "crime_by_precip = data.groupby(\"Hour Precipitation (in)\").count()[\"ID\"]\n",
    "\n",
    "#Group data by Hour Condition\n",
    "crime_by_cond = data.groupby(\"Hour Condition\").count()[\"ID\"]\n",
    "\n",
    "crime_by_humid"
   ]
  },
  {
   "cell_type": "code",
   "execution_count": 5,
   "id": "659187d8",
   "metadata": {},
   "outputs": [
    {
     "data": {
      "image/png": "[encoded data removed]",
      "text/plain": [
       "<Figure size 432x288 with 1 Axes>"
      ]
     },
     "metadata": {
      "needs_background": "light"
     },
     "output_type": "display_data"
    }
   ],
   "source": [
    "plt.scatter(crime_by_temp.index,crime_by_temp.values)\n",
    "plt.xlabel('Temp')\n",
    "plt.ylabel('No of Crimes')\n",
    "plt.show()"
   ]
  },
  {
   "cell_type": "code",
   "execution_count": 6,
   "id": "489cb856",
   "metadata": {},
   "outputs": [
    {
     "data": {
      "image/png": "[encoded data removed]",
      "text/plain": [
       "<Figure size 432x288 with 1 Axes>"
      ]
     },
     "metadata": {
      "needs_background": "light"
     },
     "output_type": "display_data"
    }
   ],
   "source": [
    "plt.scatter(crime_by_precip.index,crime_by_precip.values)\n",
    "plt.xlabel('Precipitation')\n",
    "plt.ylabel('No of Crimes')\n",
    "plt.show()"
   ]
  },
  {
   "cell_type": "code",
   "execution_count": 7,
   "id": "60d65807",
   "metadata": {},
   "outputs": [
    {
     "data": {
      "image/png": "[encoded data removed]",
      "text/plain": [
       "<Figure size 432x288 with 1 Axes>"
      ]
     },
     "metadata": {
      "needs_background": "light"
     },
     "output_type": "display_data"
    }
   ],
   "source": [
    "plt.scatter(crime_by_humid.index,crime_by_humid.values)\n",
    "plt.xlabel('Humidity')\n",
    "plt.ylabel('No of Crimes')\n",
    "plt.show()"
   ]
  },
  {
   "cell_type": "code",
   "execution_count": 8,
   "id": "8b99fba3",
   "metadata": {},
   "outputs": [
    {
     "ename": "IndexingError",
     "evalue": "Too many indexers",
     "output_type": "error",
     "traceback": [
      "\u001b[1;31m---------------------------------------------------------------------------\u001b[0m",
      "\u001b[1;31mIndexingError\u001b[0m                             Traceback (most recent call last)",
      "\u001b[1;32m~\\AppData\\Local\\Temp\\ipykernel_17596\\2751791236.py\u001b[0m in \u001b[0;36m<module>\u001b[1;34m\u001b[0m\n\u001b[1;32m----> 1\u001b[1;33m \u001b[0mplt\u001b[0m\u001b[1;33m.\u001b[0m\u001b[0mscatter\u001b[0m\u001b[1;33m(\u001b[0m\u001b[0mcrime_by_temp\u001b[0m\u001b[1;33m.\u001b[0m\u001b[0miloc\u001b[0m\u001b[1;33m[\u001b[0m\u001b[1;33m:\u001b[0m\u001b[1;33m,\u001b[0m\u001b[1;36m5\u001b[0m\u001b[1;33m]\u001b[0m\u001b[1;33m,\u001b[0m\u001b[0mdata\u001b[0m\u001b[1;33m.\u001b[0m\u001b[0miloc\u001b[0m\u001b[1;33m[\u001b[0m\u001b[1;33m:\u001b[0m\u001b[1;33m,\u001b[0m\u001b[1;36m14\u001b[0m\u001b[1;33m]\u001b[0m\u001b[1;33m)\u001b[0m\u001b[1;33m\u001b[0m\u001b[1;33m\u001b[0m\u001b[0m\n\u001b[0m\u001b[0;32m      2\u001b[0m \u001b[0mplt\u001b[0m\u001b[1;33m.\u001b[0m\u001b[0mxlabel\u001b[0m\u001b[1;33m(\u001b[0m\u001b[1;34m'Population Median Age'\u001b[0m\u001b[1;33m)\u001b[0m\u001b[1;33m\u001b[0m\u001b[1;33m\u001b[0m\u001b[0m\n\u001b[0;32m      3\u001b[0m \u001b[0mplt\u001b[0m\u001b[1;33m.\u001b[0m\u001b[0mylabel\u001b[0m\u001b[1;33m(\u001b[0m\u001b[1;34m'Cell Phones Per 100 People'\u001b[0m\u001b[1;33m)\u001b[0m\u001b[1;33m\u001b[0m\u001b[1;33m\u001b[0m\u001b[0m\n\u001b[0;32m      4\u001b[0m \u001b[0mplt\u001b[0m\u001b[1;33m.\u001b[0m\u001b[0mshow\u001b[0m\u001b[1;33m(\u001b[0m\u001b[1;33m)\u001b[0m\u001b[1;33m\u001b[0m\u001b[1;33m\u001b[0m\u001b[0m\n",
      "\u001b[1;32mc:\\Users\\ysgor\\anaconda3\\envs\\PythonData\\lib\\site-packages\\pandas\\core\\indexing.py\u001b[0m in \u001b[0;36m__getitem__\u001b[1;34m(self, key)\u001b[0m\n\u001b[0;32m   1760\u001b[0m                 \u001b[1;32mexcept\u001b[0m \u001b[1;33m(\u001b[0m\u001b[0mKeyError\u001b[0m\u001b[1;33m,\u001b[0m \u001b[0mIndexError\u001b[0m\u001b[1;33m,\u001b[0m \u001b[0mAttributeError\u001b[0m\u001b[1;33m)\u001b[0m\u001b[1;33m:\u001b[0m\u001b[1;33m\u001b[0m\u001b[1;33m\u001b[0m\u001b[0m\n\u001b[0;32m   1761\u001b[0m                     \u001b[1;32mpass\u001b[0m\u001b[1;33m\u001b[0m\u001b[1;33m\u001b[0m\u001b[0m\n\u001b[1;32m-> 1762\u001b[1;33m             \u001b[1;32mreturn\u001b[0m \u001b[0mself\u001b[0m\u001b[1;33m.\u001b[0m\u001b[0m_getitem_tuple\u001b[0m\u001b[1;33m(\u001b[0m\u001b[0mkey\u001b[0m\u001b[1;33m)\u001b[0m\u001b[1;33m\u001b[0m\u001b[1;33m\u001b[0m\u001b[0m\n\u001b[0m\u001b[0;32m   1763\u001b[0m         \u001b[1;32melse\u001b[0m\u001b[1;33m:\u001b[0m\u001b[1;33m\u001b[0m\u001b[1;33m\u001b[0m\u001b[0m\n\u001b[0;32m   1764\u001b[0m             \u001b[1;31m# we by definition only have the 0th axis\u001b[0m\u001b[1;33m\u001b[0m\u001b[1;33m\u001b[0m\u001b[1;33m\u001b[0m\u001b[0m\n",
      "\u001b[1;32mc:\\Users\\ysgor\\anaconda3\\envs\\PythonData\\lib\\site-packages\\pandas\\core\\indexing.py\u001b[0m in \u001b[0;36m_getitem_tuple\u001b[1;34m(self, tup)\u001b[0m\n\u001b[0;32m   2065\u001b[0m     \u001b[1;32mdef\u001b[0m \u001b[0m_getitem_tuple\u001b[0m\u001b[1;33m(\u001b[0m\u001b[0mself\u001b[0m\u001b[1;33m,\u001b[0m \u001b[0mtup\u001b[0m\u001b[1;33m:\u001b[0m \u001b[0mTuple\u001b[0m\u001b[1;33m)\u001b[0m\u001b[1;33m:\u001b[0m\u001b[1;33m\u001b[0m\u001b[1;33m\u001b[0m\u001b[0m\n\u001b[0;32m   2066\u001b[0m \u001b[1;33m\u001b[0m\u001b[0m\n\u001b[1;32m-> 2067\u001b[1;33m         \u001b[0mself\u001b[0m\u001b[1;33m.\u001b[0m\u001b[0m_has_valid_tuple\u001b[0m\u001b[1;33m(\u001b[0m\u001b[0mtup\u001b[0m\u001b[1;33m)\u001b[0m\u001b[1;33m\u001b[0m\u001b[1;33m\u001b[0m\u001b[0m\n\u001b[0m\u001b[0;32m   2068\u001b[0m         \u001b[1;32mtry\u001b[0m\u001b[1;33m:\u001b[0m\u001b[1;33m\u001b[0m\u001b[1;33m\u001b[0m\u001b[0m\n\u001b[0;32m   2069\u001b[0m             \u001b[1;32mreturn\u001b[0m \u001b[0mself\u001b[0m\u001b[1;33m.\u001b[0m\u001b[0m_getitem_lowerdim\u001b[0m\u001b[1;33m(\u001b[0m\u001b[0mtup\u001b[0m\u001b[1;33m)\u001b[0m\u001b[1;33m\u001b[0m\u001b[1;33m\u001b[0m\u001b[0m\n",
      "\u001b[1;32mc:\\Users\\ysgor\\anaconda3\\envs\\PythonData\\lib\\site-packages\\pandas\\core\\indexing.py\u001b[0m in \u001b[0;36m_has_valid_tuple\u001b[1;34m(self, key)\u001b[0m\n\u001b[0;32m    699\u001b[0m         \u001b[1;32mfor\u001b[0m \u001b[0mi\u001b[0m\u001b[1;33m,\u001b[0m \u001b[0mk\u001b[0m \u001b[1;32min\u001b[0m \u001b[0menumerate\u001b[0m\u001b[1;33m(\u001b[0m\u001b[0mkey\u001b[0m\u001b[1;33m)\u001b[0m\u001b[1;33m:\u001b[0m\u001b[1;33m\u001b[0m\u001b[1;33m\u001b[0m\u001b[0m\n\u001b[0;32m    700\u001b[0m             \u001b[1;32mif\u001b[0m \u001b[0mi\u001b[0m \u001b[1;33m>=\u001b[0m \u001b[0mself\u001b[0m\u001b[1;33m.\u001b[0m\u001b[0mndim\u001b[0m\u001b[1;33m:\u001b[0m\u001b[1;33m\u001b[0m\u001b[1;33m\u001b[0m\u001b[0m\n\u001b[1;32m--> 701\u001b[1;33m                 \u001b[1;32mraise\u001b[0m \u001b[0mIndexingError\u001b[0m\u001b[1;33m(\u001b[0m\u001b[1;34m\"Too many indexers\"\u001b[0m\u001b[1;33m)\u001b[0m\u001b[1;33m\u001b[0m\u001b[1;33m\u001b[0m\u001b[0m\n\u001b[0m\u001b[0;32m    702\u001b[0m             \u001b[1;32mtry\u001b[0m\u001b[1;33m:\u001b[0m\u001b[1;33m\u001b[0m\u001b[1;33m\u001b[0m\u001b[0m\n\u001b[0;32m    703\u001b[0m                 \u001b[0mself\u001b[0m\u001b[1;33m.\u001b[0m\u001b[0m_validate_key\u001b[0m\u001b[1;33m(\u001b[0m\u001b[0mk\u001b[0m\u001b[1;33m,\u001b[0m \u001b[0mi\u001b[0m\u001b[1;33m)\u001b[0m\u001b[1;33m\u001b[0m\u001b[1;33m\u001b[0m\u001b[0m\n",
      "\u001b[1;31mIndexingError\u001b[0m: Too many indexers"
     ]
    }
   ],
   "source": [
    "plt.scatter(crime_by_temp.iloc[:,5],data.iloc[:,14])\n",
    "plt.xlabel('Population Median Age')\n",
    "plt.ylabel('Cell Phones Per 100 People')\n",
    "plt.show()"
   ]
  },
  {
   "cell_type": "code",
   "execution_count": null,
   "id": "41227937",
   "metadata": {},
   "outputs": [
    {
     "data": {
      "text/html": [
       "<div>\n",
       "<style scoped>\n",
       "    .dataframe tbody tr th:only-of-type {\n",
       "        vertical-align: middle;\n",
       "    }\n",
       "\n",
       "    .dataframe tbody tr th {\n",
       "        vertical-align: top;\n",
       "    }\n",
       "\n",
       "    .dataframe thead th {\n",
       "        text-align: right;\n",
       "    }\n",
       "</style>\n",
       "<table border=\"1\" class=\"dataframe\">\n",
       "  <thead>\n",
       "    <tr style=\"text-align: right;\">\n",
       "      <th></th>\n",
       "      <th>ID</th>\n",
       "      <th>Year</th>\n",
       "      <th>Start Date</th>\n",
       "      <th>Start Time</th>\n",
       "      <th>Hour</th>\n",
       "      <th>Offense Group</th>\n",
       "      <th>Offense</th>\n",
       "      <th>Offense Text</th>\n",
       "      <th>Max Temp (f)</th>\n",
       "      <th>Min Temp (f)</th>\n",
       "      <th>Avg Temp (f)</th>\n",
       "      <th>Total Precipitation (in)</th>\n",
       "      <th>Avg Humidity (%)</th>\n",
       "      <th>Day Condition</th>\n",
       "      <th>Hour Temp (f)</th>\n",
       "      <th>Hour Condition</th>\n",
       "      <th>Hour Precipitation (in)</th>\n",
       "      <th>Hour Humidity (%)</th>\n",
       "    </tr>\n",
       "  </thead>\n",
       "  <tbody>\n",
       "    <tr>\n",
       "      <th>110</th>\n",
       "      <td>110</td>\n",
       "      <td>2022</td>\n",
       "      <td>2022-02-07</td>\n",
       "      <td>18:00:00</td>\n",
       "      <td>6:00PM</td>\n",
       "      <td>property</td>\n",
       "      <td>theft f/auto</td>\n",
       "      <td>theft f/auto</td>\n",
       "      <td>46.9</td>\n",
       "      <td>27.7</td>\n",
       "      <td>38.0</td>\n",
       "      <td>0.0</td>\n",
       "      <td>61.0</td>\n",
       "      <td>Cloudy</td>\n",
       "      <td>43.7</td>\n",
       "      <td>Clear</td>\n",
       "      <td>0.0</td>\n",
       "      <td>51.0</td>\n",
       "    </tr>\n",
       "    <tr>\n",
       "      <th>111</th>\n",
       "      <td>111</td>\n",
       "      <td>2022</td>\n",
       "      <td>2022-02-07</td>\n",
       "      <td>18:48:00</td>\n",
       "      <td>6:00PM</td>\n",
       "      <td>property</td>\n",
       "      <td>theft/other</td>\n",
       "      <td>theft/other</td>\n",
       "      <td>46.9</td>\n",
       "      <td>27.7</td>\n",
       "      <td>38.0</td>\n",
       "      <td>0.0</td>\n",
       "      <td>61.0</td>\n",
       "      <td>Cloudy</td>\n",
       "      <td>43.7</td>\n",
       "      <td>Clear</td>\n",
       "      <td>0.0</td>\n",
       "      <td>51.0</td>\n",
       "    </tr>\n",
       "    <tr>\n",
       "      <th>112</th>\n",
       "      <td>112</td>\n",
       "      <td>2022</td>\n",
       "      <td>2022-02-07</td>\n",
       "      <td>18:53:00</td>\n",
       "      <td>6:00PM</td>\n",
       "      <td>property</td>\n",
       "      <td>motor vehicle theft</td>\n",
       "      <td>motor vehicle theft</td>\n",
       "      <td>46.9</td>\n",
       "      <td>27.7</td>\n",
       "      <td>38.0</td>\n",
       "      <td>0.0</td>\n",
       "      <td>61.0</td>\n",
       "      <td>Cloudy</td>\n",
       "      <td>43.7</td>\n",
       "      <td>Clear</td>\n",
       "      <td>0.0</td>\n",
       "      <td>51.0</td>\n",
       "    </tr>\n",
       "    <tr>\n",
       "      <th>113</th>\n",
       "      <td>113</td>\n",
       "      <td>2022</td>\n",
       "      <td>2022-02-07</td>\n",
       "      <td>19:00:00</td>\n",
       "      <td>7:00PM</td>\n",
       "      <td>property</td>\n",
       "      <td>theft f/auto</td>\n",
       "      <td>theft f/auto</td>\n",
       "      <td>46.9</td>\n",
       "      <td>27.7</td>\n",
       "      <td>38.0</td>\n",
       "      <td>0.0</td>\n",
       "      <td>61.0</td>\n",
       "      <td>Cloudy</td>\n",
       "      <td>41.2</td>\n",
       "      <td>Clear</td>\n",
       "      <td>0.0</td>\n",
       "      <td>56.0</td>\n",
       "    </tr>\n",
       "    <tr>\n",
       "      <th>114</th>\n",
       "      <td>114</td>\n",
       "      <td>2022</td>\n",
       "      <td>2022-02-07</td>\n",
       "      <td>19:17:00</td>\n",
       "      <td>7:00PM</td>\n",
       "      <td>property</td>\n",
       "      <td>motor vehicle theft</td>\n",
       "      <td>motor vehicle theft</td>\n",
       "      <td>46.9</td>\n",
       "      <td>27.7</td>\n",
       "      <td>38.0</td>\n",
       "      <td>0.0</td>\n",
       "      <td>61.0</td>\n",
       "      <td>Cloudy</td>\n",
       "      <td>41.2</td>\n",
       "      <td>Clear</td>\n",
       "      <td>0.0</td>\n",
       "      <td>56.0</td>\n",
       "    </tr>\n",
       "  </tbody>\n",
       "</table>\n",
       "</div>"
      ],
      "text/plain": [
       "      ID  Year  Start Date Start Time    Hour Offense Group  \\\n",
       "110  110  2022  2022-02-07   18:00:00  6:00PM      property   \n",
       "111  111  2022  2022-02-07   18:48:00  6:00PM      property   \n",
       "112  112  2022  2022-02-07   18:53:00  6:00PM      property   \n",
       "113  113  2022  2022-02-07   19:00:00  7:00PM      property   \n",
       "114  114  2022  2022-02-07   19:17:00  7:00PM      property   \n",
       "\n",
       "                 Offense         Offense Text  Max Temp (f)  Min Temp (f)  \\\n",
       "110         theft f/auto         theft f/auto          46.9          27.7   \n",
       "111          theft/other          theft/other          46.9          27.7   \n",
       "112  motor vehicle theft  motor vehicle theft          46.9          27.7   \n",
       "113         theft f/auto         theft f/auto          46.9          27.7   \n",
       "114  motor vehicle theft  motor vehicle theft          46.9          27.7   \n",
       "\n",
       "     Avg Temp (f)  Total Precipitation (in)  Avg Humidity (%) Day Condition  \\\n",
       "110          38.0                       0.0              61.0        Cloudy   \n",
       "111          38.0                       0.0              61.0        Cloudy   \n",
       "112          38.0                       0.0              61.0        Cloudy   \n",
       "113          38.0                       0.0              61.0        Cloudy   \n",
       "114          38.0                       0.0              61.0        Cloudy   \n",
       "\n",
       "     Hour Temp (f) Hour Condition  Hour Precipitation (in)  Hour Humidity (%)  \n",
       "110           43.7          Clear                      0.0               51.0  \n",
       "111           43.7          Clear                      0.0               51.0  \n",
       "112           43.7          Clear                      0.0               51.0  \n",
       "113           41.2          Clear                      0.0               56.0  \n",
       "114           41.2          Clear                      0.0               56.0  "
      ]
     },
     "execution_count": 36,
     "metadata": {},
     "output_type": "execute_result"
    }
   ],
   "source": [
    "temp_condition = (data[\"Hour Temp (f)\"]>40.0) & (data[\"Hour Temp (f)\"]<80.0)\n",
    "humid_condition = (data[\"Hour Humidity (%)\"]>50.0) & (data[\"Hour Humidity (%)\"]<80.0)\n",
    "precip_condition = (data[\"Hour Precipitation (in)\"]<0.02)\n",
    "data_filter = data.loc[temp_condition & humid_condition & precip_condition]\n",
    "data_filter.head()"
   ]
  },
  {
   "cell_type": "code",
   "execution_count": null,
   "id": "887c54c7",
   "metadata": {},
   "outputs": [
    {
     "data": {
      "text/plain": [
       "0        False\n",
       "1        False\n",
       "2        False\n",
       "3        False\n",
       "4        False\n",
       "         ...  \n",
       "27556     True\n",
       "27557     True\n",
       "27558     True\n",
       "27559     True\n",
       "27560     True\n",
       "Name: Hour Temp (f), Length: 27561, dtype: bool"
      ]
     },
     "execution_count": 34,
     "metadata": {},
     "output_type": "execute_result"
    }
   ],
   "source": [
    "data[\"Hour Temp (f)\"]>40.0\n"
   ]
  },
  {
   "cell_type": "code",
   "execution_count": null,
   "id": "1323ae65",
   "metadata": {},
   "outputs": [
    {
     "data": {
      "text/plain": [
       "Hour Humidity (%)\n",
       "51.0    327\n",
       "52.0    330\n",
       "53.0    284\n",
       "54.0    370\n",
       "55.0    342\n",
       "56.0    354\n",
       "57.0    366\n",
       "58.0    356\n",
       "59.0    342\n",
       "60.0    296\n",
       "61.0    348\n",
       "62.0    381\n",
       "63.0    378\n",
       "64.0    273\n",
       "65.0    287\n",
       "66.0    316\n",
       "67.0    387\n",
       "68.0    322\n",
       "69.0    332\n",
       "70.0    279\n",
       "71.0    412\n",
       "72.0    234\n",
       "73.0    337\n",
       "74.0    218\n",
       "75.0    250\n",
       "76.0    361\n",
       "77.0    287\n",
       "78.0    304\n",
       "79.0    301\n",
       "Name: ID, dtype: int64"
      ]
     },
     "execution_count": 37,
     "metadata": {},
     "output_type": "execute_result"
    }
   ],
   "source": [
    "#Group data by Hour Temp\n",
    "crime_by_temp2 = data_filter.groupby(\"Hour Temp (f)\").count()[\"ID\"]\n",
    "\n",
    "#Group data by Hour Humidity\n",
    "crime_by_humid2 = data_filter.groupby(\"Hour Humidity (%)\").count()[\"ID\"]\n",
    "\n",
    "#Group data by Hour Precip\n",
    "crime_by_precip2 = data_filter.groupby(\"Hour Precipitation (in)\").count()[\"ID\"]\n",
    "\n",
    "#Group data by Hour Condition\n",
    "crime_by_cond2 = data_filter.groupby(\"Hour Condition\").count()[\"ID\"]\n",
    "\n",
    "crime_by_humid2"
   ]
  },
  {
   "cell_type": "code",
   "execution_count": null,
   "id": "a5d256a8",
   "metadata": {},
   "outputs": [
    {
     "data": {
      "image/png": "[encoded data removed]",
      "text/plain": [
       "<Figure size 432x288 with 1 Axes>"
      ]
     },
     "metadata": {
      "needs_background": "light"
     },
     "output_type": "display_data"
    }
   ],
   "source": [
    "plt.scatter(crime_by_temp2.index,crime_by_temp2.values)\n",
    "plt.xlabel('Temp')\n",
    "plt.ylabel('No of Crimes')\n",
    "plt.show()"
   ]
  },
  {
   "cell_type": "code",
   "execution_count": null,
   "id": "be4b417f",
   "metadata": {},
   "outputs": [
    {
     "data": {
      "image/png": "[encoded data removed]",
      "text/plain": [
       "<Figure size 432x288 with 1 Axes>"
      ]
     },
     "metadata": {
      "needs_background": "light"
     },
     "output_type": "display_data"
    }
   ],
   "source": [
    "plt.scatter(crime_by_humid2.index,crime_by_humid2.values)\n",
    "plt.xlabel('Humidity')\n",
    "plt.ylabel('No of Crimes')\n",
    "plt.show()"
   ]
  },
  {
   "cell_type": "code",
   "execution_count": null,
   "id": "dc0ee7bc",
   "metadata": {},
   "outputs": [
    {
     "data": {
      "image/png": "[encoded data removed]",
      "text/plain": [
       "<Figure size 432x288 with 1 Axes>"
      ]
     },
     "metadata": {
      "needs_background": "light"
     },
     "output_type": "display_data"
    }
   ],
   "source": [
    "plt.scatter(crime_by_precip2.index,crime_by_precip2.values)\n",
    "plt.xlabel('Precipitation')\n",
    "plt.ylabel('No of Crimes')\n",
    "plt.show()"
   ]
  },
  {
   "attachments": {},
   "cell_type": "markdown",
   "id": "a9f3bb71",
   "metadata": {},
   "source": [
    "### Testing Correlation Between Precipitation and Crime"
   ]
  },
  {
   "cell_type": "code",
   "execution_count": 85,
   "id": "d86d1d3c",
   "metadata": {},
   "outputs": [
    {
     "name": "stdout",
     "output_type": "stream",
     "text": [
      "The average crimes per day with no precipitation: 76.1063829787234\n",
      "The average crimes per day with precipitation: 74.43076923076923\n"
     ]
    }
   ],
   "source": [
    "# Finding average crime per day precipitation vs. no precipitation\n",
    "precip_col = np.where((data['Total Precipitation (in)']) > 0, 'Precipitation', 'No Precipitation')\n",
    "data['Precipitation'] = precip_col\n",
    "data.groupby(['Precipitation', 'Start Date']).count()\n",
    "\n",
    "no_precip = data.loc[data['Precipitation'] == 'No Precipitation', :]\n",
    "no_precip_group = pd.DataFrame(no_precip.groupby('Start Date').count())\n",
    "avg_crime_no_precip = (no_precip_group['ID']).mean()\n",
    "print(f\"The average crimes per day with no precipitation: {avg_crime_no_precip}\")\n",
    "\n",
    "precip = data.loc[data['Precipitation'] == 'Precipitation', :]\n",
    "precip_group = pd.DataFrame(precip.groupby('Start Date').count())\n",
    "avg_crime_precip = (precip_group['ID']).mean()\n",
    "avg_crime_precip\n",
    "print(f\"The average crimes per day with precipitation: {avg_crime_precip}\")"
   ]
  },
  {
   "cell_type": "code",
   "execution_count": 89,
   "id": "38b35296",
   "metadata": {},
   "outputs": [
    {
     "name": "stdout",
     "output_type": "stream",
     "text": [
      "Average crime over all 365 days: 75.5095890410959\n"
     ]
    },
    {
     "data": {
      "text/plain": [
       "3.841458820694124"
      ]
     },
     "execution_count": 89,
     "metadata": {},
     "output_type": "execute_result"
    }
   ],
   "source": [
    "# Chi-Squared Analysis\n",
    "observed = pd.Series([76.1063829787234, 74.43076923076923], index=['No Precipitation', 'Precipitation'])\n",
    "chi_df = pd.DataFrame([observed]).T\n",
    "\n",
    "# Expected avg crime per day\n",
    "grouped = pd.DataFrame(data.groupby('Start Date').count())\n",
    "avg_crime_total = grouped['ID'].mean()\n",
    "print(f\"Average crime over all 365 days: {avg_crime_total}\")\n",
    "\n",
    "# Column of expected values\n",
    "chi_df[1] = avg_crime_total\n",
    "chi_df.columns = ['observed', 'expected']\n",
    "\n",
    "# Degrees of freedom 2 - 1 = 1\n",
    "# With a p-value of 0.05, the confidence level is 1.00-0.05 = 0.95.\n",
    "critical_value = st.chi2.ppf(q = 0.95, df = 1)\n",
    "critical_value"
   ]
  },
  {
   "cell_type": "code",
   "execution_count": 90,
   "id": "2a8435d0",
   "metadata": {},
   "outputs": [
    {
     "data": {
      "text/plain": [
       "Power_divergenceResult(statistic=0.020130094819016196, pvalue=0.8871743456255738)"
      ]
     },
     "execution_count": 90,
     "metadata": {},
     "output_type": "execute_result"
    }
   ],
   "source": [
    "# Chi Squared\n",
    "st.chisquare(chi_df['observed'], chi_df['expected'])"
   ]
  },
  {
   "cell_type": "code",
   "execution_count": 91,
   "id": "c1fa00f2",
   "metadata": {},
   "outputs": [
    {
     "data": {
      "text/plain": [
       "<BarContainer object of 2 artists>"
      ]
     },
     "execution_count": 91,
     "metadata": {},
     "output_type": "execute_result"
    },
    {
     "data": {
      "image/png": "[encoded data removed]",
      "text/plain": [
       "<Figure size 432x288 with 1 Axes>"
      ]
     },
     "metadata": {
      "needs_background": "light"
     },
     "output_type": "display_data"
    }
   ],
   "source": [
    "# Visualization\n",
    "x_axis = ['No Precipitation', \"Precipitation\"]\n",
    "y_axis = [avg_crime_no_precip, avg_crime_precip]\n",
    "plt.bar(x_axis, y_axis)\n",
    "# plt.title(\"\"\"Total Number of Crimes Reported\n",
    "# Precipitation vs. No Precipitation\"\"\")\n",
    "# plt.xticks(tick_locations, precip)\n",
    "# plt.xlabel('Precipitation')\n",
    "# plt.ylabel('Crimes Reported')\n",
    "# plt.ylim(top=30000)\n",
    "# for index,data in enumerate((crime_weather.groupby(precip_col).count()['ID'])):\n",
    "#     plt.text(x=index , y=data+250 , s=f\"{data}\", ha='center')\n",
    "# plt.show()"
   ]
  },
  {
   "attachments": {},
   "cell_type": "markdown",
   "id": "07baacee",
   "metadata": {},
   "source": [
    "### Testing Correlation Between Temperature and Crime"
   ]
  },
  {
   "cell_type": "code",
   "execution_count": 92,
   "id": "84dd7ce5",
   "metadata": {},
   "outputs": [
    {
     "name": "stdout",
     "output_type": "stream",
     "text": [
      "The lower quartile is 46.7\n",
      "The upper quartile is 76.0\n"
     ]
    },
    {
     "data": {
      "image/png": "[encoded data removed]",
      "text/plain": [
       "<Figure size 432x288 with 1 Axes>"
      ]
     },
     "metadata": {
      "needs_background": "light"
     },
     "output_type": "display_data"
    }
   ],
   "source": [
    "# Identify low, moderate, high temperatures\n",
    "weather_file = \"output_data/dc_weather.csv\"\n",
    "weather_day = pd.read_csv(weather_file)\n",
    "\n",
    "quartiles = weather_day['avgtemp_f'].quantile([.25,.5,.75])\n",
    "lowerq = quartiles[0.25]\n",
    "upperq = quartiles[0.75]\n",
    "print(f\"The lower quartile is {lowerq}\")\n",
    "print(f\"The upper quartile is {upperq}\")\n",
    "\n",
    "fig1, ax1 = plt.subplots()\n",
    "ax1.set_ylabel('Avg Temp (f)')\n",
    "ax1.boxplot(weather_day['avgtemp_f'])\n",
    "flierprops={'marker': 'o', 'markersize': 12, 'markerfacecolor': 'red'}\n",
    "plt.show()"
   ]
  },
  {
   "cell_type": "code",
   "execution_count": 93,
   "id": "998e0775",
   "metadata": {},
   "outputs": [
    {
     "name": "stdout",
     "output_type": "stream",
     "text": [
      "The average crimes per day with low temperature: 75.08791208791209\n",
      "The average crimes per day with moderate temperature: 73.89247311827957\n",
      "The average crimes per day with high temperature: 79.36363636363636\n"
     ]
    }
   ],
   "source": [
    "bins = [0, 46.6, 76.1, 100]\n",
    "bin_labels = ['low', 'moderate', 'high']\n",
    "\n",
    "# organize weather by bins\n",
    "data['Temperature Level'] = pd.cut(data['Avg Temp (f)'], bins, labels=bin_labels, include_lowest=True)\n",
    "\n",
    "# Avg crime per day low temperature\n",
    "low_weather = data.loc[data['Temperature Level'] == 'low', :]\n",
    "low_group = pd.DataFrame(low_weather.groupby('Start Date').count())\n",
    "avg_crime_low = (low_group['ID']).mean()\n",
    "print(f\"The average crimes per day with low temperature: {avg_crime_low}\")\n",
    "\n",
    "# Avg crime per day moderate temperature\n",
    "mod_weather = data.loc[data['Temperature Level'] == 'moderate', :]\n",
    "mod_group = pd.DataFrame(mod_weather.groupby('Start Date').count())\n",
    "avg_crime_mod = (mod_group['ID']).mean()\n",
    "print(f\"The average crimes per day with moderate temperature: {avg_crime_mod}\")\n",
    "\n",
    "# Avg crime per day high temperature\n",
    "high_weather = data.loc[data['Temperature Level'] == 'high', :]\n",
    "high_group = pd.DataFrame(high_weather.groupby('Start Date').count())\n",
    "avg_crime_high = (high_group['ID']).mean()\n",
    "print(f\"The average crimes per day with high temperature: {avg_crime_high}\")"
   ]
  },
  {
   "cell_type": "code",
   "execution_count": 94,
   "id": "75621ec7",
   "metadata": {},
   "outputs": [
    {
     "data": {
      "text/plain": [
       "F_onewayResult(statistic=2.392428475274271, pvalue=0.0949583910975129)"
      ]
     },
     "execution_count": 94,
     "metadata": {},
     "output_type": "execute_result"
    }
   ],
   "source": [
    "# One-way ANOVA Test\n",
    "# Perform the ANOVA\n",
    "# Take samples of 50 from each group.\n",
    "low_sample = random.sample(list(low_group['ID']), k=50)\n",
    "mod_sample = random.sample(list(mod_group['ID']), k=50)\n",
    "high_sample = random.sample(list(high_group['ID']), k=50)\n",
    "st.f_oneway(low_sample, mod_sample, high_sample)\n"
   ]
  },
  {
   "cell_type": "code",
   "execution_count": 95,
   "id": "c253f6e0",
   "metadata": {},
   "outputs": [
    {
     "data": {
      "image/png": "[encoded data removed]",
      "text/plain": [
       "<Figure size 432x288 with 1 Axes>"
      ]
     },
     "metadata": {
      "needs_background": "light"
     },
     "output_type": "display_data"
    }
   ],
   "source": [
    "# Box plot\n",
    "box_plot = []\n",
    "box_plot.append(low_sample)\n",
    "box_plot.append(mod_sample)\n",
    "box_plot.append(high_sample)\n",
    "\n",
    "temperature_label = ['low', 'moderate', 'high']\n",
    "\n",
    "fig1, ax1 = plt.subplots()\n",
    "ax1.set_ylabel('Crimes Reported Per Day')\n",
    "ax1.boxplot(box_plot, labels=temperature_label)\n",
    "flierprops={'marker': 'o', 'markersize': 12, 'markerfacecolor': 'red'}\n",
    "plt.show()"
   ]
  },
  {
   "attachments": {},
   "cell_type": "markdown",
   "id": "5cc35c4c",
   "metadata": {},
   "source": [
    "### Testing Correlation Between Humidity and Crime"
   ]
  },
  {
   "cell_type": "code",
   "execution_count": 96,
   "id": "bf1b8b97",
   "metadata": {},
   "outputs": [
    {
     "name": "stdout",
     "output_type": "stream",
     "text": [
      "The lower quartile is 55.0\n",
      "The upper quartile is 76.0\n"
     ]
    },
    {
     "data": {
      "image/png": "[encoded data removed]",
      "text/plain": [
       "<Figure size 432x288 with 1 Axes>"
      ]
     },
     "metadata": {
      "needs_background": "light"
     },
     "output_type": "display_data"
    }
   ],
   "source": [
    "# Identify low, moderate, high humidity levels\n",
    "weather_file = \"output_data/dc_weather.csv\"\n",
    "weather_day = pd.read_csv(weather_file)\n",
    "\n",
    "quartiles = weather_day['avghumidity'].quantile([.25,.5,.75])\n",
    "lowerq = quartiles[0.25]\n",
    "upperq = quartiles[0.75]\n",
    "print(f\"The lower quartile is {lowerq}\")\n",
    "print(f\"The upper quartile is {upperq}\")\n",
    "\n",
    "fig1, ax1 = plt.subplots()\n",
    "ax1.set_ylabel('Avg Humidity (%)')\n",
    "ax1.boxplot(weather_day['avghumidity'])\n",
    "flierprops={'marker': 'o', 'markersize': 12, 'markerfacecolor': 'red'}\n",
    "plt.show()"
   ]
  },
  {
   "cell_type": "code",
   "execution_count": 97,
   "id": "a9b96434",
   "metadata": {},
   "outputs": [
    {
     "name": "stdout",
     "output_type": "stream",
     "text": [
      "The average crimes per day with low humidity: 75.04819277108433\n",
      "The average crimes per day with moderate humidity: 76.01069518716578\n",
      "The average crimes per day with high humidity: 74.92631578947369\n"
     ]
    }
   ],
   "source": [
    "bins = [0, 54.9, 75.9, 100]\n",
    "bin_labels = ['low humidity', 'moderate humidity', 'high humidity']\n",
    "\n",
    "# organize weather by bins\n",
    "data['Humidity Level'] = pd.cut(data['Avg Humidity (%)'], bins, labels=bin_labels, include_lowest=True)\n",
    "\n",
    "# Avg crime per day low humidity\n",
    "low_humidity = data.loc[data['Humidity Level'] == 'low humidity', :]\n",
    "low_humidity_group = pd.DataFrame(low_humidity.groupby('Start Date').count())\n",
    "avg_crime_low_humidity = (low_humidity_group['ID']).mean()\n",
    "print(f\"The average crimes per day with low humidity: {avg_crime_low_humidity}\")\n",
    "\n",
    "# Avg crime per day moderate humidity\n",
    "mod_humidity = data.loc[data['Humidity Level'] == 'moderate humidity', :]\n",
    "mod_humidity_group = pd.DataFrame(mod_humidity.groupby('Start Date').count())\n",
    "avg_crime_mod_humidity = (mod_humidity_group['ID']).mean()\n",
    "print(f\"The average crimes per day with moderate humidity: {avg_crime_mod_humidity}\")\n",
    "\n",
    "# Avg crime per day high humidity\n",
    "high_humidity = data.loc[data['Humidity Level'] == 'high humidity', :]\n",
    "high_humidity_group = pd.DataFrame(high_humidity.groupby('Start Date').count())\n",
    "avg_crime_high_humidity = (high_humidity_group['ID']).mean()\n",
    "print(f\"The average crimes per day with high humidity: {avg_crime_high_humidity}\")"
   ]
  },
  {
   "cell_type": "code",
   "execution_count": 98,
   "id": "7c277b2a",
   "metadata": {},
   "outputs": [
    {
     "data": {
      "text/plain": [
       "F_onewayResult(statistic=1.0009307885695513, pvalue=0.37002798251637)"
      ]
     },
     "execution_count": 98,
     "metadata": {},
     "output_type": "execute_result"
    }
   ],
   "source": [
    "# One-way ANOVA Test\n",
    "# Perform the ANOVA\n",
    "# Take samples of 50 from each group.\n",
    "low_humidity_sample = random.sample(list(low_humidity_group['ID']), k=50)\n",
    "mod_humidity_sample = random.sample(list(mod_humidity_group['ID']), k=50)\n",
    "high_humidity_sample = random.sample(list(high_humidity_group['ID']), k=50)\n",
    "st.f_oneway(low_humidity_sample, mod_humidity_sample, high_humidity_sample)"
   ]
  },
  {
   "cell_type": "code",
   "execution_count": 99,
   "id": "d3436107",
   "metadata": {},
   "outputs": [
    {
     "data": {
      "image/png": "[encoded data removed]",
      "text/plain": [
       "<Figure size 432x288 with 1 Axes>"
      ]
     },
     "metadata": {
      "needs_background": "light"
     },
     "output_type": "display_data"
    }
   ],
   "source": [
    "# Box plot\n",
    "box_plot = []\n",
    "box_plot.append(low_humidity_sample)\n",
    "box_plot.append(mod_humidity_sample)\n",
    "box_plot.append(high_humidity_sample)\n",
    "\n",
    "humidity_label = ['low humidity', 'moderate humidity', 'high humidity']\n",
    "\n",
    "fig1, ax1 = plt.subplots()\n",
    "ax1.set_ylabel('Crimes Reported Per Day')\n",
    "ax1.boxplot(box_plot, labels=temperature_label)\n",
    "flierprops={'marker': 'o', 'markersize': 12, 'markerfacecolor': 'red'}\n",
    "plt.show()"
   ]
  },
  {
   "attachments": {},
   "cell_type": "markdown",
   "id": "16be11dc",
   "metadata": {},
   "source": [
    "### Testing Correlation Between Precipitation and Crime\n",
    "#### Motor Vehicle Theft and Theft F/Auto Only"
   ]
  },
  {
   "cell_type": "code",
   "execution_count": 29,
   "id": "5052e0f5",
   "metadata": {},
   "outputs": [
    {
     "name": "stdout",
     "output_type": "stream",
     "text": [
      "The average crimes per day with no precipitation: 33.11914893617021\n",
      "The average crimes per day with precipitation: 31.976923076923075\n"
     ]
    }
   ],
   "source": [
    "# Finding average motor vehicle and theft f/auto crime per day precipitation vs. no precipitation\n",
    "data_limited = pd.DataFrame(data.loc[(data['Offense Text'] == 'motor vehicle theft') | (data['Offense Text'] == 'theft f/auto'), :])\n",
    "precip_col = np.where((data_limited['Total Precipitation (in)']) > 0, 'Precipitation', 'No Precipitation')\n",
    "data_limited['Precipitation'] = precip_col\n",
    "data_limited.groupby(['Precipitation', 'Start Date']).count()\n",
    "\n",
    "no_precip = data_limited.loc[data_limited['Precipitation'] == 'No Precipitation', :]\n",
    "no_precip_group = pd.DataFrame(no_precip.groupby('Start Date').count())\n",
    "avg_crime_no_precip = (no_precip_group['ID']).mean()\n",
    "print(f\"The average crimes per day with no precipitation: {avg_crime_no_precip}\")\n",
    "\n",
    "precip = data_limited.loc[data_limited['Precipitation'] == 'Precipitation', :]\n",
    "precip_group = pd.DataFrame(precip.groupby('Start Date').count())\n",
    "avg_crime_precip = (precip_group['ID']).mean()\n",
    "avg_crime_precip\n",
    "print(f\"The average crimes per day with precipitation: {avg_crime_precip}\")\n",
    "\n"
   ]
  },
  {
   "cell_type": "code",
   "execution_count": 86,
   "id": "8b75a155",
   "metadata": {},
   "outputs": [
    {
     "name": "stdout",
     "output_type": "stream",
     "text": [
      "Average crime over all 365 days: 32.71232876712329\n"
     ]
    },
    {
     "data": {
      "text/plain": [
       "3.841458820694124"
      ]
     },
     "execution_count": 86,
     "metadata": {},
     "output_type": "execute_result"
    }
   ],
   "source": [
    "# Chi-Squared Analysis\n",
    "observed = pd.Series([33.11914893617021, 31.976923076923075], index=['No Precipitation', 'Precipitation'])\n",
    "chi_df = pd.DataFrame([observed]).T\n",
    "\n",
    "# Expected avg crime per day\n",
    "grouped = pd.DataFrame(data_limited.groupby('Start Date').count())\n",
    "avg_crime_total = grouped['ID'].mean()\n",
    "print(f\"Average crime over all 365 days: {avg_crime_total}\")\n",
    "\n",
    "# Column of expected values\n",
    "chi_df[1] = avg_crime_total\n",
    "chi_df.columns = ['observed', 'expected']\n",
    "\n",
    "# Degrees of freedom 2 - 1 = 1\n",
    "# With a p-value of 0.05, the confidence level is 1.00-0.05 = 0.95.\n",
    "critical_value = st.chi2.ppf(q = 0.95, df = 1)\n",
    "critical_value\n"
   ]
  },
  {
   "cell_type": "code",
   "execution_count": 87,
   "id": "2b487bc7",
   "metadata": {},
   "outputs": [
    {
     "data": {
      "text/plain": [
       "Power_divergenceResult(statistic=0.021591987050218614, pvalue=0.8831777046620007)"
      ]
     },
     "execution_count": 87,
     "metadata": {},
     "output_type": "execute_result"
    }
   ],
   "source": [
    "# Chi Squared\n",
    "st.chisquare(chi_df['observed'], chi_df['expected'])"
   ]
  },
  {
   "cell_type": "code",
   "execution_count": 88,
   "id": "dab53e8d",
   "metadata": {},
   "outputs": [
    {
     "data": {
      "text/plain": [
       "<BarContainer object of 2 artists>"
      ]
     },
     "execution_count": 88,
     "metadata": {},
     "output_type": "execute_result"
    },
    {
     "data": {
      "image/png": "[encoded data removed]",
      "text/plain": [
       "<Figure size 432x288 with 1 Axes>"
      ]
     },
     "metadata": {
      "needs_background": "light"
     },
     "output_type": "display_data"
    }
   ],
   "source": [
    "# Visualization\n",
    "x_axis = ['No Precipitation', \"Precipitation\"]\n",
    "y_axis = [avg_crime_no_precip, avg_crime_precip]\n",
    "plt.bar(x_axis, y_axis)\n",
    "# plt.title(\"\"\"Total Number of Crimes Reported\n",
    "# Precipitation vs. No Precipitation\"\"\")\n",
    "# plt.xticks(tick_locations, precip)\n",
    "# plt.xlabel('Precipitation')\n",
    "# plt.ylabel('Crimes Reported')\n",
    "# plt.ylim(top=30000)\n",
    "# for index,data in enumerate((crime_weather.groupby(precip_col).count()['ID'])):\n",
    "#     plt.text(x=index , y=data+250 , s=f\"{data}\", ha='center')\n",
    "# plt.show()\n"
   ]
  },
  {
   "attachments": {},
   "cell_type": "markdown",
   "id": "06fbe9cc",
   "metadata": {},
   "source": [
    "### Testing Correlation Between Temperature and Crime\n",
    "#### Motor Vehicle Theft and Theft F/Auto Only"
   ]
  },
  {
   "cell_type": "code",
   "execution_count": 43,
   "id": "422edfbb",
   "metadata": {},
   "outputs": [
    {
     "name": "stdout",
     "output_type": "stream",
     "text": [
      "The lower quartile is 46.7\n",
      "The upper quartile is 76.0\n"
     ]
    },
    {
     "data": {
      "image/png": "[encoded data removed]",
      "text/plain": [
       "<Figure size 432x288 with 1 Axes>"
      ]
     },
     "metadata": {
      "needs_background": "light"
     },
     "output_type": "display_data"
    }
   ],
   "source": [
    "# Identify low, moderate, high temperatures\n",
    "weather_file = \"output_data/dc_weather.csv\"\n",
    "weather_day = pd.read_csv(weather_file)\n",
    "\n",
    "quartiles = weather_day['avgtemp_f'].quantile([.25,.5,.75])\n",
    "lowerq = quartiles[0.25]\n",
    "upperq = quartiles[0.75]\n",
    "print(f\"The lower quartile is {lowerq}\")\n",
    "print(f\"The upper quartile is {upperq}\")\n",
    "\n",
    "fig1, ax1 = plt.subplots()\n",
    "ax1.set_ylabel('Avg Temp (f)')\n",
    "ax1.boxplot(weather_day['avgtemp_f'])\n",
    "flierprops={'marker': 'o', 'markersize': 12, 'markerfacecolor': 'red'}\n",
    "plt.show()"
   ]
  },
  {
   "cell_type": "code",
   "execution_count": 71,
   "id": "b59b39f2",
   "metadata": {},
   "outputs": [
    {
     "name": "stdout",
     "output_type": "stream",
     "text": [
      "The average crimes per day with low temperature: 34.56043956043956\n",
      "The average crimes per day with moderate temperature: 31.817204301075268\n",
      "The average crimes per day with high temperature: 32.69318181818182\n"
     ]
    }
   ],
   "source": [
    "bins = [0, 46.6, 76.1, 100]\n",
    "bin_labels = ['low', 'moderate', 'high']\n",
    "\n",
    "# organize weather by bins\n",
    "data_limited['Temperature Level'] = pd.cut(data_limited['Avg Temp (f)'], bins, labels=bin_labels, include_lowest=True)\n",
    "\n",
    "# Avg crime per day low temperature\n",
    "low_weather = data_limited.loc[data_limited['Temperature Level'] == 'low', :]\n",
    "low_group = pd.DataFrame(low_weather.groupby('Start Date').count())\n",
    "avg_crime_low = (low_group['ID']).mean()\n",
    "print(f\"The average crimes per day with low temperature: {avg_crime_low}\")\n",
    "\n",
    "# Avg crime per day moderate temperature\n",
    "mod_weather = data_limited.loc[data_limited['Temperature Level'] == 'moderate', :]\n",
    "mod_group = pd.DataFrame(mod_weather.groupby('Start Date').count())\n",
    "avg_crime_mod = (mod_group['ID']).mean()\n",
    "print(f\"The average crimes per day with moderate temperature: {avg_crime_mod}\")\n",
    "\n",
    "# Avg crime per day high temperature\n",
    "high_weather = data_limited.loc[data_limited['Temperature Level'] == 'high', :]\n",
    "high_group = pd.DataFrame(high_weather.groupby('Start Date').count())\n",
    "avg_crime_high = (high_group['ID']).mean()\n",
    "print(f\"The average crimes per day with high temperature: {avg_crime_high}\")\n"
   ]
  },
  {
   "cell_type": "code",
   "execution_count": 79,
   "id": "05b79ddd",
   "metadata": {},
   "outputs": [
    {
     "data": {
      "text/plain": [
       "F_onewayResult(statistic=1.1720511587925921, pvalue=0.31260827010033293)"
      ]
     },
     "execution_count": 79,
     "metadata": {},
     "output_type": "execute_result"
    }
   ],
   "source": [
    "# One-way ANOVA Test\n",
    "# Perform the ANOVA\n",
    "# Take samples of 50 from each group.\n",
    "low_sample = random.sample(list(low_group['ID']), k=50)\n",
    "mod_sample = random.sample(list(mod_group['ID']), k=50)\n",
    "high_sample = random.sample(list(high_group['ID']), k=50)\n",
    "st.f_oneway(low_sample, mod_sample, high_sample)\n",
    "\n",
    "\n"
   ]
  },
  {
   "cell_type": "code",
   "execution_count": 80,
   "id": "ceee4ed6",
   "metadata": {},
   "outputs": [
    {
     "data": {
      "image/png": "[encoded data removed]",
      "text/plain": [
       "<Figure size 432x288 with 1 Axes>"
      ]
     },
     "metadata": {
      "needs_background": "light"
     },
     "output_type": "display_data"
    }
   ],
   "source": [
    "# Box plot\n",
    "box_plot = []\n",
    "box_plot.append(low_sample)\n",
    "box_plot.append(mod_sample)\n",
    "box_plot.append(high_sample)\n",
    "\n",
    "temperature_label = ['low', 'moderate', 'high']\n",
    "\n",
    "fig1, ax1 = plt.subplots()\n",
    "ax1.set_ylabel('Crimes Reported Per Day')\n",
    "ax1.boxplot(box_plot, labels=temperature_label)\n",
    "flierprops={'marker': 'o', 'markersize': 12, 'markerfacecolor': 'red'}\n",
    "plt.show()"
   ]
  },
  {
   "attachments": {},
   "cell_type": "markdown",
   "id": "e6c5ec15",
   "metadata": {},
   "source": [
    "### Testing Correlation Between Humidity and Crime\n",
    "#### Motor Vehicle Theft and Theft F/Auto Only"
   ]
  },
  {
   "cell_type": "code",
   "execution_count": 68,
   "id": "66013641",
   "metadata": {},
   "outputs": [
    {
     "name": "stdout",
     "output_type": "stream",
     "text": [
      "The lower quartile is 55.0\n",
      "The upper quartile is 76.0\n"
     ]
    },
    {
     "data": {
      "image/png": "[encoded data removed]",
      "text/plain": [
       "<Figure size 432x288 with 1 Axes>"
      ]
     },
     "metadata": {
      "needs_background": "light"
     },
     "output_type": "display_data"
    }
   ],
   "source": [
    "# Identify low, moderate, high humidity levels\n",
    "weather_file = \"output_data/dc_weather.csv\"\n",
    "weather_day = pd.read_csv(weather_file)\n",
    "\n",
    "quartiles = weather_day['avghumidity'].quantile([.25,.5,.75])\n",
    "lowerq = quartiles[0.25]\n",
    "upperq = quartiles[0.75]\n",
    "print(f\"The lower quartile is {lowerq}\")\n",
    "print(f\"The upper quartile is {upperq}\")\n",
    "\n",
    "fig1, ax1 = plt.subplots()\n",
    "ax1.set_ylabel('Avg Humidity (%)')\n",
    "ax1.boxplot(weather_day['avghumidity'])\n",
    "flierprops={'marker': 'o', 'markersize': 12, 'markerfacecolor': 'red'}\n",
    "plt.show()"
   ]
  },
  {
   "cell_type": "code",
   "execution_count": 69,
   "id": "22e765ef",
   "metadata": {},
   "outputs": [
    {
     "name": "stdout",
     "output_type": "stream",
     "text": [
      "The average crimes per day with low humidity: 32.9277108433735\n",
      "The average crimes per day with moderate humidity: 32.481283422459896\n",
      "The average crimes per day with high humidity: 32.97894736842105\n"
     ]
    }
   ],
   "source": [
    "bins = [0, 54.9, 75.9, 100]\n",
    "bin_labels = ['low humidity', 'moderate humidity', 'high humidity']\n",
    "\n",
    "# organize weather by bins\n",
    "data_limited['Humidity Level'] = pd.cut(data_limited['Avg Humidity (%)'], bins, labels=bin_labels, include_lowest=True)\n",
    "\n",
    "# Avg crime per day low humidity\n",
    "low_humidity = data_limited.loc[data_limited['Humidity Level'] == 'low humidity', :]\n",
    "low_humidity_group = pd.DataFrame(low_humidity.groupby('Start Date').count())\n",
    "avg_crime_low_humidity = (low_humidity_group['ID']).mean()\n",
    "print(f\"The average crimes per day with low humidity: {avg_crime_low_humidity}\")\n",
    "\n",
    "# Avg crime per day moderate humidity\n",
    "mod_humidity = data_limited.loc[data_limited['Humidity Level'] == 'moderate humidity', :]\n",
    "mod_humidity_group = pd.DataFrame(mod_humidity.groupby('Start Date').count())\n",
    "avg_crime_mod_humidity = (mod_humidity_group['ID']).mean()\n",
    "print(f\"The average crimes per day with moderate humidity: {avg_crime_mod_humidity}\")\n",
    "\n",
    "# Avg crime per day high humidity\n",
    "high_humidity = data_limited.loc[data_limited['Humidity Level'] == 'high humidity', :]\n",
    "high_humidity_group = pd.DataFrame(high_humidity.groupby('Start Date').count())\n",
    "avg_crime_high_humidity = (high_humidity_group['ID']).mean()\n",
    "print(f\"The average crimes per day with high humidity: {avg_crime_high_humidity}\")"
   ]
  },
  {
   "cell_type": "code",
   "execution_count": 82,
   "id": "16c7cf03",
   "metadata": {},
   "outputs": [
    {
     "data": {
      "text/plain": [
       "F_onewayResult(statistic=0.9082689568857623, pvalue=0.40547224937220094)"
      ]
     },
     "execution_count": 82,
     "metadata": {},
     "output_type": "execute_result"
    }
   ],
   "source": [
    "# One-way ANOVA Test\n",
    "# Perform the ANOVA\n",
    "# Take samples of 50 from each group.\n",
    "low_humidity_sample = random.sample(list(low_humidity_group['ID']), k=50)\n",
    "mod_humidity_sample = random.sample(list(mod_humidity_group['ID']), k=50)\n",
    "high_humidity_sample = random.sample(list(high_humidity_group['ID']), k=50)\n",
    "st.f_oneway(low_humidity_sample, mod_humidity_sample, high_humidity_sample)\n"
   ]
  },
  {
   "cell_type": "code",
   "execution_count": 84,
   "id": "86389144",
   "metadata": {},
   "outputs": [
    {
     "data": {
      "image/png": "[encoded data removed]",
      "text/plain": [
       "<Figure size 432x288 with 1 Axes>"
      ]
     },
     "metadata": {
      "needs_background": "light"
     },
     "output_type": "display_data"
    }
   ],
   "source": [
    "# Box plot\n",
    "box_plot = []\n",
    "box_plot.append(low_humidity_sample)\n",
    "box_plot.append(mod_humidity_sample)\n",
    "box_plot.append(high_humidity_sample)\n",
    "\n",
    "humidity_label = ['low humidity', 'moderate humidity', 'high humidity']\n",
    "\n",
    "fig1, ax1 = plt.subplots()\n",
    "ax1.set_ylabel('Crimes Reported Per Day')\n",
    "ax1.boxplot(box_plot, labels=temperature_label)\n",
    "flierprops={'marker': 'o', 'markersize': 12, 'markerfacecolor': 'red'}\n",
    "plt.show()"
   ]
  }
 ],
 "metadata": {
  "kernelspec": {
   "display_name": "PythonData",
   "language": "python",
   "name": "pythondata"
  },
  "language_info": {
   "codemirror_mode": {
    "name": "ipython",
    "version": 3
   },
   "file_extension": ".py",
   "mimetype": "text/x-python",
   "name": "python",
   "nbconvert_exporter": "python",
   "pygments_lexer": "ipython3",
   "version": "3.7.7"
  }
 },
 "nbformat": 4,
 "nbformat_minor": 5
}
