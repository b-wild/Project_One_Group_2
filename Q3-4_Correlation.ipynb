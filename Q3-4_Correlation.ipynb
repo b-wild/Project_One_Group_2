{
 "cells": [
  {
   "cell_type": "code",
   "execution_count": 1,
   "id": "b5504e3c",
   "metadata": {},
   "outputs": [],
   "source": [
    "# Dependencies and Setup\n",
    "import matplotlib.pyplot as plt\n",
    "import pandas as pd\n",
    "import numpy as np\n",
    "import scipy.stats as st"
   ]
  },
  {
   "cell_type": "code",
   "execution_count": 6,
   "id": "964f7c9a",
   "metadata": {},
   "outputs": [
    {
     "data": {
      "text/html": [
       "<div>\n",
       "<style scoped>\n",
       "    .dataframe tbody tr th:only-of-type {\n",
       "        vertical-align: middle;\n",
       "    }\n",
       "\n",
       "    .dataframe tbody tr th {\n",
       "        vertical-align: top;\n",
       "    }\n",
       "\n",
       "    .dataframe thead th {\n",
       "        text-align: right;\n",
       "    }\n",
       "</style>\n",
       "<table border=\"1\" class=\"dataframe\">\n",
       "  <thead>\n",
       "    <tr style=\"text-align: right;\">\n",
       "      <th></th>\n",
       "      <th>ID</th>\n",
       "      <th>Year</th>\n",
       "      <th>Start Date</th>\n",
       "      <th>Start Time</th>\n",
       "      <th>Hour</th>\n",
       "      <th>Offense Group</th>\n",
       "      <th>Offense</th>\n",
       "      <th>Offense Text</th>\n",
       "      <th>Max Temp (f)</th>\n",
       "      <th>Min Temp (f)</th>\n",
       "      <th>Avg Temp (f)</th>\n",
       "      <th>Total Precipitation (in)</th>\n",
       "      <th>Avg Humidity (%)</th>\n",
       "      <th>Day Condition</th>\n",
       "      <th>Hour Temp (f)</th>\n",
       "      <th>Hour Condition</th>\n",
       "      <th>Hour Precipitation (in)</th>\n",
       "      <th>Hour Humidity (%)</th>\n",
       "    </tr>\n",
       "  </thead>\n",
       "  <tbody>\n",
       "    <tr>\n",
       "      <th>27556</th>\n",
       "      <td>27556</td>\n",
       "      <td>2023</td>\n",
       "      <td>2023-02-05</td>\n",
       "      <td>23:00:00</td>\n",
       "      <td>11:00PM</td>\n",
       "      <td>violent</td>\n",
       "      <td>assault w/dangerous weapon</td>\n",
       "      <td>assault w/dangerous weapon</td>\n",
       "      <td>50.9</td>\n",
       "      <td>30.0</td>\n",
       "      <td>41.1</td>\n",
       "      <td>0.0</td>\n",
       "      <td>61.0</td>\n",
       "      <td>Overcast</td>\n",
       "      <td>42.5</td>\n",
       "      <td>Mist</td>\n",
       "      <td>0.0</td>\n",
       "      <td>95.0</td>\n",
       "    </tr>\n",
       "    <tr>\n",
       "      <th>27557</th>\n",
       "      <td>27557</td>\n",
       "      <td>2023</td>\n",
       "      <td>2023-02-05</td>\n",
       "      <td>23:00:00</td>\n",
       "      <td>11:00PM</td>\n",
       "      <td>property</td>\n",
       "      <td>theft f/auto</td>\n",
       "      <td>theft f/auto</td>\n",
       "      <td>50.9</td>\n",
       "      <td>30.0</td>\n",
       "      <td>41.1</td>\n",
       "      <td>0.0</td>\n",
       "      <td>61.0</td>\n",
       "      <td>Overcast</td>\n",
       "      <td>42.5</td>\n",
       "      <td>Mist</td>\n",
       "      <td>0.0</td>\n",
       "      <td>95.0</td>\n",
       "    </tr>\n",
       "    <tr>\n",
       "      <th>27558</th>\n",
       "      <td>27558</td>\n",
       "      <td>2023</td>\n",
       "      <td>2023-02-05</td>\n",
       "      <td>23:21:00</td>\n",
       "      <td>11:00PM</td>\n",
       "      <td>property</td>\n",
       "      <td>theft f/auto</td>\n",
       "      <td>theft f/auto</td>\n",
       "      <td>50.9</td>\n",
       "      <td>30.0</td>\n",
       "      <td>41.1</td>\n",
       "      <td>0.0</td>\n",
       "      <td>61.0</td>\n",
       "      <td>Overcast</td>\n",
       "      <td>42.5</td>\n",
       "      <td>Mist</td>\n",
       "      <td>0.0</td>\n",
       "      <td>95.0</td>\n",
       "    </tr>\n",
       "    <tr>\n",
       "      <th>27559</th>\n",
       "      <td>27559</td>\n",
       "      <td>2023</td>\n",
       "      <td>2023-02-05</td>\n",
       "      <td>23:40:00</td>\n",
       "      <td>11:00PM</td>\n",
       "      <td>property</td>\n",
       "      <td>motor vehicle theft</td>\n",
       "      <td>motor vehicle theft</td>\n",
       "      <td>50.9</td>\n",
       "      <td>30.0</td>\n",
       "      <td>41.1</td>\n",
       "      <td>0.0</td>\n",
       "      <td>61.0</td>\n",
       "      <td>Overcast</td>\n",
       "      <td>42.5</td>\n",
       "      <td>Mist</td>\n",
       "      <td>0.0</td>\n",
       "      <td>95.0</td>\n",
       "    </tr>\n",
       "    <tr>\n",
       "      <th>27560</th>\n",
       "      <td>27560</td>\n",
       "      <td>2023</td>\n",
       "      <td>2023-02-05</td>\n",
       "      <td>23:55:00</td>\n",
       "      <td>11:00PM</td>\n",
       "      <td>property</td>\n",
       "      <td>theft f/auto</td>\n",
       "      <td>theft f/auto</td>\n",
       "      <td>50.9</td>\n",
       "      <td>30.0</td>\n",
       "      <td>41.1</td>\n",
       "      <td>0.0</td>\n",
       "      <td>61.0</td>\n",
       "      <td>Overcast</td>\n",
       "      <td>42.5</td>\n",
       "      <td>Mist</td>\n",
       "      <td>0.0</td>\n",
       "      <td>95.0</td>\n",
       "    </tr>\n",
       "  </tbody>\n",
       "</table>\n",
       "</div>"
      ],
      "text/plain": [
       "          ID  Year  Start Date Start Time     Hour Offense Group  \\\n",
       "27556  27556  2023  2023-02-05   23:00:00  11:00PM       violent   \n",
       "27557  27557  2023  2023-02-05   23:00:00  11:00PM      property   \n",
       "27558  27558  2023  2023-02-05   23:21:00  11:00PM      property   \n",
       "27559  27559  2023  2023-02-05   23:40:00  11:00PM      property   \n",
       "27560  27560  2023  2023-02-05   23:55:00  11:00PM      property   \n",
       "\n",
       "                          Offense                Offense Text  Max Temp (f)  \\\n",
       "27556  assault w/dangerous weapon  assault w/dangerous weapon          50.9   \n",
       "27557                theft f/auto                theft f/auto          50.9   \n",
       "27558                theft f/auto                theft f/auto          50.9   \n",
       "27559         motor vehicle theft         motor vehicle theft          50.9   \n",
       "27560                theft f/auto                theft f/auto          50.9   \n",
       "\n",
       "       Min Temp (f)  Avg Temp (f)  Total Precipitation (in)  Avg Humidity (%)  \\\n",
       "27556          30.0          41.1                       0.0              61.0   \n",
       "27557          30.0          41.1                       0.0              61.0   \n",
       "27558          30.0          41.1                       0.0              61.0   \n",
       "27559          30.0          41.1                       0.0              61.0   \n",
       "27560          30.0          41.1                       0.0              61.0   \n",
       "\n",
       "      Day Condition  Hour Temp (f) Hour Condition  Hour Precipitation (in)  \\\n",
       "27556      Overcast           42.5           Mist                      0.0   \n",
       "27557      Overcast           42.5           Mist                      0.0   \n",
       "27558      Overcast           42.5           Mist                      0.0   \n",
       "27559      Overcast           42.5           Mist                      0.0   \n",
       "27560      Overcast           42.5           Mist                      0.0   \n",
       "\n",
       "       Hour Humidity (%)  \n",
       "27556               95.0  \n",
       "27557               95.0  \n",
       "27558               95.0  \n",
       "27559               95.0  \n",
       "27560               95.0  "
      ]
     },
     "execution_count": 6,
     "metadata": {},
     "output_type": "execute_result"
    }
   ],
   "source": [
    "# Reference data files *** USE ONLY ONE FILE IF ONLY ADDRESSING ONE QUESTION ***\n",
    "data_path = \"output_data/crime_weather_merged.csv\"\n",
    "\n",
    "# Read the data files \n",
    "data = pd.read_csv(data_path)\n",
    "\n",
    "#View data\n",
    "data.tail()"
   ]
  },
  {
   "cell_type": "code",
   "execution_count": 31,
   "id": "a7ebba65",
   "metadata": {},
   "outputs": [
    {
     "data": {
      "text/plain": [
       "ID                            int64\n",
       "Year                          int64\n",
       "Start Date                   object\n",
       "Start Time                   object\n",
       "Hour                         object\n",
       "Offense Group                object\n",
       "Offense                      object\n",
       "Offense Text                 object\n",
       "Max Temp (f)                float64\n",
       "Min Temp (f)                float64\n",
       "Avg Temp (f)                float64\n",
       "Total Precipitation (in)    float64\n",
       "Avg Humidity (%)            float64\n",
       "Day Condition                object\n",
       "Hour Temp (f)               float64\n",
       "Hour Condition               object\n",
       "Hour Precipitation (in)     float64\n",
       "Hour Humidity (%)           float64\n",
       "dtype: object"
      ]
     },
     "execution_count": 31,
     "metadata": {},
     "output_type": "execute_result"
    }
   ],
   "source": [
    "#View data types\n",
    "data.dtypes"
   ]
  },
  {
   "cell_type": "code",
   "execution_count": 25,
   "id": "67b5b3fc",
   "metadata": {},
   "outputs": [
    {
     "data": {
      "text/plain": [
       "Hour Humidity (%)\n",
       "20.0       5\n",
       "21.0      10\n",
       "22.0      20\n",
       "23.0      40\n",
       "24.0      48\n",
       "        ... \n",
       "96.0     379\n",
       "97.0     340\n",
       "98.0     368\n",
       "99.0     237\n",
       "100.0     56\n",
       "Name: ID, Length: 81, dtype: int64"
      ]
     },
     "execution_count": 25,
     "metadata": {},
     "output_type": "execute_result"
    }
   ],
   "source": [
    "#Group data by Hour Temp\n",
    "crime_by_temp = data.groupby(\"Hour Temp (f)\").count()[\"ID\"]\n",
    "\n",
    "#Group data by Hour Humidity\n",
    "crime_by_humid = data.groupby(\"Hour Humidity (%)\").count()[\"ID\"]\n",
    "\n",
    "#Group data by Hour Precip\n",
    "crime_by_precip = data.groupby(\"Hour Precipitation (in)\").count()[\"ID\"]\n",
    "\n",
    "#Group data by Hour Condition\n",
    "crime_by_cond = data.groupby(\"Hour Condition\").count()[\"ID\"]\n",
    "\n",
    "crime_by_humid"
   ]
  },
  {
   "cell_type": "code",
   "execution_count": 26,
   "id": "659187d8",
   "metadata": {},
   "outputs": [
    {
     "data": {
      "image/png": "[encoded data removed]",
      "text/plain": [
       "<Figure size 432x288 with 1 Axes>"
      ]
     },
     "metadata": {
      "needs_background": "light"
     },
     "output_type": "display_data"
    }
   ],
   "source": [
    "plt.scatter(crime_by_temp.index,crime_by_temp.values)\n",
    "plt.xlabel('Temp')\n",
    "plt.ylabel('No of Crimes')\n",
    "plt.show()"
   ]
  },
  {
   "cell_type": "code",
   "execution_count": 29,
   "id": "489cb856",
   "metadata": {},
   "outputs": [
    {
     "data": {
      "image/png": "[encoded data removed]",
      "text/plain": [
       "<Figure size 432x288 with 1 Axes>"
      ]
     },
     "metadata": {
      "needs_background": "light"
     },
     "output_type": "display_data"
    }
   ],
   "source": [
    "plt.scatter(crime_by_precip.index,crime_by_precip.values)\n",
    "plt.xlabel('Precipitation')\n",
    "plt.ylabel('No of Crimes')\n",
    "plt.show()"
   ]
  },
  {
   "cell_type": "code",
   "execution_count": 30,
   "id": "60d65807",
   "metadata": {},
   "outputs": [
    {
     "data": {
      "image/png": "[encoded data removed]",
      "text/plain": [
       "<Figure size 432x288 with 1 Axes>"
      ]
     },
     "metadata": {
      "needs_background": "light"
     },
     "output_type": "display_data"
    }
   ],
   "source": [
    "plt.scatter(crime_by_humid.index,crime_by_humid.values)\n",
    "plt.xlabel('Humidity')\n",
    "plt.ylabel('No of Crimes')\n",
    "plt.show()"
   ]
  },
  {
   "cell_type": "code",
   "execution_count": 7,
   "id": "8b99fba3",
   "metadata": {},
   "outputs": [
    {
     "data": {
      "image/png": "[encoded data removed]",
      "text/plain": [
       "<Figure size 432x288 with 1 Axes>"
      ]
     },
     "metadata": {
      "needs_background": "light"
     },
     "output_type": "display_data"
    }
   ],
   "source": [
    "plt.scatter(crime_by_temp.iloc[:,5],data.iloc[:,14])\n",
    "plt.xlabel('Population Median Age')\n",
    "plt.ylabel('Cell Phones Per 100 People')\n",
    "plt.show()"
   ]
  },
  {
   "cell_type": "code",
   "execution_count": 36,
   "id": "41227937",
   "metadata": {},
   "outputs": [
    {
     "data": {
      "text/html": [
       "<div>\n",
       "<style scoped>\n",
       "    .dataframe tbody tr th:only-of-type {\n",
       "        vertical-align: middle;\n",
       "    }\n",
       "\n",
       "    .dataframe tbody tr th {\n",
       "        vertical-align: top;\n",
       "    }\n",
       "\n",
       "    .dataframe thead th {\n",
       "        text-align: right;\n",
       "    }\n",
       "</style>\n",
       "<table border=\"1\" class=\"dataframe\">\n",
       "  <thead>\n",
       "    <tr style=\"text-align: right;\">\n",
       "      <th></th>\n",
       "      <th>ID</th>\n",
       "      <th>Year</th>\n",
       "      <th>Start Date</th>\n",
       "      <th>Start Time</th>\n",
       "      <th>Hour</th>\n",
       "      <th>Offense Group</th>\n",
       "      <th>Offense</th>\n",
       "      <th>Offense Text</th>\n",
       "      <th>Max Temp (f)</th>\n",
       "      <th>Min Temp (f)</th>\n",
       "      <th>Avg Temp (f)</th>\n",
       "      <th>Total Precipitation (in)</th>\n",
       "      <th>Avg Humidity (%)</th>\n",
       "      <th>Day Condition</th>\n",
       "      <th>Hour Temp (f)</th>\n",
       "      <th>Hour Condition</th>\n",
       "      <th>Hour Precipitation (in)</th>\n",
       "      <th>Hour Humidity (%)</th>\n",
       "    </tr>\n",
       "  </thead>\n",
       "  <tbody>\n",
       "    <tr>\n",
       "      <th>110</th>\n",
       "      <td>110</td>\n",
       "      <td>2022</td>\n",
       "      <td>2022-02-07</td>\n",
       "      <td>18:00:00</td>\n",
       "      <td>6:00PM</td>\n",
       "      <td>property</td>\n",
       "      <td>theft f/auto</td>\n",
       "      <td>theft f/auto</td>\n",
       "      <td>46.9</td>\n",
       "      <td>27.7</td>\n",
       "      <td>38.0</td>\n",
       "      <td>0.0</td>\n",
       "      <td>61.0</td>\n",
       "      <td>Cloudy</td>\n",
       "      <td>43.7</td>\n",
       "      <td>Clear</td>\n",
       "      <td>0.0</td>\n",
       "      <td>51.0</td>\n",
       "    </tr>\n",
       "    <tr>\n",
       "      <th>111</th>\n",
       "      <td>111</td>\n",
       "      <td>2022</td>\n",
       "      <td>2022-02-07</td>\n",
       "      <td>18:48:00</td>\n",
       "      <td>6:00PM</td>\n",
       "      <td>property</td>\n",
       "      <td>theft/other</td>\n",
       "      <td>theft/other</td>\n",
       "      <td>46.9</td>\n",
       "      <td>27.7</td>\n",
       "      <td>38.0</td>\n",
       "      <td>0.0</td>\n",
       "      <td>61.0</td>\n",
       "      <td>Cloudy</td>\n",
       "      <td>43.7</td>\n",
       "      <td>Clear</td>\n",
       "      <td>0.0</td>\n",
       "      <td>51.0</td>\n",
       "    </tr>\n",
       "    <tr>\n",
       "      <th>112</th>\n",
       "      <td>112</td>\n",
       "      <td>2022</td>\n",
       "      <td>2022-02-07</td>\n",
       "      <td>18:53:00</td>\n",
       "      <td>6:00PM</td>\n",
       "      <td>property</td>\n",
       "      <td>motor vehicle theft</td>\n",
       "      <td>motor vehicle theft</td>\n",
       "      <td>46.9</td>\n",
       "      <td>27.7</td>\n",
       "      <td>38.0</td>\n",
       "      <td>0.0</td>\n",
       "      <td>61.0</td>\n",
       "      <td>Cloudy</td>\n",
       "      <td>43.7</td>\n",
       "      <td>Clear</td>\n",
       "      <td>0.0</td>\n",
       "      <td>51.0</td>\n",
       "    </tr>\n",
       "    <tr>\n",
       "      <th>113</th>\n",
       "      <td>113</td>\n",
       "      <td>2022</td>\n",
       "      <td>2022-02-07</td>\n",
       "      <td>19:00:00</td>\n",
       "      <td>7:00PM</td>\n",
       "      <td>property</td>\n",
       "      <td>theft f/auto</td>\n",
       "      <td>theft f/auto</td>\n",
       "      <td>46.9</td>\n",
       "      <td>27.7</td>\n",
       "      <td>38.0</td>\n",
       "      <td>0.0</td>\n",
       "      <td>61.0</td>\n",
       "      <td>Cloudy</td>\n",
       "      <td>41.2</td>\n",
       "      <td>Clear</td>\n",
       "      <td>0.0</td>\n",
       "      <td>56.0</td>\n",
       "    </tr>\n",
       "    <tr>\n",
       "      <th>114</th>\n",
       "      <td>114</td>\n",
       "      <td>2022</td>\n",
       "      <td>2022-02-07</td>\n",
       "      <td>19:17:00</td>\n",
       "      <td>7:00PM</td>\n",
       "      <td>property</td>\n",
       "      <td>motor vehicle theft</td>\n",
       "      <td>motor vehicle theft</td>\n",
       "      <td>46.9</td>\n",
       "      <td>27.7</td>\n",
       "      <td>38.0</td>\n",
       "      <td>0.0</td>\n",
       "      <td>61.0</td>\n",
       "      <td>Cloudy</td>\n",
       "      <td>41.2</td>\n",
       "      <td>Clear</td>\n",
       "      <td>0.0</td>\n",
       "      <td>56.0</td>\n",
       "    </tr>\n",
       "  </tbody>\n",
       "</table>\n",
       "</div>"
      ],
      "text/plain": [
       "      ID  Year  Start Date Start Time    Hour Offense Group  \\\n",
       "110  110  2022  2022-02-07   18:00:00  6:00PM      property   \n",
       "111  111  2022  2022-02-07   18:48:00  6:00PM      property   \n",
       "112  112  2022  2022-02-07   18:53:00  6:00PM      property   \n",
       "113  113  2022  2022-02-07   19:00:00  7:00PM      property   \n",
       "114  114  2022  2022-02-07   19:17:00  7:00PM      property   \n",
       "\n",
       "                 Offense         Offense Text  Max Temp (f)  Min Temp (f)  \\\n",
       "110         theft f/auto         theft f/auto          46.9          27.7   \n",
       "111          theft/other          theft/other          46.9          27.7   \n",
       "112  motor vehicle theft  motor vehicle theft          46.9          27.7   \n",
       "113         theft f/auto         theft f/auto          46.9          27.7   \n",
       "114  motor vehicle theft  motor vehicle theft          46.9          27.7   \n",
       "\n",
       "     Avg Temp (f)  Total Precipitation (in)  Avg Humidity (%) Day Condition  \\\n",
       "110          38.0                       0.0              61.0        Cloudy   \n",
       "111          38.0                       0.0              61.0        Cloudy   \n",
       "112          38.0                       0.0              61.0        Cloudy   \n",
       "113          38.0                       0.0              61.0        Cloudy   \n",
       "114          38.0                       0.0              61.0        Cloudy   \n",
       "\n",
       "     Hour Temp (f) Hour Condition  Hour Precipitation (in)  Hour Humidity (%)  \n",
       "110           43.7          Clear                      0.0               51.0  \n",
       "111           43.7          Clear                      0.0               51.0  \n",
       "112           43.7          Clear                      0.0               51.0  \n",
       "113           41.2          Clear                      0.0               56.0  \n",
       "114           41.2          Clear                      0.0               56.0  "
      ]
     },
     "execution_count": 36,
     "metadata": {},
     "output_type": "execute_result"
    }
   ],
   "source": [
    "temp_condition = (data[\"Hour Temp (f)\"]>40.0) & (data[\"Hour Temp (f)\"]<80.0)\n",
    "humid_condition = (data[\"Hour Humidity (%)\"]>50.0) & (data[\"Hour Humidity (%)\"]<80.0)\n",
    "precip_condition = (data[\"Hour Precipitation (in)\"]<0.02)\n",
    "data_filter = data.loc[temp_condition & humid_condition & precip_condition]\n",
    "data_filter.head()"
   ]
  },
  {
   "cell_type": "code",
   "execution_count": 34,
   "id": "887c54c7",
   "metadata": {},
   "outputs": [
    {
     "data": {
      "text/plain": [
       "0        False\n",
       "1        False\n",
       "2        False\n",
       "3        False\n",
       "4        False\n",
       "         ...  \n",
       "27556     True\n",
       "27557     True\n",
       "27558     True\n",
       "27559     True\n",
       "27560     True\n",
       "Name: Hour Temp (f), Length: 27561, dtype: bool"
      ]
     },
     "execution_count": 34,
     "metadata": {},
     "output_type": "execute_result"
    }
   ],
   "source": [
    "data[\"Hour Temp (f)\"]>40.0\n"
   ]
  },
  {
   "cell_type": "code",
   "execution_count": 37,
   "id": "1323ae65",
   "metadata": {},
   "outputs": [
    {
     "data": {
      "text/plain": [
       "Hour Humidity (%)\n",
       "51.0    327\n",
       "52.0    330\n",
       "53.0    284\n",
       "54.0    370\n",
       "55.0    342\n",
       "56.0    354\n",
       "57.0    366\n",
       "58.0    356\n",
       "59.0    342\n",
       "60.0    296\n",
       "61.0    348\n",
       "62.0    381\n",
       "63.0    378\n",
       "64.0    273\n",
       "65.0    287\n",
       "66.0    316\n",
       "67.0    387\n",
       "68.0    322\n",
       "69.0    332\n",
       "70.0    279\n",
       "71.0    412\n",
       "72.0    234\n",
       "73.0    337\n",
       "74.0    218\n",
       "75.0    250\n",
       "76.0    361\n",
       "77.0    287\n",
       "78.0    304\n",
       "79.0    301\n",
       "Name: ID, dtype: int64"
      ]
     },
     "execution_count": 37,
     "metadata": {},
     "output_type": "execute_result"
    }
   ],
   "source": [
    "#Group data by Hour Temp\n",
    "crime_by_temp2 = data_filter.groupby(\"Hour Temp (f)\").count()[\"ID\"]\n",
    "\n",
    "#Group data by Hour Humidity\n",
    "crime_by_humid2 = data_filter.groupby(\"Hour Humidity (%)\").count()[\"ID\"]\n",
    "\n",
    "#Group data by Hour Precip\n",
    "crime_by_precip2 = data_filter.groupby(\"Hour Precipitation (in)\").count()[\"ID\"]\n",
    "\n",
    "#Group data by Hour Condition\n",
    "crime_by_cond2 = data_filter.groupby(\"Hour Condition\").count()[\"ID\"]\n",
    "\n",
    "crime_by_humid2"
   ]
  },
  {
   "cell_type": "code",
   "execution_count": 38,
   "id": "a5d256a8",
   "metadata": {},
   "outputs": [
    {
     "data": {
      "image/png": "[encoded data removed]",
      "text/plain": [
       "<Figure size 432x288 with 1 Axes>"
      ]
     },
     "metadata": {
      "needs_background": "light"
     },
     "output_type": "display_data"
    }
   ],
   "source": [
    "plt.scatter(crime_by_temp2.index,crime_by_temp2.values)\n",
    "plt.xlabel('Temp')\n",
    "plt.ylabel('No of Crimes')\n",
    "plt.show()"
   ]
  },
  {
   "cell_type": "code",
   "execution_count": 40,
   "id": "be4b417f",
   "metadata": {},
   "outputs": [
    {
     "data": {
      "image/png": "[encoded data removed]",
      "text/plain": [
       "<Figure size 432x288 with 1 Axes>"
      ]
     },
     "metadata": {
      "needs_background": "light"
     },
     "output_type": "display_data"
    }
   ],
   "source": [
    "plt.scatter(crime_by_humid2.index,crime_by_humid2.values)\n",
    "plt.xlabel('Humidity')\n",
    "plt.ylabel('No of Crimes')\n",
    "plt.show()"
   ]
  },
  {
   "cell_type": "code",
   "execution_count": 41,
   "id": "dc0ee7bc",
   "metadata": {},
   "outputs": [
    {
     "data": {
      "image/png": "[encoded data removed]",
      "text/plain": [
       "<Figure size 432x288 with 1 Axes>"
      ]
     },
     "metadata": {
      "needs_background": "light"
     },
     "output_type": "display_data"
    }
   ],
   "source": [
    "plt.scatter(crime_by_precip2.index,crime_by_precip2.values)\n",
    "plt.xlabel('Precipitation')\n",
    "plt.ylabel('No of Crimes')\n",
    "plt.show()"
   ]
  },
  {
   "cell_type": "code",
   "execution_count": null,
   "id": "67ba22e3",
   "metadata": {},
   "outputs": [],
   "source": []
  }
 ],
 "metadata": {
  "kernelspec": {
   "display_name": "PythonData",
   "language": "python",
   "name": "pythondata"
  },
  "language_info": {
   "codemirror_mode": {
    "name": "ipython",
    "version": 3
   },
   "file_extension": ".py",
   "mimetype": "text/x-python",
   "name": "python",
   "nbconvert_exporter": "python",
   "pygments_lexer": "ipython3",
   "version": "3.7.7"
  }
 },
 "nbformat": 4,
 "nbformat_minor": 5
}
